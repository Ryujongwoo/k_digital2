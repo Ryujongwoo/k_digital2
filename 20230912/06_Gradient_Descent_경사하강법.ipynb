{
 "cells": [
  {
   "cell_type": "markdown",
   "id": "cb37832b",
   "metadata": {},
   "source": [
    "경사 하강법(Gradient Descent)\n",
    "\n",
    "기울기를 너무 크게 잡으면 오차가 커지고 너무 작게 잡아도 오차가 커진다.  \n",
    "기울기를 무한대로 키우면 오차도 무한대로 커지고 기울기를 무한대로 작게해도 오차는 무한대로 커진다."
   ]
  },
  {
   "cell_type": "code",
   "execution_count": 2,
   "id": "6781657d",
   "metadata": {},
   "outputs": [
    {
     "name": "stdout",
     "output_type": "stream",
     "text": [
      "WARNING:tensorflow:From c:\\python\\lib\\site-packages\\tensorflow\\python\\compat\\v2_compat.py:101: disable_resource_variables (from tensorflow.python.ops.variable_scope) is deprecated and will be removed in a future version.\n",
      "Instructions for updating:\n",
      "non-resource variables are not supported in the long term\n"
     ]
    }
   ],
   "source": [
    "import warnings\n",
    "warnings.filterwarnings(action='ignore')\n",
    "%config Completer.use_jedi = False\n",
    "import tensorflow.compat.v1 as tf\n",
    "tf.disable_v2_behavior()\n",
    "import numpy as np\n",
    "import pandas as pd"
   ]
  },
  {
   "cell_type": "code",
   "execution_count": 3,
   "id": "eadf5ca5",
   "metadata": {},
   "outputs": [],
   "source": [
    "data = [[2, 81], [4, 93], [6, 91], [8, 97]] # [x(공부 시간), y(시험 성적)]\n",
    "x = [i[0] for i in data] # 공부 시간\n",
    "y = [i[1] for i in data] # 시험 성적, 실제값"
   ]
  },
  {
   "cell_type": "code",
   "execution_count": 17,
   "id": "d118e973",
   "metadata": {},
   "outputs": [
    {
     "name": "stdout",
     "output_type": "stream",
     "text": [
      "a = [0.4499185], b = [37.93088]\n"
     ]
    }
   ],
   "source": [
    "# 기울기 a와 y절편 b를 읨의로 정한다.\n",
    "# random_uniform([난수의 개수], 최소값, 최대값, dtype=난수의 데이터 타입, seed=숫자)\n",
    "# dtype 생략시 기본값은 tf.float32이고 seed를 지정하면 항상 일정한 배열의 난수가 생성된다.\n",
    "a = tf.Variable(tf.random_uniform([1], 0, 10)) # 기울기(가중치), 0 ~ 10 사이의 난수\n",
    "b = tf.Variable(tf.random_uniform([1], 0, 100)) # y절편(바이어스), 0 ~ 100 사이의 난수\n",
    "sess = tf.Session()\n",
    "sess.run(tf.global_variables_initializer())\n",
    "print('a = {}, b = {}'.format(sess.run(a), sess.run(b)))"
   ]
  },
  {
   "cell_type": "code",
   "execution_count": 18,
   "id": "7192e58d",
   "metadata": {},
   "outputs": [],
   "source": [
    "# 예측 성적(Y)을 얻기위한 가설(수식)을 만든다.\n",
    "Y = a * x + b"
   ]
  },
  {
   "cell_type": "code",
   "execution_count": 20,
   "id": "bfe3120b",
   "metadata": {},
   "outputs": [],
   "source": [
    "# tensorflow에서 실행할 RMSE(평균 제곱근 오차) 수식(오차 함수)을 만든다.\n",
    "# tf.square(Y - y): 예측 성적(Y)과 실제 성적(y)의 편차의 제곱을 계산한다.\n",
    "# tf.reduce_mean(tf.square(Y - y)): 예측 성적과 실제 성적의 편차의 제곱의 평균을 계산한다.\n",
    "# tf.sqrt(tf.reduce_mean(tf.square(Y - y))): 예측 성적과 실제 성적의 편차의 제곱의 평균에 대한 제곱근을 계산한다.\n",
    "rmse = tf.sqrt(tf.reduce_mean(tf.square(Y - y)))"
   ]
  },
  {
   "cell_type": "code",
   "execution_count": 22,
   "id": "9aa67cef",
   "metadata": {},
   "outputs": [],
   "source": [
    "# 경사 하강법을 이용해서 RMSE를 최소로 하는 값을 찾는 수식을 만든다.\n",
    "learning_rate = 0.1\n",
    "gradient_descent = tf.train.GradientDescentOptimizer(learning_rate).minimize(rmse)"
   ]
  },
  {
   "cell_type": "code",
   "execution_count": 30,
   "id": "7545da34",
   "metadata": {},
   "outputs": [
    {
     "name": "stdout",
     "output_type": "stream",
     "text": [
      "epoch:    0, RMSE: 56.2164, 기울기:  5.7124, y절편:  6.3162\n",
      "epoch:  200, RMSE: 26.1116, 기울기: 12.9517, y절편: 15.4351\n",
      "epoch:  400, RMSE: 22.9138, 기울기: 11.6300, y절편: 23.3223\n",
      "epoch:  600, RMSE: 19.7306, 기울기: 10.3114, y절편: 31.1917\n",
      "epoch:  800, RMSE: 16.5701, 기울기:  8.9974, y절편: 39.0328\n",
      "epoch: 1000, RMSE: 13.4482, 기울기:  7.6915, y절편: 46.8260\n",
      "epoch: 1200, RMSE: 10.3980, 기울기:  6.4006, y절편: 54.5291\n",
      "epoch: 1400, RMSE:  7.5015, 기울기:  5.1428, y절편: 62.0356\n",
      "epoch: 1600, RMSE:  4.9890, 기울기:  3.9718, y절편: 69.0236\n",
      "epoch: 1800, RMSE:  3.4105, 기울기:  3.0491, y절편: 74.5295\n",
      "epoch: 2000, RMSE:  2.9517, 기울기:  2.5636, y절편: 77.4271\n",
      "epoch: 2200, RMSE:  2.8886, 기울기:  2.3862, y절편: 78.4856\n",
      "epoch: 2400, RMSE:  2.8818, 기울기:  2.3279, y절편: 78.8334\n",
      "epoch: 2600, RMSE:  2.8811, 기울기:  2.3090, y절편: 78.9461\n",
      "epoch: 2800, RMSE:  2.8810, 기울기:  2.3029, y절편: 78.9826\n",
      "epoch: 3000, RMSE:  2.8810, 기울기:  2.3009, y절편: 78.9943\n"
     ]
    }
   ],
   "source": [
    "# 학습 시킨다.\n",
    "import time\n",
    "sess = tf.Session()\n",
    "sess.run(tf.global_variables_initializer())\n",
    "\n",
    "for epoch in range(3001):\n",
    "    sess.run(gradient_descent)\n",
    "    if epoch % 200 == 0:\n",
    "        # print('epoch: {:4d}, RMSE: {:7.4f}, 기울기: {:7.4f}, y절편: {:7.4f}'.format(epoch, sess.run(rmse), sess.run(a)[0], sess.run(b)[0]))\n",
    "        print('epoch: %4d, RMSE: %7.4f, 기울기: %7.4f, y절편: %7.4f' % (epoch, sess.run(rmse), sess.run(a), sess.run(b)))\n",
    "        time.sleep(0.5)"
   ]
  },
  {
   "cell_type": "markdown",
   "id": "586cdb8b",
   "metadata": {},
   "source": [
    "<img srs=\"./images/gradient_descent.png\">"
   ]
  },
  {
   "cell_type": "markdown",
   "id": "2ed41df7",
   "metadata": {},
   "source": [
    "<img src=\"./images/gradient_descent.png\" width=\"1100\" align=\"left\"/>"
   ]
  },
  {
   "cell_type": "code",
   "execution_count": null,
   "id": "a9d819b1",
   "metadata": {},
   "outputs": [],
   "source": []
  },
  {
   "cell_type": "code",
   "execution_count": null,
   "id": "8b003fed",
   "metadata": {},
   "outputs": [],
   "source": []
  }
 ],
 "metadata": {
  "kernelspec": {
   "display_name": "Python 3",
   "language": "python",
   "name": "python3"
  },
  "language_info": {
   "codemirror_mode": {
    "name": "ipython",
    "version": 3
   },
   "file_extension": ".py",
   "mimetype": "text/x-python",
   "name": "python",
   "nbconvert_exporter": "python",
   "pygments_lexer": "ipython3",
   "version": "3.6.8"
  }
 },
 "nbformat": 4,
 "nbformat_minor": 5
}
