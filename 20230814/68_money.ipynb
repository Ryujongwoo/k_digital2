{
 "cells": [
  {
   "cell_type": "markdown",
   "id": "c323211e",
   "metadata": {},
   "source": [
    "출장비로 지급할 화폐 매수 계산하기\n",
    "\n",
    "<img src=\"./images/money_1.png\" width=\"900\" align=\"left\"/>"
   ]
  },
  {
   "cell_type": "markdown",
   "id": "a7c5fb4d",
   "metadata": {},
   "source": [
    "<img src=\"./images/money_2.png\" width=\"900\" align=\"left\"/>"
   ]
  },
  {
   "cell_type": "markdown",
   "id": "0244222b",
   "metadata": {},
   "source": [
    "<img src=\"./images/money_3.png\" width=\"900\" align=\"left\"/>"
   ]
  },
  {
   "cell_type": "code",
   "execution_count": 5,
   "id": "1cc1e0c9",
   "metadata": {},
   "outputs": [
    {
     "name": "stdout",
     "output_type": "stream",
     "text": [
      "이름과 출장비를 입력하세요: 강감찬 537620\n",
      "강감찬 537620 10 3 1 2 1 1 0 2 0 0 \n",
      "이름과 출장비를 입력하세요: 김유신 538973\n",
      "김유신 538973 10 3 1 3 1 4 1 2 0 3 \n",
      "이름과 출장비를 입력하세요: 홍길동 173105\n",
      "홍길동 173105 3 2 0 3 0 1 0 0 1 0 \n",
      "이름과 출장비를 입력하세요: quit 0\n",
      "[23, 8, 2, 8, 2, 6, 1, 4, 1, 3]\n"
     ]
    }
   ],
   "source": [
    "pm = [0] * 10\n",
    "tm = [0 for _ in range(10)]\n",
    "# print(pm, tm)\n",
    "\n",
    "# 이름에 'quit'가 입력될 때 까지 반복하며 화폐 매수를 계산한다.\n",
    "while True:\n",
    "    n, p = input('이름과 출장비를 입력하세요: ').split()\n",
    "    if n.lower() == 'quit':\n",
    "        break\n",
    "        \n",
    "    t = int(p) # 나중에 입력받은 출장비를 출력하기 위해서 출장비의 복사본을 만든다.\n",
    "    m = 50000 # 화폐 매수를 계산할 화폐 권종을 초기화시킨다.\n",
    "    sw = 1 # 화폐 권종 변경에 사용할 스위치(toggle) 변수\n",
    "    \n",
    "    # 화폐 권종의 개수만큼 반복하며 개인별 출장비의 화폐 매수를 계산한다.\n",
    "    for k in range(10):\n",
    "        pm[k] = t // m # 권종별 화폐 매수를 계산한다.\n",
    "        t %= m # 다음 화폐 권종의 매수를 계산하기 위해 권종별 화폐 매수를 계산하고 남은 나머지 금액을 계산한다.\n",
    "        # 다음 화폐 권종을 계산한다.\n",
    "        if sw == 1:\n",
    "            m //= 5; sw = 0\n",
    "        else:\n",
    "            m //= 2; sw = 1\n",
    "    # ===== for\n",
    "    \n",
    "    # 이름과 개인별 화폐 권종 수를 출력하고 전체 화폐 매수를 계산한다.\n",
    "    print(n, p, end=' ')\n",
    "    for k in range(10):\n",
    "        print(pm[k], end=' ')\n",
    "        tm[k] += pm[k] # 전체 화폐 매수를 계산한다.\n",
    "    # ===== for\n",
    "    print()\n",
    "# ===== while\n",
    "\n",
    "# 전체 화폐 매수를 출력한다.\n",
    "print(tm)"
   ]
  },
  {
   "cell_type": "code",
   "execution_count": 6,
   "id": "2a028a7f",
   "metadata": {},
   "outputs": [],
   "source": [
    "# 개인별 이름과 출장비, 출장비에 따른 화폐 권종별 매수를 기억하는 클래스\n",
    "class Money:\n",
    "    def __init__(self, name, money):\n",
    "        self.name = name\n",
    "        self.money = money\n",
    "        # 개인별 화폐 매수를 계산한다.\n",
    "        self.pm = [0 for _ in range(10)]\n",
    "        t = money\n",
    "        m = 50000\n",
    "        sw = 1\n",
    "        for k in range(10):\n",
    "            self.pm[k] = t // m\n",
    "            t %= m\n",
    "            if sw == 1:\n",
    "                m //= 5; sw = 0\n",
    "            else:\n",
    "                m //=2; sw = 1\n",
    "        # ===== for\n",
    "    # ===== __init__()\n",
    "    \n",
    "    def __str__(self):\n",
    "        return '{} {} {}'.format(self.name, self.money, self.pm)"
   ]
  },
  {
   "cell_type": "code",
   "execution_count": 11,
   "id": "9c9b1c1a",
   "metadata": {},
   "outputs": [
    {
     "name": "stdout",
     "output_type": "stream",
     "text": [
      "강감찬\n",
      "537620\n",
      "[10, 3, 1, 2, 1, 1, 0, 2, 0, 0]\n",
      "강감찬 537620 [10, 3, 1, 2, 1, 1, 0, 2, 0, 0]\n"
     ]
    }
   ],
   "source": [
    "money = Money('강감찬', 537620)\n",
    "print(money.name)\n",
    "print(money.money)\n",
    "print(money.pm)\n",
    "print(money)"
   ]
  },
  {
   "cell_type": "code",
   "execution_count": 12,
   "id": "6543aded",
   "metadata": {},
   "outputs": [
    {
     "name": "stdout",
     "output_type": "stream",
     "text": [
      "이름과 출장비를 입력하세요: 강감찬 537620\n",
      "이름과 출장비를 입력하세요: 김유신 538973\n",
      "이름과 출장비를 입력하세요: 홍길동 173105\n",
      "이름과 출장비를 입력하세요: quit 0\n"
     ]
    }
   ],
   "source": [
    "m = []\n",
    "while True:\n",
    "    n, p = input('이름과 출장비를 입력하세요: ').split()\n",
    "    if n.lower() == 'quit':\n",
    "        break\n",
    "    money = Money(n, int(p))\n",
    "    m.append(money)"
   ]
  },
  {
   "cell_type": "code",
   "execution_count": 13,
   "id": "ebfa229e",
   "metadata": {},
   "outputs": [
    {
     "name": "stdout",
     "output_type": "stream",
     "text": [
      "강감찬 537620 [10, 3, 1, 2, 1, 1, 0, 2, 0, 0]\n",
      "김유신 538973 [10, 3, 1, 3, 1, 4, 1, 2, 0, 3]\n",
      "홍길동 173105 [3, 2, 0, 3, 0, 1, 0, 0, 1, 0]\n"
     ]
    }
   ],
   "source": [
    "for i in m:\n",
    "    print(i)"
   ]
  },
  {
   "cell_type": "code",
   "execution_count": 32,
   "id": "31ca2696",
   "metadata": {},
   "outputs": [
    {
     "name": "stdout",
     "output_type": "stream",
     "text": [
      "                                   출장비 지급 일람표                                   \n",
      "================================================================================\n",
      " 이름        출장비 50000 10000  5000  1000   500   100    50    10     5     1 \n",
      "================================================================================\n",
      "강감찬      537,620    10     3     1     2     1     1     0     2     0     0\n",
      "김유신      538,973    10     3     1     3     1     4     1     2     0     3\n",
      "홍길동      173,105     3     2     0     3     0     1     0     0     1     0\n",
      "================================================================================\n",
      "합계:                  23     8     2     8     2     6     1     4     1     3\n",
      "================================================================================\n"
     ]
    }
   ],
   "source": [
    "print('{:^80s}'.format('출장비 지급 일람표'))\n",
    "print('=' * 80)\n",
    "print(' 이름        출장비 50000 10000  5000  1000   500   100    50    10     5     1 ')\n",
    "print('=' * 80)\n",
    "tm = [0 for _ in range(10)]\n",
    "for i in m:\n",
    "    print('{:5s} {:10,d}'.format(i.name, i.money), end='')\n",
    "    for j in range(10):\n",
    "        print('{:6d}'.format(i.pm[j]), end='')\n",
    "        tm[j] += i.pm[j]\n",
    "    # ===== for\n",
    "    print()\n",
    "# ===== for\n",
    "print('=' * 80)\n",
    "print('{:<17s}'.format('합계: '), end='')\n",
    "for i in range(10):\n",
    "    print('{:6d}'.format(tm[i]), end='')\n",
    "print('\\n' + '=' * 80)"
   ]
  },
  {
   "cell_type": "code",
   "execution_count": null,
   "id": "efe20139",
   "metadata": {},
   "outputs": [],
   "source": []
  },
  {
   "cell_type": "code",
   "execution_count": null,
   "id": "3abbd6b4",
   "metadata": {},
   "outputs": [],
   "source": []
  },
  {
   "cell_type": "code",
   "execution_count": null,
   "id": "afe7648a",
   "metadata": {},
   "outputs": [],
   "source": []
  },
  {
   "cell_type": "code",
   "execution_count": null,
   "id": "7d17fe36",
   "metadata": {},
   "outputs": [],
   "source": []
  }
 ],
 "metadata": {
  "kernelspec": {
   "display_name": "Python 3",
   "language": "python",
   "name": "python3"
  },
  "language_info": {
   "codemirror_mode": {
    "name": "ipython",
    "version": 3
   },
   "file_extension": ".py",
   "mimetype": "text/x-python",
   "name": "python",
   "nbconvert_exporter": "python",
   "pygments_lexer": "ipython3",
   "version": "3.6.8"
  }
 },
 "nbformat": 4,
 "nbformat_minor": 5
}
