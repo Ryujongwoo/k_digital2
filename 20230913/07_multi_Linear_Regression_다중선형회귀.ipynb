{
 "cells": [
  {
   "cell_type": "code",
   "execution_count": 1,
   "id": "923afc63",
   "metadata": {},
   "outputs": [
    {
     "name": "stdout",
     "output_type": "stream",
     "text": [
      "WARNING:tensorflow:From c:\\python\\lib\\site-packages\\tensorflow\\python\\compat\\v2_compat.py:101: disable_resource_variables (from tensorflow.python.ops.variable_scope) is deprecated and will be removed in a future version.\n",
      "Instructions for updating:\n",
      "non-resource variables are not supported in the long term\n"
     ]
    }
   ],
   "source": [
    "import warnings\n",
    "warnings.filterwarnings(action='ignore')\n",
    "%config Completer.use_jedi = False\n",
    "import tensorflow.compat.v1 as tf\n",
    "tf.disable_v2_behavior()\n",
    "import numpy as np\n",
    "import pandas as pd"
   ]
  },
  {
   "cell_type": "code",
   "execution_count": 2,
   "id": "9c1f06c4",
   "metadata": {},
   "outputs": [],
   "source": [
    "data = [[2, 0, 81], [4, 4, 93], [6, 2, 91], [8, 3, 97]] # [x1(공부 시간), x2(과외 시간), y(시험 성적)]\n",
    "x1 = [i[0] for i in data] # 공부 시간\n",
    "x2 = [i[1] for i in data] # 과외 시간\n",
    "y = [i[2] for i in data] # 시험 성적, 실제값"
   ]
  },
  {
   "cell_type": "code",
   "execution_count": 3,
   "id": "1139c7e1",
   "metadata": {},
   "outputs": [
    {
     "name": "stdout",
     "output_type": "stream",
     "text": [
      "a1 = [0.74754715], a2 = [7.4259734], b = [64.32275]\n"
     ]
    }
   ],
   "source": [
    "# 기울기 a1, a2와 y절편 b를 임의로 정한다.\n",
    "a1 = tf.Variable(tf.random_uniform([1], 0, 10))\n",
    "a2 = tf.Variable(tf.random_uniform([1], 0, 10))\n",
    "b = tf.Variable(tf.random_uniform([1], 0, 100))\n",
    "sess = tf.Session()\n",
    "sess.run(tf.global_variables_initializer())\n",
    "print('a1 = {}, a2 = {}, b = {}'.format(sess.run(a1), sess.run(a2), sess.run(b)))"
   ]
  },
  {
   "cell_type": "code",
   "execution_count": 4,
   "id": "938d8403",
   "metadata": {},
   "outputs": [],
   "source": [
    "# 예측 성적(Y)을 얻기위한 가설(수식)을 만든다.\n",
    "Y = a1 * x1 + a2 * x2 + b\n",
    "# tensorflow에서 실행할 RMSE 수식을 만든다.\n",
    "rmse = tf.sqrt(tf.reduce_mean(tf.square(Y - y)))\n",
    "# 경사 하강법을 이용해서 RMSE를 최소로 하는 값을 찾는 수식을 만든다.\n",
    "gradient_descent = tf.train.GradientDescentOptimizer(0.1).minimize(rmse)"
   ]
  },
  {
   "cell_type": "code",
   "execution_count": 5,
   "id": "6d15d45f",
   "metadata": {},
   "outputs": [
    {
     "name": "stdout",
     "output_type": "stream",
     "text": [
      "epoch:    0, RMSE: 69.5315, 기울기1:  2.0803, 기울기2:  1.8753,, y절편:  6.3569\n",
      "epoch:  200, RMSE: 25.1145, 기울기1: 10.5158, 기울기2:  5.5534,, y절편: 15.5379\n",
      "epoch:  400, RMSE: 21.9419, 기울기1:  9.4106, 기울기2:  5.0659,, y절편: 23.4114\n",
      "epoch:  600, RMSE: 18.7699, 기울기1:  8.2781, 기울기2:  4.6389,, y절편: 31.2838\n",
      "epoch:  800, RMSE: 15.5981, 기울기1:  7.1356, 기울기2:  4.2342,, y절편: 39.1557\n",
      "epoch: 1000, RMSE: 12.4268, 기울기1:  5.9901, 기울기2:  3.8364,, y절편: 47.0270\n",
      "epoch: 1200, RMSE:  9.2562, 기울기1:  4.8440, 기울기2:  3.4404,, y절편: 54.8972\n",
      "epoch: 1400, RMSE:  6.0878, 기울기1:  3.6981, 기울기2:  3.0447,, y절편: 62.7648\n",
      "epoch: 1600, RMSE:  2.9279, 기울기1:  2.5538, 기울기2:  2.6496,, y절편: 70.6217\n",
      "epoch: 1800, RMSE:  1.8362, 기울기1:  1.4414, 기울기2:  2.2376,, y절편: 76.4509\n",
      "epoch: 2000, RMSE:  1.8370, 기울기1:  1.2655, 기울기2:  2.1755,, y절편: 77.5712\n",
      "epoch: 2200, RMSE:  1.8370, 기울기1:  1.2363, 기울기2:  2.1654,, y절편: 77.7692\n",
      "epoch: 2400, RMSE:  1.8370, 기울기1:  1.2312, 기울기2:  2.1636,, y절편: 77.8042\n",
      "epoch: 2600, RMSE:  1.8370, 기울기1:  1.2303, 기울기2:  2.1633,, y절편: 77.8104\n",
      "epoch: 2800, RMSE:  1.8371, 기울기1:  1.2301, 기울기2:  2.1633,, y절편: 77.8113\n",
      "epoch: 3000, RMSE:  1.8371, 기울기1:  1.2301, 기울기2:  2.1633,, y절편: 77.8113\n"
     ]
    }
   ],
   "source": [
    "# 학습 시킨다.\n",
    "import time\n",
    "sess = tf.Session()\n",
    "sess.run(tf.global_variables_initializer())\n",
    "\n",
    "for epoch in range(3001):\n",
    "    sess.run(gradient_descent)\n",
    "    if epoch % 200 == 0:\n",
    "        # print('epoch: {:4d}, RMSE: {:7.4f}, 기울기1: {:7.4f}, 기울기2: {:7.4f}, y절편: {:7.4f}'.format(epoch, \n",
    "        #             sess.run(rmse), sess.run(a1)[0], sess.run(a2)[0], sess.run(b)[0]))\n",
    "        print('epoch: %4d, RMSE: %7.4f, 기울기1: %7.4f, 기울기2: %7.4f,, y절편: %7.4f' % \n",
    "                     (epoch, sess.run(rmse), sess.run(a1), sess.run(a2), sess.run(b)))\n",
    "        time.sleep(0.5)"
   ]
  },
  {
   "cell_type": "code",
   "execution_count": null,
   "id": "c89daba3",
   "metadata": {},
   "outputs": [],
   "source": []
  },
  {
   "cell_type": "code",
   "execution_count": null,
   "id": "727fa955",
   "metadata": {},
   "outputs": [],
   "source": []
  },
  {
   "cell_type": "code",
   "execution_count": null,
   "id": "6fcf0276",
   "metadata": {},
   "outputs": [],
   "source": []
  },
  {
   "cell_type": "code",
   "execution_count": null,
   "id": "bce9a901",
   "metadata": {},
   "outputs": [],
   "source": []
  },
  {
   "cell_type": "code",
   "execution_count": null,
   "id": "fd240bc1",
   "metadata": {},
   "outputs": [],
   "source": []
  }
 ],
 "metadata": {
  "kernelspec": {
   "display_name": "Python 3",
   "language": "python",
   "name": "python3"
  },
  "language_info": {
   "codemirror_mode": {
    "name": "ipython",
    "version": 3
   },
   "file_extension": ".py",
   "mimetype": "text/x-python",
   "name": "python",
   "nbconvert_exporter": "python",
   "pygments_lexer": "ipython3",
   "version": "3.6.8"
  }
 },
 "nbformat": 4,
 "nbformat_minor": 5
}
