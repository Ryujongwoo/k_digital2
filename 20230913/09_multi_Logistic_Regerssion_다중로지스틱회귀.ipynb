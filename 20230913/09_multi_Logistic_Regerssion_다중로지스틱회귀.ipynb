{
 "cells": [
  {
   "cell_type": "code",
   "execution_count": 1,
   "id": "4440ef8c",
   "metadata": {},
   "outputs": [
    {
     "name": "stdout",
     "output_type": "stream",
     "text": [
      "WARNING:tensorflow:From c:\\python\\lib\\site-packages\\tensorflow\\python\\compat\\v2_compat.py:101: disable_resource_variables (from tensorflow.python.ops.variable_scope) is deprecated and will be removed in a future version.\n",
      "Instructions for updating:\n",
      "non-resource variables are not supported in the long term\n"
     ]
    }
   ],
   "source": [
    "import warnings\n",
    "warnings.filterwarnings(action='ignore')\n",
    "%config Completer.use_jedi = False\n",
    "import tensorflow.compat.v1 as tf\n",
    "tf.disable_v2_behavior()\n",
    "import numpy as np\n",
    "import pandas as pd"
   ]
  },
  {
   "cell_type": "code",
   "execution_count": 2,
   "id": "fb1a665b",
   "metadata": {},
   "outputs": [
    {
     "name": "stdout",
     "output_type": "stream",
     "text": [
      "[[2, 3], [4, 3], [6, 4], [8, 6], [10, 7], [12, 8], [14, 9]]\n",
      "<class 'list'>\n",
      "[[ 2  3]\n",
      " [ 4  3]\n",
      " [ 6  4]\n",
      " [ 8  6]\n",
      " [10  7]\n",
      " [12  8]\n",
      " [14  9]]\n",
      "<class 'numpy.ndarray'>\n"
     ]
    }
   ],
   "source": [
    "# x => [공부 시간, 과외 시간]\n",
    "x = [[2, 3], [4, 3], [6, 4], [8, 6], [10, 7], [12, 8], [14, 9]] # 7행 2열\n",
    "print(x)\n",
    "print(type(x))\n",
    "\n",
    "xData = np.array(x)\n",
    "print(xData)\n",
    "print(type(xData))"
   ]
  },
  {
   "cell_type": "code",
   "execution_count": 3,
   "id": "74f54836",
   "metadata": {},
   "outputs": [
    {
     "name": "stdout",
     "output_type": "stream",
     "text": [
      "[0, 0, 0, 1, 0, 1, 1]\n",
      "<class 'list'>\n",
      "[0 0 0 1 0 1 1]\n",
      "<class 'numpy.ndarray'>\n",
      "[[0]\n",
      " [0]\n",
      " [0]\n",
      " [1]\n",
      " [0]\n",
      " [1]\n",
      " [1]]\n",
      "<class 'numpy.ndarray'>\n"
     ]
    }
   ],
   "source": [
    "# y => [합격 여부] => 실제값\n",
    "y = [0, 0, 0, 1, 1, 1, 1] # 1행 7열\n",
    "print(y)\n",
    "print(type(y))\n",
    "\n",
    "yData = np.array(y)\n",
    "print(yData)\n",
    "print(type(yData))\n",
    "\n",
    "# reshape(): 넘파이에서 데이터는 그대로 유지한채 배열의 형태(차원)을 변경한다.\n",
    "# 1행 7열 넘파이 배열 => 7행 1열 넘파이 배열\n",
    "yData = np.array(y).reshape(7, 1)\n",
    "print(yData)\n",
    "print(type(yData))"
   ]
  },
  {
   "cell_type": "markdown",
   "id": "63016050",
   "metadata": {},
   "source": [
    "xData와 yData를 저장할 placeholder를 만든다."
   ]
  },
  {
   "cell_type": "code",
   "execution_count": 4,
   "id": "aaec1b6e",
   "metadata": {},
   "outputs": [],
   "source": [
    "# placeholder에 넘파이 배열을 대입하는 경우 shape 속성을 이용해서 대입될 넘파이 배열의 차원을 지정해야 한다.\n",
    "# [None, 2] => placeholder에 대입될 넘파이 배열의 행의 개수는 몇개라도 상관없고 열의 개수는 무조건 2개라는 의미이다.\n",
    "X = tf.placeholder(dtype=tf.float32, shape=[None, 2]) # xData가 대입될 placeholder\n",
    "Y = tf.placeholder(dtype=tf.float32, shape=[None, 1]) # yData가 대입될 placeholder"
   ]
  },
  {
   "cell_type": "markdown",
   "id": "5ccb98bf",
   "metadata": {},
   "source": [
    "가중치와 y절편을 임의의 값으로 정한다."
   ]
  },
  {
   "cell_type": "code",
   "execution_count": 5,
   "id": "89266104",
   "metadata": {},
   "outputs": [
    {
     "name": "stdout",
     "output_type": "stream",
     "text": [
      "a\n",
      "[[0.6227963 ]\n",
      " [0.45350718]]\n",
      "b\n",
      "[0.6257187]\n",
      "a1: 0.622796, a2: 0.453507, b: 0.625719\n",
      "a1: 0.622796, a2: 0.453507, b: 0.625719\n"
     ]
    }
   ],
   "source": [
    "a = tf.Variable(tf.random_uniform([2, 1], dtype=tf.float32)) # 난수를 2행 1렬로 발생시킨다.\n",
    "b = tf.Variable(tf.random_uniform([1], dtype=tf.float32))\n",
    "sess = tf.Session()\n",
    "sess.run(tf.global_variables_initializer())\n",
    "print('a\\n', sess.run(a), sep='')\n",
    "print('b\\n', sess.run(b), sep='')\n",
    "print('a1: {:f}, a2: {:f}, b: {:f}'.format(sess.run(a)[0][0], sess.run(a)[1][0], sess.run(b)[0]))\n",
    "print('a1: %f, a2: %f, b: %f' % (sess.run(a)[0], sess.run(a)[1], sess.run(b)))"
   ]
  },
  {
   "cell_type": "markdown",
   "id": "995a1fb2",
   "metadata": {},
   "source": [
    "시그모이드 방정식, 오차 함수, 경사 하강"
   ]
  },
  {
   "cell_type": "code",
   "execution_count": 6,
   "id": "361fcbab",
   "metadata": {},
   "outputs": [],
   "source": [
    "# sigmoid(): tensorflow에서 시그모이드 방정식을 계산한다.\n",
    "# matmul(): tensorflow에서 행렬의 곱(적)을 계산한다.\n",
    "# Y = 1 / (1 + np.e ** -(a1 * x1 + a2 * x2 + b))\n",
    "y = tf.sigmoid(tf.matmul(X, a) + b) # 시그모이드 방정식, 예측값\n",
    "loss = -tf.reduce_mean(Y * tf.log(y) + (1 - Y) * tf.log(1 - y)) # 오차 함수\n",
    "gradient_descent = tf.train.GradientDescentOptimizer(0.1).minimize(loss) # 경사 하강"
   ]
  },
  {
   "cell_type": "markdown",
   "id": "7a15da2c",
   "metadata": {},
   "source": [
    "sigmoid() 메소드의 실행 결과(y)가 0.5 이상이면 1을 0.5 미만이면 -1을 리턴시킨다."
   ]
  },
  {
   "cell_type": "code",
   "execution_count": 7,
   "id": "32e1aa08",
   "metadata": {},
   "outputs": [
    {
     "name": "stdout",
     "output_type": "stream",
     "text": [
      "[1 2]\n",
      "[1 0]\n",
      "[1 0]\n"
     ]
    }
   ],
   "source": [
    "sess = tf.Session()\n",
    "# cast(data, dtype): tensorflow에서 데이터(data)를 dtype으로 형변환 한다.\n",
    "predict = tf.cast(tf.constant([1.9, 2.1]), dtype=tf.int32)\n",
    "print(sess.run(predict)) # [1 2]\n",
    "# cast() 메소드는 캐스팅할 데이터가 boolean 타입이면 True는 1로 False는 0으로 형변환 한다.\n",
    "predict = tf.cast(tf.constant([True, False]), dtype=tf.int32)\n",
    "print(sess.run(predict)) # [1 0]\n",
    "predict = tf.cast([0.5 >= 0.5, 0.5 < 0.5], dtype=tf.int32)\n",
    "print(sess.run(predict))"
   ]
  },
  {
   "cell_type": "markdown",
   "id": "686243ab",
   "metadata": {},
   "source": [
    "sigmoid() 메소드를 실행한 예측값(0 또는 1)을 계산한다."
   ]
  },
  {
   "cell_type": "code",
   "execution_count": 8,
   "id": "a8878ecd",
   "metadata": {},
   "outputs": [],
   "source": [
    "predict = tf.cast(y >= 0.5, dtype=tf.float32) # 예측값"
   ]
  },
  {
   "cell_type": "markdown",
   "id": "60773837",
   "metadata": {},
   "source": [
    "예측값(predict)과 실제값(Y)이 일치하는 정도(정확도, accuracy)를 계산한다."
   ]
  },
  {
   "cell_type": "code",
   "execution_count": 9,
   "id": "3c738c73",
   "metadata": {},
   "outputs": [
    {
     "name": "stdout",
     "output_type": "stream",
     "text": [
      "True False\n"
     ]
    }
   ],
   "source": [
    "sess = tf.Session()\n",
    "# equal(): tensorflow에서 인수로 지정한 값이 같으면 True, 다르면 False를 리턴한다.\n",
    "print(sess.run(tf.equal(1, 1)), sess.run(tf.equal(1, 0))) # True False\n",
    "# equal() 메소드로 예측값과 실제값이 같은가 비교 후 True 또는 False를 cast() 메소드로 1 또는 0으로 캐스팅하고 평균을 계산한다.\n",
    "accuracy = tf.reduce_mean(tf.cast(tf.equal(predict, Y), dtype=tf.float32))"
   ]
  },
  {
   "cell_type": "markdown",
   "id": "78402295",
   "metadata": {},
   "source": [
    "학습 시킨다."
   ]
  },
  {
   "cell_type": "code",
   "execution_count": 11,
   "id": "9708641a",
   "metadata": {
    "scrolled": false
   },
   "outputs": [
    {
     "name": "stdout",
     "output_type": "stream",
     "text": [
      "epoch:      0, loss:  3.0453, a1:  0.3446, a2:  0.1460, b:  0.0106\n",
      "epoch:    300, loss:  0.4279, a1:  0.8477, a2: -0.7775, b: -2.3259\n",
      "epoch:    600, loss:  0.3921, a1:  0.7616, a2: -0.5583, b: -3.2395\n",
      "epoch:    900, loss:  0.3754, a1:  0.6306, a2: -0.2727, b: -3.8718\n",
      "epoch:   1200, loss:  0.3642, a1:  0.4926, a2:  0.0005, b: -4.3609\n",
      "epoch:   1500, loss:  0.3563, a1:  0.3650, a2:  0.2450, b: -4.7634\n",
      "epoch:   1800, loss:  0.3504, a1:  0.2521, a2:  0.4593, b: -5.1078\n",
      "epoch:   2100, loss:  0.3458, a1:  0.1536, a2:  0.6461, b: -5.4097\n",
      "epoch:   2400, loss:  0.3423, a1:  0.0676, a2:  0.8098, b: -5.6787\n",
      "epoch:   2700, loss:  0.3394, a1: -0.0080, a2:  0.9543, b: -5.9211\n",
      "epoch:   3000, loss:  0.3371, a1: -0.0750, a2:  1.0832, b: -6.1414\n",
      "실제값\n",
      "[[0]\n",
      " [0]\n",
      " [0]\n",
      " [1]\n",
      " [0]\n",
      " [1]\n",
      " [1]]\n",
      "예상값\n",
      "[[0.]\n",
      " [0.]\n",
      " [0.]\n",
      " [0.]\n",
      " [1.]\n",
      " [1.]\n",
      " [1.]]\n",
      "정확도: 71.43%\n"
     ]
    }
   ],
   "source": [
    "sess = tf.Session()\n",
    "sess.run(tf.global_variables_initializer())\n",
    "\n",
    "for epoch in range(3001):\n",
    "    # sess.run([실행할 내용, ...], feed_dict={플레이스홀더 이름: 플레이스홀더에 저장할 데이터, ...})\n",
    "    a_, b_, loss_, _, predict_, accuracy_ = sess.run([a, b, loss, gradient_descent, predict, accuracy], feed_dict={X: xData, Y: yData})\n",
    "    if epoch % 300 == 0:\n",
    "        print('epoch: {:6d}, loss: {:7.4f}, a1: {:7.4f}, a2: {:7.4f}, b: {:7.4f}'.format(epoch, loss_, a_[0][0], a_[1][0], b_[0]))\n",
    "        # print('epoch: %6d, loss: %7.4f, a: %7.4f, b: %7.4f' % (epoch, sess.run(loss), sess.run(a), sess.run(b)))\n",
    "print('실제값\\n', yData, sep='')\n",
    "print('예상값\\n', predict_, sep='')\n",
    "print('정확도: {:6.2%}'.format(accuracy_))"
   ]
  },
  {
   "cell_type": "code",
   "execution_count": null,
   "id": "5f2ec2d4",
   "metadata": {},
   "outputs": [],
   "source": []
  },
  {
   "cell_type": "code",
   "execution_count": null,
   "id": "f534ebd6",
   "metadata": {},
   "outputs": [],
   "source": []
  },
  {
   "cell_type": "code",
   "execution_count": null,
   "id": "28779051",
   "metadata": {},
   "outputs": [],
   "source": []
  },
  {
   "cell_type": "code",
   "execution_count": null,
   "id": "8f34cab8",
   "metadata": {},
   "outputs": [],
   "source": []
  },
  {
   "cell_type": "code",
   "execution_count": null,
   "id": "74a9f467",
   "metadata": {},
   "outputs": [],
   "source": []
  }
 ],
 "metadata": {
  "kernelspec": {
   "display_name": "Python 3",
   "language": "python",
   "name": "python3"
  },
  "language_info": {
   "codemirror_mode": {
    "name": "ipython",
    "version": 3
   },
   "file_extension": ".py",
   "mimetype": "text/x-python",
   "name": "python",
   "nbconvert_exporter": "python",
   "pygments_lexer": "ipython3",
   "version": "3.6.8"
  }
 },
 "nbformat": 4,
 "nbformat_minor": 5
}
