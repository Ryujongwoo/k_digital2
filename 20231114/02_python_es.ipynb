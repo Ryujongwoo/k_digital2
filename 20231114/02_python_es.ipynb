{
 "cells": [
  {
   "cell_type": "code",
   "execution_count": 1,
   "id": "506fcb22",
   "metadata": {},
   "outputs": [],
   "source": [
    "import warnings\n",
    "warnings.filterwarnings(action='ignore')\n",
    "%config Completer.use_jedi = False"
   ]
  },
  {
   "cell_type": "code",
   "execution_count": 2,
   "id": "eec35235",
   "metadata": {},
   "outputs": [],
   "source": [
    "# pip install elasticsearch\n",
    "from elasticsearch import Elasticsearch # 파이썬에서 elasticsearch와 연동하기 이해 import 한다."
   ]
  },
  {
   "cell_type": "code",
   "execution_count": 3,
   "id": "214512ae",
   "metadata": {},
   "outputs": [],
   "source": [
    "# elasticsearch 객체를 만든다.\n",
    "es = Elasticsearch('http://localhost:9200/')"
   ]
  },
  {
   "cell_type": "code",
   "execution_count": 4,
   "id": "cce65895",
   "metadata": {},
   "outputs": [
    {
     "name": "stdout",
     "output_type": "stream",
     "text": [
      "{'name': 'kim', 'age': 25}\n",
      "{'_index': 'python_index', '_type': '_doc', '_id': '1', '_version': 2, 'result': 'updated', '_shards': {'total': 2, 'successful': 1, 'failed': 0}, '_seq_no': 1, '_primary_term': 1}\n",
      "================================================================================\n"
     ]
    }
   ],
   "source": [
    "# elasticsearch에 인덱싱할 도큐먼트를 딕셔너리 형태로 만든다.\n",
    "doc = {'name': 'kim', 'age': 25}\n",
    "print(doc)\n",
    "\n",
    "# elasticsearch 객체의 index() 메소드로 엘라스틱서치에 인덱싱한다.\n",
    "# index(index='인덱스이름', id=아이디, body=도큐먼트)\n",
    "response = es.index(index='python_index', id=1, body=doc)\n",
    "print(response)\n",
    "print('=' * 80)"
   ]
  },
  {
   "cell_type": "code",
   "execution_count": 5,
   "id": "2618f473",
   "metadata": {},
   "outputs": [
    {
     "name": "stdout",
     "output_type": "stream",
     "text": [
      "{'took': 1, 'timed_out': False, '_shards': {'total': 1, 'successful': 1, 'skipped': 0, 'failed': 0}, 'hits': {'total': {'value': 1, 'relation': 'eq'}, 'max_score': 0.2876821, 'hits': [{'_index': 'python_index', '_type': '_doc', '_id': '1', '_score': 0.2876821, '_source': {'name': 'kim', 'age': 25}}]}}\n",
      "================================================================================\n"
     ]
    }
   ],
   "source": [
    "# elasticsearch 객체의 search() 메소드에서 실행할 쿼리를 딕셔너리 형태로 만든다.\n",
    "query = {\n",
    "    \"size\": 1,\n",
    "    \"query\": {\n",
    "        \"match\": {\n",
    "            \"name\": \"kim\"\n",
    "        }\n",
    "    }\n",
    "}\n",
    "\n",
    "# search(index='인덱스이름', body=쿼리) \n",
    "response = es.search(index='python_index', body=query)\n",
    "print(response)\n",
    "print('=' * 80)"
   ]
  },
  {
   "cell_type": "code",
   "execution_count": 6,
   "id": "01fd2dbf",
   "metadata": {},
   "outputs": [
    {
     "name": "stdout",
     "output_type": "stream",
     "text": [
      "{'took': 1, 'timed_out': False, '_shards': {'total': 1, 'successful': 1, 'skipped': 0, 'failed': 0}, 'hits': {'total': {'value': 1, 'relation': 'eq'}, 'max_score': 0.2876821, 'hits': [{'_index': 'python_index', '_type': '_doc', '_id': '1', '_score': 0.2876821, '_source': {'name': 'kim', 'age': 25}}]}}\n",
      "================================================================================\n"
     ]
    }
   ],
   "source": [
    "query = {\n",
    "    \"size\": 1,\n",
    "    \"query\": {\n",
    "        \"term\": {\n",
    "            \"name.keyword\": \"kim\"\n",
    "        }\n",
    "    }\n",
    "}\n",
    "response = es.search(index='python_index', body=query)\n",
    "print(response)\n",
    "print('=' * 80)"
   ]
  },
  {
   "cell_type": "code",
   "execution_count": 7,
   "id": "dedec59b",
   "metadata": {},
   "outputs": [
    {
     "name": "stdout",
     "output_type": "stream",
     "text": [
      "{'took': 0, 'timed_out': False, '_shards': {'total': 1, 'successful': 1, 'skipped': 0, 'failed': 0}, 'hits': {'total': {'value': 139, 'relation': 'eq'}, 'max_score': 4.5392447, 'hits': [{'_index': 'kibana_sample_data_flights', '_type': '_doc', '_id': 'GiuhrIsBAQh7zeqmeppo', '_score': 4.5392447, '_source': {'FlightNum': 'BOOKXH0', 'DestCountry': 'KR', 'OriginWeather': 'Clear', 'OriginCityName': 'Paris', 'AvgTicketPrice': 920.587418059468, 'DistanceMiles': 5560.795796830947, 'FlightDelay': False, 'DestWeather': 'Clear', 'Dest': 'Incheon International Airport', 'FlightDelayType': 'No Delay', 'OriginCountry': 'FR', 'dayOfWeek': 0, 'DistanceKilometers': 8949.233350855106, 'timestamp': '2023-10-30T08:22:01', 'DestLocation': {'lat': '37.46910095', 'lon': '126.4509964'}, 'DestAirportID': 'ICN', 'Carrier': 'ES-Air', 'Cancelled': False, 'FlightTimeMin': 813.5666682595551, 'Origin': 'Charles de Gaulle International Airport', 'OriginLocation': {'lat': '49.01279831', 'lon': '2.549999952'}, 'DestRegion': 'SE-BD', 'OriginAirportID': 'CDG', 'OriginRegion': 'FR-J', 'DestCityName': 'Seoul', 'FlightTimeHour': 13.559444470992585, 'FlightDelayMin': 0}}]}}\n"
     ]
    }
   ],
   "source": [
    "query = {\n",
    "    \"size\": 1,\n",
    "    \"query\": {\n",
    "        \"term\": {\n",
    "            \"DestCityName\": {\n",
    "                \"value\": \"Seoul\"\n",
    "            }\n",
    "        }\n",
    "    }\n",
    "}\n",
    "response = es.search(index='kibana_sample_data_flights', body=query)\n",
    "print(response)"
   ]
  },
  {
   "cell_type": "code",
   "execution_count": null,
   "id": "c6c5060f",
   "metadata": {},
   "outputs": [],
   "source": []
  },
  {
   "cell_type": "code",
   "execution_count": null,
   "id": "ac959ccd",
   "metadata": {},
   "outputs": [],
   "source": []
  },
  {
   "cell_type": "code",
   "execution_count": null,
   "id": "3d426f2d",
   "metadata": {},
   "outputs": [],
   "source": []
  },
  {
   "cell_type": "code",
   "execution_count": null,
   "id": "7f425c7f",
   "metadata": {},
   "outputs": [],
   "source": []
  }
 ],
 "metadata": {
  "kernelspec": {
   "display_name": "py37",
   "language": "python",
   "name": "py37"
  },
  "language_info": {
   "codemirror_mode": {
    "name": "ipython",
    "version": 3
   },
   "file_extension": ".py",
   "mimetype": "text/x-python",
   "name": "python",
   "nbconvert_exporter": "python",
   "pygments_lexer": "ipython3",
   "version": "3.7.16"
  }
 },
 "nbformat": 4,
 "nbformat_minor": 5
}
