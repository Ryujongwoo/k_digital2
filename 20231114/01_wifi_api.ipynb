{
 "cells": [
  {
   "cell_type": "code",
   "execution_count": 1,
   "id": "364d10e9",
   "metadata": {},
   "outputs": [],
   "source": [
    "import warnings\n",
    "warnings.filterwarnings(action='ignore')\n",
    "%config Completer.use_jedi = False"
   ]
  },
  {
   "cell_type": "code",
   "execution_count": 2,
   "id": "84ff468f",
   "metadata": {},
   "outputs": [],
   "source": [
    "import requests\n",
    "import json\n",
    "import xmltodict # xml 데이터를 딕셔너리로 변환하기 위해 import 한다."
   ]
  },
  {
   "cell_type": "code",
   "execution_count": 3,
   "id": "690c0d2e",
   "metadata": {
    "scrolled": false
   },
   "outputs": [
    {
     "name": "stdout",
     "output_type": "stream",
     "text": [
      "<?xml version=\"1.0\" encoding=\"UTF-8\"?>\n",
      "<TbPublicWifiInfo>\n",
      "<list_total_count>23488</list_total_count>\n",
      "<RESULT>\n",
      "<CODE>INFO-000</CODE>\n",
      "<MESSAGE>정상 처리되었습니다</MESSAGE>\n",
      "</RESULT>\n",
      "<row>\n",
      "<X_SWIFI_MGR_NO>---EP000001</X_SWIFI_MGR_NO>\n",
      "<X_SWIFI_WRDOFC>은평구</X_SWIFI_WRDOFC>\n",
      "<X_SWIFI_MAIN_NM>갈현1동주민센터</X_SWIFI_MAIN_NM>\n",
      "<X_SWIFI_ADRES1>갈현동 갈현로 301</X_SWIFI_ADRES1>\n",
      "<X_SWIFI_ADRES2>갈현1동 1층</X_SWIFI_ADRES2>\n",
      "<X_SWIFI_INSTL_FLOOR/>\n",
      "<X_SWIFI_INSTL_TY>7-1. 공공 - 행정</X_SWIFI_INSTL_TY>\n",
      "<X_SWIFI_INSTL_MBY>의견(자치)</X_SWIFI_INSTL_MBY>\n",
      "<X_SWIFI_SVC_SE>공공WiFi</X_SWIFI_SVC_SE>\n",
      "<X_SWIFI_CMCWR>자가망_U무선망</X_SWIFI_CMCWR>\n",
      "<X_SWIFI_CNSTC_YEAR>2011</X_SWIFI_CNSTC_YEAR>\n",
      "<X_SWIFI_INOUT_DOOR>실내</X_SWIFI_INOUT_DOOR>\n",
      "<X_SWIFI_REMARS3/>\n",
      "<LAT>126.9167</LAT>\n",
      "<LNT>37.62364</LNT>\n",
      "<WORK_DTTM>2023-11-14 10:58:43.0</WORK_DTTM>\n",
      "</row>\n",
      "</TbPublicWifiInfo>\n",
      "\n",
      "================================================================================\n",
      "{'TbPublicWifiInfo': {'list_total_count': '23488', 'RESULT': {'CODE': 'INFO-000', 'MESSAGE': '정상 처리되었습니다'}, 'row': {'X_SWIFI_MGR_NO': '---EP000001', 'X_SWIFI_WRDOFC': '은평구', 'X_SWIFI_MAIN_NM': '갈현1동주민센터', 'X_SWIFI_ADRES1': '갈현동 갈현로 301', 'X_SWIFI_ADRES2': '갈현1동 1층', 'X_SWIFI_INSTL_FLOOR': None, 'X_SWIFI_INSTL_TY': '7-1. 공공 - 행정', 'X_SWIFI_INSTL_MBY': '의견(자치)', 'X_SWIFI_SVC_SE': '공공WiFi', 'X_SWIFI_CMCWR': '자가망_U무선망', 'X_SWIFI_CNSTC_YEAR': '2011', 'X_SWIFI_INOUT_DOOR': '실내', 'X_SWIFI_REMARS3': None, 'LAT': '126.9167', 'LNT': '37.62364', 'WORK_DTTM': '2023-11-14 10:58:43.0'}}}\n",
      "================================================================================\n",
      "<class 'str'>\n",
      "{\n",
      "  \"TbPublicWifiInfo\": {\n",
      "    \"list_total_count\": \"23488\",\n",
      "    \"RESULT\": {\n",
      "      \"CODE\": \"INFO-000\",\n",
      "      \"MESSAGE\": \"정상 처리되었습니다\"\n",
      "    },\n",
      "    \"row\": {\n",
      "      \"X_SWIFI_MGR_NO\": \"---EP000001\",\n",
      "      \"X_SWIFI_WRDOFC\": \"은평구\",\n",
      "      \"X_SWIFI_MAIN_NM\": \"갈현1동주민센터\",\n",
      "      \"X_SWIFI_ADRES1\": \"갈현동 갈현로 301\",\n",
      "      \"X_SWIFI_ADRES2\": \"갈현1동 1층\",\n",
      "      \"X_SWIFI_INSTL_FLOOR\": null,\n",
      "      \"X_SWIFI_INSTL_TY\": \"7-1. 공공 - 행정\",\n",
      "      \"X_SWIFI_INSTL_MBY\": \"의견(자치)\",\n",
      "      \"X_SWIFI_SVC_SE\": \"공공WiFi\",\n",
      "      \"X_SWIFI_CMCWR\": \"자가망_U무선망\",\n",
      "      \"X_SWIFI_CNSTC_YEAR\": \"2011\",\n",
      "      \"X_SWIFI_INOUT_DOOR\": \"실내\",\n",
      "      \"X_SWIFI_REMARS3\": null,\n",
      "      \"LAT\": \"126.9167\",\n",
      "      \"LNT\": \"37.62364\",\n",
      "      \"WORK_DTTM\": \"2023-11-14 10:58:43.0\"\n",
      "    }\n",
      "  }\n",
      "}\n"
     ]
    }
   ],
   "source": [
    "# 서울시 공공 와이파이 정보를 요청한다.\n",
    "# http://openapi.seoul.go.kr:8088/인증키/xml/TbPublicWifiInfo/시작/끝/\n",
    "apiRequest = 'http://openapi.seoul.go.kr:8088/746e4968796d6b7639366763624a53/xml/TbPublicWifiInfo/1/1/'\n",
    "response = requests.get(apiRequest)\n",
    "# print(response)\n",
    "# print(type(response.text))\n",
    "print(response.text) # xml\n",
    "print('=' * 80)\n",
    "\n",
    "# 응답받은 xml 형태의 문자열 데이터를 딕셔너리로 변환한다.\n",
    "dictionary = xmltodict.parse(response.text)\n",
    "# print(type(dictionary)) # dict\n",
    "print(dictionary)\n",
    "print('=' * 80)\n",
    "\n",
    "# xml 형태를 변환한 딕셔너리 데이터를 json 데이터로 변환한다.\n",
    "# dumps() 메소드는 인수로 지정된 딕셔너리를 json 타입을 변환한다.\n",
    "# ensure_ascii옵션을 False 지정해서 한글 깨짐을 방지한다.\n",
    "# indent 옵션을 지정하면 json 타입으로 변경된 데이터가 보기좋게 만들어진다.\n",
    "json_object = json.dumps(dictionary, ensure_ascii=False, indent=2)\n",
    "print(type(json_object))\n",
    "print(json_object)"
   ]
  },
  {
   "cell_type": "code",
   "execution_count": null,
   "id": "b7a805c2",
   "metadata": {},
   "outputs": [],
   "source": []
  }
 ],
 "metadata": {
  "kernelspec": {
   "display_name": "py37",
   "language": "python",
   "name": "py37"
  },
  "language_info": {
   "codemirror_mode": {
    "name": "ipython",
    "version": 3
   },
   "file_extension": ".py",
   "mimetype": "text/x-python",
   "name": "python",
   "nbconvert_exporter": "python",
   "pygments_lexer": "ipython3",
   "version": "3.7.16"
  }
 },
 "nbformat": 4,
 "nbformat_minor": 5
}
