{
 "cells": [
  {
   "cell_type": "markdown",
   "id": "c323211e",
   "metadata": {},
   "source": [
    "출장비로 지급할 화폐 매수 계산하기\n",
    "\n",
    "<img src=\"./images/money_1.png\" width=\"900\" align=\"left\"/>"
   ]
  },
  {
   "cell_type": "markdown",
   "id": "a7c5fb4d",
   "metadata": {},
   "source": [
    "<img src=\"./images/money_2.png\" width=\"900\" align=\"left\"/>"
   ]
  },
  {
   "cell_type": "markdown",
   "id": "0244222b",
   "metadata": {},
   "source": [
    "<img src=\"./images/money_3.png\" width=\"900\" align=\"left\"/>"
   ]
  },
  {
   "cell_type": "code",
   "execution_count": null,
   "id": "1cc1e0c9",
   "metadata": {},
   "outputs": [],
   "source": []
  }
 ],
 "metadata": {
  "kernelspec": {
   "display_name": "Python 3",
   "language": "python",
   "name": "python3"
  },
  "language_info": {
   "codemirror_mode": {
    "name": "ipython",
    "version": 3
   },
   "file_extension": ".py",
   "mimetype": "text/x-python",
   "name": "python",
   "nbconvert_exporter": "python",
   "pygments_lexer": "ipython3",
   "version": "3.6.8"
  }
 },
 "nbformat": 4,
 "nbformat_minor": 5
}
