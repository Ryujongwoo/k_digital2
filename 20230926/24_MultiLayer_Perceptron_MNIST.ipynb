{
 "cells": [
  {
   "cell_type": "code",
   "execution_count": 1,
   "id": "36a5999b",
   "metadata": {},
   "outputs": [
    {
     "name": "stdout",
     "output_type": "stream",
     "text": [
      "WARNING:tensorflow:From c:\\python\\lib\\site-packages\\tensorflow\\python\\compat\\v2_compat.py:101: disable_resource_variables (from tensorflow.python.ops.variable_scope) is deprecated and will be removed in a future version.\n",
      "Instructions for updating:\n",
      "non-resource variables are not supported in the long term\n"
     ]
    }
   ],
   "source": [
    "import warnings\n",
    "warnings.filterwarnings(action='ignore')\n",
    "%config Completer.use_jedi = False\n",
    "import tensorflow.compat.v1 as tf\n",
    "tf.disable_v2_behavior()\n",
    "import numpy as np"
   ]
  },
  {
   "cell_type": "markdown",
   "id": "3ead9442",
   "metadata": {},
   "source": [
    "<img src=\"./images/MNIST.png\" align=\"left\" width=\"300\"/>"
   ]
  },
  {
   "cell_type": "markdown",
   "id": "02f5d167",
   "metadata": {},
   "source": [
    "MNIST 손글씨 실습을 위해서 케라스에서 제공하는 MNIST 데이터 셋을 사용한다."
   ]
  },
  {
   "cell_type": "code",
   "execution_count": 2,
   "id": "14cbbe16",
   "metadata": {},
   "outputs": [],
   "source": [
    "(x_train, y_train), (x_test, y_test) = tf.keras.datasets.mnist.load_data()"
   ]
  },
  {
   "cell_type": "markdown",
   "id": "9619df66",
   "metadata": {},
   "source": [
    "학습 데이터에는 총 60,000개의 샘플 데이터가 있고 테스트 데이터에는 총 10,000개의 샘플 데이터가 있다.  \n",
    "MNIST 데이터는 이미지 하나가 28개의 행과 28개의 열을 갖는 픽셀 데이터이다. 각 픽셀은 흑백 사진과 같이 0부터 255까지의 그레이스케일을 가지고 있다."
   ]
  },
  {
   "cell_type": "code",
   "execution_count": 3,
   "id": "64058eb5",
   "metadata": {},
   "outputs": [
    {
     "name": "stdout",
     "output_type": "stream",
     "text": [
      "x_train.shape: (60000, 28, 28), y_train.shape: (60000,)\n",
      "x_test.shape: (10000, 28, 28), y_test.shape: (10000,)\n"
     ]
    }
   ],
   "source": [
    "print('x_train.shape: {}, y_train.shape: {}'.format(x_train.shape, y_train.shape)) # 학습 데이터\n",
    "print('x_test.shape: {}, y_test.shape: {}'.format(x_test.shape, y_test.shape)) # 테스트 데이터"
   ]
  },
  {
   "cell_type": "markdown",
   "id": "00cf52a3",
   "metadata": {},
   "source": [
    "학습 데이터를 학습 데이터(5만개)와 검증 데이터(1만개)로 분리한다.  \n",
    "학습 중간마다 검증 데이터로 모델 성능을 측정하면 모델 학습이 제대로 진행되는지 검증 정확도를 알 수 있고 학습 정확도는 올라가는데 검증 정확도가 더 이상 올라가지 않거나 떨어질 경우 학습의 조기 종료를 구현할 수 있다."
   ]
  },
  {
   "cell_type": "code",
   "execution_count": 4,
   "id": "c3759805",
   "metadata": {},
   "outputs": [
    {
     "name": "stdout",
     "output_type": "stream",
     "text": [
      "x_train.shape: (50000, 28, 28), y_train.shape: (50000,)\n",
      "x_val.shape: (10000, 28, 28), y_val.shape: (10000,)\n",
      "x_test.shape: (10000, 28, 28), y_test.shape: (10000,)\n"
     ]
    }
   ],
   "source": [
    "# 검증 데이터로 사용하기 위해 학습 데이터에서 1만개를 분리한다.\n",
    "x_val = x_train[50000:] # 28행 28열로 구성된 검증 데이터\n",
    "x_train = x_train[:50000] # 28행 28열로 구성된 학습 데이터\n",
    "y_val = y_train[50000:] # 검증 데이터 실제값(레이블, 타겟, 클래스)\n",
    "y_train = y_train[:50000] # 학습 데이터 실제값\n",
    "print('x_train.shape: {}, y_train.shape: {}'.format(x_train.shape, y_train.shape)) # 학습 데이터\n",
    "print('x_val.shape: {}, y_val.shape: {}'.format(x_val.shape, y_val.shape)) # 검증 데이터\n",
    "print('x_test.shape: {}, y_test.shape: {}'.format(x_test.shape, y_test.shape)) # 테스트 데이터"
   ]
  },
  {
   "cell_type": "markdown",
   "id": "6de90edb",
   "metadata": {},
   "source": [
    "학습 데이터를 출력해보면 데이터가 0부터 255사이의 숫자(그레이스케일)로 구성된 것을 확인할 수 있다."
   ]
  },
  {
   "cell_type": "code",
   "execution_count": 5,
   "id": "2796ee6b",
   "metadata": {},
   "outputs": [
    {
     "name": "stdout",
     "output_type": "stream",
     "text": [
      "[5 0 4 1 9 2 1 3 1 4]\n",
      "  0   0   0   0   0   0   0   0   0   0   0   0   0   0   0   0   0   0   0   0   0   0   0   0   0   0   0   0 \n",
      "  0   0   0   0   0   0   0   0   0   0   0   0   0   0   0   0   0   0   0   0   0   0   0   0   0   0   0   0 \n",
      "  0   0   0   0   0   0   0   0   0   0   0   0   0   0   0   0   0   0   0   0   0   0   0   0   0   0   0   0 \n",
      "  0   0   0   0   0   0   0   0   0   0   0   0   0   0   0   0   0   0   0   0   0   0   0   0   0   0   0   0 \n",
      "  0   0   0   0   0   0   0   0   0   0   0   0   0   0   0   0   0   0   0   0   0   0   0   0   0   0   0   0 \n",
      "  0   0   0   0   0   0   0   0   0   0   0   0   3  18  18  18 126 136 175  26 166 255 247 127   0   0   0   0 \n",
      "  0   0   0   0   0   0   0   0  30  36  94 154 170 253 253 253 253 253 225 172 253 242 195  64   0   0   0   0 \n",
      "  0   0   0   0   0   0   0  49 238 253 253 253 253 253 253 253 253 251  93  82  82  56  39   0   0   0   0   0 \n",
      "  0   0   0   0   0   0   0  18 219 253 253 253 253 253 198 182 247 241   0   0   0   0   0   0   0   0   0   0 \n",
      "  0   0   0   0   0   0   0   0  80 156 107 253 253 205  11   0  43 154   0   0   0   0   0   0   0   0   0   0 \n",
      "  0   0   0   0   0   0   0   0   0  14   1 154 253  90   0   0   0   0   0   0   0   0   0   0   0   0   0   0 \n",
      "  0   0   0   0   0   0   0   0   0   0   0 139 253 190   2   0   0   0   0   0   0   0   0   0   0   0   0   0 \n",
      "  0   0   0   0   0   0   0   0   0   0   0  11 190 253  70   0   0   0   0   0   0   0   0   0   0   0   0   0 \n",
      "  0   0   0   0   0   0   0   0   0   0   0   0  35 241 225 160 108   1   0   0   0   0   0   0   0   0   0   0 \n",
      "  0   0   0   0   0   0   0   0   0   0   0   0   0  81 240 253 253 119  25   0   0   0   0   0   0   0   0   0 \n",
      "  0   0   0   0   0   0   0   0   0   0   0   0   0   0  45 186 253 253 150  27   0   0   0   0   0   0   0   0 \n",
      "  0   0   0   0   0   0   0   0   0   0   0   0   0   0   0  16  93 252 253 187   0   0   0   0   0   0   0   0 \n",
      "  0   0   0   0   0   0   0   0   0   0   0   0   0   0   0   0   0 249 253 249  64   0   0   0   0   0   0   0 \n",
      "  0   0   0   0   0   0   0   0   0   0   0   0   0   0  46 130 183 253 253 207   2   0   0   0   0   0   0   0 \n",
      "  0   0   0   0   0   0   0   0   0   0   0   0  39 148 229 253 253 253 250 182   0   0   0   0   0   0   0   0 \n",
      "  0   0   0   0   0   0   0   0   0   0  24 114 221 253 253 253 253 201  78   0   0   0   0   0   0   0   0   0 \n",
      "  0   0   0   0   0   0   0   0  23  66 213 253 253 253 253 198  81   2   0   0   0   0   0   0   0   0   0   0 \n",
      "  0   0   0   0   0   0  18 171 219 253 253 253 253 195  80   9   0   0   0   0   0   0   0   0   0   0   0   0 \n",
      "  0   0   0   0  55 172 226 253 253 253 253 244 133  11   0   0   0   0   0   0   0   0   0   0   0   0   0   0 \n",
      "  0   0   0   0 136 253 253 253 212 135 132  16   0   0   0   0   0   0   0   0   0   0   0   0   0   0   0   0 \n",
      "  0   0   0   0   0   0   0   0   0   0   0   0   0   0   0   0   0   0   0   0   0   0   0   0   0   0   0   0 \n",
      "  0   0   0   0   0   0   0   0   0   0   0   0   0   0   0   0   0   0   0   0   0   0   0   0   0   0   0   0 \n",
      "  0   0   0   0   0   0   0   0   0   0   0   0   0   0   0   0   0   0   0   0   0   0   0   0   0   0   0   0 \n"
     ]
    }
   ],
   "source": [
    "print(y_train[:10])\n",
    "for i in x_train[0]:\n",
    "    for j in i:\n",
    "        print('{:3d} '.format(j), end='')\n",
    "    print()"
   ]
  },
  {
   "cell_type": "markdown",
   "id": "43fc6146",
   "metadata": {},
   "source": [
    "MNIST 데이터를 불러왔으니 다층 퍼셉트론의 입력값으로 들어갈 수 있도록 넘파이의 reahspe() 메소드를 사용해서 2차원 배열 형태의 데이터를 1차원 배열 형태로 변경한다.\n",
    "\n",
    "<img src=\"./images/MNIST2.png\" align=\"left\" width=\"1200\"/>"
   ]
  },
  {
   "cell_type": "code",
   "execution_count": 6,
   "id": "113231ec",
   "metadata": {},
   "outputs": [
    {
     "name": "stdout",
     "output_type": "stream",
     "text": [
      "x_train.shape: (50000, 28, 28)\n",
      "x_train.shape: (50000, 784)\n",
      "x_val.shape: (10000, 784)\n",
      "x_test.shape: (10000, 784)\n"
     ]
    }
   ],
   "source": [
    "# 28 * 28 픽셀의 단색 이미지이므로 데이터 형태를 784개의 1차원 배열 형태로 변환한다.\n",
    "print('x_train.shape: {}'.format(x_train.shape))\n",
    "# x_train = np.reshape(x_train, [50000, 784]) # 28행 28열로 구성된 학습 데이터를 784개의 1차원 배열 형태로 변환한다.\n",
    "# x_train = x_train.reshape(50000, 784)\n",
    "x_train = x_train.reshape(-1, 784)\n",
    "print('x_train.shape: {}'.format(x_train.shape))\n",
    "x_val = x_val.reshape(10000, 784) # 28행 28열로 구성된 검증 데이터를 784개의 1차원 배열 형태로 변환한다.\n",
    "print('x_val.shape: {}'.format(x_val.shape))\n",
    "x_test = x_test.reshape(10000, 784) # 28행 28열로 구성된 테스트 데이터를 784개의 1차원 배열 형태로 변환한다.\n",
    "print('x_test.shape: {}'.format(x_test.shape))"
   ]
  },
  {
   "cell_type": "markdown",
   "id": "f809e88a",
   "metadata": {},
   "source": [
    "1차원으로 변경된 데이터를 그대로 다층 퍼셉트론에 입력해도 되지만 조금 더 효율적인 학습을 위해 데이터를 정규화 시킨다. 정규화는 모덱의 학습 시간을 단축시키고 더 나은 성능을 보이게 하는 효과가 있다.  \n",
    "MNIST 손글씨 데이터의 모든 값들은 0부터 255사이의 범위 안에 있으므로 255로 나눠 모든 값들을 0부터 1사이의 값으로 정규화 한다."
   ]
  },
  {
   "cell_type": "code",
   "execution_count": 7,
   "id": "0a6f0b54",
   "metadata": {},
   "outputs": [],
   "source": [
    "# print(type(x_train[0][0]), x_train[0][0]) # <class 'numpy.uint8'> 0\n",
    "# 255로 나눠서 0부터 1사이의 실수로 만들어야 하므로 astype() 메소드를 이용해서 정수를 실수로 변환한다.\n",
    "x_train = x_train.astype('float32')\n",
    "# print(type(x_train[0][0]), x_train[0][0]) # <class 'numpy.float32'> 0.0\n",
    "x_val = x_val.astype('float32')\n",
    "x_test = x_test.astype('float32')\n",
    "gray_scale = 255\n",
    "x_train /= gray_scale\n",
    "x_val /= gray_scale\n",
    "x_test /= gray_scale"
   ]
  },
  {
   "cell_type": "code",
   "execution_count": 8,
   "id": "aacf9ed6",
   "metadata": {},
   "outputs": [
    {
     "name": "stdout",
     "output_type": "stream",
     "text": [
      "{0, 1, 2, 3, 4, 5, 6, 7, 8, 9}\n"
     ]
    }
   ],
   "source": [
    "print(set(y_train))"
   ]
  },
  {
   "cell_type": "markdown",
   "id": "3bf1595a",
   "metadata": {},
   "source": [
    "MNIST 손글씨 데이터 분류 모델은 0부터 9사이의 숫자로 분류하는 다중 모델이므로 손실 함수로 클로스 엔트로피를 사용한다.  \n",
    "크로스 엔트로피를 계산하기 위해 실제값(y_train, y_val, y_test)을 원-핫 인코딩(one-hot encoding)으로 변환한다.  \n",
    "원-핫 인코딩은 데이터를 수많은 0과 1개의 1로 데이터를 구별하는 인코딩 방식으로 0으로 이루어진 벡터 집합에 단 1개의 1의 값으로 해당 데이터를 구별하는 것을 말한다."
   ]
  },
  {
   "cell_type": "code",
   "execution_count": 9,
   "id": "b621c555",
   "metadata": {},
   "outputs": [
    {
     "name": "stdout",
     "output_type": "stream",
     "text": [
      "[5 0 4 1 9]\n",
      "[0. 0. 0. 0. 0. 1. 0. 0. 0. 0.]\n",
      "[1. 0. 0. 0. 0. 0. 0. 0. 0. 0.]\n",
      "[0. 0. 0. 0. 1. 0. 0. 0. 0. 0.]\n",
      "[0. 1. 0. 0. 0. 0. 0. 0. 0. 0.]\n",
      "[0. 0. 0. 0. 0. 0. 0. 0. 0. 1.]\n"
     ]
    }
   ],
   "source": [
    "# to_categorical() 메소드로 데이터에 원-핫 인코딩을 적용할 수 있다.\n",
    "num_classes = 10\n",
    "print(y_train[:5])\n",
    "y_train = tf.keras.utils.to_categorical(y_train, num_classes)\n",
    "for i in y_train[:5]:\n",
    "    print(i)\n",
    "y_val = tf.keras.utils.to_categorical(y_val, num_classes)\n",
    "y_test = tf.keras.utils.to_categorical(y_test, num_classes)"
   ]
  },
  {
   "cell_type": "markdown",
   "id": "def20467",
   "metadata": {},
   "source": [
    "입력 데이터는 784개의 숫자가 들어있는 1차원 배열이다.  \n",
    "784개의 입력을 받는 256개의 노드가 1번째 히든 레이어에 있고 1번째 히든 레이어의 출력값을 입력으로 받는 2번째 히든 레이어에는 128개의 노드가 있다.  \n",
    "2번째 히든 레이어에는 과대 적합을 방지하기 위해 10% 드롭 아웃을 적용한다.  \n",
    "3번째 히든 레이어에서는 총 10개의 노드가 존재하며 이 10개의 노드값은 소프트 맥스를 통과해서 0부터 9사이에 해당되는 각 숫자의 확률을 의미한다. 소프트 맥스는 분류해야하는 정답지(레이블, 클래스, 타겟)의 총 개수를 k라고 할 때 k차원의 벡터를 입력받아 각 정답에 대한 확률을 추정한다.  \n",
    "소프트 맥스의 출력값과 실제값의 차이(오차)를 계산하기 위해 크로스 엔트로피를 손실 함수로 사용하고 손실 함수를 최소화 하기 위해서 Adam 옵티마이저(최적화 함수)를 사용해서 역전파를 통해 모든 가중치 및 편향값을 최적화 한다.\n",
    "\n",
    "최적화 함수 참고 사이트  \n",
    "https://onevision.tistory.com/entry/Optimizer-%EC%9D%98-%EC%A2%85%EB%A5%98%EC%99%80-%ED%8A%B9%EC%84%B1-Momentum-RMSProp-Adam"
   ]
  },
  {
   "cell_type": "markdown",
   "id": "1ab8e05c",
   "metadata": {},
   "source": [
    "<img src=\"./images/MNIST3.png\" align=\"left\" width=\"800\"/>"
   ]
  },
  {
   "cell_type": "markdown",
   "id": "ffbf6c6f",
   "metadata": {},
   "source": [
    "소프트 맥스(Soft Max)"
   ]
  },
  {
   "cell_type": "code",
   "execution_count": 10,
   "id": "50d038e0",
   "metadata": {},
   "outputs": [
    {
     "name": "stdout",
     "output_type": "stream",
     "text": [
      "[ 3 10  5]\n",
      "1\n"
     ]
    }
   ],
   "source": [
    "a = tf.constant([3, 10, 5]) # 1차원 배열\n",
    "sess = tf.Session()\n",
    "print(sess.run(a))\n",
    "# argmax() 메소드는 배열에서 가장 큰 값을 찾아서 그 인덱스를 리턴한다.\n",
    "# a 배열에서 10이 가장 크기 때문에 결과는 10의 인덱스 1이 출력된다.\n",
    "print(sess.run(tf.argmax(a)))"
   ]
  },
  {
   "cell_type": "code",
   "execution_count": 11,
   "id": "3ba4fe7b",
   "metadata": {},
   "outputs": [
    {
     "name": "stdout",
     "output_type": "stream",
     "text": [
      "[[ 3 10  5]\n",
      " [ 4  5  6]\n",
      " [ 0  8  7]]\n",
      "[1 0 2]\n",
      "[1 0 2]\n",
      "[1 2 1]\n"
     ]
    }
   ],
   "source": [
    "b = tf.constant([[3, 10, 5], [4, 5, 6], [0, 8, 7]]) # 2차원 배열\n",
    "print(sess.run(b))\n",
    "# argmax() 메소드를 2차원에서 사용할 경우 2번째 인수를 지정해야 한다. 생략시 기본값은 0\n",
    "# 2번째 인수를 생략하거나 0을 사용하면 2차원 배열의 각 열에서 최대값의 인덱스를 리턴하고 2번째 인수에 1을 쓰면 2차원 배열의\n",
    "# 각 행에서 최대값의 인덱스를 리턴한다.\n",
    "# b 배열에서 열 단위로 최대값을 계산하면 0번째 열의 최대값 4의 인덱스 1, 1번째 열의 최대값 10의 인덱스 0, 2번째 열의 최대값\n",
    "# 7의 인덱스 2가 [1 0 2]와 같이 출력된다.\n",
    "print(sess.run(tf.argmax(b)))\n",
    "print(sess.run(tf.argmax(b, 0)))\n",
    "# b 배열에서 행 단위로 최대값을 계산하면 0번째 행의 최대값 10의 인덱스 1, 1번째 행의 최대값 6의 인덱스 2, 2번째 행의 최대값\n",
    "# 8의 인덱스 1이 [1 2 1]와 같이 출력된다.\n",
    "print(sess.run(tf.argmax(b, 1)))"
   ]
  },
  {
   "cell_type": "code",
   "execution_count": 12,
   "id": "07e70de8",
   "metadata": {},
   "outputs": [],
   "source": [
    "# 1번째 차원이 None인 이유는 데이터 개수의 제약없이 입력받기 위해서이고 2번째 차원이 784인 것은 MNIST 손글씨 이미지의\n",
    "# 크기가 28 * 28 픽셀 = 784 픽셀이기 때문이다.\n",
    "x = tf.placeholder(dtype=tf.float32, shape=[None, 784]) # 학습 데이터를 기억할 placeholder를 선언한다.\n",
    "y = tf.placeholder(dtype=tf.float32, shape=[None, 10]) # 실제값을 기억할 placeholder를 선언한다.\n",
    "keep_prob = tf.placeholder(dtype=tf.float32) # 드롭 아웃 적용 변수"
   ]
  },
  {
   "cell_type": "markdown",
   "id": "4ed122b2",
   "metadata": {},
   "source": [
    "다층 퍼셉트론을 구현한다."
   ]
  },
  {
   "cell_type": "code",
   "execution_count": 13,
   "id": "ead4ff4c",
   "metadata": {},
   "outputs": [],
   "source": [
    "def mlp(x):\n",
    "    # 히든 레이어1\n",
    "    w1 = tf.Variable(tf.random_uniform([784, 256]))\n",
    "    b1 = tf.Variable(tf.zeros([256]))\n",
    "    h1 = tf.nn.relu(tf.matmul(x, w1) + b1)\n",
    "    # 히든 레이어2\n",
    "    w2 = tf.Variable(tf.random_uniform([256, 128]))\n",
    "    b2 = tf.Variable(tf.zeros([128]))\n",
    "    h2 = tf.nn.relu(tf.matmul(h1, w2) + b2)\n",
    "    # 드롭 아웃 적용, 예전에는 rate=keep_prob 형태로 사용했었는데 버전이 올라가면서 rate=1-keep_prob와 같은 형태로\n",
    "    # 사용해애 한다.\n",
    "    h2_drop = tf.nn.dropout(h2, rate=1-keep_prob)\n",
    "    # 히든 레이어3\n",
    "    w3 = tf.Variable(tf.random_uniform([128, 10]))\n",
    "    b3 = tf.Variable(tf.zeros([10]))\n",
    "    logit = tf.nn.relu(tf.matmul(h2_drop, w3) + b3)\n",
    "    return logit"
   ]
  },
  {
   "cell_type": "markdown",
   "id": "76e167f2",
   "metadata": {},
   "source": [
    "다층 퍼셉트론의 출력값을 logit(logistic + probit)로 정의한다. probit는 확률을 재는 단위를 의미한다."
   ]
  },
  {
   "cell_type": "code",
   "execution_count": 14,
   "id": "b69d2296",
   "metadata": {},
   "outputs": [],
   "source": [
    "logit = mlp(x)\n",
    "# logit와 실제값의 크로스 엔트로피를 손실 함수로 사용한다.\n",
    "loss = tf.reduce_mean(\n",
    "    tf.nn.softmax_cross_entropy_with_logits_v2(logits=logit, labels=y)\n",
    ")\n",
    "# Adam 옵티마이저를 사용해 모델을 최적화 한다.\n",
    "# 모델의 최적화 과정은 모델의 예측값과 실제값의 차이를 줄여나가는 과정을 의미한다.\n",
    "train = tf.train.AdamOptimizer(0.01).minimize(loss)"
   ]
  },
  {
   "cell_type": "markdown",
   "id": "aff67377",
   "metadata": {},
   "source": [
    "조기 종료는 과대 적합을 피하고 충분한 학습을 하기 위해서 학습 중간마다 검증 데이터에 대한 정확도를 측정하면 학습 데이터에 대한 정확도는 계속 증가하는 반면에 검증 데이터에 대한 정확도가 점차 떨어질 경우 학습을 중지하는 것을 말한다.  \n",
    "매 epoch 마다 검증 데이터로 검증 정확도를 측정해서 검증 정확도가 5번 연속으로 검증 정확도의 최대값보다 높지 않을 경우 조기 종료를 수행한다."
   ]
  },
  {
   "cell_type": "code",
   "execution_count": 15,
   "id": "27c8eb8f",
   "metadata": {},
   "outputs": [],
   "source": [
    "saver = tf.train.Saver() # 텐서플로우에서 학습 모델의 저장 및 로드에 사용할 변수를 선언한다.\n",
    "epoch_cnt = 300 # 조기 종료가 일어나지 않을 경우 최대 300번 까지 반복해서 학습하도록 설정한다.\n",
    "batch_size = 1000 # 1번에 읽어서 처리할 데이터의 개수를 설정한다.\n",
    "iteration = len(x_train) // batch_size # batch_size에 따른 1 epoch당 학습 횟수를 설정한다.\n",
    "earlystop_threshold = 5 # 검증 정확도가 검증 정확도의 최대값 보다 5번 연속으로 높지 않을 경우 조기 종료하도록 설정한다.\n",
    "earlystop_cnt = 0 # 검정 정확도가 검증 정확도의 최대값보다 연속으로 높지 않은 검증 횟수를 세는 변수를 선언한다."
   ]
  },
  {
   "cell_type": "markdown",
   "id": "27d5d230",
   "metadata": {},
   "source": [
    "학습을 진행한다."
   ]
  },
  {
   "cell_type": "code",
   "execution_count": 16,
   "id": "b8bfeee2",
   "metadata": {
    "scrolled": true
   },
   "outputs": [
    {
     "name": "stdout",
     "output_type": "stream",
     "text": [
      "epoch:   0, 학습 정확도: 0.38260, 검증 정확도: 0.40000\n",
      "epoch:   1, 학습 정확도: 0.46926, 검증 정확도: 0.48620\n",
      "epoch:   2, 학습 정확도: 0.54842, 검증 정확도: 0.56740\n",
      "epoch:   3, 학습 정확도: 0.61472, 검증 정확도: 0.63510\n",
      "epoch:   4, 학습 정확도: 0.66648, 검증 정확도: 0.69030\n",
      "epoch:   5, 학습 정확도: 0.70640, 검증 정확도: 0.73010\n",
      "epoch:   6, 학습 정확도: 0.74406, 검증 정확도: 0.76260\n",
      "epoch:   7, 학습 정확도: 0.77420, 검증 정확도: 0.79270\n",
      "epoch:   8, 학습 정확도: 0.79784, 검증 정확도: 0.81530\n",
      "epoch:   9, 학습 정확도: 0.81690, 검증 정확도: 0.83400\n",
      "epoch:  10, 학습 정확도: 0.83114, 검증 정확도: 0.84640\n",
      "epoch:  11, 학습 정확도: 0.84298, 검증 정확도: 0.85430\n",
      "epoch:  12, 학습 정확도: 0.85270, 검증 정확도: 0.86450\n",
      "epoch:  13, 학습 정확도: 0.85988, 검증 정확도: 0.87050\n",
      "epoch:  14, 학습 정확도: 0.86890, 검증 정확도: 0.87750\n",
      "epoch:  15, 학습 정확도: 0.87538, 검증 정확도: 0.88290\n",
      "epoch:  16, 학습 정확도: 0.88198, 검증 정확도: 0.88920\n",
      "epoch:  17, 학습 정확도: 0.88718, 검증 정확도: 0.89280\n",
      "epoch:  18, 학습 정확도: 0.89170, 검증 정확도: 0.89490\n",
      "epoch:  19, 학습 정확도: 0.89630, 검증 정확도: 0.89980\n",
      "epoch:  20, 학습 정확도: 0.90054, 검증 정확도: 0.90230\n",
      "epoch:  21, 학습 정확도: 0.90296, 검증 정확도: 0.90370\n",
      "epoch:  22, 학습 정확도: 0.90694, 검증 정확도: 0.90710\n",
      "epoch:  23, 학습 정확도: 0.90952, 검증 정확도: 0.90900\n",
      "epoch:  24, 학습 정확도: 0.91210, 검증 정확도: 0.91170\n",
      "epoch:  25, 학습 정확도: 0.91522, 검증 정확도: 0.91350\n",
      "epoch:  26, 학습 정확도: 0.91744, 검증 정확도: 0.91590\n",
      "epoch:  27, 학습 정확도: 0.92026, 검증 정확도: 0.91760\n",
      "epoch:  28, 학습 정확도: 0.92236, 검증 정확도: 0.91830\n",
      "epoch:  29, 학습 정확도: 0.92466, 검증 정확도: 0.91910\n",
      "epoch:  30, 학습 정확도: 0.92664, 검증 정확도: 0.92090\n",
      "epoch:  31, 학습 정확도: 0.92814, 검증 정확도: 0.92090\n",
      "epoch:  32, 학습 정확도: 0.92924, 검증 정확도: 0.92250\n",
      "epoch:  33, 학습 정확도: 0.93048, 검증 정확도: 0.92330\n",
      "epoch:  34, 학습 정확도: 0.93180, 검증 정확도: 0.92370\n",
      "epoch:  35, 학습 정확도: 0.93374, 검증 정확도: 0.92410\n",
      "epoch:  36, 학습 정확도: 0.93546, 검증 정확도: 0.92520\n",
      "epoch:  37, 학습 정확도: 0.93672, 검증 정확도: 0.92620\n",
      "epoch:  38, 학습 정확도: 0.93826, 검증 정확도: 0.92680\n",
      "epoch:  39, 학습 정확도: 0.93900, 검증 정확도: 0.92710\n",
      "epoch:  40, 학습 정확도: 0.93996, 검증 정확도: 0.92840\n",
      "epoch:  41, 학습 정확도: 0.94140, 검증 정확도: 0.92880\n",
      "epoch:  42, 학습 정확도: 0.94244, 검증 정확도: 0.93000\n",
      "epoch:  43, 학습 정확도: 0.94362, 검증 정확도: 0.93130\n",
      "epoch:  44, 학습 정확도: 0.94448, 검증 정확도: 0.93140\n",
      "epoch:  45, 학습 정확도: 0.94566, 검증 정확도: 0.93100\n",
      "과대 적합 경고 횟수: 1\n",
      "epoch:  46, 학습 정확도: 0.94632, 검증 정확도: 0.93270\n",
      "epoch:  47, 학습 정확도: 0.94704, 검증 정확도: 0.93310\n",
      "epoch:  48, 학습 정확도: 0.94766, 검증 정확도: 0.93230\n",
      "과대 적합 경고 횟수: 1\n",
      "epoch:  49, 학습 정확도: 0.94776, 검증 정확도: 0.93290\n",
      "과대 적합 경고 횟수: 2\n",
      "epoch:  50, 학습 정확도: 0.94962, 검증 정확도: 0.93360\n",
      "epoch:  51, 학습 정확도: 0.94996, 검증 정확도: 0.93500\n",
      "epoch:  52, 학습 정확도: 0.95076, 검증 정확도: 0.93420\n",
      "과대 적합 경고 횟수: 1\n",
      "epoch:  53, 학습 정확도: 0.95212, 검증 정확도: 0.93520\n",
      "epoch:  54, 학습 정확도: 0.95152, 검증 정확도: 0.93570\n",
      "epoch:  55, 학습 정확도: 0.95246, 검증 정확도: 0.93540\n",
      "과대 적합 경고 횟수: 1\n",
      "epoch:  56, 학습 정확도: 0.95362, 검증 정확도: 0.93640\n",
      "epoch:  57, 학습 정확도: 0.95412, 검증 정확도: 0.93690\n",
      "epoch:  58, 학습 정확도: 0.95550, 검증 정확도: 0.93750\n",
      "epoch:  59, 학습 정확도: 0.95520, 검증 정확도: 0.93770\n",
      "epoch:  60, 학습 정확도: 0.95588, 검증 정확도: 0.93840\n",
      "epoch:  61, 학습 정확도: 0.95710, 검증 정확도: 0.93770\n",
      "과대 적합 경고 횟수: 1\n",
      "epoch:  62, 학습 정확도: 0.95642, 검증 정확도: 0.93800\n",
      "epoch:  63, 학습 정확도: 0.95782, 검증 정확도: 0.93900\n",
      "epoch:  64, 학습 정확도: 0.95792, 검증 정확도: 0.93850\n",
      "과대 적합 경고 횟수: 1\n",
      "epoch:  65, 학습 정확도: 0.95926, 검증 정확도: 0.93920\n",
      "epoch:  66, 학습 정확도: 0.95854, 검증 정확도: 0.93800\n",
      "epoch:  67, 학습 정확도: 0.95976, 검증 정확도: 0.93940\n",
      "epoch:  68, 학습 정확도: 0.96072, 검증 정확도: 0.93940\n",
      "epoch:  69, 학습 정확도: 0.95964, 검증 정확도: 0.94050\n",
      "epoch:  70, 학습 정확도: 0.95932, 검증 정확도: 0.93990\n",
      "epoch:  71, 학습 정확도: 0.96066, 검증 정확도: 0.94030\n",
      "과대 적합 경고 횟수: 1\n",
      "epoch:  72, 학습 정확도: 0.96198, 검증 정확도: 0.94210\n",
      "epoch:  73, 학습 정확도: 0.96196, 검증 정확도: 0.94250\n",
      "epoch:  74, 학습 정확도: 0.96274, 검증 정확도: 0.94250\n",
      "epoch:  75, 학습 정확도: 0.96218, 검증 정확도: 0.94170\n",
      "epoch:  76, 학습 정확도: 0.96148, 검증 정확도: 0.94120\n",
      "epoch:  77, 학습 정확도: 0.96326, 검증 정확도: 0.94300\n",
      "epoch:  78, 학습 정확도: 0.96398, 검증 정확도: 0.94060\n",
      "과대 적합 경고 횟수: 1\n",
      "epoch:  79, 학습 정확도: 0.96402, 검증 정확도: 0.94150\n",
      "과대 적합 경고 횟수: 2\n",
      "epoch:  80, 학습 정확도: 0.96450, 검증 정확도: 0.94180\n",
      "과대 적합 경고 횟수: 3\n",
      "epoch:  81, 학습 정확도: 0.96528, 검증 정확도: 0.94300\n",
      "epoch:  82, 학습 정확도: 0.96274, 검증 정확도: 0.94090\n",
      "epoch:  83, 학습 정확도: 0.96214, 검증 정확도: 0.94150\n",
      "epoch:  84, 학습 정확도: 0.96504, 검증 정확도: 0.94270\n",
      "과대 적합 경고 횟수: 1\n",
      "epoch:  85, 학습 정확도: 0.96494, 검증 정확도: 0.94330\n",
      "epoch:  86, 학습 정확도: 0.96666, 검증 정확도: 0.94280\n",
      "과대 적합 경고 횟수: 1\n",
      "epoch:  87, 학습 정확도: 0.96514, 검증 정확도: 0.94370\n",
      "epoch:  88, 학습 정확도: 0.96736, 검증 정확도: 0.94390\n",
      "epoch:  89, 학습 정확도: 0.96762, 검증 정확도: 0.94440\n",
      "epoch:  90, 학습 정확도: 0.96886, 검증 정확도: 0.94450\n",
      "epoch:  91, 학습 정확도: 0.96652, 검증 정확도: 0.94300\n",
      "epoch:  92, 학습 정확도: 0.96740, 검증 정확도: 0.94430\n",
      "과대 적합 경고 횟수: 1\n",
      "epoch:  93, 학습 정확도: 0.96804, 검증 정확도: 0.94420\n",
      "과대 적합 경고 횟수: 2\n",
      "epoch:  94, 학습 정확도: 0.96964, 검증 정확도: 0.94500\n",
      "epoch:  95, 학습 정확도: 0.97040, 검증 정확도: 0.94580\n",
      "epoch:  96, 학습 정확도: 0.97072, 검증 정확도: 0.94570\n",
      "과대 적합 경고 횟수: 1\n",
      "epoch:  97, 학습 정확도: 0.96946, 검증 정확도: 0.94350\n",
      "epoch:  98, 학습 정확도: 0.97044, 검증 정확도: 0.94420\n",
      "과대 적합 경고 횟수: 1\n",
      "epoch:  99, 학습 정확도: 0.97096, 검증 정확도: 0.94470\n",
      "과대 적합 경고 횟수: 2\n",
      "epoch: 100, 학습 정확도: 0.97076, 검증 정확도: 0.94620\n",
      "epoch: 101, 학습 정확도: 0.97080, 검증 정확도: 0.94460\n",
      "과대 적합 경고 횟수: 1\n",
      "epoch: 102, 학습 정확도: 0.97138, 검증 정확도: 0.94550\n",
      "과대 적합 경고 횟수: 2\n",
      "epoch: 103, 학습 정확도: 0.97100, 검증 정확도: 0.94480\n",
      "epoch: 104, 학습 정확도: 0.97232, 검증 정확도: 0.94490\n",
      "과대 적합 경고 횟수: 1\n",
      "epoch: 105, 학습 정확도: 0.97366, 검증 정확도: 0.94720\n",
      "epoch: 106, 학습 정확도: 0.97366, 검증 정확도: 0.94660\n",
      "epoch: 107, 학습 정확도: 0.97328, 검증 정확도: 0.94660\n",
      "epoch: 108, 학습 정확도: 0.97296, 검증 정확도: 0.94720\n",
      "epoch: 109, 학습 정확도: 0.97310, 검증 정확도: 0.94640\n",
      "과대 적합 경고 횟수: 1\n",
      "epoch: 110, 학습 정확도: 0.97272, 검증 정확도: 0.94790\n",
      "epoch: 111, 학습 정확도: 0.97238, 검증 정확도: 0.94660\n",
      "epoch: 112, 학습 정확도: 0.97312, 검증 정확도: 0.94670\n",
      "과대 적합 경고 횟수: 1\n",
      "epoch: 113, 학습 정확도: 0.97486, 검증 정확도: 0.94860\n",
      "epoch: 114, 학습 정확도: 0.97470, 검증 정확도: 0.94830\n",
      "epoch: 115, 학습 정확도: 0.97620, 검증 정확도: 0.94850\n",
      "과대 적합 경고 횟수: 1\n",
      "epoch: 116, 학습 정확도: 0.97554, 검증 정확도: 0.94760\n",
      "epoch: 117, 학습 정확도: 0.97472, 검증 정확도: 0.94900\n",
      "epoch: 118, 학습 정확도: 0.97516, 검증 정확도: 0.94880\n",
      "과대 적합 경고 횟수: 1\n",
      "epoch: 119, 학습 정확도: 0.97748, 검증 정확도: 0.94930\n",
      "epoch: 120, 학습 정확도: 0.97818, 검증 정확도: 0.95050\n",
      "epoch: 121, 학습 정확도: 0.97568, 검증 정확도: 0.94790\n",
      "epoch: 122, 학습 정확도: 0.97400, 검증 정확도: 0.94860\n",
      "epoch: 123, 학습 정확도: 0.97342, 검증 정확도: 0.94560\n",
      "epoch: 124, 학습 정확도: 0.97632, 검증 정확도: 0.94790\n",
      "과대 적합 경고 횟수: 1\n",
      "epoch: 125, 학습 정확도: 0.97636, 검증 정확도: 0.94840\n",
      "과대 적합 경고 횟수: 2\n",
      "epoch: 126, 학습 정확도: 0.97504, 검증 정확도: 0.94760\n",
      "epoch: 127, 학습 정확도: 0.97774, 검증 정확도: 0.94890\n",
      "과대 적합 경고 횟수: 1\n",
      "epoch: 128, 학습 정확도: 0.98030, 검증 정확도: 0.94840\n",
      "과대 적합 경고 횟수: 2\n",
      "epoch: 129, 학습 정확도: 0.97766, 검증 정확도: 0.94780\n",
      "epoch: 130, 학습 정확도: 0.97808, 검증 정확도: 0.94930\n",
      "과대 적합 경고 횟수: 1\n",
      "epoch: 131, 학습 정확도: 0.97860, 검증 정확도: 0.95070\n",
      "epoch: 132, 학습 정확도: 0.97984, 검증 정확도: 0.95080\n",
      "epoch: 133, 학습 정확도: 0.97956, 검증 정확도: 0.94860\n",
      "epoch: 134, 학습 정확도: 0.98152, 검증 정확도: 0.94910\n",
      "과대 적합 경고 횟수: 1\n",
      "epoch: 135, 학습 정확도: 0.97994, 검증 정확도: 0.94930\n",
      "epoch: 136, 학습 정확도: 0.97982, 검증 정확도: 0.94840\n",
      "epoch: 137, 학습 정확도: 0.97794, 검증 정확도: 0.94660\n",
      "epoch: 138, 학습 정확도: 0.97512, 검증 정확도: 0.94530\n",
      "epoch: 139, 학습 정확도: 0.97742, 검증 정확도: 0.94610\n",
      "과대 적합 경고 횟수: 1\n",
      "epoch: 140, 학습 정확도: 0.97936, 검증 정확도: 0.94810\n",
      "과대 적합 경고 횟수: 2\n",
      "epoch: 141, 학습 정확도: 0.97946, 검증 정확도: 0.94770\n",
      "과대 적합 경고 횟수: 3\n",
      "epoch: 142, 학습 정확도: 0.98090, 검증 정확도: 0.95050\n",
      "과대 적합 경고 횟수: 4\n",
      "epoch: 143, 학습 정확도: 0.98218, 검증 정확도: 0.94990\n",
      "과대 적합 경고 횟수: 5\n",
      "epoch: 144, 학습 정확도: 0.98176, 검증 정확도: 0.95010\n",
      "epoch: 145, 학습 정확도: 0.98270, 검증 정확도: 0.95150\n",
      "epoch: 146, 학습 정확도: 0.98102, 검증 정확도: 0.94980\n",
      "epoch: 147, 학습 정확도: 0.98040, 검증 정확도: 0.94840\n",
      "epoch: 148, 학습 정확도: 0.97816, 검증 정확도: 0.94710\n",
      "epoch: 149, 학습 정확도: 0.98070, 검증 정확도: 0.94910\n",
      "과대 적합 경고 횟수: 1\n",
      "epoch: 150, 학습 정확도: 0.98088, 검증 정확도: 0.94870\n",
      "과대 적합 경고 횟수: 2\n",
      "epoch: 151, 학습 정확도: 0.97972, 검증 정확도: 0.95050\n",
      "epoch: 152, 학습 정확도: 0.97970, 검증 정확도: 0.94990\n",
      "epoch: 153, 학습 정확도: 0.98062, 검증 정확도: 0.94890\n",
      "과대 적합 경고 횟수: 1\n",
      "epoch: 154, 학습 정확도: 0.97954, 검증 정확도: 0.94840\n",
      "epoch: 155, 학습 정확도: 0.98096, 검증 정확도: 0.94830\n",
      "과대 적합 경고 횟수: 1\n",
      "epoch: 156, 학습 정확도: 0.97872, 검증 정확도: 0.94740\n",
      "epoch: 157, 학습 정확도: 0.98170, 검증 정확도: 0.94970\n",
      "과대 적합 경고 횟수: 1\n",
      "epoch: 158, 학습 정확도: 0.98028, 검증 정확도: 0.94890\n",
      "epoch: 159, 학습 정확도: 0.98396, 검증 정확도: 0.95050\n",
      "과대 적합 경고 횟수: 1\n",
      "epoch: 160, 학습 정확도: 0.98332, 검증 정확도: 0.95150\n",
      "epoch: 161, 학습 정확도: 0.98148, 검증 정확도: 0.95030\n",
      "epoch: 162, 학습 정확도: 0.98034, 검증 정확도: 0.95090\n",
      "epoch: 163, 학습 정확도: 0.97976, 검증 정확도: 0.94790\n",
      "epoch: 164, 학습 정확도: 0.98252, 검증 정확도: 0.95110\n",
      "과대 적합 경고 횟수: 1\n",
      "epoch: 165, 학습 정확도: 0.98084, 검증 정확도: 0.95170\n",
      "epoch: 166, 학습 정확도: 0.97714, 검증 정확도: 0.94720\n",
      "epoch: 167, 학습 정확도: 0.97986, 검증 정확도: 0.94950\n",
      "과대 적합 경고 횟수: 1\n"
     ]
    },
    {
     "name": "stdout",
     "output_type": "stream",
     "text": [
      "epoch: 168, 학습 정확도: 0.98406, 검증 정확도: 0.95410\n",
      "epoch: 169, 학습 정확도: 0.98502, 검증 정확도: 0.95370\n",
      "과대 적합 경고 횟수: 1\n",
      "epoch: 170, 학습 정확도: 0.98508, 검증 정확도: 0.95350\n",
      "과대 적합 경고 횟수: 2\n",
      "epoch: 171, 학습 정확도: 0.98604, 검증 정확도: 0.95340\n",
      "과대 적합 경고 횟수: 3\n",
      "epoch: 172, 학습 정확도: 0.98388, 검증 정확도: 0.95030\n",
      "epoch: 173, 학습 정확도: 0.98478, 검증 정확도: 0.95010\n",
      "과대 적합 경고 횟수: 1\n",
      "epoch: 174, 학습 정확도: 0.98586, 검증 정확도: 0.95110\n",
      "과대 적합 경고 횟수: 2\n",
      "epoch: 175, 학습 정확도: 0.98628, 검증 정확도: 0.95250\n",
      "과대 적합 경고 횟수: 3\n",
      "epoch: 176, 학습 정확도: 0.98740, 검증 정확도: 0.95380\n",
      "과대 적합 경고 횟수: 4\n",
      "epoch: 177, 학습 정확도: 0.98596, 검증 정확도: 0.95280\n",
      "epoch: 178, 학습 정확도: 0.98784, 검증 정확도: 0.95610\n",
      "epoch: 179, 학습 정확도: 0.98602, 검증 정확도: 0.95310\n",
      "epoch: 180, 학습 정확도: 0.98712, 검증 정확도: 0.95640\n",
      "epoch: 181, 학습 정확도: 0.98778, 검증 정확도: 0.95560\n",
      "과대 적합 경고 횟수: 1\n",
      "epoch: 182, 학습 정확도: 0.98838, 검증 정확도: 0.95550\n",
      "과대 적합 경고 횟수: 2\n",
      "epoch: 183, 학습 정확도: 0.98602, 검증 정확도: 0.95290\n",
      "epoch: 184, 학습 정확도: 0.98682, 검증 정확도: 0.95600\n",
      "과대 적합 경고 횟수: 1\n",
      "epoch: 185, 학습 정확도: 0.98654, 검증 정확도: 0.95540\n",
      "epoch: 186, 학습 정확도: 0.98674, 검증 정확도: 0.95690\n",
      "epoch: 187, 학습 정확도: 0.98682, 검증 정확도: 0.95590\n",
      "과대 적합 경고 횟수: 1\n",
      "epoch: 188, 학습 정확도: 0.98578, 검증 정확도: 0.95360\n",
      "epoch: 189, 학습 정확도: 0.98610, 검증 정확도: 0.95430\n",
      "과대 적합 경고 횟수: 1\n",
      "epoch: 190, 학습 정확도: 0.98842, 검증 정확도: 0.95640\n",
      "과대 적합 경고 횟수: 2\n",
      "epoch: 191, 학습 정확도: 0.98658, 검증 정확도: 0.95560\n",
      "epoch: 192, 학습 정확도: 0.98782, 검증 정확도: 0.95650\n",
      "과대 적합 경고 횟수: 1\n",
      "epoch: 193, 학습 정확도: 0.98920, 검증 정확도: 0.95810\n",
      "epoch: 194, 학습 정확도: 0.98808, 검증 정확도: 0.95820\n",
      "epoch: 195, 학습 정확도: 0.98870, 검증 정확도: 0.95630\n",
      "과대 적합 경고 횟수: 1\n",
      "epoch: 196, 학습 정확도: 0.99018, 검증 정확도: 0.95530\n",
      "과대 적합 경고 횟수: 2\n",
      "epoch: 197, 학습 정확도: 0.99066, 검증 정확도: 0.95690\n",
      "과대 적합 경고 횟수: 3\n",
      "epoch: 198, 학습 정확도: 0.99148, 검증 정확도: 0.95910\n",
      "epoch: 199, 학습 정확도: 0.99126, 검증 정확도: 0.95840\n",
      "과대 적합 경고 횟수: 1\n",
      "epoch: 200, 학습 정확도: 0.99112, 검증 정확도: 0.95780\n",
      "과대 적합 경고 횟수: 2\n",
      "epoch: 201, 학습 정확도: 0.98992, 검증 정확도: 0.95880\n",
      "epoch: 202, 학습 정확도: 0.99004, 검증 정확도: 0.95630\n",
      "과대 적합 경고 횟수: 1\n",
      "epoch: 203, 학습 정확도: 0.98988, 검증 정확도: 0.95600\n",
      "epoch: 204, 학습 정확도: 0.99218, 검증 정확도: 0.95880\n",
      "과대 적합 경고 횟수: 1\n",
      "epoch: 205, 학습 정확도: 0.99228, 검증 정확도: 0.95850\n",
      "과대 적합 경고 횟수: 2\n",
      "epoch: 206, 학습 정확도: 0.99258, 검증 정확도: 0.95910\n",
      "epoch: 207, 학습 정확도: 0.99308, 검증 정확도: 0.95990\n",
      "epoch: 208, 학습 정확도: 0.99332, 검증 정확도: 0.96040\n",
      "epoch: 209, 학습 정확도: 0.99366, 검증 정확도: 0.96050\n",
      "epoch: 210, 학습 정확도: 0.99330, 검증 정확도: 0.95990\n",
      "과대 적합 경고 횟수: 1\n",
      "epoch: 211, 학습 정확도: 0.99130, 검증 정확도: 0.95710\n",
      "과대 적합 경고 횟수: 2\n",
      "epoch: 212, 학습 정확도: 0.99118, 검증 정확도: 0.96090\n",
      "epoch: 213, 학습 정확도: 0.99364, 검증 정확도: 0.95790\n",
      "과대 적합 경고 횟수: 1\n",
      "epoch: 214, 학습 정확도: 0.99164, 검증 정확도: 0.95810\n",
      "과대 적합 경고 횟수: 2\n",
      "epoch: 215, 학습 정확도: 0.99252, 검증 정확도: 0.95830\n",
      "과대 적합 경고 횟수: 3\n",
      "epoch: 216, 학습 정확도: 0.99230, 검증 정확도: 0.95950\n",
      "과대 적합 경고 횟수: 4\n",
      "epoch: 217, 학습 정확도: 0.99416, 검증 정확도: 0.95920\n",
      "과대 적합 경고 횟수: 5\n",
      "epoch: 218, 학습 정확도: 0.99342, 검증 정확도: 0.95940\n",
      "조기 종료 시점: 218\n"
     ]
    }
   ],
   "source": [
    "with tf.Session() as sess:\n",
    "    sess.run(tf.global_variables_initializer())\n",
    "    prev_train_acc = 0.0 # 이전 학습 정확도를 기억할 변수를 선언한다.\n",
    "    max_val_acc = 0.0 # 검증 정확도의 최대값을 기억할 변수를 선언한다.\n",
    "    # 지정한 최대 epoch 만큼 학습한다. => 검증 정확도가 검증 정확도의 최대값보다 5번 연속으로 높지 않을 경우 조기 종료한다.\n",
    "    for epoch in range(epoch_cnt):\n",
    "        avg_loss = 0.0 # 손실값\n",
    "        start = 0 # 학습 시작 위치\n",
    "        end = batch_size # 학습 종료 위치\n",
    "        # 학습 데이터를 batch_size 개 만큼씩 나눠서 학습을 진행한다.\n",
    "        for i in range(iteration):\n",
    "            _, loss_op = sess.run([train, loss], feed_dict={x: x_train[start:end], y: y_train[start:end], keep_prob: 0.9})\n",
    "            # 학습할 데이터의 범위를 batch_size 만큼 이동시킨다.\n",
    "            start += batch_size\n",
    "            end += batch_size\n",
    "            # 크로스 엔트로피 손실 함수의 학습 손실을 계산한다.\n",
    "            avg_loss += loss_op / iteration\n",
    "        # ===== for i\n",
    "        \n",
    "        # 모델 검증\n",
    "        predict = tf.nn.softmax(logits=logit) # 소프트 맥스 적용\n",
    "        correct_prediction = tf.equal(tf.argmax(predict, 1), tf.argmax(y, 1))\n",
    "        \n",
    "        # 정확도 계산\n",
    "        accuracy = tf.reduce_mean(tf.cast(correct_prediction, 'float'))\n",
    "        # 학습 정확도 계산\n",
    "        # Session.run()과 Tensor.eval()의 차이\n",
    "        # t가 Tensor 오브젝트라면 t.eval()은 sess.run(t)의 속기 표현이다. sess가 현재 디폴트 세션인 곳에서만 가능하다.\n",
    "        cur_train_acc = accuracy.eval({x: x_train, y: y_train, keep_prob: 1.0})\n",
    "        # 검증 정확도 계산\n",
    "        cur_val_acc = accuracy.eval({x: x_val, y: y_val, keep_prob: 1.0})\n",
    "        # 학습 정확도와 검증 정확도를 출력한다.\n",
    "        print('epoch: {:3d}, 학습 정확도: {:7.5f}, 검증 정확도: {:7.5f}'.format(epoch, cur_train_acc, cur_val_acc))\n",
    "        \n",
    "        # 최대 검증 정확도와 현재 검증 정확도를 비교한다.\n",
    "        if cur_val_acc < max_val_acc:\n",
    "            # 현재 검증 정확도가 검증 정확도의 최대값 미만이면\n",
    "            # 현재 학습 정확도와 이전 학습 정확도, 현재 학습 정확도와 0.99를 비교한다.\n",
    "            if cur_train_acc > prev_train_acc or cur_train_acc > 0.99:\n",
    "                # 현재 학습 정확도가 이전 학습 정확도 보다 크거나 현재 학습 정확도가 0.99 보다 크면\n",
    "                if earlystop_cnt == earlystop_threshold:\n",
    "                    print('조기 종료 시점: {}'.format(epoch))\n",
    "                    break\n",
    "                else:\n",
    "                    # 5번 연속으로 현재 학습 정확도가 이전 학습 정확도 보다 크지 않다면 이전 학습 정확도가 현재 학습 정확도 보다\n",
    "                    # 크므로 현재 검증 정확도가 검증 정확도의 최대값보다 연속으로 높지 않은 횟수를 카운트 하는 변수 earlystop_cnt를\n",
    "                    # 1증가 시킨다.\n",
    "                    earlystop_cnt += 1\n",
    "                    print('과대 적합 경고 횟수: {}'.format(earlystop_cnt))\n",
    "                # ===== if earlystop_cnt\n",
    "            else:\n",
    "                # 현재 학습 정확도가 이전 학습 정확도 이하이거나 현재 학습 정확도가 0.99 이하이면\n",
    "                # 이전 학습 정확도가 현재 학습 정확도 이상이므로 현재 검증 정호가도가 검증 정확도의 최대값보다 연속으로\n",
    "                # 높지 않은 횟수를 카운트 하는 변수를 0으로 초기화 시킨다.\n",
    "                earlystop_cnt = 0\n",
    "            # ===== if cur_train_acc\n",
    "        else:\n",
    "            # 현재 검증 정확도가 검증 정확도의 최대값 이상이면\n",
    "            # 현재 검증 정확도가 검증 정확도의 최대값 보다 연속으로 높지 않은 횟수를 기억하는 변수 earlystop_cnt를\n",
    "            # 0으로 초기화시키고 검증 정확도의 최대값을 현재 검증 정확도로 교체한다.\n",
    "            earlystop_cnt = 0\n",
    "            max_val_acc = cur_val_acc\n",
    "            # 검증 정확도가 가장 높은 모델을 저장한다.\n",
    "            save_path = saver.save(sess, './model/model.ckpt')\n",
    "        # ===== if cur_val_acc\n",
    "        # 다음 epoch를 위해 현재 학습 정확도를 이전 학습 정확도를 기억하는 변수에 넣어준다.\n",
    "        prev_train_acc = cur_train_acc\n",
    "    # ===== for epoch\n",
    "# ===== with"
   ]
  },
  {
   "cell_type": "markdown",
   "id": "3bffc7a0",
   "metadata": {},
   "source": [
    "검증 결과가 가장 높았던 모델을 불러온다."
   ]
  },
  {
   "cell_type": "code",
   "execution_count": 17,
   "id": "16bb2717",
   "metadata": {},
   "outputs": [
    {
     "name": "stdout",
     "output_type": "stream",
     "text": [
      "INFO:tensorflow:Restoring parameters from ./model/model.ckpt\n",
      "학습 정확도: 0.99118\n"
     ]
    }
   ],
   "source": [
    "with tf.Session() as sess:\n",
    "    saver.restore(sess, './model/model.ckpt')\n",
    "    correct_prediction = tf.equal(tf.argmax(predict, 1), tf.argmax(y, 1))\n",
    "    accuracy = tf.reduce_mean(tf.cast(correct_prediction, 'float'))\n",
    "    print('학습 정확도: {:7.5f}'.format(accuracy.eval({x: x_train, y: y_train, keep_prob: 1.0})))"
   ]
  },
  {
   "cell_type": "code",
   "execution_count": null,
   "id": "475c24d7",
   "metadata": {},
   "outputs": [],
   "source": []
  },
  {
   "cell_type": "code",
   "execution_count": null,
   "id": "17572265",
   "metadata": {},
   "outputs": [],
   "source": []
  },
  {
   "cell_type": "code",
   "execution_count": null,
   "id": "d5359def",
   "metadata": {},
   "outputs": [],
   "source": []
  },
  {
   "cell_type": "code",
   "execution_count": null,
   "id": "87c560fa",
   "metadata": {},
   "outputs": [],
   "source": []
  },
  {
   "cell_type": "code",
   "execution_count": null,
   "id": "a97d250d",
   "metadata": {},
   "outputs": [],
   "source": []
  },
  {
   "cell_type": "code",
   "execution_count": null,
   "id": "5af06256",
   "metadata": {},
   "outputs": [],
   "source": []
  },
  {
   "cell_type": "code",
   "execution_count": null,
   "id": "78ba792e",
   "metadata": {},
   "outputs": [],
   "source": []
  },
  {
   "cell_type": "code",
   "execution_count": null,
   "id": "d7685330",
   "metadata": {},
   "outputs": [],
   "source": []
  }
 ],
 "metadata": {
  "kernelspec": {
   "display_name": "Python 3",
   "language": "python",
   "name": "python3"
  },
  "language_info": {
   "codemirror_mode": {
    "name": "ipython",
    "version": 3
   },
   "file_extension": ".py",
   "mimetype": "text/x-python",
   "name": "python",
   "nbconvert_exporter": "python",
   "pygments_lexer": "ipython3",
   "version": "3.6.8"
  }
 },
 "nbformat": 4,
 "nbformat_minor": 5
}
