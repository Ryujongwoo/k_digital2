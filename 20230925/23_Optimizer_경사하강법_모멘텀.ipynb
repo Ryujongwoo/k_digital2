{
 "cells": [
  {
   "cell_type": "code",
   "execution_count": 1,
   "id": "927648af",
   "metadata": {},
   "outputs": [],
   "source": [
    "import numpy as np\n",
    "import matplotlib.pyplot as plt"
   ]
  },
  {
   "cell_type": "markdown",
   "id": "abcd78f6",
   "metadata": {},
   "source": [
    "미분(Differential) 함수 정의: Δx → 0  \n",
    "diff1(미분할 함수, 미분할 값, Δx)\n",
    "\n",
    "<img src=\"./images/differential1.png\" align=\"left\" width=\"300\"/>"
   ]
  },
  {
   "cell_type": "code",
   "execution_count": 2,
   "id": "c634cc70",
   "metadata": {},
   "outputs": [],
   "source": [
    "def diff1(f, x, h=1e-6):\n",
    "    return (f(x + h) - f(x)) / h"
   ]
  },
  {
   "cell_type": "markdown",
   "id": "f4282fec",
   "metadata": {},
   "source": [
    "미분(Differential) 함수 정의: 대칭 파생(Symmetric derivative)  \n",
    "diff2(미분할 함수, 미분할 값, Δx)\n",
    "\n",
    "<img src=\"./images/differential2.png\" align=\"left\" width=\"300\"/>"
   ]
  },
  {
   "cell_type": "code",
   "execution_count": 3,
   "id": "663a9cf1",
   "metadata": {},
   "outputs": [],
   "source": [
    "def diff2(f, x, h=1e-6):\n",
    "    return (f(x + h) - f(x - h)) / (2 * h)"
   ]
  },
  {
   "cell_type": "markdown",
   "id": "510086f9",
   "metadata": {},
   "source": [
    "미분 함수 실행"
   ]
  },
  {
   "cell_type": "code",
   "execution_count": 4,
   "id": "59e81b5f",
   "metadata": {},
   "outputs": [
    {
     "name": "stdout",
     "output_type": "stream",
     "text": [
      "2.0000009999243673\n",
      "2.000000000002\n"
     ]
    }
   ],
   "source": [
    "def f1(x):\n",
    "    return x ** 2\n",
    "print(diff1(f1, 1))\n",
    "print(diff2(f1, 1))"
   ]
  },
  {
   "cell_type": "code",
   "execution_count": 5,
   "id": "f45ee0c1",
   "metadata": {},
   "outputs": [
    {
     "name": "stdout",
     "output_type": "stream",
     "text": [
      "2.0000009999243673\n",
      "2.000000000002\n"
     ]
    }
   ],
   "source": [
    "f2 = lambda x: x ** 2\n",
    "print(diff1(f2, 1))\n",
    "print(diff2(f2, 1))"
   ]
  },
  {
   "cell_type": "markdown",
   "id": "8a5a4a37",
   "metadata": {},
   "source": [
    "경사하강(강하)법"
   ]
  },
  {
   "cell_type": "code",
   "execution_count": 6,
   "id": "5badd435",
   "metadata": {},
   "outputs": [],
   "source": [
    "# 경사하강법 클래스, 옵티마이저\n",
    "class descent:\n",
    "    def __init__(self, lr, h=1e-6):\n",
    "        self.lr = lr # 학습율\n",
    "        self.h = h # 수치 미분을 위해 지정하는 값으로 작을수록 더 정교하게 미분을 실행한다.\n",
    "        \n",
    "    def n_D(self, f, x): # 미분 함수\n",
    "        return (f(x + self.h) - f(x - self.h)) / (2 * self.h)\n",
    "    \n",
    "    def update(self, f, x): # 경사하강법 업데이트 함수\n",
    "        df = self.n_D(f, x)\n",
    "        return x - self.lr * df\n",
    "    \n",
    "    def __str__(self):\n",
    "        return '경사하강법(학습율 = {})'.format(self.lr)"
   ]
  },
  {
   "cell_type": "code",
   "execution_count": 7,
   "id": "cced2b7a",
   "metadata": {},
   "outputs": [],
   "source": [
    "# 경사하강법 시각화 클래스\n",
    "class one_variable_ftn:\n",
    "    def __init__(self, ftn, opti):\n",
    "        self.ftn = ftn # 최적화하려는 함수\n",
    "        self.opti = opti # 옵티마이저\n",
    "        \n",
    "    def run(self, x, iteration): # 경사하강법 실행 함수\n",
    "        self.xs = [x]\n",
    "        for i in range(iteration):\n",
    "            self.xs.append(self.opti.update(self.ftn, self.xs[-1]))\n",
    "        print('{}에서 시작해서 {}번 {}을(를) 적용한 결과는 {:5.3f}입니다.'.format(x, iteration, self.opti, self.xs[-1]))\n",
    "        \n",
    "    def visualize(self, xi, xe): # 시각화 함수\n",
    "        x = np.linspace(xi, xe, int((xe - xi) * 100))\n",
    "        y = [self.ftn(xx) for xx in x]\n",
    "        plt.plot(x, y, 'k-') # 2차원 곡선\n",
    "        ys = [self.ftn(xx) for xx in self.xs]\n",
    "        plt.plot(self.xs, ys, 'r*') # 경사하강법으로 이동하는 위치\n",
    "        plt.show()\n",
    "        \n",
    "    def history(self):\n",
    "        for i, x in enumerate(self.xs):\n",
    "            print('{:3d}번 {}을(를) 적용한 결과는 {:5.3f}입니다.'.format(i + 1, self.opti, x))"
   ]
  },
  {
   "cell_type": "code",
   "execution_count": 8,
   "id": "00c1f280",
   "metadata": {},
   "outputs": [
    {
     "name": "stdout",
     "output_type": "stream",
     "text": [
      "경사하강법(학습율 = 0.01)\n"
     ]
    }
   ],
   "source": [
    "# 경사하강법 실행\n",
    "opti1 = descent(0.01) # 경사하강법(옵티마이저) 클래스 객체 생성\n",
    "print(opti1)\n",
    "f1 = lambda x: x ** 2 # 미분할 함수\n",
    "ex1 = one_variable_ftn(f1, opti1) # 경사하강법을 적용한 결과를 시각화하는 클래스 객체 생성"
   ]
  },
  {
   "cell_type": "code",
   "execution_count": 9,
   "id": "ad5531ac",
   "metadata": {},
   "outputs": [
    {
     "name": "stdout",
     "output_type": "stream",
     "text": [
      "2에서 시작해서 100번 경사하강법(학습율 = 0.01)을(를) 적용한 결과는 0.265입니다.\n"
     ]
    }
   ],
   "source": [
    "ex1.run(2, 100) # 경사하강법 실행, 2에서 출발해서 100번 최적화 적용"
   ]
  },
  {
   "cell_type": "code",
   "execution_count": 10,
   "id": "143e5cd8",
   "metadata": {},
   "outputs": [
    {
     "data": {
      "image/png": "[encoded data removed]",
      "text/plain": [
       "<Figure size 432x288 with 1 Axes>"
      ]
     },
     "metadata": {
      "needs_background": "light"
     },
     "output_type": "display_data"
    }
   ],
   "source": [
    "ex1.visualize(-1, 2.5) # 경사하강법 실행 결과 시각화"
   ]
  },
  {
   "cell_type": "code",
   "execution_count": 11,
   "id": "bbdfeaa1",
   "metadata": {},
   "outputs": [
    {
     "name": "stdout",
     "output_type": "stream",
     "text": [
      "  1번 경사하강법(학습율 = 0.01)을(를) 적용한 결과는 2.000입니다.\n",
      "  2번 경사하강법(학습율 = 0.01)을(를) 적용한 결과는 1.960입니다.\n",
      "  3번 경사하강법(학습율 = 0.01)을(를) 적용한 결과는 1.921입니다.\n",
      "  4번 경사하강법(학습율 = 0.01)을(를) 적용한 결과는 1.882입니다.\n",
      "  5번 경사하강법(학습율 = 0.01)을(를) 적용한 결과는 1.845입니다.\n",
      "  6번 경사하강법(학습율 = 0.01)을(를) 적용한 결과는 1.808입니다.\n",
      "  7번 경사하강법(학습율 = 0.01)을(를) 적용한 결과는 1.772입니다.\n",
      "  8번 경사하강법(학습율 = 0.01)을(를) 적용한 결과는 1.736입니다.\n",
      "  9번 경사하강법(학습율 = 0.01)을(를) 적용한 결과는 1.702입니다.\n",
      " 10번 경사하강법(학습율 = 0.01)을(를) 적용한 결과는 1.667입니다.\n",
      " 11번 경사하강법(학습율 = 0.01)을(를) 적용한 결과는 1.634입니다.\n",
      " 12번 경사하강법(학습율 = 0.01)을(를) 적용한 결과는 1.601입니다.\n",
      " 13번 경사하강법(학습율 = 0.01)을(를) 적용한 결과는 1.569입니다.\n",
      " 14번 경사하강법(학습율 = 0.01)을(를) 적용한 결과는 1.538입니다.\n",
      " 15번 경사하강법(학습율 = 0.01)을(를) 적용한 결과는 1.507입니다.\n",
      " 16번 경사하강법(학습율 = 0.01)을(를) 적용한 결과는 1.477입니다.\n",
      " 17번 경사하강법(학습율 = 0.01)을(를) 적용한 결과는 1.448입니다.\n",
      " 18번 경사하강법(학습율 = 0.01)을(를) 적용한 결과는 1.419입니다.\n",
      " 19번 경사하강법(학습율 = 0.01)을(를) 적용한 결과는 1.390입니다.\n",
      " 20번 경사하강법(학습율 = 0.01)을(를) 적용한 결과는 1.362입니다.\n",
      " 21번 경사하강법(학습율 = 0.01)을(를) 적용한 결과는 1.335입니다.\n",
      " 22번 경사하강법(학습율 = 0.01)을(를) 적용한 결과는 1.309입니다.\n",
      " 23번 경사하강법(학습율 = 0.01)을(를) 적용한 결과는 1.282입니다.\n",
      " 24번 경사하강법(학습율 = 0.01)을(를) 적용한 결과는 1.257입니다.\n",
      " 25번 경사하강법(학습율 = 0.01)을(를) 적용한 결과는 1.232입니다.\n",
      " 26번 경사하강법(학습율 = 0.01)을(를) 적용한 결과는 1.207입니다.\n",
      " 27번 경사하강법(학습율 = 0.01)을(를) 적용한 결과는 1.183입니다.\n",
      " 28번 경사하강법(학습율 = 0.01)을(를) 적용한 결과는 1.159입니다.\n",
      " 29번 경사하강법(학습율 = 0.01)을(를) 적용한 결과는 1.136입니다.\n",
      " 30번 경사하강법(학습율 = 0.01)을(를) 적용한 결과는 1.113입니다.\n",
      " 31번 경사하강법(학습율 = 0.01)을(를) 적용한 결과는 1.091입니다.\n",
      " 32번 경사하강법(학습율 = 0.01)을(를) 적용한 결과는 1.069입니다.\n",
      " 33번 경사하강법(학습율 = 0.01)을(를) 적용한 결과는 1.048입니다.\n",
      " 34번 경사하강법(학습율 = 0.01)을(를) 적용한 결과는 1.027입니다.\n",
      " 35번 경사하강법(학습율 = 0.01)을(를) 적용한 결과는 1.006입니다.\n",
      " 36번 경사하강법(학습율 = 0.01)을(를) 적용한 결과는 0.986입니다.\n",
      " 37번 경사하강법(학습율 = 0.01)을(를) 적용한 결과는 0.966입니다.\n",
      " 38번 경사하강법(학습율 = 0.01)을(를) 적용한 결과는 0.947입니다.\n",
      " 39번 경사하강법(학습율 = 0.01)을(를) 적용한 결과는 0.928입니다.\n",
      " 40번 경사하강법(학습율 = 0.01)을(를) 적용한 결과는 0.910입니다.\n",
      " 41번 경사하강법(학습율 = 0.01)을(를) 적용한 결과는 0.891입니다.\n",
      " 42번 경사하강법(학습율 = 0.01)을(를) 적용한 결과는 0.874입니다.\n",
      " 43번 경사하강법(학습율 = 0.01)을(를) 적용한 결과는 0.856입니다.\n",
      " 44번 경사하강법(학습율 = 0.01)을(를) 적용한 결과는 0.839입니다.\n",
      " 45번 경사하강법(학습율 = 0.01)을(를) 적용한 결과는 0.822입니다.\n",
      " 46번 경사하강법(학습율 = 0.01)을(를) 적용한 결과는 0.806입니다.\n",
      " 47번 경사하강법(학습율 = 0.01)을(를) 적용한 결과는 0.790입니다.\n",
      " 48번 경사하강법(학습율 = 0.01)을(를) 적용한 결과는 0.774입니다.\n",
      " 49번 경사하강법(학습율 = 0.01)을(를) 적용한 결과는 0.758입니다.\n",
      " 50번 경사하강법(학습율 = 0.01)을(를) 적용한 결과는 0.743입니다.\n",
      " 51번 경사하강법(학습율 = 0.01)을(를) 적용한 결과는 0.728입니다.\n",
      " 52번 경사하강법(학습율 = 0.01)을(를) 적용한 결과는 0.714입니다.\n",
      " 53번 경사하강법(학습율 = 0.01)을(를) 적용한 결과는 0.699입니다.\n",
      " 54번 경사하강법(학습율 = 0.01)을(를) 적용한 결과는 0.686입니다.\n",
      " 55번 경사하강법(학습율 = 0.01)을(를) 적용한 결과는 0.672입니다.\n",
      " 56번 경사하강법(학습율 = 0.01)을(를) 적용한 결과는 0.658입니다.\n",
      " 57번 경사하강법(학습율 = 0.01)을(를) 적용한 결과는 0.645입니다.\n",
      " 58번 경사하강법(학습율 = 0.01)을(를) 적용한 결과는 0.632입니다.\n",
      " 59번 경사하강법(학습율 = 0.01)을(를) 적용한 결과는 0.620입니다.\n",
      " 60번 경사하강법(학습율 = 0.01)을(를) 적용한 결과는 0.607입니다.\n",
      " 61번 경사하강법(학습율 = 0.01)을(를) 적용한 결과는 0.595입니다.\n",
      " 62번 경사하강법(학습율 = 0.01)을(를) 적용한 결과는 0.583입니다.\n",
      " 63번 경사하강법(학습율 = 0.01)을(를) 적용한 결과는 0.572입니다.\n",
      " 64번 경사하강법(학습율 = 0.01)을(를) 적용한 결과는 0.560입니다.\n",
      " 65번 경사하강법(학습율 = 0.01)을(를) 적용한 결과는 0.549입니다.\n",
      " 66번 경사하강법(학습율 = 0.01)을(를) 적용한 결과는 0.538입니다.\n",
      " 67번 경사하강법(학습율 = 0.01)을(를) 적용한 결과는 0.527입니다.\n",
      " 68번 경사하강법(학습율 = 0.01)을(를) 적용한 결과는 0.517입니다.\n",
      " 69번 경사하강법(학습율 = 0.01)을(를) 적용한 결과는 0.506입니다.\n",
      " 70번 경사하강법(학습율 = 0.01)을(를) 적용한 결과는 0.496입니다.\n",
      " 71번 경사하강법(학습율 = 0.01)을(를) 적용한 결과는 0.486입니다.\n",
      " 72번 경사하강법(학습율 = 0.01)을(를) 적용한 결과는 0.477입니다.\n",
      " 73번 경사하강법(학습율 = 0.01)을(를) 적용한 결과는 0.467입니다.\n",
      " 74번 경사하강법(학습율 = 0.01)을(를) 적용한 결과는 0.458입니다.\n",
      " 75번 경사하강법(학습율 = 0.01)을(를) 적용한 결과는 0.448입니다.\n",
      " 76번 경사하강법(학습율 = 0.01)을(를) 적용한 결과는 0.440입니다.\n",
      " 77번 경사하강법(학습율 = 0.01)을(를) 적용한 결과는 0.431입니다.\n",
      " 78번 경사하강법(학습율 = 0.01)을(를) 적용한 결과는 0.422입니다.\n",
      " 79번 경사하강법(학습율 = 0.01)을(를) 적용한 결과는 0.414입니다.\n",
      " 80번 경사하강법(학습율 = 0.01)을(를) 적용한 결과는 0.405입니다.\n",
      " 81번 경사하강법(학습율 = 0.01)을(를) 적용한 결과는 0.397입니다.\n",
      " 82번 경사하강법(학습율 = 0.01)을(를) 적용한 결과는 0.389입니다.\n",
      " 83번 경사하강법(학습율 = 0.01)을(를) 적용한 결과는 0.382입니다.\n",
      " 84번 경사하강법(학습율 = 0.01)을(를) 적용한 결과는 0.374입니다.\n",
      " 85번 경사하강법(학습율 = 0.01)을(를) 적용한 결과는 0.366입니다.\n",
      " 86번 경사하강법(학습율 = 0.01)을(를) 적용한 결과는 0.359입니다.\n",
      " 87번 경사하강법(학습율 = 0.01)을(를) 적용한 결과는 0.352입니다.\n",
      " 88번 경사하강법(학습율 = 0.01)을(를) 적용한 결과는 0.345입니다.\n",
      " 89번 경사하강법(학습율 = 0.01)을(를) 적용한 결과는 0.338입니다.\n",
      " 90번 경사하강법(학습율 = 0.01)을(를) 적용한 결과는 0.331입니다.\n",
      " 91번 경사하강법(학습율 = 0.01)을(를) 적용한 결과는 0.325입니다.\n",
      " 92번 경사하강법(학습율 = 0.01)을(를) 적용한 결과는 0.318입니다.\n",
      " 93번 경사하강법(학습율 = 0.01)을(를) 적용한 결과는 0.312입니다.\n",
      " 94번 경사하강법(학습율 = 0.01)을(를) 적용한 결과는 0.306입니다.\n",
      " 95번 경사하강법(학습율 = 0.01)을(를) 적용한 결과는 0.299입니다.\n",
      " 96번 경사하강법(학습율 = 0.01)을(를) 적용한 결과는 0.293입니다.\n",
      " 97번 경사하강법(학습율 = 0.01)을(를) 적용한 결과는 0.288입니다.\n",
      " 98번 경사하강법(학습율 = 0.01)을(를) 적용한 결과는 0.282입니다.\n",
      " 99번 경사하강법(학습율 = 0.01)을(를) 적용한 결과는 0.276입니다.\n",
      "100번 경사하강법(학습율 = 0.01)을(를) 적용한 결과는 0.271입니다.\n",
      "101번 경사하강법(학습율 = 0.01)을(를) 적용한 결과는 0.265입니다.\n"
     ]
    }
   ],
   "source": [
    "ex1.history()"
   ]
  },
  {
   "cell_type": "code",
   "execution_count": 12,
   "id": "32b2123e",
   "metadata": {},
   "outputs": [
    {
     "name": "stdout",
     "output_type": "stream",
     "text": [
      "2에서 시작해서 100번 경사하강법(학습율 = 0.1)을(를) 적용한 결과는 0.000입니다.\n"
     ]
    },
    {
     "data": {
      "image/png": "[encoded data removed]",
      "text/plain": [
       "<Figure size 432x288 with 1 Axes>"
      ]
     },
     "metadata": {
      "needs_background": "light"
     },
     "output_type": "display_data"
    },
    {
     "name": "stdout",
     "output_type": "stream",
     "text": [
      "  1번 경사하강법(학습율 = 0.1)을(를) 적용한 결과는 2.000입니다.\n",
      "  2번 경사하강법(학습율 = 0.1)을(를) 적용한 결과는 1.600입니다.\n",
      "  3번 경사하강법(학습율 = 0.1)을(를) 적용한 결과는 1.280입니다.\n",
      "  4번 경사하강법(학습율 = 0.1)을(를) 적용한 결과는 1.024입니다.\n",
      "  5번 경사하강법(학습율 = 0.1)을(를) 적용한 결과는 0.819입니다.\n",
      "  6번 경사하강법(학습율 = 0.1)을(를) 적용한 결과는 0.655입니다.\n",
      "  7번 경사하강법(학습율 = 0.1)을(를) 적용한 결과는 0.524입니다.\n",
      "  8번 경사하강법(학습율 = 0.1)을(를) 적용한 결과는 0.419입니다.\n",
      "  9번 경사하강법(학습율 = 0.1)을(를) 적용한 결과는 0.336입니다.\n",
      " 10번 경사하강법(학습율 = 0.1)을(를) 적용한 결과는 0.268입니다.\n",
      " 11번 경사하강법(학습율 = 0.1)을(를) 적용한 결과는 0.215입니다.\n",
      " 12번 경사하강법(학습율 = 0.1)을(를) 적용한 결과는 0.172입니다.\n",
      " 13번 경사하강법(학습율 = 0.1)을(를) 적용한 결과는 0.137입니다.\n",
      " 14번 경사하강법(학습율 = 0.1)을(를) 적용한 결과는 0.110입니다.\n",
      " 15번 경사하강법(학습율 = 0.1)을(를) 적용한 결과는 0.088입니다.\n",
      " 16번 경사하강법(학습율 = 0.1)을(를) 적용한 결과는 0.070입니다.\n",
      " 17번 경사하강법(학습율 = 0.1)을(를) 적용한 결과는 0.056입니다.\n",
      " 18번 경사하강법(학습율 = 0.1)을(를) 적용한 결과는 0.045입니다.\n",
      " 19번 경사하강법(학습율 = 0.1)을(를) 적용한 결과는 0.036입니다.\n",
      " 20번 경사하강법(학습율 = 0.1)을(를) 적용한 결과는 0.029입니다.\n",
      " 21번 경사하강법(학습율 = 0.1)을(를) 적용한 결과는 0.023입니다.\n",
      " 22번 경사하강법(학습율 = 0.1)을(를) 적용한 결과는 0.018입니다.\n",
      " 23번 경사하강법(학습율 = 0.1)을(를) 적용한 결과는 0.015입니다.\n",
      " 24번 경사하강법(학습율 = 0.1)을(를) 적용한 결과는 0.012입니다.\n",
      " 25번 경사하강법(학습율 = 0.1)을(를) 적용한 결과는 0.009입니다.\n",
      " 26번 경사하강법(학습율 = 0.1)을(를) 적용한 결과는 0.008입니다.\n",
      " 27번 경사하강법(학습율 = 0.1)을(를) 적용한 결과는 0.006입니다.\n",
      " 28번 경사하강법(학습율 = 0.1)을(를) 적용한 결과는 0.005입니다.\n",
      " 29번 경사하강법(학습율 = 0.1)을(를) 적용한 결과는 0.004입니다.\n",
      " 30번 경사하강법(학습율 = 0.1)을(를) 적용한 결과는 0.003입니다.\n",
      " 31번 경사하강법(학습율 = 0.1)을(를) 적용한 결과는 0.002입니다.\n",
      " 32번 경사하강법(학습율 = 0.1)을(를) 적용한 결과는 0.002입니다.\n",
      " 33번 경사하강법(학습율 = 0.1)을(를) 적용한 결과는 0.002입니다.\n",
      " 34번 경사하강법(학습율 = 0.1)을(를) 적용한 결과는 0.001입니다.\n",
      " 35번 경사하강법(학습율 = 0.1)을(를) 적용한 결과는 0.001입니다.\n",
      " 36번 경사하강법(학습율 = 0.1)을(를) 적용한 결과는 0.001입니다.\n",
      " 37번 경사하강법(학습율 = 0.1)을(를) 적용한 결과는 0.001입니다.\n",
      " 38번 경사하강법(학습율 = 0.1)을(를) 적용한 결과는 0.001입니다.\n",
      " 39번 경사하강법(학습율 = 0.1)을(를) 적용한 결과는 0.000입니다.\n",
      " 40번 경사하강법(학습율 = 0.1)을(를) 적용한 결과는 0.000입니다.\n",
      " 41번 경사하강법(학습율 = 0.1)을(를) 적용한 결과는 0.000입니다.\n",
      " 42번 경사하강법(학습율 = 0.1)을(를) 적용한 결과는 0.000입니다.\n",
      " 43번 경사하강법(학습율 = 0.1)을(를) 적용한 결과는 0.000입니다.\n",
      " 44번 경사하강법(학습율 = 0.1)을(를) 적용한 결과는 0.000입니다.\n",
      " 45번 경사하강법(학습율 = 0.1)을(를) 적용한 결과는 0.000입니다.\n",
      " 46번 경사하강법(학습율 = 0.1)을(를) 적용한 결과는 0.000입니다.\n",
      " 47번 경사하강법(학습율 = 0.1)을(를) 적용한 결과는 0.000입니다.\n",
      " 48번 경사하강법(학습율 = 0.1)을(를) 적용한 결과는 0.000입니다.\n",
      " 49번 경사하강법(학습율 = 0.1)을(를) 적용한 결과는 0.000입니다.\n",
      " 50번 경사하강법(학습율 = 0.1)을(를) 적용한 결과는 0.000입니다.\n",
      " 51번 경사하강법(학습율 = 0.1)을(를) 적용한 결과는 0.000입니다.\n",
      " 52번 경사하강법(학습율 = 0.1)을(를) 적용한 결과는 0.000입니다.\n",
      " 53번 경사하강법(학습율 = 0.1)을(를) 적용한 결과는 0.000입니다.\n",
      " 54번 경사하강법(학습율 = 0.1)을(를) 적용한 결과는 0.000입니다.\n",
      " 55번 경사하강법(학습율 = 0.1)을(를) 적용한 결과는 0.000입니다.\n",
      " 56번 경사하강법(학습율 = 0.1)을(를) 적용한 결과는 0.000입니다.\n",
      " 57번 경사하강법(학습율 = 0.1)을(를) 적용한 결과는 0.000입니다.\n",
      " 58번 경사하강법(학습율 = 0.1)을(를) 적용한 결과는 0.000입니다.\n",
      " 59번 경사하강법(학습율 = 0.1)을(를) 적용한 결과는 0.000입니다.\n",
      " 60번 경사하강법(학습율 = 0.1)을(를) 적용한 결과는 0.000입니다.\n",
      " 61번 경사하강법(학습율 = 0.1)을(를) 적용한 결과는 0.000입니다.\n",
      " 62번 경사하강법(학습율 = 0.1)을(를) 적용한 결과는 0.000입니다.\n",
      " 63번 경사하강법(학습율 = 0.1)을(를) 적용한 결과는 0.000입니다.\n",
      " 64번 경사하강법(학습율 = 0.1)을(를) 적용한 결과는 0.000입니다.\n",
      " 65번 경사하강법(학습율 = 0.1)을(를) 적용한 결과는 0.000입니다.\n",
      " 66번 경사하강법(학습율 = 0.1)을(를) 적용한 결과는 0.000입니다.\n",
      " 67번 경사하강법(학습율 = 0.1)을(를) 적용한 결과는 0.000입니다.\n",
      " 68번 경사하강법(학습율 = 0.1)을(를) 적용한 결과는 0.000입니다.\n",
      " 69번 경사하강법(학습율 = 0.1)을(를) 적용한 결과는 0.000입니다.\n",
      " 70번 경사하강법(학습율 = 0.1)을(를) 적용한 결과는 0.000입니다.\n",
      " 71번 경사하강법(학습율 = 0.1)을(를) 적용한 결과는 0.000입니다.\n",
      " 72번 경사하강법(학습율 = 0.1)을(를) 적용한 결과는 0.000입니다.\n",
      " 73번 경사하강법(학습율 = 0.1)을(를) 적용한 결과는 0.000입니다.\n",
      " 74번 경사하강법(학습율 = 0.1)을(를) 적용한 결과는 0.000입니다.\n",
      " 75번 경사하강법(학습율 = 0.1)을(를) 적용한 결과는 0.000입니다.\n",
      " 76번 경사하강법(학습율 = 0.1)을(를) 적용한 결과는 0.000입니다.\n",
      " 77번 경사하강법(학습율 = 0.1)을(를) 적용한 결과는 0.000입니다.\n",
      " 78번 경사하강법(학습율 = 0.1)을(를) 적용한 결과는 0.000입니다.\n",
      " 79번 경사하강법(학습율 = 0.1)을(를) 적용한 결과는 0.000입니다.\n",
      " 80번 경사하강법(학습율 = 0.1)을(를) 적용한 결과는 0.000입니다.\n",
      " 81번 경사하강법(학습율 = 0.1)을(를) 적용한 결과는 0.000입니다.\n",
      " 82번 경사하강법(학습율 = 0.1)을(를) 적용한 결과는 0.000입니다.\n",
      " 83번 경사하강법(학습율 = 0.1)을(를) 적용한 결과는 0.000입니다.\n",
      " 84번 경사하강법(학습율 = 0.1)을(를) 적용한 결과는 0.000입니다.\n",
      " 85번 경사하강법(학습율 = 0.1)을(를) 적용한 결과는 0.000입니다.\n",
      " 86번 경사하강법(학습율 = 0.1)을(를) 적용한 결과는 0.000입니다.\n",
      " 87번 경사하강법(학습율 = 0.1)을(를) 적용한 결과는 0.000입니다.\n",
      " 88번 경사하강법(학습율 = 0.1)을(를) 적용한 결과는 0.000입니다.\n",
      " 89번 경사하강법(학습율 = 0.1)을(를) 적용한 결과는 0.000입니다.\n",
      " 90번 경사하강법(학습율 = 0.1)을(를) 적용한 결과는 0.000입니다.\n",
      " 91번 경사하강법(학습율 = 0.1)을(를) 적용한 결과는 0.000입니다.\n",
      " 92번 경사하강법(학습율 = 0.1)을(를) 적용한 결과는 0.000입니다.\n",
      " 93번 경사하강법(학습율 = 0.1)을(를) 적용한 결과는 0.000입니다.\n",
      " 94번 경사하강법(학습율 = 0.1)을(를) 적용한 결과는 0.000입니다.\n",
      " 95번 경사하강법(학습율 = 0.1)을(를) 적용한 결과는 0.000입니다.\n",
      " 96번 경사하강법(학습율 = 0.1)을(를) 적용한 결과는 0.000입니다.\n",
      " 97번 경사하강법(학습율 = 0.1)을(를) 적용한 결과는 0.000입니다.\n",
      " 98번 경사하강법(학습율 = 0.1)을(를) 적용한 결과는 0.000입니다.\n",
      " 99번 경사하강법(학습율 = 0.1)을(를) 적용한 결과는 0.000입니다.\n",
      "100번 경사하강법(학습율 = 0.1)을(를) 적용한 결과는 0.000입니다.\n",
      "101번 경사하강법(학습율 = 0.1)을(를) 적용한 결과는 0.000입니다.\n"
     ]
    }
   ],
   "source": [
    "opti2 = descent(0.1) # 학습율 0.01을 0.1로 올림\n",
    "ex2 = one_variable_ftn(f1, opti2)\n",
    "ex2.run(2, 100)\n",
    "ex2.visualize(-1, 2.5)\n",
    "ex2.history()"
   ]
  },
  {
   "cell_type": "code",
   "execution_count": 13,
   "id": "6c327c35",
   "metadata": {},
   "outputs": [
    {
     "name": "stdout",
     "output_type": "stream",
     "text": [
      "2에서 시작해서 5번 경사하강법(학습율 = 1.6)을(를) 적용한 결과는 -103.073입니다.\n"
     ]
    },
    {
     "data": {
      "image/png": "[encoded data removed]",
      "text/plain": [
       "<Figure size 432x288 with 1 Axes>"
      ]
     },
     "metadata": {
      "needs_background": "light"
     },
     "output_type": "display_data"
    },
    {
     "name": "stdout",
     "output_type": "stream",
     "text": [
      "  1번 경사하강법(학습율 = 1.6)을(를) 적용한 결과는 2.000입니다.\n",
      "  2번 경사하강법(학습율 = 1.6)을(를) 적용한 결과는 -4.400입니다.\n",
      "  3번 경사하강법(학습율 = 1.6)을(를) 적용한 결과는 9.680입니다.\n",
      "  4번 경사하강법(학습율 = 1.6)을(를) 적용한 결과는 -21.296입니다.\n",
      "  5번 경사하강법(학습율 = 1.6)을(를) 적용한 결과는 46.851입니다.\n",
      "  6번 경사하강법(학습율 = 1.6)을(를) 적용한 결과는 -103.073입니다.\n"
     ]
    }
   ],
   "source": [
    "opti3 = descent(1.6) # 학습율이 너무 크다.\n",
    "ex3 = one_variable_ftn(f1, opti3)\n",
    "ex3.run(2, 5)\n",
    "ex3.visualize(-1, 2.5)\n",
    "ex3.history()"
   ]
  },
  {
   "cell_type": "code",
   "execution_count": 14,
   "id": "450a21c7",
   "metadata": {},
   "outputs": [
    {
     "name": "stdout",
     "output_type": "stream",
     "text": [
      "2에서 시작해서 100번 경사하강법(학습율 = 0.01)을(를) 적용한 결과는 0.344입니다.\n"
     ]
    },
    {
     "data": {
      "image/png": "[encoded data removed]",
      "text/plain": [
       "<Figure size 432x288 with 1 Axes>"
      ]
     },
     "metadata": {
      "needs_background": "light"
     },
     "output_type": "display_data"
    },
    {
     "name": "stdout",
     "output_type": "stream",
     "text": [
      "  1번 경사하강법(학습율 = 0.01)을(를) 적용한 결과는 2.000입니다.\n",
      "  2번 경사하강법(학습율 = 0.01)을(를) 적용한 결과는 1.680입니다.\n",
      "  3번 경사하강법(학습율 = 0.01)을(를) 적용한 결과는 1.490입니다.\n",
      "  4번 경사하강법(학습율 = 0.01)을(를) 적용한 결과는 1.358입니다.\n",
      "  5번 경사하강법(학습율 = 0.01)을(를) 적용한 결과는 1.258입니다.\n",
      "  6번 경사하강법(학습율 = 0.01)을(를) 적용한 결과는 1.178입니다.\n",
      "  7번 경사하강법(학습율 = 0.01)을(를) 적용한 결과는 1.113입니다.\n",
      "  8번 경사하강법(학습율 = 0.01)을(를) 적용한 결과는 1.058입니다.\n",
      "  9번 경사하강법(학습율 = 0.01)을(를) 적용한 결과는 1.010입니다.\n",
      " 10번 경사하강법(학습율 = 0.01)을(를) 적용한 결과는 0.969입니다.\n",
      " 11번 경사하강법(학습율 = 0.01)을(를) 적용한 결과는 0.933입니다.\n",
      " 12번 경사하강법(학습율 = 0.01)을(를) 적용한 결과는 0.900입니다.\n",
      " 13번 경사하강법(학습율 = 0.01)을(를) 적용한 결과는 0.871입니다.\n",
      " 14번 경사하강법(학습율 = 0.01)을(를) 적용한 결과는 0.845입니다.\n",
      " 15번 경사하강법(학습율 = 0.01)을(를) 적용한 결과는 0.821입니다.\n",
      " 16번 경사하강법(학습율 = 0.01)을(를) 적용한 결과는 0.798입니다.\n",
      " 17번 경사하강법(학습율 = 0.01)을(를) 적용한 결과는 0.778입니다.\n",
      " 18번 경사하강법(학습율 = 0.01)을(를) 적용한 결과는 0.759입니다.\n",
      " 19번 경사하강법(학습율 = 0.01)을(를) 적용한 결과는 0.742입니다.\n",
      " 20번 경사하강법(학습율 = 0.01)을(를) 적용한 결과는 0.725입니다.\n",
      " 21번 경사하강법(학습율 = 0.01)을(를) 적용한 결과는 0.710입니다.\n",
      " 22번 경사하강법(학습율 = 0.01)을(를) 적용한 결과는 0.696입니다.\n",
      " 23번 경사하강법(학습율 = 0.01)을(를) 적용한 결과는 0.682입니다.\n",
      " 24번 경사하강법(학습율 = 0.01)을(를) 적용한 결과는 0.670입니다.\n",
      " 25번 경사하강법(학습율 = 0.01)을(를) 적용한 결과는 0.658입니다.\n",
      " 26번 경사하강법(학습율 = 0.01)을(를) 적용한 결과는 0.646입니다.\n",
      " 27번 경사하강법(학습율 = 0.01)을(를) 적용한 결과는 0.635입니다.\n",
      " 28번 경사하강법(학습율 = 0.01)을(를) 적용한 결과는 0.625입니다.\n",
      " 29번 경사하강법(학습율 = 0.01)을(를) 적용한 결과는 0.615입니다.\n",
      " 30번 경사하강법(학습율 = 0.01)을(를) 적용한 결과는 0.606입니다.\n",
      " 31번 경사하강법(학습율 = 0.01)을(를) 적용한 결과는 0.597입니다.\n",
      " 32번 경사하강법(학습율 = 0.01)을(를) 적용한 결과는 0.589입니다.\n",
      " 33번 경사하강법(학습율 = 0.01)을(를) 적용한 결과는 0.580입니다.\n",
      " 34번 경사하강법(학습율 = 0.01)을(를) 적용한 결과는 0.573입니다.\n",
      " 35번 경사하강법(학습율 = 0.01)을(를) 적용한 결과는 0.565입니다.\n",
      " 36번 경사하강법(학습율 = 0.01)을(를) 적용한 결과는 0.558입니다.\n",
      " 37번 경사하강법(학습율 = 0.01)을(를) 적용한 결과는 0.551입니다.\n",
      " 38번 경사하강법(학습율 = 0.01)을(를) 적용한 결과는 0.544입니다.\n",
      " 39번 경사하강법(학습율 = 0.01)을(를) 적용한 결과는 0.538입니다.\n",
      " 40번 경사하강법(학습율 = 0.01)을(를) 적용한 결과는 0.532입니다.\n",
      " 41번 경사하강법(학습율 = 0.01)을(를) 적용한 결과는 0.526입니다.\n",
      " 42번 경사하강법(학습율 = 0.01)을(를) 적용한 결과는 0.520입니다.\n",
      " 43번 경사하강법(학습율 = 0.01)을(를) 적용한 결과는 0.514입니다.\n",
      " 44번 경사하강법(학습율 = 0.01)을(를) 적용한 결과는 0.509입니다.\n",
      " 45번 경사하강법(학습율 = 0.01)을(를) 적용한 결과는 0.503입니다.\n",
      " 46번 경사하강법(학습율 = 0.01)을(를) 적용한 결과는 0.498입니다.\n",
      " 47번 경사하강법(학습율 = 0.01)을(를) 적용한 결과는 0.493입니다.\n",
      " 48번 경사하강법(학습율 = 0.01)을(를) 적용한 결과는 0.489입니다.\n",
      " 49번 경사하강법(학습율 = 0.01)을(를) 적용한 결과는 0.484입니다.\n",
      " 50번 경사하강법(학습율 = 0.01)을(를) 적용한 결과는 0.479입니다.\n",
      " 51번 경사하강법(학습율 = 0.01)을(를) 적용한 결과는 0.475입니다.\n",
      " 52번 경사하강법(학습율 = 0.01)을(를) 적용한 결과는 0.471입니다.\n",
      " 53번 경사하강법(학습율 = 0.01)을(를) 적용한 결과는 0.467입니다.\n",
      " 54번 경사하강법(학습율 = 0.01)을(를) 적용한 결과는 0.462입니다.\n",
      " 55번 경사하강법(학습율 = 0.01)을(를) 적용한 결과는 0.459입니다.\n",
      " 56번 경사하강법(학습율 = 0.01)을(를) 적용한 결과는 0.455입니다.\n",
      " 57번 경사하강법(학습율 = 0.01)을(를) 적용한 결과는 0.451입니다.\n",
      " 58번 경사하강법(학습율 = 0.01)을(를) 적용한 결과는 0.447입니다.\n",
      " 59번 경사하강법(학습율 = 0.01)을(를) 적용한 결과는 0.444입니다.\n",
      " 60번 경사하강법(학습율 = 0.01)을(를) 적용한 결과는 0.440입니다.\n",
      " 61번 경사하강법(학습율 = 0.01)을(를) 적용한 결과는 0.437입니다.\n",
      " 62번 경사하강법(학습율 = 0.01)을(를) 적용한 결과는 0.433입니다.\n",
      " 63번 경사하강법(학습율 = 0.01)을(를) 적용한 결과는 0.430입니다.\n",
      " 64번 경사하강법(학습율 = 0.01)을(를) 적용한 결과는 0.427입니다.\n",
      " 65번 경사하강법(학습율 = 0.01)을(를) 적용한 결과는 0.424입니다.\n",
      " 66번 경사하강법(학습율 = 0.01)을(를) 적용한 결과는 0.421입니다.\n",
      " 67번 경사하강법(학습율 = 0.01)을(를) 적용한 결과는 0.418입니다.\n",
      " 68번 경사하강법(학습율 = 0.01)을(를) 적용한 결과는 0.415입니다.\n",
      " 69번 경사하강법(학습율 = 0.01)을(를) 적용한 결과는 0.412입니다.\n",
      " 70번 경사하강법(학습율 = 0.01)을(를) 적용한 결과는 0.409입니다.\n",
      " 71번 경사하강법(학습율 = 0.01)을(를) 적용한 결과는 0.407입니다.\n",
      " 72번 경사하강법(학습율 = 0.01)을(를) 적용한 결과는 0.404입니다.\n",
      " 73번 경사하강법(학습율 = 0.01)을(를) 적용한 결과는 0.401입니다.\n",
      " 74번 경사하강법(학습율 = 0.01)을(를) 적용한 결과는 0.399입니다.\n",
      " 75번 경사하강법(학습율 = 0.01)을(를) 적용한 결과는 0.396입니다.\n",
      " 76번 경사하강법(학습율 = 0.01)을(를) 적용한 결과는 0.394입니다.\n",
      " 77번 경사하강법(학습율 = 0.01)을(를) 적용한 결과는 0.391입니다.\n",
      " 78번 경사하강법(학습율 = 0.01)을(를) 적용한 결과는 0.389입니다.\n",
      " 79번 경사하강법(학습율 = 0.01)을(를) 적용한 결과는 0.386입니다.\n",
      " 80번 경사하강법(학습율 = 0.01)을(를) 적용한 결과는 0.384입니다.\n",
      " 81번 경사하강법(학습율 = 0.01)을(를) 적용한 결과는 0.382입니다.\n",
      " 82번 경사하강법(학습율 = 0.01)을(를) 적용한 결과는 0.380입니다.\n",
      " 83번 경사하강법(학습율 = 0.01)을(를) 적용한 결과는 0.377입니다.\n",
      " 84번 경사하강법(학습율 = 0.01)을(를) 적용한 결과는 0.375입니다.\n",
      " 85번 경사하강법(학습율 = 0.01)을(를) 적용한 결과는 0.373입니다.\n",
      " 86번 경사하강법(학습율 = 0.01)을(를) 적용한 결과는 0.371입니다.\n",
      " 87번 경사하강법(학습율 = 0.01)을(를) 적용한 결과는 0.369입니다.\n",
      " 88번 경사하강법(학습율 = 0.01)을(를) 적용한 결과는 0.367입니다.\n",
      " 89번 경사하강법(학습율 = 0.01)을(를) 적용한 결과는 0.365입니다.\n",
      " 90번 경사하강법(학습율 = 0.01)을(를) 적용한 결과는 0.363입니다.\n",
      " 91번 경사하강법(학습율 = 0.01)을(를) 적용한 결과는 0.361입니다.\n",
      " 92번 경사하강법(학습율 = 0.01)을(를) 적용한 결과는 0.359입니다.\n",
      " 93번 경사하강법(학습율 = 0.01)을(를) 적용한 결과는 0.357입니다.\n",
      " 94번 경사하강법(학습율 = 0.01)을(를) 적용한 결과는 0.356입니다.\n",
      " 95번 경사하강법(학습율 = 0.01)을(를) 적용한 결과는 0.354입니다.\n",
      " 96번 경사하강법(학습율 = 0.01)을(를) 적용한 결과는 0.352입니다.\n",
      " 97번 경사하강법(학습율 = 0.01)을(를) 적용한 결과는 0.350입니다.\n",
      " 98번 경사하강법(학습율 = 0.01)을(를) 적용한 결과는 0.349입니다.\n",
      " 99번 경사하강법(학습율 = 0.01)을(를) 적용한 결과는 0.347입니다.\n",
      "100번 경사하강법(학습율 = 0.01)을(를) 적용한 결과는 0.345입니다.\n",
      "101번 경사하강법(학습율 = 0.01)을(를) 적용한 결과는 0.344입니다.\n"
     ]
    }
   ],
   "source": [
    "f2 = lambda x: x ** 4 # 원점 근처에서 더 평평해 진다.\n",
    "ex4 = one_variable_ftn(f2, opti1) # 학습율이 0.01인 옵티마이저\n",
    "ex4.run(2, 100)\n",
    "ex4.visualize(-1, 2.5)\n",
    "ex4.history()"
   ]
  },
  {
   "cell_type": "code",
   "execution_count": 15,
   "id": "27060124",
   "metadata": {},
   "outputs": [],
   "source": [
    "def f3(x):\n",
    "    if x > 1:\n",
    "        return x ** 2\n",
    "    elif x > 0.2:\n",
    "        return 1\n",
    "    else:\n",
    "        return 25 * x ** 2"
   ]
  },
  {
   "cell_type": "code",
   "execution_count": 16,
   "id": "0acf7190",
   "metadata": {},
   "outputs": [
    {
     "name": "stdout",
     "output_type": "stream",
     "text": [
      "2에서 시작해서 200번 경사하강법(학습율 = 0.01)을(를) 적용한 결과는 0.986입니다.\n"
     ]
    },
    {
     "data": {
      "image/png": "[encoded data removed]",
      "text/plain": [
       "<Figure size 432x288 with 1 Axes>"
      ]
     },
     "metadata": {
      "needs_background": "light"
     },
     "output_type": "display_data"
    },
    {
     "name": "stdout",
     "output_type": "stream",
     "text": [
      "  1번 경사하강법(학습율 = 0.01)을(를) 적용한 결과는 2.000입니다.\n",
      "  2번 경사하강법(학습율 = 0.01)을(를) 적용한 결과는 1.960입니다.\n",
      "  3번 경사하강법(학습율 = 0.01)을(를) 적용한 결과는 1.921입니다.\n",
      "  4번 경사하강법(학습율 = 0.01)을(를) 적용한 결과는 1.882입니다.\n",
      "  5번 경사하강법(학습율 = 0.01)을(를) 적용한 결과는 1.845입니다.\n",
      "  6번 경사하강법(학습율 = 0.01)을(를) 적용한 결과는 1.808입니다.\n",
      "  7번 경사하강법(학습율 = 0.01)을(를) 적용한 결과는 1.772입니다.\n",
      "  8번 경사하강법(학습율 = 0.01)을(를) 적용한 결과는 1.736입니다.\n",
      "  9번 경사하강법(학습율 = 0.01)을(를) 적용한 결과는 1.702입니다.\n",
      " 10번 경사하강법(학습율 = 0.01)을(를) 적용한 결과는 1.667입니다.\n",
      " 11번 경사하강법(학습율 = 0.01)을(를) 적용한 결과는 1.634입니다.\n",
      " 12번 경사하강법(학습율 = 0.01)을(를) 적용한 결과는 1.601입니다.\n",
      " 13번 경사하강법(학습율 = 0.01)을(를) 적용한 결과는 1.569입니다.\n",
      " 14번 경사하강법(학습율 = 0.01)을(를) 적용한 결과는 1.538입니다.\n",
      " 15번 경사하강법(학습율 = 0.01)을(를) 적용한 결과는 1.507입니다.\n",
      " 16번 경사하강법(학습율 = 0.01)을(를) 적용한 결과는 1.477입니다.\n",
      " 17번 경사하강법(학습율 = 0.01)을(를) 적용한 결과는 1.448입니다.\n",
      " 18번 경사하강법(학습율 = 0.01)을(를) 적용한 결과는 1.419입니다.\n",
      " 19번 경사하강법(학습율 = 0.01)을(를) 적용한 결과는 1.390입니다.\n",
      " 20번 경사하강법(학습율 = 0.01)을(를) 적용한 결과는 1.362입니다.\n",
      " 21번 경사하강법(학습율 = 0.01)을(를) 적용한 결과는 1.335입니다.\n",
      " 22번 경사하강법(학습율 = 0.01)을(를) 적용한 결과는 1.309입니다.\n",
      " 23번 경사하강법(학습율 = 0.01)을(를) 적용한 결과는 1.282입니다.\n",
      " 24번 경사하강법(학습율 = 0.01)을(를) 적용한 결과는 1.257입니다.\n",
      " 25번 경사하강법(학습율 = 0.01)을(를) 적용한 결과는 1.232입니다.\n",
      " 26번 경사하강법(학습율 = 0.01)을(를) 적용한 결과는 1.207입니다.\n",
      " 27번 경사하강법(학습율 = 0.01)을(를) 적용한 결과는 1.183입니다.\n",
      " 28번 경사하강법(학습율 = 0.01)을(를) 적용한 결과는 1.159입니다.\n",
      " 29번 경사하강법(학습율 = 0.01)을(를) 적용한 결과는 1.136입니다.\n",
      " 30번 경사하강법(학습율 = 0.01)을(를) 적용한 결과는 1.113입니다.\n",
      " 31번 경사하강법(학습율 = 0.01)을(를) 적용한 결과는 1.091입니다.\n",
      " 32번 경사하강법(학습율 = 0.01)을(를) 적용한 결과는 1.069입니다.\n",
      " 33번 경사하강법(학습율 = 0.01)을(를) 적용한 결과는 1.048입니다.\n",
      " 34번 경사하강법(학습율 = 0.01)을(를) 적용한 결과는 1.027입니다.\n",
      " 35번 경사하강법(학습율 = 0.01)을(를) 적용한 결과는 1.006입니다.\n",
      " 36번 경사하강법(학습율 = 0.01)을(를) 적용한 결과는 0.986입니다.\n",
      " 37번 경사하강법(학습율 = 0.01)을(를) 적용한 결과는 0.986입니다.\n",
      " 38번 경사하강법(학습율 = 0.01)을(를) 적용한 결과는 0.986입니다.\n",
      " 39번 경사하강법(학습율 = 0.01)을(를) 적용한 결과는 0.986입니다.\n",
      " 40번 경사하강법(학습율 = 0.01)을(를) 적용한 결과는 0.986입니다.\n",
      " 41번 경사하강법(학습율 = 0.01)을(를) 적용한 결과는 0.986입니다.\n",
      " 42번 경사하강법(학습율 = 0.01)을(를) 적용한 결과는 0.986입니다.\n",
      " 43번 경사하강법(학습율 = 0.01)을(를) 적용한 결과는 0.986입니다.\n",
      " 44번 경사하강법(학습율 = 0.01)을(를) 적용한 결과는 0.986입니다.\n",
      " 45번 경사하강법(학습율 = 0.01)을(를) 적용한 결과는 0.986입니다.\n",
      " 46번 경사하강법(학습율 = 0.01)을(를) 적용한 결과는 0.986입니다.\n",
      " 47번 경사하강법(학습율 = 0.01)을(를) 적용한 결과는 0.986입니다.\n",
      " 48번 경사하강법(학습율 = 0.01)을(를) 적용한 결과는 0.986입니다.\n",
      " 49번 경사하강법(학습율 = 0.01)을(를) 적용한 결과는 0.986입니다.\n",
      " 50번 경사하강법(학습율 = 0.01)을(를) 적용한 결과는 0.986입니다.\n",
      " 51번 경사하강법(학습율 = 0.01)을(를) 적용한 결과는 0.986입니다.\n",
      " 52번 경사하강법(학습율 = 0.01)을(를) 적용한 결과는 0.986입니다.\n",
      " 53번 경사하강법(학습율 = 0.01)을(를) 적용한 결과는 0.986입니다.\n",
      " 54번 경사하강법(학습율 = 0.01)을(를) 적용한 결과는 0.986입니다.\n",
      " 55번 경사하강법(학습율 = 0.01)을(를) 적용한 결과는 0.986입니다.\n",
      " 56번 경사하강법(학습율 = 0.01)을(를) 적용한 결과는 0.986입니다.\n",
      " 57번 경사하강법(학습율 = 0.01)을(를) 적용한 결과는 0.986입니다.\n",
      " 58번 경사하강법(학습율 = 0.01)을(를) 적용한 결과는 0.986입니다.\n",
      " 59번 경사하강법(학습율 = 0.01)을(를) 적용한 결과는 0.986입니다.\n",
      " 60번 경사하강법(학습율 = 0.01)을(를) 적용한 결과는 0.986입니다.\n",
      " 61번 경사하강법(학습율 = 0.01)을(를) 적용한 결과는 0.986입니다.\n",
      " 62번 경사하강법(학습율 = 0.01)을(를) 적용한 결과는 0.986입니다.\n",
      " 63번 경사하강법(학습율 = 0.01)을(를) 적용한 결과는 0.986입니다.\n",
      " 64번 경사하강법(학습율 = 0.01)을(를) 적용한 결과는 0.986입니다.\n",
      " 65번 경사하강법(학습율 = 0.01)을(를) 적용한 결과는 0.986입니다.\n",
      " 66번 경사하강법(학습율 = 0.01)을(를) 적용한 결과는 0.986입니다.\n",
      " 67번 경사하강법(학습율 = 0.01)을(를) 적용한 결과는 0.986입니다.\n",
      " 68번 경사하강법(학습율 = 0.01)을(를) 적용한 결과는 0.986입니다.\n",
      " 69번 경사하강법(학습율 = 0.01)을(를) 적용한 결과는 0.986입니다.\n",
      " 70번 경사하강법(학습율 = 0.01)을(를) 적용한 결과는 0.986입니다.\n",
      " 71번 경사하강법(학습율 = 0.01)을(를) 적용한 결과는 0.986입니다.\n",
      " 72번 경사하강법(학습율 = 0.01)을(를) 적용한 결과는 0.986입니다.\n",
      " 73번 경사하강법(학습율 = 0.01)을(를) 적용한 결과는 0.986입니다.\n",
      " 74번 경사하강법(학습율 = 0.01)을(를) 적용한 결과는 0.986입니다.\n",
      " 75번 경사하강법(학습율 = 0.01)을(를) 적용한 결과는 0.986입니다.\n",
      " 76번 경사하강법(학습율 = 0.01)을(를) 적용한 결과는 0.986입니다.\n",
      " 77번 경사하강법(학습율 = 0.01)을(를) 적용한 결과는 0.986입니다.\n",
      " 78번 경사하강법(학습율 = 0.01)을(를) 적용한 결과는 0.986입니다.\n",
      " 79번 경사하강법(학습율 = 0.01)을(를) 적용한 결과는 0.986입니다.\n",
      " 80번 경사하강법(학습율 = 0.01)을(를) 적용한 결과는 0.986입니다.\n",
      " 81번 경사하강법(학습율 = 0.01)을(를) 적용한 결과는 0.986입니다.\n",
      " 82번 경사하강법(학습율 = 0.01)을(를) 적용한 결과는 0.986입니다.\n",
      " 83번 경사하강법(학습율 = 0.01)을(를) 적용한 결과는 0.986입니다.\n",
      " 84번 경사하강법(학습율 = 0.01)을(를) 적용한 결과는 0.986입니다.\n",
      " 85번 경사하강법(학습율 = 0.01)을(를) 적용한 결과는 0.986입니다.\n",
      " 86번 경사하강법(학습율 = 0.01)을(를) 적용한 결과는 0.986입니다.\n",
      " 87번 경사하강법(학습율 = 0.01)을(를) 적용한 결과는 0.986입니다.\n",
      " 88번 경사하강법(학습율 = 0.01)을(를) 적용한 결과는 0.986입니다.\n",
      " 89번 경사하강법(학습율 = 0.01)을(를) 적용한 결과는 0.986입니다.\n",
      " 90번 경사하강법(학습율 = 0.01)을(를) 적용한 결과는 0.986입니다.\n",
      " 91번 경사하강법(학습율 = 0.01)을(를) 적용한 결과는 0.986입니다.\n",
      " 92번 경사하강법(학습율 = 0.01)을(를) 적용한 결과는 0.986입니다.\n",
      " 93번 경사하강법(학습율 = 0.01)을(를) 적용한 결과는 0.986입니다.\n",
      " 94번 경사하강법(학습율 = 0.01)을(를) 적용한 결과는 0.986입니다.\n",
      " 95번 경사하강법(학습율 = 0.01)을(를) 적용한 결과는 0.986입니다.\n",
      " 96번 경사하강법(학습율 = 0.01)을(를) 적용한 결과는 0.986입니다.\n",
      " 97번 경사하강법(학습율 = 0.01)을(를) 적용한 결과는 0.986입니다.\n",
      " 98번 경사하강법(학습율 = 0.01)을(를) 적용한 결과는 0.986입니다.\n",
      " 99번 경사하강법(학습율 = 0.01)을(를) 적용한 결과는 0.986입니다.\n",
      "100번 경사하강법(학습율 = 0.01)을(를) 적용한 결과는 0.986입니다.\n",
      "101번 경사하강법(학습율 = 0.01)을(를) 적용한 결과는 0.986입니다.\n",
      "102번 경사하강법(학습율 = 0.01)을(를) 적용한 결과는 0.986입니다.\n",
      "103번 경사하강법(학습율 = 0.01)을(를) 적용한 결과는 0.986입니다.\n",
      "104번 경사하강법(학습율 = 0.01)을(를) 적용한 결과는 0.986입니다.\n",
      "105번 경사하강법(학습율 = 0.01)을(를) 적용한 결과는 0.986입니다.\n",
      "106번 경사하강법(학습율 = 0.01)을(를) 적용한 결과는 0.986입니다.\n",
      "107번 경사하강법(학습율 = 0.01)을(를) 적용한 결과는 0.986입니다.\n",
      "108번 경사하강법(학습율 = 0.01)을(를) 적용한 결과는 0.986입니다.\n",
      "109번 경사하강법(학습율 = 0.01)을(를) 적용한 결과는 0.986입니다.\n",
      "110번 경사하강법(학습율 = 0.01)을(를) 적용한 결과는 0.986입니다.\n",
      "111번 경사하강법(학습율 = 0.01)을(를) 적용한 결과는 0.986입니다.\n",
      "112번 경사하강법(학습율 = 0.01)을(를) 적용한 결과는 0.986입니다.\n",
      "113번 경사하강법(학습율 = 0.01)을(를) 적용한 결과는 0.986입니다.\n",
      "114번 경사하강법(학습율 = 0.01)을(를) 적용한 결과는 0.986입니다.\n",
      "115번 경사하강법(학습율 = 0.01)을(를) 적용한 결과는 0.986입니다.\n",
      "116번 경사하강법(학습율 = 0.01)을(를) 적용한 결과는 0.986입니다.\n",
      "117번 경사하강법(학습율 = 0.01)을(를) 적용한 결과는 0.986입니다.\n",
      "118번 경사하강법(학습율 = 0.01)을(를) 적용한 결과는 0.986입니다.\n",
      "119번 경사하강법(학습율 = 0.01)을(를) 적용한 결과는 0.986입니다.\n",
      "120번 경사하강법(학습율 = 0.01)을(를) 적용한 결과는 0.986입니다.\n",
      "121번 경사하강법(학습율 = 0.01)을(를) 적용한 결과는 0.986입니다.\n",
      "122번 경사하강법(학습율 = 0.01)을(를) 적용한 결과는 0.986입니다.\n",
      "123번 경사하강법(학습율 = 0.01)을(를) 적용한 결과는 0.986입니다.\n",
      "124번 경사하강법(학습율 = 0.01)을(를) 적용한 결과는 0.986입니다.\n",
      "125번 경사하강법(학습율 = 0.01)을(를) 적용한 결과는 0.986입니다.\n",
      "126번 경사하강법(학습율 = 0.01)을(를) 적용한 결과는 0.986입니다.\n",
      "127번 경사하강법(학습율 = 0.01)을(를) 적용한 결과는 0.986입니다.\n",
      "128번 경사하강법(학습율 = 0.01)을(를) 적용한 결과는 0.986입니다.\n",
      "129번 경사하강법(학습율 = 0.01)을(를) 적용한 결과는 0.986입니다.\n",
      "130번 경사하강법(학습율 = 0.01)을(를) 적용한 결과는 0.986입니다.\n",
      "131번 경사하강법(학습율 = 0.01)을(를) 적용한 결과는 0.986입니다.\n",
      "132번 경사하강법(학습율 = 0.01)을(를) 적용한 결과는 0.986입니다.\n",
      "133번 경사하강법(학습율 = 0.01)을(를) 적용한 결과는 0.986입니다.\n",
      "134번 경사하강법(학습율 = 0.01)을(를) 적용한 결과는 0.986입니다.\n",
      "135번 경사하강법(학습율 = 0.01)을(를) 적용한 결과는 0.986입니다.\n",
      "136번 경사하강법(학습율 = 0.01)을(를) 적용한 결과는 0.986입니다.\n",
      "137번 경사하강법(학습율 = 0.01)을(를) 적용한 결과는 0.986입니다.\n",
      "138번 경사하강법(학습율 = 0.01)을(를) 적용한 결과는 0.986입니다.\n",
      "139번 경사하강법(학습율 = 0.01)을(를) 적용한 결과는 0.986입니다.\n",
      "140번 경사하강법(학습율 = 0.01)을(를) 적용한 결과는 0.986입니다.\n",
      "141번 경사하강법(학습율 = 0.01)을(를) 적용한 결과는 0.986입니다.\n",
      "142번 경사하강법(학습율 = 0.01)을(를) 적용한 결과는 0.986입니다.\n",
      "143번 경사하강법(학습율 = 0.01)을(를) 적용한 결과는 0.986입니다.\n",
      "144번 경사하강법(학습율 = 0.01)을(를) 적용한 결과는 0.986입니다.\n",
      "145번 경사하강법(학습율 = 0.01)을(를) 적용한 결과는 0.986입니다.\n",
      "146번 경사하강법(학습율 = 0.01)을(를) 적용한 결과는 0.986입니다.\n",
      "147번 경사하강법(학습율 = 0.01)을(를) 적용한 결과는 0.986입니다.\n",
      "148번 경사하강법(학습율 = 0.01)을(를) 적용한 결과는 0.986입니다.\n",
      "149번 경사하강법(학습율 = 0.01)을(를) 적용한 결과는 0.986입니다.\n",
      "150번 경사하강법(학습율 = 0.01)을(를) 적용한 결과는 0.986입니다.\n",
      "151번 경사하강법(학습율 = 0.01)을(를) 적용한 결과는 0.986입니다.\n",
      "152번 경사하강법(학습율 = 0.01)을(를) 적용한 결과는 0.986입니다.\n",
      "153번 경사하강법(학습율 = 0.01)을(를) 적용한 결과는 0.986입니다.\n",
      "154번 경사하강법(학습율 = 0.01)을(를) 적용한 결과는 0.986입니다.\n",
      "155번 경사하강법(학습율 = 0.01)을(를) 적용한 결과는 0.986입니다.\n",
      "156번 경사하강법(학습율 = 0.01)을(를) 적용한 결과는 0.986입니다.\n",
      "157번 경사하강법(학습율 = 0.01)을(를) 적용한 결과는 0.986입니다.\n",
      "158번 경사하강법(학습율 = 0.01)을(를) 적용한 결과는 0.986입니다.\n",
      "159번 경사하강법(학습율 = 0.01)을(를) 적용한 결과는 0.986입니다.\n",
      "160번 경사하강법(학습율 = 0.01)을(를) 적용한 결과는 0.986입니다.\n",
      "161번 경사하강법(학습율 = 0.01)을(를) 적용한 결과는 0.986입니다.\n",
      "162번 경사하강법(학습율 = 0.01)을(를) 적용한 결과는 0.986입니다.\n",
      "163번 경사하강법(학습율 = 0.01)을(를) 적용한 결과는 0.986입니다.\n",
      "164번 경사하강법(학습율 = 0.01)을(를) 적용한 결과는 0.986입니다.\n",
      "165번 경사하강법(학습율 = 0.01)을(를) 적용한 결과는 0.986입니다.\n",
      "166번 경사하강법(학습율 = 0.01)을(를) 적용한 결과는 0.986입니다.\n",
      "167번 경사하강법(학습율 = 0.01)을(를) 적용한 결과는 0.986입니다.\n",
      "168번 경사하강법(학습율 = 0.01)을(를) 적용한 결과는 0.986입니다.\n",
      "169번 경사하강법(학습율 = 0.01)을(를) 적용한 결과는 0.986입니다.\n",
      "170번 경사하강법(학습율 = 0.01)을(를) 적용한 결과는 0.986입니다.\n",
      "171번 경사하강법(학습율 = 0.01)을(를) 적용한 결과는 0.986입니다.\n",
      "172번 경사하강법(학습율 = 0.01)을(를) 적용한 결과는 0.986입니다.\n",
      "173번 경사하강법(학습율 = 0.01)을(를) 적용한 결과는 0.986입니다.\n",
      "174번 경사하강법(학습율 = 0.01)을(를) 적용한 결과는 0.986입니다.\n",
      "175번 경사하강법(학습율 = 0.01)을(를) 적용한 결과는 0.986입니다.\n",
      "176번 경사하강법(학습율 = 0.01)을(를) 적용한 결과는 0.986입니다.\n",
      "177번 경사하강법(학습율 = 0.01)을(를) 적용한 결과는 0.986입니다.\n",
      "178번 경사하강법(학습율 = 0.01)을(를) 적용한 결과는 0.986입니다.\n",
      "179번 경사하강법(학습율 = 0.01)을(를) 적용한 결과는 0.986입니다.\n",
      "180번 경사하강법(학습율 = 0.01)을(를) 적용한 결과는 0.986입니다.\n",
      "181번 경사하강법(학습율 = 0.01)을(를) 적용한 결과는 0.986입니다.\n",
      "182번 경사하강법(학습율 = 0.01)을(를) 적용한 결과는 0.986입니다.\n",
      "183번 경사하강법(학습율 = 0.01)을(를) 적용한 결과는 0.986입니다.\n",
      "184번 경사하강법(학습율 = 0.01)을(를) 적용한 결과는 0.986입니다.\n",
      "185번 경사하강법(학습율 = 0.01)을(를) 적용한 결과는 0.986입니다.\n",
      "186번 경사하강법(학습율 = 0.01)을(를) 적용한 결과는 0.986입니다.\n",
      "187번 경사하강법(학습율 = 0.01)을(를) 적용한 결과는 0.986입니다.\n",
      "188번 경사하강법(학습율 = 0.01)을(를) 적용한 결과는 0.986입니다.\n",
      "189번 경사하강법(학습율 = 0.01)을(를) 적용한 결과는 0.986입니다.\n",
      "190번 경사하강법(학습율 = 0.01)을(를) 적용한 결과는 0.986입니다.\n",
      "191번 경사하강법(학습율 = 0.01)을(를) 적용한 결과는 0.986입니다.\n",
      "192번 경사하강법(학습율 = 0.01)을(를) 적용한 결과는 0.986입니다.\n",
      "193번 경사하강법(학습율 = 0.01)을(를) 적용한 결과는 0.986입니다.\n",
      "194번 경사하강법(학습율 = 0.01)을(를) 적용한 결과는 0.986입니다.\n",
      "195번 경사하강법(학습율 = 0.01)을(를) 적용한 결과는 0.986입니다.\n",
      "196번 경사하강법(학습율 = 0.01)을(를) 적용한 결과는 0.986입니다.\n",
      "197번 경사하강법(학습율 = 0.01)을(를) 적용한 결과는 0.986입니다.\n",
      "198번 경사하강법(학습율 = 0.01)을(를) 적용한 결과는 0.986입니다.\n",
      "199번 경사하강법(학습율 = 0.01)을(를) 적용한 결과는 0.986입니다.\n",
      "200번 경사하강법(학습율 = 0.01)을(를) 적용한 결과는 0.986입니다.\n",
      "201번 경사하강법(학습율 = 0.01)을(를) 적용한 결과는 0.986입니다.\n"
     ]
    }
   ],
   "source": [
    "ex5 = one_variable_ftn(f3, opti1) # 가운데 평탄한(기울기가 0) 구간이 있는 조금 더 복잡한 함수\n",
    "ex5.run(2, 200)\n",
    "ex5.visualize(-0.2, 2.2)\n",
    "ex5.history()"
   ]
  },
  {
   "cell_type": "markdown",
   "id": "864a4076",
   "metadata": {},
   "source": [
    "모멘텀(Momentum)"
   ]
  },
  {
   "cell_type": "code",
   "execution_count": 17,
   "id": "bf76e9cb",
   "metadata": {},
   "outputs": [],
   "source": [
    "# 모멘텀 클래스, 옵티마이저\n",
    "class Momentum_descent:\n",
    "    def __init__(self, mu, lr, h=1e-6):\n",
    "        self.previous = 0 # 이전에 얼마나 움직였나를 기록한다.\n",
    "        self.mu = mu # 관성, 보통 0.8이나 0.9를 사용한다.\n",
    "        self.lr = lr\n",
    "        self.h = h\n",
    "        \n",
    "    def n_D(self, f, x):\n",
    "        return (f(x + self.h) - f(x - self.h)) / (2 * self.h)\n",
    "    \n",
    "    def update(self, f, x):\n",
    "        dx = self.mu * self.previous - self.lr * self.n_D(f, x)\n",
    "        self.previous = dx # 다음 연산시 이전 값으로 사용하기 위해 저장한다.\n",
    "        return x + dx\n",
    "    \n",
    "    def __str__(self):\n",
    "        return '모멘텀 경사하강법(관성 = {}, 학습율 = {})'.format(self.mu, self.lr)"
   ]
  },
  {
   "cell_type": "code",
   "execution_count": 27,
   "id": "a27b89ea",
   "metadata": {},
   "outputs": [
    {
     "name": "stdout",
     "output_type": "stream",
     "text": [
      "2에서 시작해서 19번 모멘텀 경사하강법(관성 = 0.9, 학습율 = 0.01)을(를) 적용한 결과는 -0.124입니다.\n"
     ]
    },
    {
     "data": {
      "image/png": "[encoded data removed]",
      "text/plain": [
       "<Figure size 432x288 with 1 Axes>"
      ]
     },
     "metadata": {
      "needs_background": "light"
     },
     "output_type": "display_data"
    },
    {
     "name": "stdout",
     "output_type": "stream",
     "text": [
      "  1번 모멘텀 경사하강법(관성 = 0.9, 학습율 = 0.01)을(를) 적용한 결과는 2.000입니다.\n",
      "  2번 모멘텀 경사하강법(관성 = 0.9, 학습율 = 0.01)을(를) 적용한 결과는 1.960입니다.\n",
      "  3번 모멘텀 경사하강법(관성 = 0.9, 학습율 = 0.01)을(를) 적용한 결과는 1.885입니다.\n",
      "  4번 모멘텀 경사하강법(관성 = 0.9, 학습율 = 0.01)을(를) 적용한 결과는 1.779입니다.\n",
      "  5번 모멘텀 경사하강법(관성 = 0.9, 학습율 = 0.01)을(를) 적용한 결과는 1.649입니다.\n",
      "  6번 모멘텀 경사하강법(관성 = 0.9, 학습율 = 0.01)을(를) 적용한 결과는 1.499입니다.\n",
      "  7번 모멘텀 경사하강법(관성 = 0.9, 학습율 = 0.01)을(를) 적용한 결과는 1.333입니다.\n",
      "  8번 모멘텀 경사하강법(관성 = 0.9, 학습율 = 0.01)을(를) 적용한 결과는 1.158입니다.\n",
      "  9번 모멘텀 경사하강법(관성 = 0.9, 학습율 = 0.01)을(를) 적용한 결과는 0.977입니다.\n",
      " 10번 모멘텀 경사하강법(관성 = 0.9, 학습율 = 0.01)을(를) 적용한 결과는 0.814입니다.\n",
      " 11번 모멘텀 경사하강법(관성 = 0.9, 학습율 = 0.01)을(를) 적용한 결과는 0.667입니다.\n",
      " 12번 모멘텀 경사하강법(관성 = 0.9, 학습율 = 0.01)을(를) 적용한 결과는 0.535입니다.\n",
      " 13번 모멘텀 경사하강법(관성 = 0.9, 학습율 = 0.01)을(를) 적용한 결과는 0.416입니다.\n",
      " 14번 모멘텀 경사하강법(관성 = 0.9, 학습율 = 0.01)을(를) 적용한 결과는 0.310입니다.\n",
      " 15번 모멘텀 경사하강법(관성 = 0.9, 학습율 = 0.01)을(를) 적용한 결과는 0.213입니다.\n",
      " 16번 모멘텀 경사하강법(관성 = 0.9, 학습율 = 0.01)을(를) 적용한 결과는 0.127입니다.\n",
      " 17번 모멘텀 경사하강법(관성 = 0.9, 학습율 = 0.01)을(를) 적용한 결과는 -0.015입니다.\n",
      " 18번 모멘텀 경사하강법(관성 = 0.9, 학습율 = 0.01)을(를) 적용한 결과는 -0.134입니다.\n",
      " 19번 모멘텀 경사하강법(관성 = 0.9, 학습율 = 0.01)을(를) 적용한 결과는 -0.175입니다.\n",
      " 20번 모멘텀 경사하강법(관성 = 0.9, 학습율 = 0.01)을(를) 적용한 결과는 -0.124입니다.\n"
     ]
    }
   ],
   "source": [
    "mom_opti = Momentum_descent(0.9, 0.01)\n",
    "ex6 = one_variable_ftn(f3, mom_opti)\n",
    "ex6.run(2, 19)\n",
    "ex6.visualize(-0.2, 2.2)\n",
    "ex6.history()"
   ]
  },
  {
   "cell_type": "code",
   "execution_count": null,
   "id": "375a7fc6",
   "metadata": {},
   "outputs": [],
   "source": []
  },
  {
   "cell_type": "code",
   "execution_count": null,
   "id": "84a8497a",
   "metadata": {},
   "outputs": [],
   "source": []
  },
  {
   "cell_type": "code",
   "execution_count": null,
   "id": "aa43b6d4",
   "metadata": {},
   "outputs": [],
   "source": []
  },
  {
   "cell_type": "code",
   "execution_count": null,
   "id": "c69d6471",
   "metadata": {},
   "outputs": [],
   "source": []
  },
  {
   "cell_type": "code",
   "execution_count": null,
   "id": "abbd283c",
   "metadata": {},
   "outputs": [],
   "source": []
  },
  {
   "cell_type": "code",
   "execution_count": null,
   "id": "f3d3a83b",
   "metadata": {},
   "outputs": [],
   "source": []
  },
  {
   "cell_type": "code",
   "execution_count": null,
   "id": "76ae86e9",
   "metadata": {},
   "outputs": [],
   "source": []
  },
  {
   "cell_type": "code",
   "execution_count": null,
   "id": "b0a8cdb7",
   "metadata": {},
   "outputs": [],
   "source": []
  }
 ],
 "metadata": {
  "kernelspec": {
   "display_name": "Python 3",
   "language": "python",
   "name": "python3"
  },
  "language_info": {
   "codemirror_mode": {
    "name": "ipython",
    "version": 3
   },
   "file_extension": ".py",
   "mimetype": "text/x-python",
   "name": "python",
   "nbconvert_exporter": "python",
   "pygments_lexer": "ipython3",
   "version": "3.6.8"
  }
 },
 "nbformat": 4,
 "nbformat_minor": 5
}
