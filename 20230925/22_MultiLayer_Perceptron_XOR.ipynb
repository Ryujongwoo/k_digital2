{
 "cells": [
  {
   "cell_type": "markdown",
   "id": "6059a2ee",
   "metadata": {},
   "source": [
    "<img src=\"./images/multilayer_perceptron1.png\" align=\"left\" width=\"1500\"/>"
   ]
  },
  {
   "cell_type": "markdown",
   "id": "01b2413c",
   "metadata": {},
   "source": [
    "<img src=\"./images/multilayer_perceptron2.png\" align=\"left\" width=\"1500\"/>"
   ]
  },
  {
   "cell_type": "markdown",
   "id": "59998aa1",
   "metadata": {},
   "source": [
    "<img src=\"./images/multilayer_perceptron3.png\" align=\"left\" width=\"1500\"/>"
   ]
  },
  {
   "cell_type": "markdown",
   "id": "c0a55936",
   "metadata": {},
   "source": [
    "<img src=\"./images/multilayer_perceptron4.png\" align=\"left\" width=\"1500\"/>"
   ]
  },
  {
   "cell_type": "code",
   "execution_count": 1,
   "id": "9ab287f3",
   "metadata": {},
   "outputs": [
    {
     "name": "stdout",
     "output_type": "stream",
     "text": [
      "WARNING:tensorflow:From c:\\python\\lib\\site-packages\\tensorflow\\python\\compat\\v2_compat.py:101: disable_resource_variables (from tensorflow.python.ops.variable_scope) is deprecated and will be removed in a future version.\n",
      "Instructions for updating:\n",
      "non-resource variables are not supported in the long term\n"
     ]
    }
   ],
   "source": [
    "import warnings\n",
    "warnings.filterwarnings(action='ignore')\n",
    "%config Completer.use_jedi = False\n",
    "import tensorflow.compat.v1 as tf\n",
    "tf.disable_v2_behavior()"
   ]
  },
  {
   "cell_type": "markdown",
   "id": "80c55f7b",
   "metadata": {},
   "source": [
    "<img src=\"./images/multiLayerPerceptron.png\" align=\"left\" width=\"600\"/>"
   ]
  },
  {
   "cell_type": "markdown",
   "id": "64091009",
   "metadata": {},
   "source": [
    "XOR 연산은 입력 데이터를 X라고 할 경우 [[0, 0], [0, 1], [1, 0], [1, 1]]과 같은 경우의 수가 있다.  \n",
    "총 4개의 데이터가 각각 2개의 특성을 가지고 있으므로 X는 [4, 2]의 형태로 정의할 수 있다.  \n",
    "입력값에 따른 출력값 Y는 [[0], [1], [1], [0]]이므로 Y는 [4, 1]의 형태로 정의할 수 있다."
   ]
  },
  {
   "cell_type": "code",
   "execution_count": 2,
   "id": "23cb9a5e",
   "metadata": {},
   "outputs": [],
   "source": [
    "X = tf.placeholder(dtype=tf.float32, shape=[4, 2]) # 입력값\n",
    "Y = tf.placeholder(dtype=tf.float32, shape=[4, 1]) # 출력값"
   ]
  },
  {
   "cell_type": "markdown",
   "id": "f64c1510",
   "metadata": {},
   "source": [
    "1번째 히든 레이어에서 2개의 입력(X)과 1개의 편향값(B1)을 받아서 2개의 시그모이드 출력(Z)을 다음 레이어로 전달한다."
   ]
  },
  {
   "cell_type": "code",
   "execution_count": 3,
   "id": "bdfeddae",
   "metadata": {},
   "outputs": [],
   "source": [
    "# 2개의 입력을 받는 2개의 뉴런을 만든다.\n",
    "# random_normal() 메소드는 정규 분포로 부터 난수값을 반환하고 random_uniform()은 균등 분포로 부터 난수값을 반환한다.\n",
    "W1 = tf.Variable(tf.random_normal([2, 2]))\n",
    "# 각 뉴런은 1개의 편향값을 가진다.\n",
    "# zeros() 메소드는 모든 원소의 값이 0인 텐서(2차원 이상의 행렬)를 생성한다.\n",
    "B1 = tf.Variable(tf.zeros([2]))\n",
    "# 시그모이드 함수를 거쳐 출력값으로 Z를 리턴한다. => tf.sigmoid(W1 * X + B1)\n",
    "Z = tf.sigmoid(tf.matmul(X, W1) + B1)"
   ]
  },
  {
   "cell_type": "code",
   "execution_count": 4,
   "id": "ad8fc889",
   "metadata": {},
   "outputs": [
    {
     "name": "stdout",
     "output_type": "stream",
     "text": [
      "[[-0.8487048  -0.10734754]\n",
      " [ 1.0469277  -0.8627562 ]]\n",
      "[0. 0.]\n",
      "[[0.5        0.5       ]\n",
      " [0.7401845  0.29676384]\n",
      " [0.29970464 0.47318885]\n",
      " [0.5493941  0.27485982]]\n"
     ]
    }
   ],
   "source": [
    "sess = tf.Session()\n",
    "sess.run(tf.global_variables_initializer())\n",
    "print(sess.run(W1))\n",
    "print(sess.run(B1))\n",
    "train_X = [[0, 0], [0, 1], [1, 0], [1, 1]]\n",
    "print(sess.run(Z, feed_dict={X: train_X}))\n",
    "sess.close()"
   ]
  },
  {
   "cell_type": "markdown",
   "id": "72ffac7a",
   "metadata": {},
   "source": [
    "2번째 히든 레이어에서 1번째 히든 레이어의 출력값인 Z와 1개의 편향값을 받아서 1개의 시그모이드를 출력(Y_hat)한다."
   ]
  },
  {
   "cell_type": "code",
   "execution_count": 5,
   "id": "796e4a83",
   "metadata": {},
   "outputs": [],
   "source": [
    "# Z를 입력값으로 받는 1개의 뉴런을 만든다.\n",
    "W2 = tf.Variable(tf.random_normal([2, 1]))\n",
    "B2 = tf.Variable(tf.zeros([1]))\n",
    "# 시그모이드 함수를 거쳐 출력값으로 Z를 리턴한다. => tf.sigmoid(W2 * Z + B2)\n",
    "Y_hat = tf.sigmoid(tf.matmul(Z, W2) + B2)"
   ]
  },
  {
   "cell_type": "code",
   "execution_count": 6,
   "id": "4e26eafc",
   "metadata": {},
   "outputs": [
    {
     "name": "stdout",
     "output_type": "stream",
     "text": [
      "[[-0.76982856]\n",
      " [-2.352445  ]]\n",
      "[0.]\n",
      "[[0.17348358]\n",
      " [0.1353774 ]\n",
      " [0.2299397 ]\n",
      " [0.1748372 ]]\n"
     ]
    }
   ],
   "source": [
    "sess = tf.Session()\n",
    "sess.run(tf.global_variables_initializer())\n",
    "print(sess.run(W2))\n",
    "print(sess.run(B2))\n",
    "print(sess.run(Y_hat, feed_dict={X: train_X}))\n",
    "sess.close()"
   ]
  },
  {
   "cell_type": "markdown",
   "id": "ce0c8e9d",
   "metadata": {},
   "source": [
    "손실 함수로 크로스 엔트로피를 사용하고 경사 하강법으로 모델의 매개 변수(가중치, 편향)을 최적화 한다."
   ]
  },
  {
   "cell_type": "code",
   "execution_count": 7,
   "id": "4ea63798",
   "metadata": {},
   "outputs": [],
   "source": [
    "# 크로스 엔트로피\n",
    "loss = tf.reduce_mean(\n",
    "    -1 * (Y * tf.log(Y_hat) + (1.0 - Y) * tf.log(1.0 - Y_hat))\n",
    ")\n",
    "# 경사 하강법\n",
    "train_step = tf.train.GradientDescentOptimizer(0.05).minimize(loss)\n",
    "# 모델을 학습하기 위한 데이터를 만든다.\n",
    "train_X = [[0, 0], [0, 1], [1, 0], [1, 1]]\n",
    "train_Y = [[0], [1], [1], [0]]"
   ]
  },
  {
   "cell_type": "markdown",
   "id": "c863360c",
   "metadata": {},
   "source": [
    "학습을 진행한다."
   ]
  },
  {
   "cell_type": "code",
   "execution_count": 8,
   "id": "eba57f86",
   "metadata": {
    "scrolled": false
   },
   "outputs": [
    {
     "name": "stdout",
     "output_type": "stream",
     "text": [
      "학습 데이터: [[0, 0], [0, 1], [1, 0], [1, 1]]\n",
      "================================================================================\n",
      "epoch: 0\n",
      "output\n",
      "[[0.35585144]\n",
      " [0.3904576 ]\n",
      " [0.39713433]\n",
      " [0.4280644 ]]\n",
      "================================================================================\n",
      "epoch: 5000\n",
      "output\n",
      "[[0.11112705]\n",
      " [0.7649648 ]\n",
      " [0.5524508 ]\n",
      " [0.5830471 ]]\n",
      "================================================================================\n",
      "epoch: 10000\n",
      "output\n",
      "[[0.04233661]\n",
      " [0.9340497 ]\n",
      " [0.9352972 ]\n",
      " [0.11831486]]\n",
      "================================================================================\n",
      "epoch: 15000\n",
      "output\n",
      "[[0.01955175]\n",
      " [0.97539854]\n",
      " [0.9758362 ]\n",
      " [0.04030037]]\n",
      "================================================================================\n",
      "epoch: 20000\n",
      "output\n",
      "[[0.01244524]\n",
      " [0.985298  ]\n",
      " [0.98552215]\n",
      " [0.02329999]]\n",
      "================================================================================\n",
      "epoch: 25000\n",
      "output\n",
      "[[0.00908217]\n",
      " [0.9895952 ]\n",
      " [0.9897354 ]\n",
      " [0.01621684]]\n",
      "================================================================================\n",
      "epoch: 30000\n",
      "output\n",
      "[[0.00713482]\n",
      " [0.9919749 ]\n",
      " [0.99207276]\n",
      " [0.01238358]]\n",
      "================================================================================\n",
      "epoch: 35000\n",
      "output\n",
      "[[0.00586912]\n",
      " [0.99348056]\n",
      " [0.99355364]\n",
      " [0.00999463]]\n",
      "================================================================================\n",
      "epoch: 40000\n",
      "output\n",
      "[[0.00498164]\n",
      " [0.9945164 ]\n",
      " [0.99457353]\n",
      " [0.00836751]]\n",
      "================================================================================\n"
     ]
    }
   ],
   "source": [
    "with tf.Session() as sess:\n",
    "    sess.run(tf.global_variables_initializer())\n",
    "    print('학습 데이터: {}'.format(train_X))\n",
    "    print('=' * 80)\n",
    "    \n",
    "    for epoch in range(40001):\n",
    "        sess.run(train_step, feed_dict={X: train_X, Y: train_Y})\n",
    "        if epoch % 5000 == 0:\n",
    "            print('epoch: {}'.format(epoch))\n",
    "            print('output\\n', sess.run(Y_hat, feed_dict={X: train_X, Y: train_Y}), sep='')\n",
    "            print('=' * 80)"
   ]
  },
  {
   "cell_type": "markdown",
   "id": "feec8b12",
   "metadata": {},
   "source": [
    "학습 결과를 통해 [0, 0], [1, 1]은 0에 상당히 가까운 값을 출력하고 [0, 1], [1, 0]은 1에 상당히 가까운 값을 출력하는 것을 확인할 수 있다."
   ]
  },
  {
   "cell_type": "code",
   "execution_count": null,
   "id": "623ae8e2",
   "metadata": {},
   "outputs": [],
   "source": []
  },
  {
   "cell_type": "code",
   "execution_count": null,
   "id": "470ce08c",
   "metadata": {},
   "outputs": [],
   "source": []
  },
  {
   "cell_type": "code",
   "execution_count": null,
   "id": "5627380a",
   "metadata": {},
   "outputs": [],
   "source": []
  },
  {
   "cell_type": "code",
   "execution_count": null,
   "id": "f70072fa",
   "metadata": {},
   "outputs": [],
   "source": []
  },
  {
   "cell_type": "code",
   "execution_count": null,
   "id": "bfa09d91",
   "metadata": {},
   "outputs": [],
   "source": []
  },
  {
   "cell_type": "code",
   "execution_count": null,
   "id": "be4d9969",
   "metadata": {},
   "outputs": [],
   "source": []
  }
 ],
 "metadata": {
  "kernelspec": {
   "display_name": "Python 3",
   "language": "python",
   "name": "python3"
  },
  "language_info": {
   "codemirror_mode": {
    "name": "ipython",
    "version": 3
   },
   "file_extension": ".py",
   "mimetype": "text/x-python",
   "name": "python",
   "nbconvert_exporter": "python",
   "pygments_lexer": "ipython3",
   "version": "3.6.8"
  }
 },
 "nbformat": 4,
 "nbformat_minor": 5
}
