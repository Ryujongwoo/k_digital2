{
 "cells": [
  {
   "cell_type": "code",
   "execution_count": 1,
   "id": "d8935057",
   "metadata": {},
   "outputs": [],
   "source": [
    "import warnings\n",
    "warnings.filterwarnings(action='ignore')\n",
    "%config Computer.use_jedi = False"
   ]
  },
  {
   "cell_type": "markdown",
   "id": "745bcfbc",
   "metadata": {},
   "source": [
    "파이썬 기반 데이터 분석 환경에서 numpy는 행렬 연산을 위한 핵심 라이브러리이다.  \n",
    "numpy는 대규모 다차원 배열과 행렬 연산에 필요한 다양한 함수 및 메소드를 제공하고 메모리 버퍼에 데이터를 저장하고 처리하는 효율적인 인터페이스를 제공한다.  \n",
    "파이썬의 list 객체를 개선한 numpy의 ndarray 객체를 사용하면 더 많은 데이터를 더 빠르게 처리할 수 있다.\n",
    "\n",
    "numpy의 특징  \n",
    "    1. 강력한 n차원 배열 객체  \n",
    "    2. 정교한 브로드캐스팅(다대일 연산) 기능  \n",
    "    3. c/c++ 및 fortran 코드 통합 도구  \n",
    "    4. 유연한 선형 대수, 푸리에 변환 및 난수 기능  \n",
    "    5. 범용적 처리에 사용 가능한 다차원 컨테이너\n",
    "    \n",
    "numpy 데이터 타입"
   ]
  },
  {
   "cell_type": "code",
   "execution_count": 2,
   "id": "843b442f",
   "metadata": {},
   "outputs": [],
   "source": [
    "# numpy는 다음과 같은 데이터 타입을 지원한다. => 배열을 만들 때 dtype 속성으로 데이터 타입을 지정할 수 있다.\n",
    "# np.int: 정수(고정 소숫점) 타입\n",
    "# np.float: 실수(부동 소숫점) 타입\n",
    "# np.complex: 복소수 타입\n",
    "# np.bool: 불린(논리값) 타입\n",
    "# np.object: 파이썬 객체 타입\n",
    "# np.string_: 스트링 타입\n",
    "# np.unicode_: 유니코드 타입"
   ]
  },
  {
   "cell_type": "code",
   "execution_count": 3,
   "id": "bc0cc29a",
   "metadata": {},
   "outputs": [
    {
     "name": "stdout",
     "output_type": "stream",
     "text": [
      "1.19.5\n"
     ]
    }
   ],
   "source": [
    "import numpy as np\n",
    "print(np.__version__) # __version__: 설치된 라이브러리의 버전을 얻어온다."
   ]
  },
  {
   "cell_type": "markdown",
   "id": "2651e3bd",
   "metadata": {},
   "source": [
    "numpy는 다차원 배열을 지원하고 numpy 배열 구조는 shape으로 표현한다.  \n",
    "shape은 배열 구조를 튜플 자료형을 사용해서 정의한다.  \n",
    "예를 들면 28 * 28 컬러 사진은 폭이 28 필셀, 높이가 28 픽셀, 각 픽셀은 3개의 채널(RGB)로 구성된 구조를 가진다.  \n",
    "따라서 컬러 사진의 데이터 구조는 shape(28, 28, 3)인 3차원 배열이 된다.  \n",
    "다차원 배열은 입체적인 구조를 가지며 데이터 차원은 여러 갈래의 데이터 방향(axis)을 가진다.  \n",
    "3차원 배열의 데이터 방향은 면은 axis=0, 행은 axis=1, 열은 axis=2로 지정한다.\n",
    "\n",
    "<img src=\"./images/numpyImage01.jpg\" align=\"left\" width=\"800\"/>"
   ]
  },
  {
   "cell_type": "code",
   "execution_count": 4,
   "id": "441078b5",
   "metadata": {},
   "outputs": [],
   "source": [
    "# numpy 배열 객체 정보 출력용으로 사용할 함수 선언\n",
    "def pprint(arr):\n",
    "    print('type: {}'.format(type(arr)))\n",
    "    print('shape: {}, dimension: {}, dtype: {}'.format(arr.shape, arr.ndim, arr.dtype))\n",
    "    print('numpy 배열의 데이터\\n', arr, sep='')"
   ]
  },
  {
   "cell_type": "markdown",
   "id": "dc0cca8c",
   "metadata": {},
   "source": [
    "파이썬 list 객체로 numpy 배열을 생성할 수 있다.  \n",
    "인수로 list 객체와 데이터의 타입(dtype, 생략가능)을 입력해서 numpy 배열을 생성하고 dtype을 생략하면 인수로 넘어오는 list 객체의 데이터 타입으로 type이 설정된다."
   ]
  },
  {
   "cell_type": "code",
   "execution_count": 5,
   "id": "91296dcb",
   "metadata": {},
   "outputs": [
    {
     "name": "stdout",
     "output_type": "stream",
     "text": [
      "<class 'list'>\n",
      "[1, 2, 3]\n",
      "==================================================\n",
      "type: <class 'numpy.ndarray'>\n",
      "shape: (3,), dimension: 1, dtype: int32\n",
      "numpy 배열의 데이터\n",
      "[1 2 3]\n"
     ]
    }
   ],
   "source": [
    "# 파이썬 1차원 list로 numpy 배열 만들기\n",
    "arr = [1, 2, 3]\n",
    "print(type(arr))\n",
    "print(arr)\n",
    "print('=' * 50)\n",
    "\n",
    "# array() 메소드는 인수로 list 객체를 넘겨받아 numpy 배열을 만든다.\n",
    "# 정수형 데이터의 dtype 기본값은 np.int이고 32비트 정수 데이터를 의미한다. => np.int32와 같다.\n",
    "# 정수형 데이터의 dtype은 np.int, np.int8, np.int16, np.int32, np.int64를 사용할 수 있다.\n",
    "# a = np.array(arr, dtype=np.int)\n",
    "a = np.array(arr)\n",
    "pprint(a)"
   ]
  },
  {
   "cell_type": "code",
   "execution_count": 6,
   "id": "9657f341",
   "metadata": {},
   "outputs": [
    {
     "name": "stdout",
     "output_type": "stream",
     "text": [
      "<class 'list'>\n",
      "[1, 2.0, 3]\n",
      "==================================================\n",
      "type: <class 'numpy.ndarray'>\n",
      "shape: (3,), dimension: 1, dtype: float64\n",
      "numpy 배열의 데이터\n",
      "[1. 2. 3.]\n"
     ]
    }
   ],
   "source": [
    "arr = [1, 2., 3]\n",
    "print(type(arr))\n",
    "print(arr)\n",
    "print('=' * 50)\n",
    "\n",
    "# 실수형 데이터의 dtype 기본값은 np.float이고 64비트 실수 데이터를 의미한다. => np.float64와 같다.\n",
    "# 정수형 데이터의 dtype은 np.float, np.float16, np.float32, np.float64를 사용할 수 있다.\n",
    "a = np.array(arr)\n",
    "pprint(a)"
   ]
  },
  {
   "cell_type": "code",
   "execution_count": 7,
   "id": "22f0a77c",
   "metadata": {},
   "outputs": [
    {
     "name": "stdout",
     "output_type": "stream",
     "text": [
      "<class 'list'>\n",
      "[[1, 2, 3], [4, 5, 6]]\n",
      "==================================================\n",
      "type: <class 'numpy.ndarray'>\n",
      "shape: (2, 3), dimension: 2, dtype: float64\n",
      "numpy 배열의 데이터\n",
      "[[1. 2. 3.]\n",
      " [4. 5. 6.]]\n"
     ]
    }
   ],
   "source": [
    "# 파이썬 2차원 list로 numpy 배열 만들기\n",
    "arr = [[1, 2, 3], [4, 5, 6]]\n",
    "print(type(arr))\n",
    "print(arr)\n",
    "print('=' * 50)\n",
    "\n",
    "a = np.array(arr, dtype=np.float)\n",
    "pprint(a)"
   ]
  },
  {
   "cell_type": "code",
   "execution_count": 8,
   "id": "090ef23e",
   "metadata": {},
   "outputs": [
    {
     "name": "stdout",
     "output_type": "stream",
     "text": [
      "<class 'list'>\n",
      "[[[1, 2, 3], [4, 5, 6]], [[11, 22, 33], [44, 55, 66]]]\n",
      "==================================================\n",
      "type: <class 'numpy.ndarray'>\n",
      "shape: (2, 2, 3), dimension: 3, dtype: int32\n",
      "numpy 배열의 데이터\n",
      "[[[ 1  2  3]\n",
      "  [ 4  5  6]]\n",
      "\n",
      " [[11 22 33]\n",
      "  [44 55 66]]]\n"
     ]
    }
   ],
   "source": [
    "# 파이썬 3차원 list로 numpy 배열 만들기\n",
    "arr = [[[1, 2, 3], [4, 5, 6]], [[11, 22, 33], [44, 55, 66]]]\n",
    "print(type(arr))\n",
    "print(arr)\n",
    "print('=' * 50)\n",
    "\n",
    "a = np.array(arr)\n",
    "pprint(a)"
   ]
  },
  {
   "cell_type": "markdown",
   "id": "e82fd96a",
   "metadata": {},
   "source": [
    "numpy는 원하는 shape으로 배열을 생성하고 각 요소들을 특정 값으로 초기화시키는 메소드를 제공한다."
   ]
  },
  {
   "cell_type": "code",
   "execution_count": 9,
   "id": "7af90add",
   "metadata": {},
   "outputs": [
    {
     "name": "stdout",
     "output_type": "stream",
     "text": [
      "type: <class 'numpy.ndarray'>\n",
      "shape: (3, 4), dimension: 2, dtype: int32\n",
      "numpy 배열의 데이터\n",
      "[[0 0 0 0]\n",
      " [0 0 0 0]\n",
      " [0 0 0 0]]\n"
     ]
    }
   ],
   "source": [
    "# zeros() 메소드는 지정된 shape 만큼의 배열을 생성하고 모든 요소를 0으로 초기화시킨다. => 영행렬\n",
    "# zeros(shape[, dtype, order]) # dtype, order는 생략 가능하다.\n",
    "# order => 2차원 이상의 배열일 경우 데이터가 채워지는 방식을 지정한다.\n",
    "# c, c++, java, c#, python => 행 우선 방식, fortran => 열 우선 방식\n",
    "# a = np.zeros(shape=(3, 4)) # dtype을 생략하면 np.float64로 배열이 만들어진다. \n",
    "a = np.zeros(shape=(3, 4), dtype=np.int) # dtype을 지정하면 지정된 dtype으로 배열이 만들어진다.\n",
    "# a = np.zeros(shape=(3, 4), dtype=np.int, order='f') # 열 우선 방식으로 초기화시킨다.\n",
    "pprint(a)"
   ]
  },
  {
   "cell_type": "code",
   "execution_count": 10,
   "id": "e4c9d54a",
   "metadata": {},
   "outputs": [
    {
     "name": "stdout",
     "output_type": "stream",
     "text": [
      "type: <class 'numpy.ndarray'>\n",
      "shape: (3, 4), dimension: 2, dtype: int32\n",
      "numpy 배열의 데이터\n",
      "[[1 1 1 1]\n",
      " [1 1 1 1]\n",
      " [1 1 1 1]]\n"
     ]
    }
   ],
   "source": [
    "# ones() 메소드는 지정된 shape 만큼의 배열을 생성하고 모든 요소를 1로 초기화시킨다.\n",
    "# ones(shape[, dtype, order])\n",
    "a = np.ones(shape=(3, 4), dtype=np.int)\n",
    "pprint(a)"
   ]
  },
  {
   "cell_type": "code",
   "execution_count": 11,
   "id": "1c429ca9",
   "metadata": {},
   "outputs": [
    {
     "name": "stdout",
     "output_type": "stream",
     "text": [
      "type: <class 'numpy.ndarray'>\n",
      "shape: (3, 4), dimension: 2, dtype: int32\n",
      "numpy 배열의 데이터\n",
      "[[7 7 7 7]\n",
      " [7 7 7 7]\n",
      " [7 7 7 7]]\n"
     ]
    }
   ],
   "source": [
    "# full() 메소드는 지정된 shape 만큼의 배열을 생성하고 모든 요소를 특정 값으로 초기화시킨다.\n",
    "# full(shape, fill_value[, dtype, order])\n",
    "a = np.full(shape=(3, 4), fill_value=7, dtype=np.int)\n",
    "pprint(a)"
   ]
  },
  {
   "cell_type": "code",
   "execution_count": 12,
   "id": "32e299df",
   "metadata": {},
   "outputs": [
    {
     "name": "stdout",
     "output_type": "stream",
     "text": [
      "type: <class 'numpy.ndarray'>\n",
      "shape: (5, 5), dimension: 2, dtype: int32\n",
      "numpy 배열의 데이터\n",
      "[[1 0 0 0 0]\n",
      " [0 1 0 0 0]\n",
      " [0 0 1 0 0]\n",
      " [0 0 0 1 0]\n",
      " [0 0 0 0 1]]\n"
     ]
    }
   ],
   "source": [
    "# eye() 메소드는 지정된 shape 만큼의 크기를 가지는 단위 행렬(주 대각 요소만 1이고 나머지는 0인 행렬)을 만든다.\n",
    "# eye(n[, dtype])\n",
    "a = np.eye(5, dtype=np.int)\n",
    "pprint(a)"
   ]
  },
  {
   "cell_type": "code",
   "execution_count": 13,
   "id": "f829d1d3",
   "metadata": {},
   "outputs": [
    {
     "name": "stdout",
     "output_type": "stream",
     "text": [
      "type: <class 'numpy.ndarray'>\n",
      "shape: (3, 4), dimension: 2, dtype: float64\n",
      "numpy 배열의 데이터\n",
      "[[9.17226340e-312 3.16202013e-322 0.00000000e+000 0.00000000e+000]\n",
      " [1.18831764e-312 5.34622215e-038 1.33893102e-075 9.14126273e-071]\n",
      " [2.25119356e+184 2.65146766e-052 1.47770114e-075 9.14626364e-071]]\n"
     ]
    }
   ],
   "source": [
    "# empty() 메소드는 지정된 shape 만큼의 배열을 만들기만 하고 초기화를 하지 않는다. => 쓰레가 저장된다.\n",
    "# empty(shape[, dtype, order])\n",
    "a = np.empty(shape=(3, 4))\n",
    "pprint(a)"
   ]
  },
  {
   "cell_type": "markdown",
   "id": "592fc459",
   "metadata": {},
   "source": [
    "like 메소드  \n",
    "numpy는 인수로 지정한 배열과 shape이 같은 배열을 만드는 like 메소드를 제공한다.  \n",
    "zeros_like(), ones_like(), full_like(), empty_like()"
   ]
  },
  {
   "cell_type": "code",
   "execution_count": 14,
   "id": "3f30b9e1",
   "metadata": {},
   "outputs": [
    {
     "name": "stdout",
     "output_type": "stream",
     "text": [
      "[[1 2 3]\n",
      " [4 5 6]]\n",
      "[[0 0 0]\n",
      " [0 0 0]]\n",
      "[[1 1 1]\n",
      " [1 1 1]]\n",
      "[[9 9 9]\n",
      " [9 9 9]]\n",
      "[[1058111344        432          0]\n",
      " [         0          1          0]]\n"
     ]
    }
   ],
   "source": [
    "a = np.array([[1, 2, 3], [4, 5, 6]])\n",
    "print(a)\n",
    "b = np.zeros_like(a)\n",
    "print(b)\n",
    "c = np.ones_like(a)\n",
    "print(c)\n",
    "d = np.full_like(a, fill_value=9)\n",
    "print(d)\n",
    "e = np.empty_like(a)\n",
    "print(e)"
   ]
  },
  {
   "cell_type": "markdown",
   "id": "f924ed14",
   "metadata": {},
   "source": [
    "시각화\n",
    "\n",
    "!pip install matplotlib"
   ]
  },
  {
   "cell_type": "code",
   "execution_count": 15,
   "id": "83a5c7cc",
   "metadata": {},
   "outputs": [],
   "source": [
    "import matplotlib.pyplot as plt # 시각화 라이브러리 import\n",
    "# %matplotlib inline\n",
    "# %matplotlib notebook"
   ]
  },
  {
   "cell_type": "markdown",
   "id": "cff61638",
   "metadata": {},
   "source": [
    "데이터 생성 메소드  \n",
    "numpy는 주어진 조건으로 데이터를 생성한 후 배열을 만드는 데이터 생성 메소드를 제공한다.  \n",
    "linspace(), arange(), logspace()"
   ]
  },
  {
   "cell_type": "code",
   "execution_count": 16,
   "id": "cf0d9689",
   "metadata": {},
   "outputs": [
    {
     "name": "stdout",
     "output_type": "stream",
     "text": [
      "type: <class 'numpy.ndarray'>\n",
      "shape: (5,), dimension: 1, dtype: float64\n",
      "numpy 배열의 데이터\n",
      "[0.   0.25 0.5  0.75 1.  ]\n"
     ]
    },
    {
     "data": {
      "image/png": "[encoded data removed]",
      "text/plain": [
       "<Figure size 576x432 with 1 Axes>"
      ]
     },
     "metadata": {
      "needs_background": "light"
     },
     "output_type": "display_data"
    }
   ],
   "source": [
    "# linspace() 메소드는 start 부터 stop의 범위에서 num개를 균일한 간격으로 데이터를 생성하고 배열을 만든다.\n",
    "# linspace(start, stop, num)\n",
    "a = np.linspace(0, 1, 5)\n",
    "pprint(a)\n",
    "\n",
    "plt.figure(figsize=(8, 6))\n",
    "plt.plot(a, 'o')\n",
    "plt.show()"
   ]
  },
  {
   "cell_type": "code",
   "execution_count": 17,
   "id": "0ee0273a",
   "metadata": {},
   "outputs": [
    {
     "name": "stdout",
     "output_type": "stream",
     "text": [
      "type: <class 'numpy.ndarray'>\n",
      "shape: (5,), dimension: 1, dtype: float32\n",
      "numpy 배열의 데이터\n",
      "[0. 2. 4. 6. 8.]\n"
     ]
    },
    {
     "data": {
      "image/png": "[encoded data removed]",
      "text/plain": [
       "<Figure size 576x432 with 1 Axes>"
      ]
     },
     "metadata": {
      "needs_background": "light"
     },
     "output_type": "display_data"
    }
   ],
   "source": [
    "# arange() 메소드는 start 부터 stop 미만까지 step 간격으로 데이터를 생성하고 배열을 만든다.\n",
    "# arange([start, ]stop[, step, dtype])\n",
    "# linspace() 메소드는 요소의 개수를 지정해 배열을 만들지만 arange() 메소드는 요소의 개수가 아닌 데이터의 간격을\n",
    "# 기준으로 균등한 간격의 배열을 만든다.\n",
    "# start를 생략하면 0, step을 생략하면 1이 기본값으로 사용된다.\n",
    "# arange(10), arange(0, 10), arange(0, 10, 1)은 모두 같은 기능이 실행된다.\n",
    "a = np.arange(0, 10, 2, dtype=np.float32)\n",
    "pprint(a)\n",
    "\n",
    "plt.figure(figsize=(8, 6))\n",
    "plt.plot(a, 'rs')\n",
    "plt.show()"
   ]
  },
  {
   "cell_type": "code",
   "execution_count": 18,
   "id": "70756fd7",
   "metadata": {},
   "outputs": [
    {
     "name": "stdout",
     "output_type": "stream",
     "text": [
      "type: <class 'numpy.ndarray'>\n",
      "shape: (100,), dimension: 1, dtype: float64\n",
      "numpy 배열의 데이터\n",
      "[   2.            2.13008218    2.26862504    2.41617889    2.5733298\n",
      "    2.74070197    2.91896021    3.10881256    3.31101312    3.52636502\n",
      "    3.75572364    4.            4.26016436    4.53725009    4.83235778\n",
      "    5.14665959    5.48140394    5.83792042    6.21762513    6.62202624\n",
      "    7.05273004    7.51144729    8.            8.52032872    9.07450018\n",
      "    9.66471556   10.29331918   10.96280788   11.67584085   12.43525025\n",
      "   13.24405248   14.10546008   15.02289457   16.           17.04065743\n",
      "   18.14900036   19.32943111   20.58663837   21.92561576   23.35168169\n",
      "   24.87050051   26.48810496   28.21092016   30.04578914   32.\n",
      "   34.08131486   36.29800071   38.65886222   41.17327674   43.85123151\n",
      "   46.70336338   49.74100102   52.97620991   56.42184032   60.09157828\n",
      "   64.           68.16262972   72.59600142   77.31772444   82.34655347\n",
      "   87.70246302   93.40672676   99.48200203  105.95241983  112.84368064\n",
      "  120.18315656  128.          136.32525945  145.19200284  154.63544888\n",
      "  164.69310695  175.40492604  186.81345353  198.96400407  211.90483965\n",
      "  225.68736128  240.36631313  256.          272.6505189   290.38400568\n",
      "  309.27089777  329.38621389  350.80985209  373.62690705  397.92800813\n",
      "  423.8096793   451.37472256  480.73262626  512.          545.30103779\n",
      "  580.76801136  618.54179554  658.77242778  701.61970418  747.25381411\n",
      "  795.85601627  847.6193586   902.74944512  961.46525252 1024.        ]\n"
     ]
    },
    {
     "data": {
      "image/png": "[encoded data removed]",
      "text/plain": [
       "<Figure size 576x432 with 1 Axes>"
      ]
     },
     "metadata": {
      "needs_background": "light"
     },
     "output_type": "display_data"
    }
   ],
   "source": [
    "# logspace() 메소드는 로그 스케일로 지정된 범위(start 부터 end 사이)에서 num개 만큼 균등한 간격으로 데이터를 생성하고\n",
    "# 배열을 만든다.\n",
    "# logspace(start, end, num[, base]) # base를 생략하면 10이 기본값으로 사용된다.\n",
    "a = np.logspace(1, 10, 100, base=2)\n",
    "pprint(a)\n",
    "\n",
    "plt.figure(figsize=(8, 6))\n",
    "plt.plot(a, 'r')\n",
    "plt.show()"
   ]
  },
  {
   "cell_type": "markdown",
   "id": "26146988",
   "metadata": {},
   "source": [
    "난수 기반 배열 생성  \n",
    "\n",
    "numpy는 난수 발생 및 배열을 생성하는 random 이라는 모듈을 제공하고 다음과 같은 메소드를 사용할 수 있다.  \n",
    "normal(), randn(), rand(), randint(), random()"
   ]
  },
  {
   "cell_type": "code",
   "execution_count": 19,
   "id": "3fbe0d0a",
   "metadata": {},
   "outputs": [
    {
     "name": "stdout",
     "output_type": "stream",
     "text": [
      "type: <class 'numpy.ndarray'>\n",
      "shape: (10,), dimension: 1, dtype: float64\n",
      "numpy 배열의 데이터\n",
      "[-0.15203569  0.29666171 -0.37054024  0.51130753  0.12850882  1.50209425\n",
      "  1.4372534  -0.11911568  1.82978902 -0.34490503]\n"
     ]
    },
    {
     "data": {
      "image/png": "[encoded data removed]",
      "text/plain": [
       "<Figure size 576x432 with 1 Axes>"
      ]
     },
     "metadata": {
      "needs_background": "light"
     },
     "output_type": "display_data"
    }
   ],
   "source": [
    "# normal() 메소드는 정규 분포를 따르는 난수 데이터를 생성하고 배열을 만든다.\n",
    "# normal(평균, 표준편차, 난수의 개수)\n",
    "a = np.random.normal(0, 1, 10)\n",
    "pprint(a)\n",
    "\n",
    "plt.figure(figsize=(8, 6))\n",
    "plt.hist(a)\n",
    "plt.show()"
   ]
  },
  {
   "cell_type": "code",
   "execution_count": 20,
   "id": "02df98aa",
   "metadata": {},
   "outputs": [
    {
     "name": "stdout",
     "output_type": "stream",
     "text": [
      "type: <class 'numpy.ndarray'>\n",
      "shape: (1000000,), dimension: 1, dtype: float64\n",
      "numpy 배열의 데이터\n",
      "[ 0.16920721 -0.22900375  0.09689698 ...  0.35137403 -0.00728816\n",
      "  0.01613971]\n"
     ]
    },
    {
     "data": {
      "image/png": "[encoded data removed]",
      "text/plain": [
       "<Figure size 576x432 with 1 Axes>"
      ]
     },
     "metadata": {
      "needs_background": "light"
     },
     "output_type": "display_data"
    }
   ],
   "source": [
    "a = np.random.normal(0, 1, 1000000)\n",
    "pprint(a)\n",
    "\n",
    "plt.figure(figsize=(8, 6))\n",
    "plt.hist(a, bins=100) # bins 옵션으로 히스토그램 막대(구간)의 개수를 지정할 수 있다.\n",
    "plt.show()"
   ]
  },
  {
   "cell_type": "code",
   "execution_count": 21,
   "id": "84c8507e",
   "metadata": {},
   "outputs": [
    {
     "name": "stdout",
     "output_type": "stream",
     "text": [
      "type: <class 'numpy.ndarray'>\n",
      "shape: (10,), dimension: 1, dtype: float64\n",
      "numpy 배열의 데이터\n",
      "[ 0.92400991  1.89170179  1.34927397  0.23034761  1.26391671 -0.06429255\n",
      " -0.23937916  0.17920558 -2.79272419 -0.9329488 ]\n"
     ]
    },
    {
     "data": {
      "image/png": "[encoded data removed]",
      "text/plain": [
       "<Figure size 576x432 with 1 Axes>"
      ]
     },
     "metadata": {
      "needs_background": "light"
     },
     "output_type": "display_data"
    }
   ],
   "source": [
    "# randn() 메소드는 표준 정규 분포(평균이 0, 표준편차 1)를 따르는 난수 데이터를 생성하고 배열을 만든다.\n",
    "# randn(난수의 개수)\n",
    "a = np.random.randn(10)\n",
    "pprint(a)\n",
    "\n",
    "plt.figure(figsize=(8, 6))\n",
    "plt.hist(a)\n",
    "plt.show()"
   ]
  },
  {
   "cell_type": "code",
   "execution_count": 22,
   "id": "4c7caec8",
   "metadata": {},
   "outputs": [
    {
     "name": "stdout",
     "output_type": "stream",
     "text": [
      "type: <class 'numpy.ndarray'>\n",
      "shape: (1000000,), dimension: 1, dtype: float64\n",
      "numpy 배열의 데이터\n",
      "[-1.67205763 -1.75099424  0.47048185 ... -0.51942695 -0.16212335\n",
      "  0.10831431]\n"
     ]
    },
    {
     "data": {
      "image/png": "[encoded data removed]",
      "text/plain": [
       "<Figure size 576x432 with 1 Axes>"
      ]
     },
     "metadata": {
      "needs_background": "light"
     },
     "output_type": "display_data"
    }
   ],
   "source": [
    "a = np.random.randn(1000000)\n",
    "pprint(a)\n",
    "\n",
    "plt.figure(figsize=(8, 6))\n",
    "plt.hist(a, bins=100)\n",
    "plt.show()"
   ]
  },
  {
   "cell_type": "code",
   "execution_count": 23,
   "id": "8a92cc4a",
   "metadata": {},
   "outputs": [
    {
     "name": "stdout",
     "output_type": "stream",
     "text": [
      "type: <class 'numpy.ndarray'>\n",
      "shape: (10,), dimension: 1, dtype: float64\n",
      "numpy 배열의 데이터\n",
      "[0.44867984 0.69883602 0.36289475 0.35465055 0.43677451 0.07334777\n",
      " 0.233151   0.67499305 0.11863722 0.2598177 ]\n"
     ]
    },
    {
     "data": {
      "image/png": "[encoded data removed]",
      "text/plain": [
       "<Figure size 576x432 with 1 Axes>"
      ]
     },
     "metadata": {
      "needs_background": "light"
     },
     "output_type": "display_data"
    }
   ],
   "source": [
    "# rand() 메소드는 0 ~ 1 사이의 균등 분포를 따르는 난수 데이터를 생성하고 배열을 만든다.\n",
    "# rand(난수의 개수)\n",
    "a = np.random.rand(10)\n",
    "pprint(a)\n",
    "\n",
    "plt.figure(figsize=(8, 6))\n",
    "plt.hist(a)\n",
    "plt.show()"
   ]
  },
  {
   "cell_type": "code",
   "execution_count": 24,
   "id": "a4b2c118",
   "metadata": {},
   "outputs": [
    {
     "name": "stdout",
     "output_type": "stream",
     "text": [
      "type: <class 'numpy.ndarray'>\n",
      "shape: (1000000,), dimension: 1, dtype: float64\n",
      "numpy 배열의 데이터\n",
      "[0.01677971 0.95378063 0.36704944 ... 0.45863579 0.58242878 0.66688017]\n"
     ]
    },
    {
     "data": {
      "image/png": "[encoded data removed]",
      "text/plain": [
       "<Figure size 576x432 with 1 Axes>"
      ]
     },
     "metadata": {
      "needs_background": "light"
     },
     "output_type": "display_data"
    }
   ],
   "source": [
    "a = np.random.rand(1000000)\n",
    "pprint(a)\n",
    "\n",
    "plt.figure(figsize=(8, 6))\n",
    "plt.hist(a, bins=100)\n",
    "plt.show()"
   ]
  },
  {
   "cell_type": "code",
   "execution_count": 25,
   "id": "15ac7f47",
   "metadata": {},
   "outputs": [
    {
     "name": "stdout",
     "output_type": "stream",
     "text": [
      "type: <class 'numpy.ndarray'>\n",
      "shape: (3, 4), dimension: 2, dtype: float64\n",
      "numpy 배열의 데이터\n",
      "[[0.52724618 0.58654526 0.91704333 0.04372869]\n",
      " [0.90058587 0.93039852 0.55891505 0.60484995]\n",
      " [0.06444816 0.41730962 0.95785403 0.93306998]]\n"
     ]
    }
   ],
   "source": [
    "a = np.random.rand(3, 4)\n",
    "pprint(a)"
   ]
  },
  {
   "cell_type": "code",
   "execution_count": 26,
   "id": "c0da42fd",
   "metadata": {},
   "outputs": [
    {
     "name": "stdout",
     "output_type": "stream",
     "text": [
      "type: <class 'numpy.ndarray'>\n",
      "shape: (6,), dimension: 1, dtype: int32\n",
      "numpy 배열의 데이터\n",
      "[45  2 22 10 17 38]\n"
     ]
    }
   ],
   "source": [
    "# randint() 메소드는 지정된 크기(low 부터 high 미만) 만큼의 범위에서 정수로 난수 데이터를 생성하고 배열을 만든다.\n",
    "# rand(low, high, 난수의 개수)\n",
    "a = np.random.randint(1, 46, 6)\n",
    "pprint(a)"
   ]
  },
  {
   "cell_type": "code",
   "execution_count": 27,
   "id": "aa44f6f3",
   "metadata": {},
   "outputs": [
    {
     "data": {
      "image/png": "[encoded data removed]",
      "text/plain": [
       "<Figure size 576x432 with 1 Axes>"
      ]
     },
     "metadata": {
      "needs_background": "light"
     },
     "output_type": "display_data"
    }
   ],
   "source": [
    "# -100에서 100 사이의 난수를 발생시킨다.\n",
    "a = np.random.randint(-100, 100, 1000000)\n",
    "plt.figure(figsize=(8, 6))\n",
    "plt.hist(a, bins=100)\n",
    "plt.show()"
   ]
  },
  {
   "cell_type": "code",
   "execution_count": 28,
   "id": "6152850e",
   "metadata": {},
   "outputs": [
    {
     "name": "stdout",
     "output_type": "stream",
     "text": [
      "type: <class 'numpy.ndarray'>\n",
      "shape: (3, 4), dimension: 2, dtype: int32\n",
      "numpy 배열의 데이터\n",
      "[[-8  0 -4 -4]\n",
      " [ 1  9  3  2]\n",
      " [ 4  2 -4  4]]\n"
     ]
    }
   ],
   "source": [
    "a = np.random.randint(-10, 10, (3, 4))\n",
    "pprint(a)"
   ]
  },
  {
   "cell_type": "code",
   "execution_count": 29,
   "id": "8149022b",
   "metadata": {},
   "outputs": [
    {
     "name": "stdout",
     "output_type": "stream",
     "text": [
      "type: <class 'numpy.ndarray'>\n",
      "shape: (10,), dimension: 1, dtype: float64\n",
      "numpy 배열의 데이터\n",
      "[0.10754034 0.89498019 0.99459137 0.49923498 0.98892223 0.85663165\n",
      " 0.26620391 0.64030675 0.99058521 0.47228635]\n"
     ]
    }
   ],
   "source": [
    "# random() 메소드는 0부터 1 사이의 균등 분포에서 난수로 데이터를 생성하고 배열을 ㅁ나든다.\n",
    "# random(난수의 개수)\n",
    "a = np.random.random(10)\n",
    "pprint(a)"
   ]
  },
  {
   "cell_type": "code",
   "execution_count": 30,
   "id": "31b9de21",
   "metadata": {},
   "outputs": [
    {
     "data": {
      "image/png": "[encoded data removed]",
      "text/plain": [
       "<Figure size 576x432 with 1 Axes>"
      ]
     },
     "metadata": {
      "needs_background": "light"
     },
     "output_type": "display_data"
    }
   ],
   "source": [
    "a = np.random.random(1000000)\n",
    "plt.figure(figsize=(8, 6))\n",
    "plt.hist(a, bins=100)\n",
    "plt.show()"
   ]
  },
  {
   "cell_type": "code",
   "execution_count": 31,
   "id": "d6c5d245",
   "metadata": {},
   "outputs": [
    {
     "name": "stdout",
     "output_type": "stream",
     "text": [
      "type: <class 'numpy.ndarray'>\n",
      "shape: (3, 4), dimension: 2, dtype: float64\n",
      "numpy 배열의 데이터\n",
      "[[0.20141988 0.95928535 0.59543229 0.09711128]\n",
      " [0.08961259 0.25559178 0.81325592 0.71563304]\n",
      " [0.8247282  0.72669859 0.18630202 0.67803369]]\n"
     ]
    }
   ],
   "source": [
    "a = np.random.random((3, 4))\n",
    "pprint(a)"
   ]
  },
  {
   "cell_type": "markdown",
   "id": "b89e11fe",
   "metadata": {},
   "source": [
    "약속된 난수\n",
    "\n",
    "무작위 수를 발생시키는 난수 발생 메소드는 특정 시작 숫자로부터 난수처럼 보이는 수열을 만드는 알고리즘의 결과물이다.  \n",
    "따라서 시작점을 설정하면 난수 발행을 재연할 수 있다. => 매번 같은 배열의 난수가 발생되게 할 수 있다."
   ]
  },
  {
   "cell_type": "code",
   "execution_count": 47,
   "id": "bda2bb02",
   "metadata": {},
   "outputs": [
    {
     "name": "stdout",
     "output_type": "stream",
     "text": [
      "[[0.54340494 0.27836939 0.42451759]\n",
      " [0.84477613 0.00471886 0.12156912]]\n",
      "[[0.67074908 0.82585276 0.13670659]\n",
      " [0.57509333 0.89132195 0.20920212]]\n",
      "[[0 9 6]\n",
      " [2 4 1]]\n"
     ]
    }
   ],
   "source": [
    "# seed() 메소드로 매번 같은 배열의 난수를 얻을 수 있다.\n",
    "np.random.seed(100)\n",
    "print(np.random.rand(2, 3))\n",
    "print(np.random.random((2, 3)))\n",
    "print(np.random.randint(0, 10, (2, 3)))"
   ]
  },
  {
   "cell_type": "markdown",
   "id": "d6726e8b",
   "metadata": {},
   "source": [
    "배열의 상태 검사"
   ]
  },
  {
   "cell_type": "code",
   "execution_count": null,
   "id": "874cae97",
   "metadata": {},
   "outputs": [],
   "source": [
    "# numpy는 배열의 상태를 검사하는 다음과 같은 방법을 제공한다.\n",
    "# 배열 속성 검사 항목    배열 속성 확인 방법      예시                 결과\n",
    "# 배열 shape             넘파이배열.shape         arr.shape            (5, 2, 3)\n",
    "# 배열 길이              len(넘파이배열)          len(arr)             5\n",
    "# 배열 차원              넘파이배열.ndim          arr.ndim             3\n",
    "# 배열 요소 개수         넘파이배열.size          arr.size             30\n",
    "# 배열 타입              넘파이배열.dtype         arr.dtype            dtype('float64')\n",
    "# 배열 타입 이름         넘파이배열.dtype.name    arr.dtype.name       float64\n",
    "# 배열 타입 변환         넘파이배열.astype()      arr.astype(np.int)"
   ]
  },
  {
   "cell_type": "code",
   "execution_count": 48,
   "id": "7b62201f",
   "metadata": {},
   "outputs": [
    {
     "name": "stdout",
     "output_type": "stream",
     "text": [
      "type: <class 'numpy.ndarray'>\n",
      "shape: (2, 3, 6), dimension: 3, dtype: float64\n",
      "numpy 배열의 데이터\n",
      "[[[0.07898787 0.31135313 0.63238359 0.69935892 0.64196495 0.92002378]\n",
      "  [0.29887635 0.56874553 0.17862432 0.5325737  0.64669147 0.14206538]\n",
      "  [0.58138896 0.47918994 0.38641911 0.44046495 0.40475733 0.44225404]]\n",
      "\n",
      " [[0.03012328 0.77600531 0.55095838 0.3810734  0.52926578 0.9568769 ]\n",
      "  [0.17582131 0.11830284 0.86294567 0.07486688 0.82509486 0.83613181]\n",
      "  [0.07539491 0.01140079 0.04842057 0.35712271 0.66569338 0.01138961]]]\n"
     ]
    }
   ],
   "source": [
    "arr = np.random.random((2, 3, 6))\n",
    "pprint(arr)"
   ]
  },
  {
   "cell_type": "markdown",
   "id": "bf06f97a",
   "metadata": {},
   "source": [
    "numpy 배열 객체는 다음과 같은 방법으로 속성을 확인할 수 있다."
   ]
  },
  {
   "cell_type": "code",
   "execution_count": 49,
   "id": "550a8968",
   "metadata": {},
   "outputs": [
    {
     "name": "stdout",
     "output_type": "stream",
     "text": [
      "배열의 타입: <class 'numpy.ndarray'>\n"
     ]
    }
   ],
   "source": [
    "print('배열의 타입: {}'.format(type(arr)))"
   ]
  },
  {
   "cell_type": "code",
   "execution_count": 50,
   "id": "3651c955",
   "metadata": {},
   "outputs": [
    {
     "name": "stdout",
     "output_type": "stream",
     "text": [
      "배열의 shape: (2, 3, 6)\n"
     ]
    }
   ],
   "source": [
    "print('배열의 shape: {}'.format(arr.shape))"
   ]
  },
  {
   "cell_type": "code",
   "execution_count": 53,
   "id": "e49cd389",
   "metadata": {},
   "outputs": [
    {
     "name": "stdout",
     "output_type": "stream",
     "text": [
      "배열의 길이(면): 2\n",
      "배열의 길이(행): 3\n",
      "배열의 길이(열): 6\n"
     ]
    }
   ],
   "source": [
    "print('배열의 길이(면): {}'.format(len(arr)))\n",
    "print('배열의 길이(행): {}'.format(len(arr[0])))\n",
    "print('배열의 길이(열): {}'.format(len(arr[0][0])))"
   ]
  },
  {
   "cell_type": "code",
   "execution_count": 54,
   "id": "3eedfecf",
   "metadata": {},
   "outputs": [
    {
     "name": "stdout",
     "output_type": "stream",
     "text": [
      "배열의 차원: 3\n"
     ]
    }
   ],
   "source": [
    "print('배열의 차원: {}'.format(arr.ndim))"
   ]
  },
  {
   "cell_type": "code",
   "execution_count": 55,
   "id": "74e60f57",
   "metadata": {},
   "outputs": [
    {
     "name": "stdout",
     "output_type": "stream",
     "text": [
      "배열의 요소 개수: 36\n"
     ]
    }
   ],
   "source": [
    "print('배열의 요소 개수: {}'.format(arr.size))"
   ]
  },
  {
   "cell_type": "code",
   "execution_count": 57,
   "id": "f18dc3cf",
   "metadata": {},
   "outputs": [
    {
     "name": "stdout",
     "output_type": "stream",
     "text": [
      "배열의 데이터 타입: float64\n",
      "배열의 데이터 타입 이름: float64\n"
     ]
    }
   ],
   "source": [
    "print('배열의 데이터 타입: {}'.format(arr.dtype))\n",
    "print('배열의 데이터 타입 이름: {}'.format(arr.dtype.name))"
   ]
  },
  {
   "cell_type": "code",
   "execution_count": 60,
   "id": "fc672a1b",
   "metadata": {},
   "outputs": [
    {
     "name": "stdout",
     "output_type": "stream",
     "text": [
      "[[[0 0 0 0 0 0]\n",
      "  [0 0 0 0 0 0]\n",
      "  [0 0 0 0 0 0]]\n",
      "\n",
      " [[0 0 0 0 0 0]\n",
      "  [0 0 0 0 0 0]\n",
      "  [0 0 0 0 0 0]]]\n",
      "[[[0.07898787 0.31135313 0.63238359 0.69935892 0.64196495 0.92002378]\n",
      "  [0.29887635 0.56874553 0.17862432 0.5325737  0.64669147 0.14206538]\n",
      "  [0.58138896 0.47918994 0.38641911 0.44046495 0.40475733 0.44225404]]\n",
      "\n",
      " [[0.03012328 0.77600531 0.55095838 0.3810734  0.52926578 0.9568769 ]\n",
      "  [0.17582131 0.11830284 0.86294567 0.07486688 0.82509486 0.83613181]\n",
      "  [0.07539491 0.01140079 0.04842057 0.35712271 0.66569338 0.01138961]]]\n",
      "================================================================================\n",
      "[[[0 0 0 0 0 0]\n",
      "  [0 0 0 0 0 0]\n",
      "  [0 0 0 0 0 0]]\n",
      "\n",
      " [[0 0 0 0 0 0]\n",
      "  [0 0 0 0 0 0]\n",
      "  [0 0 0 0 0 0]]]\n"
     ]
    }
   ],
   "source": [
    "# 배열 요소를 정수(int)로 변환한다.\n",
    "print(arr.astype(np.int))\n",
    "print(arr)\n",
    "print('=' * 80)\n",
    "\n",
    "arr = arr.astype(np.int)\n",
    "print(arr)"
   ]
  },
  {
   "cell_type": "code",
   "execution_count": null,
   "id": "821d5563",
   "metadata": {},
   "outputs": [],
   "source": []
  },
  {
   "cell_type": "code",
   "execution_count": null,
   "id": "337836f6",
   "metadata": {},
   "outputs": [],
   "source": []
  },
  {
   "cell_type": "code",
   "execution_count": null,
   "id": "464ac487",
   "metadata": {},
   "outputs": [],
   "source": []
  }
 ],
 "metadata": {
  "kernelspec": {
   "display_name": "Python 3",
   "language": "python",
   "name": "python3"
  },
  "language_info": {
   "codemirror_mode": {
    "name": "ipython",
    "version": 3
   },
   "file_extension": ".py",
   "mimetype": "text/x-python",
   "name": "python",
   "nbconvert_exporter": "python",
   "pygments_lexer": "ipython3",
   "version": "3.6.8"
  }
 },
 "nbformat": 4,
 "nbformat_minor": 5
}
