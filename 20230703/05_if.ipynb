{
 "cells": [
  {
   "cell_type": "markdown",
   "id": "573be519",
   "metadata": {},
   "source": [
    "if 명령 형식\n",
    "\n",
    "if 조건식:  \n",
    "&nbsp;&nbsp;&nbsp;&nbsp;조건식이 참일 경우 실행할 문장  \n",
    "&nbsp;&nbsp;&nbsp;&nbsp;...  \n",
    "else:  \n",
    "&nbsp;&nbsp;&nbsp;&nbsp;조건식이 거짓일 경우 실행할 문장  \n",
    "&nbsp;&nbsp;&nbsp;&nbsp;...\n",
    "***\n",
    "조건식을 만족하지 않을 때 아무런 일도 할 필요가 없다면 else 이하를 생략할 수 있다.  \n",
    "조건식을 만족하는 경우 또는 만족하지 않는 경우에 실행할 문장이 없다면 pass를 입력하면 된다."
   ]
  },
  {
   "cell_type": "markdown",
   "id": "60a36a1f",
   "metadata": {},
   "source": [
    "관계 연산자\n",
    "\n",
    "&nbsp;<&nbsp;&nbsp;: 작다, 미만  \n",
    "&nbsp;<= : 작거나 같다, 이하  \n",
    "&nbsp;>&nbsp;&nbsp;: 크다, 초과  \n",
    "&nbsp;>= : 크거나 같다, 이상  \n",
    "&nbsp;== : 같다  \n",
    "&nbsp;!= : 같지 않다  "
   ]
  },
  {
   "cell_type": "markdown",
   "id": "dab5d84f",
   "metadata": {},
   "source": [
    "논리 연산자\n",
    "\n",
    "and : 논리곱, 두 조건이 모두 참일 경우에만 참, ~이고, ~이면서, ~중에서  \n",
    "or&nbsp;&nbsp;: 논리합, 두 조건 중에서 한 개 이상 참일 경우에 참, ~또는, ~이거나  \n",
    "not : 논리 부정\n",
    "\n",
    "<img src=\"./images/andOrNot.png\" align=\"left\" width=\"800\" title=\"논리 연산자\">"
   ]
  },
  {
   "cell_type": "markdown",
   "id": "39971e94",
   "metadata": {},
   "source": [
    "연산자 우선순위\n",
    "\n",
    "단항 연산자 => 이상 연산자 => 삼항 연산자 => 대입 연산자('='와 같이 사용한다.)  \n",
    "이항 연사자: ** => *, /, //, % => +, - => 관계 연산자 => 논리 연산자(not => and => or)"
   ]
  },
  {
   "cell_type": "code",
   "execution_count": 8,
   "id": "3deda6d2",
   "metadata": {},
   "outputs": [
    {
     "name": "stdout",
     "output_type": "stream",
     "text": [
      "나이를 입력하세요: 18\n",
      "<class 'int'>\n",
      "투표권이 있습니다.\n"
     ]
    }
   ],
   "source": [
    "# 나이를 입력받아 투표권이 있나 없나 판단한다.\n",
    "age = int(input('나이를 입력하세요: '))\n",
    "print(type(age))\n",
    "\n",
    "if age >= 18:\n",
    "    print('투표권이 있습니다.')\n",
    "else:\n",
    "    print('투표권이 없습니다.')"
   ]
  },
  {
   "cell_type": "code",
   "execution_count": 19,
   "id": "8caec09b",
   "metadata": {},
   "outputs": [
    {
     "name": "stdout",
     "output_type": "stream",
     "text": [
      "주민등록번호 13자리를 \"-\"없이 입력하세요: 8304223185600\n",
      "3\n",
      "<class 'str'>\n",
      "여자\n",
      "남자\n",
      "남자\n",
      "================================================================================\n",
      "남자\n",
      "남자\n",
      "================================================================================\n",
      "남자\n"
     ]
    }
   ],
   "source": [
    "# 주민등록번호를 입력받아 성별을 판단한다.\n",
    "jumin = input('주민등록번호 13자리를 \"-\"없이 입력하세요: ')\n",
    "print(jumin[6])\n",
    "print(type(jumin[6]))\n",
    "\n",
    "# 문자열로 비교\n",
    "if jumin[6] == '1': # 2000년 이후에 태어난 남자의 성별이 모두 여자로 출력된다.\n",
    "    print('남자')\n",
    "else:\n",
    "    print('여자')\n",
    "    \n",
    "if jumin[6] == '1' or jumin[6] == '3' or jumin[6] == '5':\n",
    "    print('남자')\n",
    "else:\n",
    "    print('여자')\n",
    "    \n",
    "if jumin[6] in ['1', '3', '5']: # in 연산자 <=> not in 연산자\n",
    "    print('남자')\n",
    "else:\n",
    "    print('여자')\n",
    "print('=' * 80)\n",
    "    \n",
    "# 숫자로 비교\n",
    "if int(jumin[6]) == 1 or int(jumin[6]) == 3 or int(jumin[6]) == 5:\n",
    "    print('남자')\n",
    "else:\n",
    "    print('여자')\n",
    "\n",
    "if int(jumin[6]) in [1, 3, 5]:\n",
    "    print('남자')\n",
    "else:\n",
    "    print('여자')\n",
    "print('=' * 80)\n",
    "\n",
    "# 성별이 홀수면 남자, 짝수면 여자로 비교\n",
    "if int(jumin[6]) % 2 == 1:\n",
    "    print('남자')\n",
    "else:\n",
    "    print('여자')"
   ]
  },
  {
   "cell_type": "code",
   "execution_count": 31,
   "id": "cc242286",
   "metadata": {},
   "outputs": [
    {
     "name": "stdout",
     "output_type": "stream",
     "text": [
      "주민등록번호 13자리를 \"-\"없이 입력하세요: 0304224185600\n",
      "03\n",
      "03\n",
      "<class 'str'>\n",
      "3\n",
      "<class 'int'>\n",
      "당신의 출생 년도는 2003년 이고 나이는 20세 입니다.\n",
      "당신의 출생 년도는 2003년 이고 나이는 20세 입니다.\n",
      "당신의 출생 년도는 2003년 이고 나이는 20세 입니다.\n",
      "당신의 출생 년도는 2003년 이고 나이는 20세 입니다.\n"
     ]
    }
   ],
   "source": [
    "# 주민등록번호를 입력받아 나이를 출력한다.\n",
    "jumin = input('주민등록번호 13자리를 \"-\"없이 입력하세요: ')\n",
    "print(jumin[0:2])\n",
    "print(jumin[:2])\n",
    "print(type(jumin[:2]))\n",
    "year = int(jumin[:2])\n",
    "print(year)\n",
    "print(type(year))\n",
    "\n",
    "# 성별이 2이하면 1900년대에 그렇치 않으면 2000년대에 태어났다.\n",
    "'''\n",
    "if jumin[6] <= '2':\n",
    "    # year = year + 1900\n",
    "    # 대입 연산자\n",
    "    # '='와 같이 사용하는 연산자를 말하며 우선순위가 가장 늦다. => +=, -=, *=, /=, //=, %=\n",
    "    year += 1900\n",
    "else:\n",
    "    year += 2000\n",
    "'''\n",
    "# 삼항 연산자(간단한 if ~ else) => C/C++이나 java는 '?:'를 사용한다.\n",
    "# 형식 => 조건이 참일 때 실행할 문장 if 조건식 else 조건이 거짓일 때 실행할 문장\n",
    "# year라는 변수에 1900을 더할건데 만약에 jumin[6] <= '2' 조건을 만족하지 않는다면 2000을 더할거야\n",
    "year += 1900 if jumin[6] <= '2' else 2000\n",
    "\n",
    "print('당신의 출생 년도는 {}년 이고 나이는 {}세 입니다.'.format(year, 2023 - year))\n",
    "\n",
    "from datetime import datetime as dt\n",
    "today = dt.now()\n",
    "print('당신의 출생 년도는 %d년 이고 나이는 %d세 입니다.' % (year, today.year - year))\n",
    "print('당신의 출생 년도는 {}년 이고 나이는 {}세 입니다.'.format(year, today.year - year))\n",
    "print(f'당신의 출생 년도는 {year}년 이고 나이는 {today.year - year}세 입니다.')"
   ]
  },
  {
   "cell_type": "code",
   "execution_count": 44,
   "id": "a21dca9b",
   "metadata": {},
   "outputs": [
    {
     "name": "stdout",
     "output_type": "stream",
     "text": [
      "윤년/평년을 판단할 년도를 입력하세요: 2100\n",
      "2100년은 평년입니다.\n",
      "2100년은 평년입니다.\n"
     ]
    }
   ],
   "source": [
    "# 윤년, 평년 판단하기\n",
    "# 년도가 4로 나눠 떨어지고(and) 100으로 나눠 떨어지지 않거나(or) 400으로 나눠 떨어지면 윤년, 그렇치 않으면 평년\n",
    "year = int(input('윤년/평년을 판단할 년도를 입력하세요: '))\n",
    "\n",
    "# 프로그램에서 여러번 사용되는 데이터나 연산 결과는 변수에 저장해서 사용하면 편리하다.\n",
    "isLeapYear = year % 4 == 0 and year % 100 != 0 or year % 400 == 0\n",
    "\n",
    "if isLeapYear:\n",
    "    print('{}년은 윤년입니다.'.format(year))\n",
    "else:\n",
    "    print('{}년은 평년입니다.'.format(year))\n",
    "    \n",
    "print('{}년은 {}년입니다.'.format(year, '윤' if isLeapYear else '평'))"
   ]
  },
  {
   "cell_type": "code",
   "execution_count": 52,
   "id": "529c7c2b",
   "metadata": {},
   "outputs": [
    {
     "name": "stdout",
     "output_type": "stream",
     "text": [
      "3과목 점수를 입력하세요: 60 60 59\n",
      "총점: 179점, 평균: 59.67점\n",
      "평균: 59.67점, 등급: F\n"
     ]
    }
   ],
   "source": [
    "# 세 과목 점수를 입력받아 평균 점수가 90점 이상이면 A, 80점 이상이면 B, 70점 이상이면 C, 60점 이상이면 D,\n",
    "# 그 이외의 경우 F를 출력한다.\n",
    "java, jsp, python = map(int, input('3과목 점수를 입력하세요: ').split())\n",
    "total = java + jsp + python\n",
    "mean = total / 3\n",
    "print('총점: {:3d}점, 평균: {:.2f}점'.format(total, mean))\n",
    "\n",
    "if mean >= 90:\n",
    "    print('평균: {:.2f}점, 등급: A'.format(mean))\n",
    "'''\n",
    "# 파이썬은 80 <= mean < 90와 같은 형태의 조건도 사용할 수 있다.\n",
    "if 80 <= mean < 90:\n",
    "    print('평균: {:.2f}점, 등급: B'.format(mean))\n",
    "'''\n",
    "if mean < 90 and mean >= 80:\n",
    "    print('평균: {:.2f}점, 등급: B'.format(mean))\n",
    "if mean < 80 and mean >= 70:\n",
    "    print('평균: {:.2f}점, 등급: C'.format(mean))\n",
    "if mean < 70 and mean >= 60:\n",
    "    print('평균: {:.2f}점, 등급: D'.format(mean))\n",
    "if mean < 60:\n",
    "    print('평균: {:.2f}점, 등급: F'.format(mean))"
   ]
  },
  {
   "cell_type": "code",
   "execution_count": 58,
   "id": "e60f36a5",
   "metadata": {},
   "outputs": [
    {
     "name": "stdout",
     "output_type": "stream",
     "text": [
      "3과목 점수를 입력하세요: 60 60 59\n",
      "총점: 179점, 평균: 59.67점\n",
      "평균: 59.67점, 등급: F\n"
     ]
    }
   ],
   "source": [
    "java, jsp, python = map(int, input('3과목 점수를 입력하세요: ').split())\n",
    "total = java + jsp + python\n",
    "mean = total / 3\n",
    "print('총점: {:3d}점, 평균: {:.2f}점'.format(total, mean))\n",
    "\n",
    "if mean >= 90:\n",
    "    print('평균: {:.2f}점, 등급: A'.format(mean))\n",
    "elif mean < 90 and mean >= 80:\n",
    "    print('평균: {:.2f}점, 등급: B'.format(mean))\n",
    "elif mean < 80 and mean >= 70:\n",
    "    print('평균: {:.2f}점, 등급: C'.format(mean))\n",
    "elif mean < 70 and mean >= 60:\n",
    "    print('평균: {:.2f}점, 등급: D'.format(mean))\n",
    "else:\n",
    "    print('평균: {:.2f}점, 등급: F'.format(mean))"
   ]
  },
  {
   "cell_type": "code",
   "execution_count": 58,
   "id": "5e872889",
   "metadata": {},
   "outputs": [
    {
     "name": "stdout",
     "output_type": "stream",
     "text": [
      "3과목 점수를 입력하세요: 60 60 59\n",
      "총점: 179점, 평균: 59.67점\n",
      "평균: 59.67점, 등급: F\n"
     ]
    }
   ],
   "source": [
    "java, jsp, python = map(int, input('3과목 점수를 입력하세요: ').split())\n",
    "total = java + jsp + python\n",
    "mean = total / 3\n",
    "print('총점: {:3d}점, 평균: {:.2f}점'.format(total, mean))\n",
    "\n",
    "if mean >= 90:\n",
    "    print('평균: {:.2f}점, 등급: A'.format(mean))\n",
    "elif mean >= 80:\n",
    "    print('평균: {:.2f}점, 등급: B'.format(mean))\n",
    "elif mean >= 70:\n",
    "    print('평균: {:.2f}점, 등급: C'.format(mean))\n",
    "elif mean >= 60:\n",
    "    print('평균: {:.2f}점, 등급: D'.format(mean))\n",
    "else:\n",
    "    print('평균: {:.2f}점, 등급: F'.format(mean))"
   ]
  },
  {
   "cell_type": "code",
   "execution_count": 59,
   "id": "054647fe",
   "metadata": {},
   "outputs": [],
   "source": [
    "# 난수를 발생시키는 random 모듈을 import 한다.\n",
    "import random"
   ]
  },
  {
   "cell_type": "code",
   "execution_count": 103,
   "id": "e51fb973",
   "metadata": {},
   "outputs": [
    {
     "name": "stdout",
     "output_type": "stream",
     "text": [
      "3\n",
      "0.12017456666237936\n",
      "1\n"
     ]
    }
   ],
   "source": [
    "# randint(a, b) 메소드는 a부터 b사이의 난수를 정수로 발생시킨다.\n",
    "print(random.randint(1, 6))\n",
    "# random() 메소드는 0이상이고 1미만인 난수를 실수로 발생시킨다.\n",
    "print(random.random())\n",
    "# randrange(a, b) 메소드는 a부터 b-1 사이의 난수를 정수로 발생시킨다.\n",
    "print(random.randrange(1, 6))"
   ]
  },
  {
   "cell_type": "code",
   "execution_count": 115,
   "id": "9a52620f",
   "metadata": {},
   "outputs": [
    {
     "name": "stdout",
     "output_type": "stream",
     "text": [
      "가위(1), 바위(2), 보(3): 1\n",
      "cpu: 3, user: 1\n",
      "이겼다.\n"
     ]
    }
   ],
   "source": [
    "# 가위, 바위, 보\n",
    "cpu = random.randint(1, 3)\n",
    "user = int(input('가위(1), 바위(2), 보(3): '))\n",
    "print(f'cpu: {cpu}, user: {user}')\n",
    "\n",
    "# 이기는 경우: cpu == 1 이고 user == 2 또는 cpu == 2 이고 user == 3 또는 cpu == 3 이고 user == 1\n",
    "# 지는 경우: cpu == 1 이고 user == 3 또는 cpu == 2 이고 user == 1 또는 cpu == 3 이고 user == 2\n",
    "# 이기는 경우와 지는 경우를 제외한 나머지가 비기는 경우가 된다. cpu == user\n",
    "if cpu == user:\n",
    "    print('비겼다.')\n",
    "elif (cpu == 1 and user == 2) or (cpu == 2 and user == 3) or (cpu == 3 and user == 1):\n",
    "    print('이겼다.')\n",
    "else:\n",
    "    print('졌다.')"
   ]
  },
  {
   "cell_type": "code",
   "execution_count": null,
   "id": "86560538",
   "metadata": {},
   "outputs": [],
   "source": []
  },
  {
   "cell_type": "code",
   "execution_count": null,
   "id": "04228669",
   "metadata": {},
   "outputs": [],
   "source": []
  },
  {
   "cell_type": "code",
   "execution_count": null,
   "id": "2def3180",
   "metadata": {},
   "outputs": [],
   "source": []
  },
  {
   "cell_type": "code",
   "execution_count": null,
   "id": "fe629370",
   "metadata": {},
   "outputs": [],
   "source": []
  },
  {
   "cell_type": "code",
   "execution_count": null,
   "id": "825e2e5d",
   "metadata": {},
   "outputs": [],
   "source": []
  },
  {
   "cell_type": "code",
   "execution_count": null,
   "id": "b4773e75",
   "metadata": {},
   "outputs": [],
   "source": []
  }
 ],
 "metadata": {
  "kernelspec": {
   "display_name": "Python 3",
   "language": "python",
   "name": "python3"
  },
  "language_info": {
   "codemirror_mode": {
    "name": "ipython",
    "version": 3
   },
   "file_extension": ".py",
   "mimetype": "text/x-python",
   "name": "python",
   "nbconvert_exporter": "python",
   "pygments_lexer": "ipython3",
   "version": "3.6.8"
  }
 },
 "nbformat": 4,
 "nbformat_minor": 5
}
