{
 "cells": [
  {
   "cell_type": "code",
   "execution_count": 1,
   "id": "6be5d9d3",
   "metadata": {},
   "outputs": [
    {
     "name": "stdout",
     "output_type": "stream",
     "text": [
      "WARNING:tensorflow:From c:\\python\\lib\\site-packages\\tensorflow\\python\\compat\\v2_compat.py:101: disable_resource_variables (from tensorflow.python.ops.variable_scope) is deprecated and will be removed in a future version.\n",
      "Instructions for updating:\n",
      "non-resource variables are not supported in the long term\n"
     ]
    }
   ],
   "source": [
    "import warnings\n",
    "warnings.filterwarnings(action='ignore')\n",
    "%config Completer.use_jedi = False\n",
    "import tensorflow.compat.v1 as tf\n",
    "tf.disable_v2_behavior()\n",
    "import numpy as np\n",
    "import pandas as pd\n",
    "import matplotlib.pyplot as plt"
   ]
  },
  {
   "cell_type": "markdown",
   "id": "230356fd",
   "metadata": {},
   "source": [
    "word2Vec은 Word To Vector의 줄임말이다.  \n",
    "딥러닝 모델은 입력값으로 수치값을 받기 때문에 자연어 처리 분야에서 단어(word)들을 어떻게 수치(vector)로 변환하느냐가 딥러닝 모델의 성능을 결정하는 중요한 요소이다.\n",
    "\n",
    "word2Vec의 장점은 의미가 비슷한 단어는 벡터 공간에서도 서로 가까운 위치에 존재하게 되는 비지도 학습으로 말뭉치 데이터만 있으면 손쉽게 word2Vec를 구현할 수 있다.\n",
    "\n",
    "데이터 획득"
   ]
  },
  {
   "cell_type": "code",
   "execution_count": 2,
   "id": "c786b3ee",
   "metadata": {},
   "outputs": [
    {
     "name": "stdout",
     "output_type": "stream",
     "text": [
      "['king is a strong man', 'queen is a wise woman', 'boy is a young man', 'girl is a young woman', 'prince is a young king', 'princess is a young queen', 'man is strong', 'woman is pretty', 'prince is a boy will be king', 'princess is a girl will be queen']\n"
     ]
    }
   ],
   "source": [
    "corpus = [\n",
    "    'king is a strong man', \n",
    "    'queen is a wise woman', \n",
    "    'boy is a young man', \n",
    "    'girl is a young woman',\n",
    "    'prince is a young king', \n",
    "    'princess is a young queen', \n",
    "    'man is strong', \n",
    "    'woman is pretty',\n",
    "    'prince is a boy will be king', \n",
    "    'princess is a girl will be queen'\n",
    "]\n",
    "print(corpus)"
   ]
  },
  {
   "cell_type": "markdown",
   "id": "41cfa392",
   "metadata": {},
   "source": [
    "불용어(stop words) 제거하기  \n",
    "불용어란 학습에 도움이 되지도 않으면 빈번하게 발생되는 단어를 의미하며 효율적인 학습을 위해서 불용어를 데이터에서 제거한다."
   ]
  },
  {
   "cell_type": "code",
   "execution_count": 3,
   "id": "41567061",
   "metadata": {},
   "outputs": [],
   "source": [
    "# 불용어 제거 함수\n",
    "def remove_stop_words(corpus):\n",
    "    stop_words = ['is', 'a', 'will', 'be'] # 불용어 정의\n",
    "    results = [] # 불용어를 제거한 결과를 저장해서 리턴시킬 빈 리스트\n",
    "    # 불용어를 제거할 문장을 한 줄씩 읽어가며 반복한다.\n",
    "    for text in corpus:\n",
    "        # print(text)\n",
    "        # 불용어를 제거하기 위해서 공백을 경계로 문장을 단어 단위로 나눈다.\n",
    "        temp = text.split()\n",
    "        # print(temp)\n",
    "        # 불용어 개수만큼 반복하며 불용어를 제거할 문장에서 불용어를 제거한다.\n",
    "        for stop_word in stop_words:\n",
    "            # 불용어를 제거한다.\n",
    "            while stop_word in temp:\n",
    "                temp.remove(stop_word)\n",
    "            # ===== while\n",
    "        # ===== for\n",
    "        # print(temp)\n",
    "        # 불용어가 제거된 단어 사이에 공백을 넣어서 불용어가 제거된 문장을 만든다.\n",
    "        # print(' '.join(temp))\n",
    "        results.append(' '.join(temp))\n",
    "    return results"
   ]
  },
  {
   "cell_type": "code",
   "execution_count": 4,
   "id": "80c88d8e",
   "metadata": {},
   "outputs": [
    {
     "data": {
      "text/plain": [
       "['king strong man',\n",
       " 'queen wise woman',\n",
       " 'boy young man',\n",
       " 'girl young woman',\n",
       " 'prince young king',\n",
       " 'princess young queen',\n",
       " 'man strong',\n",
       " 'woman pretty',\n",
       " 'prince boy king',\n",
       " 'princess girl queen']"
      ]
     },
     "execution_count": 4,
     "metadata": {},
     "output_type": "execute_result"
    }
   ],
   "source": [
    "corpus = remove_stop_words(corpus)\n",
    "corpus"
   ]
  },
  {
   "cell_type": "code",
   "execution_count": 5,
   "id": "49c2847e",
   "metadata": {},
   "outputs": [
    {
     "name": "stdout",
     "output_type": "stream",
     "text": [
      "['king', 'strong', 'man', 'queen', 'wise', 'woman', 'boy', 'young', 'man', 'girl', 'young', 'woman', 'prince', 'young', 'king', 'princess', 'young', 'queen', 'man', 'strong', 'woman', 'pretty', 'prince', 'boy', 'king', 'princess', 'girl', 'queen']\n"
     ]
    }
   ],
   "source": [
    "# 불용어를 제거한 후 데이터에 존재하는 단어들은 다음과 같다.\n",
    "words = []\n",
    "for text in corpus:\n",
    "    for word in text.split():\n",
    "        words.append(word)\n",
    "print(words) # 중복되는 단어가 존재한다."
   ]
  },
  {
   "cell_type": "markdown",
   "id": "849ed5a0",
   "metadata": {},
   "source": [
    "불용어를 제거한 단어의 중복을 제거한다."
   ]
  },
  {
   "cell_type": "code",
   "execution_count": 6,
   "id": "d3c645e9",
   "metadata": {},
   "outputs": [
    {
     "name": "stdout",
     "output_type": "stream",
     "text": [
      "{'strong', 'king', 'boy', 'woman', 'princess', 'queen', 'girl', 'young', 'prince', 'pretty', 'man', 'wise'}\n"
     ]
    }
   ],
   "source": [
    "words = set(words)\n",
    "print(words) # 중복되는 단어가 존재하지 않는다."
   ]
  },
  {
   "cell_type": "markdown",
   "id": "46ce41e9",
   "metadata": {},
   "source": [
    "단어별 인덱스 매핑 테이블 만들기  \n",
    "단어를 원-핫 인코딩으로 변환하기 위해서 먼저 인덱스로 인코딩 해야하고 단어를 손쉽게 인덱싱하기 위해서 key는 단어이고 value는 인덱스인 딕셔너리를 만든다."
   ]
  },
  {
   "cell_type": "code",
   "execution_count": 7,
   "id": "37bd5e73",
   "metadata": {},
   "outputs": [
    {
     "name": "stdout",
     "output_type": "stream",
     "text": [
      "0 strong\n",
      "1 king\n",
      "2 boy\n",
      "3 woman\n",
      "4 princess\n",
      "5 queen\n",
      "6 girl\n",
      "7 young\n",
      "8 prince\n",
      "9 pretty\n",
      "10 man\n",
      "11 wise\n"
     ]
    }
   ],
   "source": [
    "for index, word in enumerate(words):\n",
    "    print(index, word)"
   ]
  },
  {
   "cell_type": "code",
   "execution_count": 8,
   "id": "c4a7aaae",
   "metadata": {},
   "outputs": [
    {
     "name": "stdout",
     "output_type": "stream",
     "text": [
      "{'strong': 0, 'king': 1, 'boy': 2, 'woman': 3, 'princess': 4, 'queen': 5, 'girl': 6, 'young': 7, 'prince': 8, 'pretty': 9, 'man': 10, 'wise': 11}\n"
     ]
    }
   ],
   "source": [
    "word2int = {}\n",
    "for index, word in enumerate(words):\n",
    "    word2int[word] = index\n",
    "print(word2int)"
   ]
  },
  {
   "cell_type": "markdown",
   "id": "a4d1c0dc",
   "metadata": {},
   "source": [
    "<img src=\"./images/skipgram1.png\" align=\"left\" width=\"1400\"/>"
   ]
  },
  {
   "cell_type": "markdown",
   "id": "dd3f3359",
   "metadata": {},
   "source": [
    "<img src=\"./images/skipgram2.png\" align=\"left\" width=\"1400\"/>"
   ]
  },
  {
   "cell_type": "markdown",
   "id": "93d96cc1",
   "metadata": {},
   "source": [
    "<img src=\"./images/skipgram3.png\" align=\"left\" width=\"1400\"/>"
   ]
  },
  {
   "cell_type": "markdown",
   "id": "9811553d",
   "metadata": {},
   "source": [
    "<img src=\"./images/skipgram4.png\" align=\"left\" width=\"1400\"/>"
   ]
  },
  {
   "cell_type": "markdown",
   "id": "dd86bcd8",
   "metadata": {},
   "source": [
    "<img src=\"./images/skipgram5.png\" align=\"left\" width=\"1400\"/>"
   ]
  },
  {
   "cell_type": "markdown",
   "id": "ada3330e",
   "metadata": {},
   "source": [
    "<img src=\"./images/skipgram6.png\" align=\"left\" width=\"1400\"/>"
   ]
  },
  {
   "cell_type": "markdown",
   "id": "a57378d0",
   "metadata": {},
   "source": [
    "skip gram 방식으로 각 단어별 레이블을 생성한다."
   ]
  },
  {
   "cell_type": "code",
   "execution_count": 9,
   "id": "20551baf",
   "metadata": {},
   "outputs": [
    {
     "name": "stdout",
     "output_type": "stream",
     "text": [
      "[['king', 'strong', 'man'], ['queen', 'wise', 'woman'], ['boy', 'young', 'man'], ['girl', 'young', 'woman'], ['prince', 'young', 'king'], ['princess', 'young', 'queen'], ['man', 'strong'], ['woman', 'pretty'], ['prince', 'boy', 'king'], ['princess', 'girl', 'queen']]\n"
     ]
    }
   ],
   "source": [
    "sentences = []\n",
    "for sentence in corpus:\n",
    "    sentences.append(sentence.split())\n",
    "print(sentences)"
   ]
  },
  {
   "cell_type": "code",
   "execution_count": 10,
   "id": "323ad372",
   "metadata": {},
   "outputs": [],
   "source": [
    "WINDOW_SIZE = 2\n",
    "data = []\n",
    "# 단어별 레이블을 생성할 문장의 개수만큼 반복하며 레이블을 생성한다.\n",
    "for sentence in sentences:\n",
    "    # print('sentence: {}'.format(sentence))\n",
    "    for index, word in enumerate(sentence):\n",
    "        # print('index: {}, word: {}'.format(index, word))\n",
    "        for neighbor in sentence[max(index - WINDOW_SIZE, 0):min(index + WINDOW_SIZE, len(sentence)) + 1]:\n",
    "            if word != neighbor:\n",
    "                # print('{} neighbor: {}'.format(word, neighbor))\n",
    "                data.append([word, neighbor])\n",
    "            # ===== if\n",
    "        # ===== for neighbor\n",
    "        # print('=' * 80)\n",
    "    # ===== for index, word\n",
    "# ===== for sentence"
   ]
  },
  {
   "cell_type": "code",
   "execution_count": 11,
   "id": "f852bbbf",
   "metadata": {
    "scrolled": true
   },
   "outputs": [
    {
     "data": {
      "text/html": [
       "<div>\n",
       "<style scoped>\n",
       "    .dataframe tbody tr th:only-of-type {\n",
       "        vertical-align: middle;\n",
       "    }\n",
       "\n",
       "    .dataframe tbody tr th {\n",
       "        vertical-align: top;\n",
       "    }\n",
       "\n",
       "    .dataframe thead th {\n",
       "        text-align: right;\n",
       "    }\n",
       "</style>\n",
       "<table border=\"1\" class=\"dataframe\">\n",
       "  <thead>\n",
       "    <tr style=\"text-align: right;\">\n",
       "      <th></th>\n",
       "      <th>input</th>\n",
       "      <th>label</th>\n",
       "    </tr>\n",
       "  </thead>\n",
       "  <tbody>\n",
       "    <tr>\n",
       "      <th>0</th>\n",
       "      <td>king</td>\n",
       "      <td>strong</td>\n",
       "    </tr>\n",
       "    <tr>\n",
       "      <th>1</th>\n",
       "      <td>king</td>\n",
       "      <td>man</td>\n",
       "    </tr>\n",
       "    <tr>\n",
       "      <th>2</th>\n",
       "      <td>strong</td>\n",
       "      <td>king</td>\n",
       "    </tr>\n",
       "    <tr>\n",
       "      <th>3</th>\n",
       "      <td>strong</td>\n",
       "      <td>man</td>\n",
       "    </tr>\n",
       "    <tr>\n",
       "      <th>4</th>\n",
       "      <td>man</td>\n",
       "      <td>king</td>\n",
       "    </tr>\n",
       "    <tr>\n",
       "      <th>5</th>\n",
       "      <td>man</td>\n",
       "      <td>strong</td>\n",
       "    </tr>\n",
       "    <tr>\n",
       "      <th>6</th>\n",
       "      <td>queen</td>\n",
       "      <td>wise</td>\n",
       "    </tr>\n",
       "    <tr>\n",
       "      <th>7</th>\n",
       "      <td>queen</td>\n",
       "      <td>woman</td>\n",
       "    </tr>\n",
       "    <tr>\n",
       "      <th>8</th>\n",
       "      <td>wise</td>\n",
       "      <td>queen</td>\n",
       "    </tr>\n",
       "    <tr>\n",
       "      <th>9</th>\n",
       "      <td>wise</td>\n",
       "      <td>woman</td>\n",
       "    </tr>\n",
       "    <tr>\n",
       "      <th>10</th>\n",
       "      <td>woman</td>\n",
       "      <td>queen</td>\n",
       "    </tr>\n",
       "    <tr>\n",
       "      <th>11</th>\n",
       "      <td>woman</td>\n",
       "      <td>wise</td>\n",
       "    </tr>\n",
       "    <tr>\n",
       "      <th>12</th>\n",
       "      <td>boy</td>\n",
       "      <td>young</td>\n",
       "    </tr>\n",
       "    <tr>\n",
       "      <th>13</th>\n",
       "      <td>boy</td>\n",
       "      <td>man</td>\n",
       "    </tr>\n",
       "    <tr>\n",
       "      <th>14</th>\n",
       "      <td>young</td>\n",
       "      <td>boy</td>\n",
       "    </tr>\n",
       "    <tr>\n",
       "      <th>15</th>\n",
       "      <td>young</td>\n",
       "      <td>man</td>\n",
       "    </tr>\n",
       "    <tr>\n",
       "      <th>16</th>\n",
       "      <td>man</td>\n",
       "      <td>boy</td>\n",
       "    </tr>\n",
       "    <tr>\n",
       "      <th>17</th>\n",
       "      <td>man</td>\n",
       "      <td>young</td>\n",
       "    </tr>\n",
       "    <tr>\n",
       "      <th>18</th>\n",
       "      <td>girl</td>\n",
       "      <td>young</td>\n",
       "    </tr>\n",
       "    <tr>\n",
       "      <th>19</th>\n",
       "      <td>girl</td>\n",
       "      <td>woman</td>\n",
       "    </tr>\n",
       "    <tr>\n",
       "      <th>20</th>\n",
       "      <td>young</td>\n",
       "      <td>girl</td>\n",
       "    </tr>\n",
       "    <tr>\n",
       "      <th>21</th>\n",
       "      <td>young</td>\n",
       "      <td>woman</td>\n",
       "    </tr>\n",
       "    <tr>\n",
       "      <th>22</th>\n",
       "      <td>woman</td>\n",
       "      <td>girl</td>\n",
       "    </tr>\n",
       "    <tr>\n",
       "      <th>23</th>\n",
       "      <td>woman</td>\n",
       "      <td>young</td>\n",
       "    </tr>\n",
       "    <tr>\n",
       "      <th>24</th>\n",
       "      <td>prince</td>\n",
       "      <td>young</td>\n",
       "    </tr>\n",
       "    <tr>\n",
       "      <th>25</th>\n",
       "      <td>prince</td>\n",
       "      <td>king</td>\n",
       "    </tr>\n",
       "    <tr>\n",
       "      <th>26</th>\n",
       "      <td>young</td>\n",
       "      <td>prince</td>\n",
       "    </tr>\n",
       "    <tr>\n",
       "      <th>27</th>\n",
       "      <td>young</td>\n",
       "      <td>king</td>\n",
       "    </tr>\n",
       "    <tr>\n",
       "      <th>28</th>\n",
       "      <td>king</td>\n",
       "      <td>prince</td>\n",
       "    </tr>\n",
       "    <tr>\n",
       "      <th>29</th>\n",
       "      <td>king</td>\n",
       "      <td>young</td>\n",
       "    </tr>\n",
       "    <tr>\n",
       "      <th>30</th>\n",
       "      <td>princess</td>\n",
       "      <td>young</td>\n",
       "    </tr>\n",
       "    <tr>\n",
       "      <th>31</th>\n",
       "      <td>princess</td>\n",
       "      <td>queen</td>\n",
       "    </tr>\n",
       "    <tr>\n",
       "      <th>32</th>\n",
       "      <td>young</td>\n",
       "      <td>princess</td>\n",
       "    </tr>\n",
       "    <tr>\n",
       "      <th>33</th>\n",
       "      <td>young</td>\n",
       "      <td>queen</td>\n",
       "    </tr>\n",
       "    <tr>\n",
       "      <th>34</th>\n",
       "      <td>queen</td>\n",
       "      <td>princess</td>\n",
       "    </tr>\n",
       "    <tr>\n",
       "      <th>35</th>\n",
       "      <td>queen</td>\n",
       "      <td>young</td>\n",
       "    </tr>\n",
       "    <tr>\n",
       "      <th>36</th>\n",
       "      <td>man</td>\n",
       "      <td>strong</td>\n",
       "    </tr>\n",
       "    <tr>\n",
       "      <th>37</th>\n",
       "      <td>strong</td>\n",
       "      <td>man</td>\n",
       "    </tr>\n",
       "    <tr>\n",
       "      <th>38</th>\n",
       "      <td>woman</td>\n",
       "      <td>pretty</td>\n",
       "    </tr>\n",
       "    <tr>\n",
       "      <th>39</th>\n",
       "      <td>pretty</td>\n",
       "      <td>woman</td>\n",
       "    </tr>\n",
       "    <tr>\n",
       "      <th>40</th>\n",
       "      <td>prince</td>\n",
       "      <td>boy</td>\n",
       "    </tr>\n",
       "    <tr>\n",
       "      <th>41</th>\n",
       "      <td>prince</td>\n",
       "      <td>king</td>\n",
       "    </tr>\n",
       "    <tr>\n",
       "      <th>42</th>\n",
       "      <td>boy</td>\n",
       "      <td>prince</td>\n",
       "    </tr>\n",
       "    <tr>\n",
       "      <th>43</th>\n",
       "      <td>boy</td>\n",
       "      <td>king</td>\n",
       "    </tr>\n",
       "    <tr>\n",
       "      <th>44</th>\n",
       "      <td>king</td>\n",
       "      <td>prince</td>\n",
       "    </tr>\n",
       "    <tr>\n",
       "      <th>45</th>\n",
       "      <td>king</td>\n",
       "      <td>boy</td>\n",
       "    </tr>\n",
       "    <tr>\n",
       "      <th>46</th>\n",
       "      <td>princess</td>\n",
       "      <td>girl</td>\n",
       "    </tr>\n",
       "    <tr>\n",
       "      <th>47</th>\n",
       "      <td>princess</td>\n",
       "      <td>queen</td>\n",
       "    </tr>\n",
       "    <tr>\n",
       "      <th>48</th>\n",
       "      <td>girl</td>\n",
       "      <td>princess</td>\n",
       "    </tr>\n",
       "    <tr>\n",
       "      <th>49</th>\n",
       "      <td>girl</td>\n",
       "      <td>queen</td>\n",
       "    </tr>\n",
       "    <tr>\n",
       "      <th>50</th>\n",
       "      <td>queen</td>\n",
       "      <td>princess</td>\n",
       "    </tr>\n",
       "    <tr>\n",
       "      <th>51</th>\n",
       "      <td>queen</td>\n",
       "      <td>girl</td>\n",
       "    </tr>\n",
       "  </tbody>\n",
       "</table>\n",
       "</div>"
      ],
      "text/plain": [
       "       input     label\n",
       "0       king    strong\n",
       "1       king       man\n",
       "2     strong      king\n",
       "3     strong       man\n",
       "4        man      king\n",
       "5        man    strong\n",
       "6      queen      wise\n",
       "7      queen     woman\n",
       "8       wise     queen\n",
       "9       wise     woman\n",
       "10     woman     queen\n",
       "11     woman      wise\n",
       "12       boy     young\n",
       "13       boy       man\n",
       "14     young       boy\n",
       "15     young       man\n",
       "16       man       boy\n",
       "17       man     young\n",
       "18      girl     young\n",
       "19      girl     woman\n",
       "20     young      girl\n",
       "21     young     woman\n",
       "22     woman      girl\n",
       "23     woman     young\n",
       "24    prince     young\n",
       "25    prince      king\n",
       "26     young    prince\n",
       "27     young      king\n",
       "28      king    prince\n",
       "29      king     young\n",
       "30  princess     young\n",
       "31  princess     queen\n",
       "32     young  princess\n",
       "33     young     queen\n",
       "34     queen  princess\n",
       "35     queen     young\n",
       "36       man    strong\n",
       "37    strong       man\n",
       "38     woman    pretty\n",
       "39    pretty     woman\n",
       "40    prince       boy\n",
       "41    prince      king\n",
       "42       boy    prince\n",
       "43       boy      king\n",
       "44      king    prince\n",
       "45      king       boy\n",
       "46  princess      girl\n",
       "47  princess     queen\n",
       "48      girl  princess\n",
       "49      girl     queen\n",
       "50     queen  princess\n",
       "51     queen      girl"
      ]
     },
     "execution_count": 11,
     "metadata": {},
     "output_type": "execute_result"
    }
   ],
   "source": [
    "df = pd.DataFrame(data, columns=['input', 'label'])\n",
    "df"
   ]
  },
  {
   "cell_type": "markdown",
   "id": "11434a98",
   "metadata": {},
   "source": [
    "word2Vec 모델 구현하기\n",
    "\n",
    "<img src=\"./images/word2vec.png\" align=\"left\" width=\"800\"/>"
   ]
  },
  {
   "cell_type": "code",
   "execution_count": 12,
   "id": "41fee45f",
   "metadata": {},
   "outputs": [],
   "source": [
    "# key(단어)에 할당된 value(인덱스)를 원-핫 인코딩으로 전환하는 함수를 만든다.\n",
    "ONE_HOT_DIM = len(words)\n",
    "def one_hot_encoding(index):\n",
    "    # print(index)\n",
    "    one_hot = np.zeros(ONE_HOT_DIM)\n",
    "    one_hot[index] = 1\n",
    "    # print(one_hot)\n",
    "    return one_hot"
   ]
  },
  {
   "cell_type": "code",
   "execution_count": 13,
   "id": "a1fbf3a4",
   "metadata": {},
   "outputs": [
    {
     "name": "stdout",
     "output_type": "stream",
     "text": [
      "[1. 0. 0. 0. 0. 0. 0. 0. 0. 0. 0. 0.]\n",
      "[0. 1. 0. 0. 0. 0. 0. 0. 0. 0. 0. 0.]\n",
      "[0. 0. 1. 0. 0. 0. 0. 0. 0. 0. 0. 0.]\n",
      "[0. 0. 0. 1. 0. 0. 0. 0. 0. 0. 0. 0.]\n",
      "[0. 0. 0. 0. 1. 0. 0. 0. 0. 0. 0. 0.]\n",
      "[0. 0. 0. 0. 0. 1. 0. 0. 0. 0. 0. 0.]\n",
      "[0. 0. 0. 0. 0. 0. 1. 0. 0. 0. 0. 0.]\n",
      "[0. 0. 0. 0. 0. 0. 0. 1. 0. 0. 0. 0.]\n",
      "[0. 0. 0. 0. 0. 0. 0. 0. 1. 0. 0. 0.]\n",
      "[0. 0. 0. 0. 0. 0. 0. 0. 0. 1. 0. 0.]\n",
      "[0. 0. 0. 0. 0. 0. 0. 0. 0. 0. 1. 0.]\n",
      "[0. 0. 0. 0. 0. 0. 0. 0. 0. 0. 0. 1.]\n"
     ]
    }
   ],
   "source": [
    "for w in word2int:\n",
    "    # print(w, word2int[w])\n",
    "    result = one_hot_encoding(word2int[w])\n",
    "    print(result)"
   ]
  },
  {
   "cell_type": "code",
   "execution_count": 14,
   "id": "5a37b97a",
   "metadata": {},
   "outputs": [],
   "source": [
    "X = [] # 입력 단어가 원-핫 인코딩으로 변환된 결과를 기억할 빈 리스트\n",
    "Y = [] # 입력 단에어 따른 레이블이 원-핫 인코딩으로 변환된 결과를 기억할 빈 리스트\n",
    "\n",
    "# 데이터프레임에 저장된 입력과 입력에 따른 결과를 원-핫 인코딩으로 변환해서 X, Y 리스트에 저장한다.\n",
    "for x, y in zip(df.input, df.label):\n",
    "    # print(x, y)\n",
    "    X.append(one_hot_encoding(word2int[x]))\n",
    "    Y.append(one_hot_encoding(word2int[y]))\n",
    "# print(df.input[0], X[0], df.label[0], Y[0])"
   ]
  },
  {
   "cell_type": "code",
   "execution_count": 15,
   "id": "40377735",
   "metadata": {
    "scrolled": false
   },
   "outputs": [],
   "source": [
    "# 모델을 만든다.\n",
    "# 넘파이의 array() 메소드는 파이썬의 리스트나 튜플을 넘파이 배열(ndarray)을 만든다.\n",
    "# 넘파이의 asarray() 메소드는 인수로 지정한 데이터가 이미 넘파이 배열 형태의 데이터라면 복사만 한다.\n",
    "X_train = np.asarray(X)\n",
    "Y_train = np.asarray(Y)\n",
    "# print(X_train[0], Y_train[0])\n",
    "\n",
    "# 입력 단어와 입력 단어에 따른 레이블을 저장할 placehold를 선언한다.\n",
    "x = tf.placeholder(dtype=tf.float32, shape=[None, ONE_HOT_DIM])\n",
    "y = tf.placeholder(dtype=tf.float32, shape=[None, ONE_HOT_DIM])\n",
    "\n",
    "# 시각화를 위해 2차원으로 설정한다.\n",
    "EMBEDDING_DIM = 2\n",
    "\n",
    "# 히든 레이어\n",
    "W1 = tf.Variable(tf.truncated_normal([ONE_HOT_DIM, EMBEDDING_DIM], stddev=0.1))\n",
    "hidden_layer = tf.matmul(x, W1)\n",
    "\n",
    "# 출력 레이어\n",
    "W2 = tf.Variable(tf.random_normal([EMBEDDING_DIM, ONE_HOT_DIM]))\n",
    "b2 = tf.Variable(tf.random_normal([1]))\n",
    "predict = tf.nn.softmax(tf.add(tf.matmul(hidden_layer, W2), b2))\n",
    "\n",
    "# 크로스 엔트로피 손실 함수\n",
    "loss = tf.reduce_mean(-tf.reduce_sum(y * tf.log(predict), axis=1))\n",
    "\n",
    "# 최적화\n",
    "train_op = tf.train.GradientDescentOptimizer(0.01).minimize(loss)"
   ]
  },
  {
   "cell_type": "markdown",
   "id": "102d5fc8",
   "metadata": {},
   "source": [
    "학습 시킨다."
   ]
  },
  {
   "cell_type": "code",
   "execution_count": 16,
   "id": "d4d6ca7c",
   "metadata": {
    "scrolled": true
   },
   "outputs": [
    {
     "name": "stdout",
     "output_type": "stream",
     "text": [
      "epoch:     0, loss: 2.49303\n",
      "epoch:  2500, loss: 2.17067\n",
      "epoch:  5000, loss: 2.02365\n",
      "epoch:  7500, loss: 1.91558\n",
      "epoch: 10000, loss: 1.84696\n",
      "epoch: 12500, loss: 1.79750\n",
      "epoch: 15000, loss: 1.76881\n",
      "epoch: 17500, loss: 1.75156\n",
      "epoch: 20000, loss: 1.73937\n",
      "epoch: 22500, loss: 1.72995\n",
      "epoch: 25000, loss: 1.72229\n",
      "epoch: 27500, loss: 1.71590\n",
      "epoch: 30000, loss: 1.71047\n",
      "epoch: 32500, loss: 1.70578\n",
      "epoch: 35000, loss: 1.70169\n",
      "epoch: 37500, loss: 1.69806\n",
      "epoch: 40000, loss: 1.69482\n",
      "epoch: 42500, loss: 1.69190\n",
      "epoch: 45000, loss: 1.68923\n",
      "epoch: 47500, loss: 1.68679\n",
      "epoch: 50000, loss: 1.68453\n"
     ]
    }
   ],
   "source": [
    "sess = tf.Session()\n",
    "sess.run(tf.global_variables_initializer())\n",
    "for epoch in range(50001):\n",
    "    _, loss_ = sess.run([train_op, loss], feed_dict={x: X_train, y: Y_train})\n",
    "    if epoch % 2500 == 0:\n",
    "        print('epoch: {:5d}, loss: {:7.5f}'.format(epoch, loss_))"
   ]
  },
  {
   "cell_type": "markdown",
   "id": "99b2adba",
   "metadata": {},
   "source": [
    "히든 레이어의 값(word2Vec) 추출하기"
   ]
  },
  {
   "cell_type": "code",
   "execution_count": 17,
   "id": "2014fa40",
   "metadata": {},
   "outputs": [
    {
     "name": "stdout",
     "output_type": "stream",
     "text": [
      "[[ 1.9297559  -2.2120268 ]\n",
      " [-0.6680852  -0.7248074 ]\n",
      " [-0.56447786 -0.8113559 ]\n",
      " [-0.80334824  1.4206489 ]\n",
      " [-1.8103355   4.0366955 ]\n",
      " [-0.18092245  0.7165882 ]\n",
      " [-0.17035307  0.97963125]\n",
      " [ 0.43518338 -0.09483527]\n",
      " [-2.5903034  -2.7298927 ]\n",
      " [ 2.40775     0.69582975]\n",
      " [-2.573693   -2.371529  ]\n",
      " [ 0.5725767   2.9092033 ]]\n"
     ]
    }
   ],
   "source": [
    "vectors = sess.run(W1)\n",
    "print(vectors)"
   ]
  },
  {
   "cell_type": "markdown",
   "id": "4c9e7848",
   "metadata": {},
   "source": [
    "word2Vec의 히든 레이어값을 데이터프레임으로 저장한다."
   ]
  },
  {
   "cell_type": "code",
   "execution_count": 18,
   "id": "f119b6fd",
   "metadata": {},
   "outputs": [
    {
     "data": {
      "text/html": [
       "<div>\n",
       "<style scoped>\n",
       "    .dataframe tbody tr th:only-of-type {\n",
       "        vertical-align: middle;\n",
       "    }\n",
       "\n",
       "    .dataframe tbody tr th {\n",
       "        vertical-align: top;\n",
       "    }\n",
       "\n",
       "    .dataframe thead th {\n",
       "        text-align: right;\n",
       "    }\n",
       "</style>\n",
       "<table border=\"1\" class=\"dataframe\">\n",
       "  <thead>\n",
       "    <tr style=\"text-align: right;\">\n",
       "      <th></th>\n",
       "      <th>word</th>\n",
       "      <th>x1</th>\n",
       "      <th>x2</th>\n",
       "    </tr>\n",
       "  </thead>\n",
       "  <tbody>\n",
       "    <tr>\n",
       "      <th>0</th>\n",
       "      <td>strong</td>\n",
       "      <td>1.929756</td>\n",
       "      <td>-2.212027</td>\n",
       "    </tr>\n",
       "    <tr>\n",
       "      <th>1</th>\n",
       "      <td>king</td>\n",
       "      <td>-0.668085</td>\n",
       "      <td>-0.724807</td>\n",
       "    </tr>\n",
       "    <tr>\n",
       "      <th>2</th>\n",
       "      <td>boy</td>\n",
       "      <td>-0.564478</td>\n",
       "      <td>-0.811356</td>\n",
       "    </tr>\n",
       "    <tr>\n",
       "      <th>3</th>\n",
       "      <td>woman</td>\n",
       "      <td>-0.803348</td>\n",
       "      <td>1.420649</td>\n",
       "    </tr>\n",
       "    <tr>\n",
       "      <th>4</th>\n",
       "      <td>princess</td>\n",
       "      <td>-1.810336</td>\n",
       "      <td>4.036695</td>\n",
       "    </tr>\n",
       "    <tr>\n",
       "      <th>5</th>\n",
       "      <td>queen</td>\n",
       "      <td>-0.180922</td>\n",
       "      <td>0.716588</td>\n",
       "    </tr>\n",
       "    <tr>\n",
       "      <th>6</th>\n",
       "      <td>girl</td>\n",
       "      <td>-0.170353</td>\n",
       "      <td>0.979631</td>\n",
       "    </tr>\n",
       "    <tr>\n",
       "      <th>7</th>\n",
       "      <td>young</td>\n",
       "      <td>0.435183</td>\n",
       "      <td>-0.094835</td>\n",
       "    </tr>\n",
       "    <tr>\n",
       "      <th>8</th>\n",
       "      <td>prince</td>\n",
       "      <td>-2.590303</td>\n",
       "      <td>-2.729893</td>\n",
       "    </tr>\n",
       "    <tr>\n",
       "      <th>9</th>\n",
       "      <td>pretty</td>\n",
       "      <td>2.407750</td>\n",
       "      <td>0.695830</td>\n",
       "    </tr>\n",
       "    <tr>\n",
       "      <th>10</th>\n",
       "      <td>man</td>\n",
       "      <td>-2.573693</td>\n",
       "      <td>-2.371529</td>\n",
       "    </tr>\n",
       "    <tr>\n",
       "      <th>11</th>\n",
       "      <td>wise</td>\n",
       "      <td>0.572577</td>\n",
       "      <td>2.909203</td>\n",
       "    </tr>\n",
       "  </tbody>\n",
       "</table>\n",
       "</div>"
      ],
      "text/plain": [
       "        word        x1        x2\n",
       "0     strong  1.929756 -2.212027\n",
       "1       king -0.668085 -0.724807\n",
       "2        boy -0.564478 -0.811356\n",
       "3      woman -0.803348  1.420649\n",
       "4   princess -1.810336  4.036695\n",
       "5      queen -0.180922  0.716588\n",
       "6       girl -0.170353  0.979631\n",
       "7      young  0.435183 -0.094835\n",
       "8     prince -2.590303 -2.729893\n",
       "9     pretty  2.407750  0.695830\n",
       "10       man -2.573693 -2.371529\n",
       "11      wise  0.572577  2.909203"
      ]
     },
     "execution_count": 18,
     "metadata": {},
     "output_type": "execute_result"
    }
   ],
   "source": [
    "w2v_df = pd.DataFrame(vectors, columns=['x1', 'x2'])\n",
    "w2v_df['word'] = words\n",
    "w2v_df = w2v_df[['word', 'x1', 'x2']]\n",
    "w2v_df"
   ]
  },
  {
   "cell_type": "markdown",
   "id": "c359b1f9",
   "metadata": {},
   "source": [
    "woed2Vec를 2차원 공간에 시각화 한다."
   ]
  },
  {
   "cell_type": "code",
   "execution_count": 19,
   "id": "eeb54b4c",
   "metadata": {},
   "outputs": [
    {
     "data": {
      "image/png": "[encoded data removed]",
      "text/plain": [
       "<Figure size 432x288 with 1 Axes>"
      ]
     },
     "metadata": {
      "needs_background": "light"
     },
     "output_type": "display_data"
    }
   ],
   "source": [
    "fig, ax = plt.subplots()\n",
    "for word, x1, x2 in zip(w2v_df['word'], w2v_df['x1'], w2v_df['x2']):\n",
    "    ax.annotate(word, (x1, x2))\n",
    "    \n",
    "PADDING = 1.0\n",
    "x_axis_min = np.amin(vectors, axis=0)[0] - PADDING\n",
    "y_axis_min = np.amin(vectors, axis=0)[1] - PADDING\n",
    "x_axis_max = np.amax(vectors, axis=0)[0] + PADDING\n",
    "y_axis_max = np.amax(vectors, axis=0)[1] + PADDING\n",
    "\n",
    "plt.xlim(x_axis_min, x_axis_max)\n",
    "plt.ylim(y_axis_min, y_axis_max)\n",
    "plt.rcParams['figure.figsize'] = [8, 6]\n",
    "plt.show()"
   ]
  },
  {
   "cell_type": "code",
   "execution_count": null,
   "id": "70b78421",
   "metadata": {},
   "outputs": [],
   "source": []
  }
 ],
 "metadata": {
  "kernelspec": {
   "display_name": "Python 3",
   "language": "python",
   "name": "python3"
  },
  "language_info": {
   "codemirror_mode": {
    "name": "ipython",
    "version": 3
   },
   "file_extension": ".py",
   "mimetype": "text/x-python",
   "name": "python",
   "nbconvert_exporter": "python",
   "pygments_lexer": "ipython3",
   "version": "3.6.8"
  }
 },
 "nbformat": 4,
 "nbformat_minor": 5
}
