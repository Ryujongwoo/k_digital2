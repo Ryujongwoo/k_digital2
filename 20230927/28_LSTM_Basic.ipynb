{
 "cells": [
  {
   "cell_type": "code",
   "execution_count": 1,
   "id": "c818d0a4",
   "metadata": {},
   "outputs": [
    {
     "name": "stdout",
     "output_type": "stream",
     "text": [
      "WARNING:tensorflow:From c:\\python\\lib\\site-packages\\tensorflow\\python\\compat\\v2_compat.py:101: disable_resource_variables (from tensorflow.python.ops.variable_scope) is deprecated and will be removed in a future version.\n",
      "Instructions for updating:\n",
      "non-resource variables are not supported in the long term\n"
     ]
    }
   ],
   "source": [
    "import warnings\n",
    "warnings.filterwarnings(action='ignore')\n",
    "%config Completer.use_jedi = False\n",
    "import tensorflow.compat.v1 as tf\n",
    "tf.disable_v2_behavior()\n",
    "import numpy as np"
   ]
  },
  {
   "cell_type": "markdown",
   "id": "80cb56a2",
   "metadata": {},
   "source": [
    "LSTM(Long Short Term Memory)\n",
    "\n",
    "LSTM은 RNN에서 발생되는 단점인 기울기 소실(gradient vanishing) 또는 기울기 폭주(gradient exploding)와 같은 RNN의 단점을 극복하고자 만들어진 좀 더 진화된 RNN 셀로 LSTM 셀 내부를 살펴보면 기존 RNN의 단점을 극복하기 위해 이전의 정보를 지우거나 기억하기 위한 로직과 현재 정보를 기억하기 위한 로직이 구현되어 있다. 아래 그림을 살펴보면 RNN에서 보지못했던 주황색 선과 조금 더 많아진 활성화 함수와 수학 기호들을 볼 수 있다.\n",
    "\n",
    "<img src=\"./images/LSTM.png\" align=\"left\" width=\"900\"/>"
   ]
  },
  {
   "cell_type": "markdown",
   "id": "018fcc78",
   "metadata": {},
   "source": [
    "주황색 선은 메모리 셀이라고 부르고 주황색 선상의 곱하기 기호에서 0부터 1사이의 값인 시그모이드 출력값이 곱해지게 되어 메모리 셀의 기존 정보를 어느 정도까지 기억할지 결정하게 된다. 주황색 선상의 더하기 기호는 새로운 정보를 메모리 셀의 기존 정보에 더하는 로직이다. 그리고 $h_t$ 선상의 곱하기 기호에서 메모리 셀의 정보와 현재 정보가 함께 계산되어 상태값을 출력한다.\n",
    "\n",
    "텐서플로우에는 이미 LSTM이 구현되어 있기 때문에 위 그림을 직접 구현할 필요는 없고 아래 그림만 이해해도 사용하는데 큰 무리는 없다.\n",
    "\n",
    "<img src=\"./images/LSTM2.png\" align=\"left\" width=\"700\"/>"
   ]
  },
  {
   "cell_type": "markdown",
   "id": "006c3656",
   "metadata": {},
   "source": [
    "다음 코드를 실행해서 LSTM의 출력값 및 상태값 그리고 메모리 셀 값을 확인할 수 있다."
   ]
  },
  {
   "cell_type": "code",
   "execution_count": 2,
   "id": "62e01666",
   "metadata": {},
   "outputs": [
    {
     "name": "stdout",
     "output_type": "stream",
     "text": [
      "(1, 1, 2)\n",
      "[[[1 0]]]\n"
     ]
    }
   ],
   "source": [
    "inputs = np.array([[[1, 0]]])\n",
    "print(inputs.shape)\n",
    "print(inputs)"
   ]
  },
  {
   "cell_type": "code",
   "execution_count": 3,
   "id": "5aab6980",
   "metadata": {},
   "outputs": [
    {
     "name": "stdout",
     "output_type": "stream",
     "text": [
      "WARNING:tensorflow:From <ipython-input-3-4698b750d90a>:6: dynamic_rnn (from tensorflow.python.ops.rnn) is deprecated and will be removed in a future version.\n",
      "Instructions for updating:\n",
      "Please use `keras.layers.RNN(cell)`, which is equivalent to this API\n",
      "WARNING:tensorflow:From c:\\python\\lib\\site-packages\\keras\\layers\\legacy_rnn\\rnn_cell_impl.py:979: calling Zeros.__init__ (from tensorflow.python.ops.init_ops) with dtype is deprecated and will be removed in a future version.\n",
      "Instructions for updating:\n",
      "Call initializer instance with the dtype argument instead of passing it to the constructor\n"
     ]
    }
   ],
   "source": [
    "tf.set_random_seed(777)\n",
    "tf_inputs = tf.constant(inputs, dtype=tf.float32)\n",
    "\n",
    "# LSTM 셀을 만든다.\n",
    "lstm_cell = tf.nn.rnn_cell.LSTMCell(num_units=1)\n",
    "outputs, state = tf.nn.dynamic_rnn(cell=lstm_cell, dtype=tf.float32, inputs=tf_inputs)"
   ]
  },
  {
   "cell_type": "code",
   "execution_count": 15,
   "id": "d68cd842",
   "metadata": {},
   "outputs": [
    {
     "name": "stdout",
     "output_type": "stream",
     "text": [
      "LSTM 출력(output_lstm) 값: [[[-0.16485524]]]\n",
      "LSTM 상태(state_lstm.h) 값: [[-0.16485524]]\n",
      "LSTM 메모리 셀(state_lstm.c) 값: [[-0.35818553]]\n"
     ]
    }
   ],
   "source": [
    "with tf.Session() as sess:\n",
    "    sess.run(tf.global_variables_initializer())\n",
    "    output_lstm, state_lstm = sess.run([outputs, state])\n",
    "    print('LSTM 출력(output_lstm) 값: {}'.format(output_lstm))\n",
    "    print('LSTM 상태(state_lstm.h) 값: {}'.format(state_lstm.h))\n",
    "    print('LSTM 메모리 셀(state_lstm.c) 값: {}'.format(state_lstm.c))"
   ]
  },
  {
   "cell_type": "code",
   "execution_count": null,
   "id": "bc677a96",
   "metadata": {},
   "outputs": [],
   "source": []
  },
  {
   "cell_type": "code",
   "execution_count": null,
   "id": "119a5322",
   "metadata": {},
   "outputs": [],
   "source": []
  }
 ],
 "metadata": {
  "kernelspec": {
   "display_name": "Python 3",
   "language": "python",
   "name": "python3"
  },
  "language_info": {
   "codemirror_mode": {
    "name": "ipython",
    "version": 3
   },
   "file_extension": ".py",
   "mimetype": "text/x-python",
   "name": "python",
   "nbconvert_exporter": "python",
   "pygments_lexer": "ipython3",
   "version": "3.6.8"
  }
 },
 "nbformat": 4,
 "nbformat_minor": 5
}
