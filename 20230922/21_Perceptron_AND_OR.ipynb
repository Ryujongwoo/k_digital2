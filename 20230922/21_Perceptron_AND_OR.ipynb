{
 "cells": [
  {
   "cell_type": "markdown",
   "id": "f48564bd",
   "metadata": {},
   "source": [
    "<img src=\"./images/deepLearning1.png\" align=\"left\" width=\"1500\"/>"
   ]
  },
  {
   "cell_type": "markdown",
   "id": "0c19b02d",
   "metadata": {},
   "source": [
    "<img src=\"./images/deepLearning2.png\" align=\"left\" width=\"1500\"/>"
   ]
  },
  {
   "cell_type": "markdown",
   "id": "f9050863",
   "metadata": {},
   "source": [
    "<img src=\"./images/perceptron1.png\" align=\"left\" width=\"1500\"/>"
   ]
  },
  {
   "cell_type": "markdown",
   "id": "10af2505",
   "metadata": {},
   "source": [
    "<img src=\"./images/perceptron2.png\" align=\"left\" width=\"1500\"/>"
   ]
  },
  {
   "cell_type": "markdown",
   "id": "0645bdd7",
   "metadata": {},
   "source": [
    "<img src=\"./images/perceptron3.png\" align=\"left\" width=\"1500\"/>"
   ]
  },
  {
   "cell_type": "markdown",
   "id": "e54b8a47",
   "metadata": {},
   "source": [
    "<img src=\"./images/perceptron4.png\" align=\"left\" width=\"1500\"/>"
   ]
  },
  {
   "cell_type": "code",
   "execution_count": 1,
   "id": "bef2d7d3",
   "metadata": {},
   "outputs": [
    {
     "name": "stdout",
     "output_type": "stream",
     "text": [
      "WARNING:tensorflow:From c:\\python\\lib\\site-packages\\tensorflow\\python\\compat\\v2_compat.py:101: disable_resource_variables (from tensorflow.python.ops.variable_scope) is deprecated and will be removed in a future version.\n",
      "Instructions for updating:\n",
      "non-resource variables are not supported in the long term\n"
     ]
    }
   ],
   "source": [
    "import warnings\n",
    "warnings.filterwarnings(action='ignore')\n",
    "%config Completer.use_jedi = False\n",
    "import tensorflow.compat.v1 as tf\n",
    "tf.disable_v2_behavior()"
   ]
  },
  {
   "cell_type": "markdown",
   "id": "5bf6535b",
   "metadata": {},
   "source": [
    "퍼셉트론은 엄밀히 말하면 딥러닝은 아니지만 뉴런과 상당히 닮은 분류기이다.  \n",
    "뉴런의 계산 과정을 이해하고 뉴런 하나만으로 AND, OR 연산과 같은 기초적인 연산을 할 수 있음을 알아본다."
   ]
  },
  {
   "cell_type": "code",
   "execution_count": 2,
   "id": "9332cb69",
   "metadata": {},
   "outputs": [],
   "source": [
    "# 퍼셉트론 코드의 이해도를 높이기 위해 1을 True로 0을 False로 그리고 편향(bias)은 1로 지정한다.\n",
    "T = 1.0\n",
    "F = 0.0\n",
    "bias = 1.0"
   ]
  },
  {
   "cell_type": "markdown",
   "id": "0c7396b0",
   "metadata": {},
   "source": [
    "AND, OR, XOR 실습 데이터를 함수 형태로 정의해서 함수를 호출해서 데이터를 획득할 수 있게 한다."
   ]
  },
  {
   "cell_type": "code",
   "execution_count": 3,
   "id": "50069622",
   "metadata": {},
   "outputs": [],
   "source": [
    "def get_AND_data():\n",
    "    X = [\n",
    "        [F, F, bias],\n",
    "        [F, T, bias],\n",
    "        [T, F, bias],\n",
    "        [T, T, bias]\n",
    "    ] # 학습 데이터\n",
    "    Y = [\n",
    "        [F],\n",
    "        [F],\n",
    "        [F],\n",
    "        [T]\n",
    "    ] # 실제값, 레이블, 타겟, 클래스\n",
    "    return X, Y\n",
    "\n",
    "def get_OR_data():\n",
    "    X = [[F, F, bias], [F, T, bias], [T, F, bias], [T, T, bias]]\n",
    "    Y = [[F], [T], [T], [T]]\n",
    "    return X, Y\n",
    "\n",
    "def get_XOR_data():\n",
    "    X = [[F, F, bias], [F, T, bias], [T, F, bias], [T, T, bias]]\n",
    "    Y = [[F], [T], [T], [F]]\n",
    "    return X, Y"
   ]
  },
  {
   "cell_type": "code",
   "execution_count": 4,
   "id": "60e494af",
   "metadata": {},
   "outputs": [
    {
     "data": {
      "text/plain": [
       "([[0.0, 0.0, 1.0], [0.0, 1.0, 1.0], [1.0, 0.0, 1.0], [1.0, 1.0, 1.0]],\n",
       " [[0.0], [1.0], [1.0], [0.0]])"
      ]
     },
     "execution_count": 4,
     "metadata": {},
     "output_type": "execute_result"
    }
   ],
   "source": [
    "# AND 연산에 필요한 데이터를 호출한다.\n",
    "# X, Y = get_AND_data()\n",
    "# OR 연산에 필요한 데이터를 호출한다.\n",
    "# X, Y = get_OR_data()\n",
    "# XOR 연산에 필요한 데이터를 호출한다.\n",
    "X, Y = get_XOR_data()\n",
    "X, Y"
   ]
  },
  {
   "cell_type": "markdown",
   "id": "a624ae00",
   "metadata": {},
   "source": [
    "텐서플로우를 사용해서 퍼셉트론을 구현한다."
   ]
  },
  {
   "cell_type": "code",
   "execution_count": 5,
   "id": "9292c229",
   "metadata": {},
   "outputs": [
    {
     "name": "stdout",
     "output_type": "stream",
     "text": [
      "[[0.25719664]\n",
      " [0.31543243]\n",
      " [1.9613006 ]]\n"
     ]
    }
   ],
   "source": [
    "# 논리 연산을 위한 입력값으로 X, Y, 편향값을 입력받아(총 3개의 입력) 1개의 값을 출력해야 하므로 가중치는 [3, 1]로 설정한다.\n",
    "W = tf.Variable(tf.random_normal([3, 1])) # matmul() 메소드로 행렬의 곱셈을 실행하기 위해 3행 1열로 가중치를 만든다.\n",
    "sess = tf.Session() # 세션을 만든다.\n",
    "sess.run(tf.global_variables_initializer()) # 변수를 초기화시킨다.\n",
    "print(sess.run(W))"
   ]
  },
  {
   "cell_type": "markdown",
   "id": "8803d98d",
   "metadata": {},
   "source": [
    "퍼셉트론은 두 개의 입력이 있을 때 하나의 뉴런으로 두 개의 입력을 계산한 뒤 최종 결과값으로 0 또는 1을 출력한다.  \n",
    "두 개의 입력은 가중치와 곱해져서 뉴런의 첫 번째 단계인 시그마로 들어가고 시그마 단계에서 모든 가중치 * 입력값과 편향값을 더하는 과정이 이루어진다.  \n",
    "시그마 값은 뉴런의 두 번째 단계인 활성화 함수의 입력으로 들어가는데 퍼셉트론은 스텝 함수라는 활성화 함수를 사용한다. 스텝 함수는 시그마 값 >= 0 일 경우 1, 시그마 값이 < 0 일 경우 0을 출력한다."
   ]
  },
  {
   "cell_type": "code",
   "execution_count": 6,
   "id": "6963b387",
   "metadata": {},
   "outputs": [
    {
     "name": "stdout",
     "output_type": "stream",
     "text": [
      "True\n",
      "1.0\n"
     ]
    }
   ],
   "source": [
    "# x가 0 이상이면 1, x가 0보다 작으면 0을 리턴하는 활성화 함수(스텝 함수)를 구현한다.\n",
    "# tf.greater(a, b): a > b일 경우 True, 그렇치 않으면 False를 리턴한다.\n",
    "# tf.greater_equal(a, b): a >= b일 경우 True, 그렇치 않으면 False를 리턴한다.\n",
    "# tf.less(a, b): a < b일 경우 True, 그렇치 않으면 False를 리턴한다.\n",
    "# tf.less_equal(a, b): a <= b일 경우 True, 그렇치 않으면 False를 리턴한다.\n",
    "# tf.equal(a, b): a = b일 경우 True, 그렇치 않으면 False를 리턴한다.\n",
    "# tf.not_equal(a, b): a <> b일 경우 True, 그렇치 않으면 False를 리턴한다.\n",
    "sess = tf.Session()\n",
    "print(sess.run(tf.greater_equal(1, 0)))\n",
    "f = tf.cast(tf.greater_equal(1, 0), dtype=tf.float32)\n",
    "print(sess.run(f))"
   ]
  },
  {
   "cell_type": "code",
   "execution_count": 7,
   "id": "8873c137",
   "metadata": {},
   "outputs": [],
   "source": [
    "# 스텝 함수\n",
    "def step(z):\n",
    "    return tf.cast(tf.greater_equal(z, 0), dtype=tf.float32)"
   ]
  },
  {
   "cell_type": "markdown",
   "id": "d82f4e89",
   "metadata": {},
   "source": [
    "손실(오차, 비용) 함수로 평균 제곱 오차(MSE)를 사용한다."
   ]
  },
  {
   "cell_type": "code",
   "execution_count": 8,
   "id": "503f062f",
   "metadata": {},
   "outputs": [
    {
     "name": "stdout",
     "output_type": "stream",
     "text": [
      "[[-0.057927  ]\n",
      " [ 1.0057876 ]\n",
      " [-0.23297855]\n",
      " [ 0.83073604]]\n",
      "[[0.]\n",
      " [1.]\n",
      " [0.]\n",
      " [1.]]\n",
      "[[ 0.]\n",
      " [ 0.]\n",
      " [ 1.]\n",
      " [-1.]]\n",
      "0.5\n"
     ]
    }
   ],
   "source": [
    "sess = tf.Session()\n",
    "sess.run(tf.global_variables_initializer())\n",
    "z = tf.matmul(X, W) # 행렬 곱셈(내적) 메소드로 데이터와 가중치를 곱한다.\n",
    "print(sess.run(z))\n",
    "output = step(z)\n",
    "print(sess.run(output))\n",
    "# 레이블(실제값)과 스텝 함수의 실행 결과(예측값)의 편차를 계산한다.\n",
    "error = tf.subtract(Y, output)\n",
    "print(sess.run(error))\n",
    "# 평균 제곱 오차를 계산한다.\n",
    "mse = tf.reduce_mean(tf.square(error))\n",
    "print(sess.run(mse))"
   ]
  },
  {
   "cell_type": "markdown",
   "id": "6add41a2",
   "metadata": {},
   "source": [
    "보통의 경우 딥 러닝 모델은 경사 하강법을 통해 매개 변수를 최적화하지만 미분값이 큰 의미가 없는 스텝 함수의 영향으로(입력값이 0일 때 미분 불가능, 입력값이 1일 때 미분값은 항상 0) 퍼셉트론은 아래와 같은 방법을 최적화를 진행한다.\n",
    "\n",
    "결과값이 1이 나와야 하는데 스텝 함수의 출력이 0일 경우 => w_new = w_old + delta  \n",
    "결과값이 0이 나와야 하는데 스텝 함수의 출력이 1일 경우 => w_new = w_old - delta  \n",
    "위의 2가지 경우를 다음과 같이 사용할 수 있다."
   ]
  },
  {
   "cell_type": "code",
   "execution_count": 9,
   "id": "cfcc5717",
   "metadata": {},
   "outputs": [],
   "source": [
    "import numpy as np"
   ]
  },
  {
   "cell_type": "code",
   "execution_count": 10,
   "id": "fa4e5985",
   "metadata": {},
   "outputs": [
    {
     "name": "stdout",
     "output_type": "stream",
     "text": [
      "<class 'list'>\n",
      "<class 'numpy.ndarray'>\n",
      "[[0. 0. 1.]\n",
      " [0. 1. 1.]\n",
      " [1. 0. 1.]\n",
      " [1. 1. 1.]]\n",
      "[[0. 0. 1. 1.]\n",
      " [0. 1. 0. 1.]\n",
      " [1. 1. 1. 1.]]\n"
     ]
    }
   ],
   "source": [
    "print(type(X))\n",
    "print(type(np.array(X)))\n",
    "print(np.array(X))\n",
    "print(np.array(X).T) # 전치"
   ]
  },
  {
   "cell_type": "code",
   "execution_count": 11,
   "id": "70a27ddd",
   "metadata": {},
   "outputs": [
    {
     "name": "stdout",
     "output_type": "stream",
     "text": [
      "[[ 0.]\n",
      " [-1.]\n",
      " [ 0.]]\n",
      "[[-0.17505156]\n",
      " [ 0.06371462]\n",
      " [-0.057927  ]]\n"
     ]
    }
   ],
   "source": [
    "# 행렬의 transpose는 행과 열을 교환하여 얻는 전치행렬을 의미한다.\n",
    "# matmul() 메소드의 transpose_a 옵션을 True로 지정하면 행렬의 내적을 계산하기 전에 1번째 행렬을 전치하고\n",
    "# transpose_b 옵션을 True로 지정하면 행렬의 내적을 계산하기 전에 2번째 행렬을 전치한다.\n",
    "delta = tf.matmul(X, error, transpose_a=True) # 행렬의 내적을 계산하기 전에 X를 전치한다.\n",
    "print(sess.run(delta))\n",
    "# assign() 메소드는 세션 안에서 텐서플로우 변수 값을 변경한다.\n",
    "train = tf.assign(W, tf.add(W, delta)) # 역전파 => 가중치를 수정해서 다시 계산하기 위해서\n",
    "print(sess.run(train))"
   ]
  },
  {
   "cell_type": "markdown",
   "id": "6db41264",
   "metadata": {},
   "source": [
    "학습 후 테스트"
   ]
  },
  {
   "cell_type": "code",
   "execution_count": 12,
   "id": "178518ae",
   "metadata": {},
   "outputs": [
    {
     "name": "stdout",
     "output_type": "stream",
     "text": [
      "epoch:  1, mse: 0.5\n",
      "epoch:  2, mse: 0.5\n",
      "epoch:  3, mse: 0.5\n",
      "epoch:  4, mse: 0.5\n",
      "epoch:  5, mse: 0.5\n",
      "epoch:  6, mse: 0.5\n",
      "epoch:  7, mse: 0.5\n",
      "epoch:  8, mse: 0.5\n",
      "epoch:  9, mse: 0.5\n",
      "epoch: 10, mse: 0.5\n",
      "epoch: 11, mse: 0.5\n",
      "epoch: 12, mse: 0.5\n",
      "epoch: 13, mse: 0.5\n",
      "epoch: 14, mse: 0.5\n",
      "epoch: 15, mse: 0.5\n",
      "epoch: 16, mse: 0.5\n",
      "epoch: 17, mse: 0.5\n",
      "epoch: 18, mse: 0.5\n",
      "epoch: 19, mse: 0.5\n",
      "epoch: 20, mse: 0.5\n",
      "테스트 결과\n",
      "[[0.]\n",
      " [0.]\n",
      " [0.]\n",
      " [0.]]\n"
     ]
    }
   ],
   "source": [
    "sess = tf.Session()\n",
    "sess.run(tf.global_variables_initializer())\n",
    "\n",
    "err, epoch, max_epochs = 1.0, 0, 20 # 오차, 현재 학습 횟수, 최대 학습 횟수\n",
    "# 오차가 발생하고 학습 횟수가 최대 학습 횟수를 넘어가지 않는 동안 반복한다.\n",
    "while err > 0.0 and epoch < max_epochs:\n",
    "    epoch += 1 # 학습 횟수를 증가시킨다.\n",
    "    err = sess.run(mse) # 평균 제곱 오차를 계산한다.\n",
    "    sess.run(train) # 학습시킨다.\n",
    "    print('epoch: {:2d}, mse: {}'.format(epoch, err))\n",
    "# ===== while\n",
    "\n",
    "print('테스트 결과\\n', sess.run(output), sep='')\n",
    "sess.close()"
   ]
  },
  {
   "cell_type": "code",
   "execution_count": 14,
   "id": "4a4f1d2b",
   "metadata": {},
   "outputs": [
    {
     "name": "stdout",
     "output_type": "stream",
     "text": [
      "epoch:  1, mse: 0.5\n",
      "epoch:  2, mse: 0.5\n",
      "epoch:  3, mse: 0.5\n",
      "epoch:  4, mse: 0.5\n",
      "epoch:  5, mse: 0.5\n",
      "epoch:  6, mse: 0.5\n",
      "epoch:  7, mse: 0.5\n",
      "epoch:  8, mse: 0.5\n",
      "epoch:  9, mse: 0.5\n",
      "epoch: 10, mse: 0.5\n",
      "epoch: 11, mse: 0.5\n",
      "epoch: 12, mse: 0.5\n",
      "epoch: 13, mse: 0.5\n",
      "epoch: 14, mse: 0.5\n",
      "epoch: 15, mse: 0.5\n",
      "epoch: 16, mse: 0.5\n",
      "epoch: 17, mse: 0.5\n",
      "epoch: 18, mse: 0.5\n",
      "epoch: 19, mse: 0.5\n",
      "epoch: 20, mse: 0.5\n",
      "테스트 결과\n",
      "[[0.]\n",
      " [0.]\n",
      " [0.]\n",
      " [0.]]\n"
     ]
    }
   ],
   "source": [
    "# Session을 with 구문을 사용해서 만들면 with 블록이 종료되는 순간 자동으로 close 된다.\n",
    "with tf.Session() as sess: # 세션을 만든다.\n",
    "    sess.run(tf.global_variables_initializer())\n",
    "    err, epoch, max_epochs = 1.0, 0, 20 # 오차, 현재 학습 횟수, 최대 학습 횟수\n",
    "    # 오차가 발생하고 학습 횟수가 최대 학습 횟수를 넘어가지 않는 동안 반복한다.\n",
    "    while err > 0.0 and epoch < max_epochs:\n",
    "        epoch += 1 # 학습 횟수를 증가시킨다.\n",
    "        err = sess.run(mse) # 평균 제곱 오차를 계산한다.\n",
    "        sess.run(train) # 학습시킨다.\n",
    "        print('epoch: {:2d}, mse: {}'.format(epoch, err))\n",
    "    # ===== while\n",
    "    print('테스트 결과\\n', sess.run(output), sep='')\n",
    "# ===== with"
   ]
  },
  {
   "cell_type": "code",
   "execution_count": null,
   "id": "5cf47f27",
   "metadata": {},
   "outputs": [],
   "source": []
  },
  {
   "cell_type": "code",
   "execution_count": null,
   "id": "e0bb1296",
   "metadata": {},
   "outputs": [],
   "source": []
  },
  {
   "cell_type": "code",
   "execution_count": null,
   "id": "35299ecc",
   "metadata": {},
   "outputs": [],
   "source": []
  }
 ],
 "metadata": {
  "kernelspec": {
   "display_name": "Python 3",
   "language": "python",
   "name": "python3"
  },
  "language_info": {
   "codemirror_mode": {
    "name": "ipython",
    "version": 3
   },
   "file_extension": ".py",
   "mimetype": "text/x-python",
   "name": "python",
   "nbconvert_exporter": "python",
   "pygments_lexer": "ipython3",
   "version": "3.6.8"
  }
 },
 "nbformat": 4,
 "nbformat_minor": 5
}
