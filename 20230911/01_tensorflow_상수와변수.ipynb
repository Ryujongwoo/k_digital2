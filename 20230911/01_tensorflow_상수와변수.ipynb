{
 "cells": [
  {
   "cell_type": "code",
   "execution_count": 1,
   "id": "c9fe30e5",
   "metadata": {},
   "outputs": [],
   "source": [
    "import warnings\n",
    "warnings.filterwarnings(action='ignore')\n",
    "%config Completer.use_jedi = False"
   ]
  },
  {
   "cell_type": "code",
   "execution_count": 2,
   "id": "20384d4a",
   "metadata": {},
   "outputs": [
    {
     "name": "stdout",
     "output_type": "stream",
     "text": [
      "WARNING:tensorflow:From c:\\python\\lib\\site-packages\\tensorflow\\python\\compat\\v2_compat.py:101: disable_resource_variables (from tensorflow.python.ops.variable_scope) is deprecated and will be removed in a future version.\n",
      "Instructions for updating:\n",
      "non-resource variables are not supported in the long term\n",
      "2.6.2\n"
     ]
    }
   ],
   "source": [
    "# pip install tensorflow\n",
    "# import tensorflow as tf # tensorflow 2.x 버전을 사용한다.\n",
    "import tensorflow.compat.v1 as tf # tensorflow 1.x 버전을 사용한다.\n",
    "tf.disable_v2_behavior() # tensorflow 2.x 버전의 문법을 사용하지 않겠다고 선언한다.\n",
    "print(tf.__version__)"
   ]
  },
  {
   "cell_type": "markdown",
   "id": "11deb6cd",
   "metadata": {},
   "source": [
    "변수, 상수, 수식을 만든다. => 세션에 넣는다. => 변수일 경우 초기화 시킨다. => 실행한다.\n",
    "\n",
    "tensorflow 상수"
   ]
  },
  {
   "cell_type": "code",
   "execution_count": 3,
   "id": "70cecce6",
   "metadata": {},
   "outputs": [
    {
     "name": "stdout",
     "output_type": "stream",
     "text": [
      "a = Tensor(\"Const:0\", shape=(), dtype=int32)\n",
      "b = Tensor(\"Const_1:0\", shape=(), dtype=int32)\n",
      "c = Tensor(\"add:0\", shape=(), dtype=int32)\n",
      "d = Tensor(\"Add_1:0\", shape=(), dtype=int32)\n",
      "a = 500\n",
      "b = 200\n",
      "a + b = 700\n",
      "tf.add(a, b) = 700\n"
     ]
    }
   ],
   "source": [
    "# constant(): tensorflow에서 사용할 상수를 정의한다.\n",
    "a = tf.constant(500) # tensorflow 상수 정의\n",
    "print('a = {}'.format(a))\n",
    "b = tf.constant(200) # tensorflow 상수 정의\n",
    "print('b = {}'.format(b))\n",
    "c = a + b # tensorflow 수식 정의\n",
    "print('c = {}'.format(c))\n",
    "d = tf.add(a, b) # tensorflow 함수식 정의\n",
    "print('d = {}'.format(d))\n",
    "\n",
    "# tensorflow 1.x 버전은 반드시 Session이라는 작업 영역을 만든 후 변수, 상수, 수식을 대입한 다음 실행해야 한다.\n",
    "sess = tf.Session() # tensorflow Session을 만든다.\n",
    "# run(): tensorflow Session의 내용을 실행한다.\n",
    "print('a = {}'.format(sess.run(a)))\n",
    "print('b = {}'.format(sess.run(b)))\n",
    "print('a + b = {}'.format(sess.run(c)))\n",
    "print('tf.add(a, b) = {}'.format(sess.run(d)))"
   ]
  },
  {
   "cell_type": "code",
   "execution_count": 5,
   "id": "00708980",
   "metadata": {},
   "outputs": [
    {
     "name": "stdout",
     "output_type": "stream",
     "text": [
      "a = <tf.Variable 'Variable_3:0' shape=() dtype=int32_ref>\n",
      "b = <tf.Variable 'Variable_4:0' shape=() dtype=int32_ref>\n",
      "c = Tensor(\"mul_3:0\", shape=(), dtype=int32)\n",
      "d = Tensor(\"Mul_4:0\", shape=(), dtype=int32)\n",
      "a = 5\n",
      "b = 3\n",
      "a * b = 15\n",
      "tf.multiply(a, b) = 15\n",
      "a = 15\n",
      "c = Tensor(\"mul_5:0\", shape=(), dtype=int32)\n",
      "a * b = 45\n"
     ]
    }
   ],
   "source": [
    "# Variable(): tensorflow에서 사용할 변수를 정의하고 초기화 시킨다.\n",
    "a = tf.Variable(5) # tensorflow 변수 정의 및 초기화\n",
    "print('a = {}'.format(a))\n",
    "b = tf.Variable(3) # tensorflow 변수 정의 및 초기화\n",
    "print('b = {}'.format(b))\n",
    "c = a * b\n",
    "print('c = {}'.format(c))\n",
    "d = tf.multiply(a, b)\n",
    "print('d = {}'.format(d))\n",
    "\n",
    "sess = tf.Session()\n",
    "\n",
    "# global_variables_initializer(): tensorflow에서 사용할 변수를 초기화시킨다.\n",
    "# Variable() 메소드를 사용해 생성한 tensorflow 변수는 사용하기 전에 반드시 초기화시켜야 한다.\n",
    "# tensorflow 변수 초기화는 연산을 실행(변수 사용) 전에만 해주면 된다.\n",
    "\n",
    "# tensorflow 변수 초기화\n",
    "# init = tf.global_variables_initializer()\n",
    "# sess.run(init)\n",
    "# 위의 2줄로 사용한 tensorflow 변수 초기화는 아래와 같이 1줄로 줄여서 사용할 수 있다.\n",
    "sess.run(tf.global_variables_initializer())\n",
    "\n",
    "print('a = {}'.format(sess.run(a))) # 변수를 초기화시키지 않으면 에러가 발생된다.\n",
    "print('b = {}'.format(sess.run(b)))\n",
    "print('a * b = {}'.format(sess.run(c)))\n",
    "print('tf.multiply(a, b) = {}'.format(sess.run(d)))\n",
    "\n",
    "a = tf.Variable(15) # tensorflow 변수를 다시 만든다.\n",
    "# tensorflow 변수를 다시 만들었으면 다시 초기화시켜야 한다.\n",
    "sess.run(tf.global_variables_initializer())\n",
    "print('a = {}'.format(sess.run(a)))\n",
    "c = a * b\n",
    "print('c = {}'.format(c))\n",
    "print('a * b = {}'.format(sess.run(c)))"
   ]
  },
  {
   "cell_type": "code",
   "execution_count": null,
   "id": "30409acf",
   "metadata": {},
   "outputs": [],
   "source": []
  },
  {
   "cell_type": "code",
   "execution_count": null,
   "id": "51a46ecd",
   "metadata": {},
   "outputs": [],
   "source": []
  },
  {
   "cell_type": "code",
   "execution_count": null,
   "id": "1536462f",
   "metadata": {},
   "outputs": [],
   "source": []
  },
  {
   "cell_type": "code",
   "execution_count": null,
   "id": "690db230",
   "metadata": {},
   "outputs": [],
   "source": []
  },
  {
   "cell_type": "code",
   "execution_count": null,
   "id": "45d76717",
   "metadata": {},
   "outputs": [],
   "source": []
  },
  {
   "cell_type": "code",
   "execution_count": null,
   "id": "cef6456a",
   "metadata": {},
   "outputs": [],
   "source": []
  },
  {
   "cell_type": "code",
   "execution_count": null,
   "id": "fe76b44d",
   "metadata": {},
   "outputs": [],
   "source": []
  },
  {
   "cell_type": "code",
   "execution_count": null,
   "id": "1fa7aedd",
   "metadata": {},
   "outputs": [],
   "source": []
  }
 ],
 "metadata": {
  "kernelspec": {
   "display_name": "Python 3",
   "language": "python",
   "name": "python3"
  },
  "language_info": {
   "codemirror_mode": {
    "name": "ipython",
    "version": 3
   },
   "file_extension": ".py",
   "mimetype": "text/x-python",
   "name": "python",
   "nbconvert_exporter": "python",
   "pygments_lexer": "ipython3",
   "version": "3.6.8"
  }
 },
 "nbformat": 4,
 "nbformat_minor": 5
}
