{
 "cells": [
  {
   "cell_type": "code",
   "execution_count": 1,
   "id": "76ae2082",
   "metadata": {},
   "outputs": [],
   "source": [
    "import warnings\n",
    "warnings.filterwarnings(action='ignore')\n",
    "%config Completer.use_jedi = False"
   ]
  },
  {
   "cell_type": "markdown",
   "id": "b06968d9",
   "metadata": {},
   "source": [
    "스태킹(Stacking)  \n",
    "스태킹은 베이스 학습기와 메타 학습기로 구성되어 있고 베이스 학습기는와 메타 학습기는 서포트 벡터 머신, 랜덤 포레스트와 같은 학습 모델이다. 베이스 학습기가 먼저 학습한 후 메타 학습기는 베이스 학습기의 예측을 피쳐 데이터로 활용해 최종 예측을 한다.\n",
    "\n",
    "스태킹 알고리즘을 활용해 암 여부를 예측하는 모델을 만든다."
   ]
  },
  {
   "cell_type": "code",
   "execution_count": 2,
   "id": "835ff53f",
   "metadata": {},
   "outputs": [],
   "source": [
    "# 데이터 불러오기\n",
    "from sklearn import datasets # 사이킷런이 제공하는 데이터셋을 사용하기 위해 import 한다.\n",
    "raw_cancer = datasets.load_breast_cancer() # 위스콘신 암 데이터를 불러온다."
   ]
  },
  {
   "cell_type": "code",
   "execution_count": 3,
   "id": "eb66bfec",
   "metadata": {},
   "outputs": [
    {
     "data": {
      "text/plain": [
       "(569, 30)"
      ]
     },
     "execution_count": 3,
     "metadata": {},
     "output_type": "execute_result"
    }
   ],
   "source": [
    "# 피쳐, 타겟 데이터 저장\n",
    "X = raw_cancer.data # 피쳐 데이터를 저장한다.\n",
    "y = raw_cancer.target # 타겟 데이터를 저장한다.\n",
    "X.shape"
   ]
  },
  {
   "cell_type": "code",
   "execution_count": 4,
   "id": "75c2b7bc",
   "metadata": {},
   "outputs": [
    {
     "name": "stdout",
     "output_type": "stream",
     "text": [
      "(426, 30) (426,) (143, 30) (143,)\n"
     ]
    }
   ],
   "source": [
    "# 트레이닝, 테스트 데이터 분할\n",
    "from sklearn.model_selection import train_test_split # 트레이닝, 테스트 데이터 분할을 위해 import 한다.\n",
    "X_tn, X_te, y_tn, y_te = train_test_split(X, y, random_state=0)\n",
    "print(X_tn.shape, y_tn.shape, X_te.shape, y_te.shape) # 트레이닝 데이터와 테스트 데이터로 분할한다."
   ]
  },
  {
   "cell_type": "code",
   "execution_count": 5,
   "id": "f2a7d089",
   "metadata": {},
   "outputs": [],
   "source": [
    "# 데이터 표준화\n",
    "from sklearn.preprocessing import StandardScaler # 데이터 표준화를 위해 import 한다.\n",
    "std_scale = StandardScaler() # 표준화 스케일러 객체를 만든다.\n",
    "# 표준화는 트레이닝 데이터를 기반으로 실행하므로 트레이닝 피쳐 데이터 X_tn을 표준화 스케일러에 적합시킨다.\n",
    "X_tn_std = std_scale.fit_transform(X_tn) # 트레이닝 데이터를 적합 후 표준화 한다.\n",
    "X_te_std = std_scale.transform(X_te) # 테스트 데이터를 표준화 한다."
   ]
  },
  {
   "cell_type": "code",
   "execution_count": 10,
   "id": "c04209da",
   "metadata": {},
   "outputs": [
    {
     "data": {
      "text/plain": [
       "StackingClassifier(estimators=[('svm', SVC(kernel='linear')),\n",
       "                               ('gnb', GaussianNB())],\n",
       "                   final_estimator=LogisticRegression())"
      ]
     },
     "execution_count": 10,
     "metadata": {},
     "output_type": "execute_result"
    }
   ],
   "source": [
    "# 모델 생성 후 데이터 학습\n",
    "# 메타 학습기 - LogisticRegression, 베이스 학습기 - SVC, GaussianNB\n",
    "from sklearn.linear_model import LogisticRegression # 로지스틱 회귀 알고리즘을 사용하기 위해 import 한다.\n",
    "from sklearn.svm import SVC # 서포트 벡터 머신 알고리즘을 사용하기 위해 import 한다.\n",
    "from sklearn.naive_bayes import GaussianNB # 가우시안 나이브베이즈 알고리즘을 사용하기 위해 import 한다.\n",
    "from sklearn.ensemble import StackingClassifier # 스태킹 알고리즘을 사용하기 위해 import 한다.\n",
    "\n",
    "# 베이스 학습기를 만든다.\n",
    "clf1 = SVC(kernel='linear') # 서포트 벡터 머신 알고리즘을 사용하는 베이스 학습기를 만든다.\n",
    "clf2 = GaussianNB() # 가우시안 나이브베이즈 알고리즘을 사용하는 베이스 학습기를 만든다.\n",
    "# estimators 옵션으로 스태킹 모델에서 사용할 베이스 학습기를 지정한다.\n",
    "# final_estimator 옵션으로 스태킹 모델에서 사용할 메타 학습기를 지정한다.\n",
    "clf_stk = StackingClassifier(estimators=[('svm', clf1), ('gnb', clf2)], \n",
    "                             final_estimator=LogisticRegression()) # 스태킹 모델을 만든다.\n",
    "# 표준화된 트레이닝 피쳐 데이터 X_tn_std와 트레이닝 타겟 데이터 y_tn를 모델에 넣어서 스태킹 알고리즘을 학습시킨다.\n",
    "clf_stk.fit(X_tn_std, y_tn)"
   ]
  },
  {
   "cell_type": "code",
   "execution_count": 11,
   "id": "12b80d1f",
   "metadata": {},
   "outputs": [
    {
     "name": "stdout",
     "output_type": "stream",
     "text": [
      "[0 1 1 1 1 1 1 1 1 1 1 1 1 1 1 0 1 0 0 0 0 0 1 1 0 1 1 0 1 0 1 0 1 0 1 0 1\n",
      " 0 1 0 0 1 0 1 1 0 1 1 1 0 0 0 0 1 1 1 1 1 1 0 0 0 1 1 0 1 0 0 0 1 1 0 1 0\n",
      " 0 1 1 1 1 1 0 0 0 1 0 1 1 1 0 0 1 0 0 0 1 1 0 1 1 1 1 1 1 1 0 1 0 1 1 0 1\n",
      " 0 0 1 1 1 1 1 1 1 1 1 1 1 0 1 0 1 1 1 0 1 1 1 1 1 1 1 0 1 1 1 0]\n"
     ]
    }
   ],
   "source": [
    "# 테스트 데이터 예측\n",
    "# 표준화된 테스트 데이터 X_te_std로 예측한다.\n",
    "pred_stk= clf_stk.predict(X_te_std)\n",
    "print(pred_stk)"
   ]
  },
  {
   "cell_type": "code",
   "execution_count": 12,
   "id": "2720e643",
   "metadata": {},
   "outputs": [
    {
     "name": "stdout",
     "output_type": "stream",
     "text": [
      "0.965034965034965\n"
     ]
    }
   ],
   "source": [
    "# 정확도 평가\n",
    "from sklearn.metrics import accuracy_score # 모델의 정확도를 평가하기 위해 import 한다.\n",
    "# accuracy_score() 메소드의 인수로 실제 타겟 데이터(y_te)와 예측된 데이터(pred_stk)를 넘겨 정확도를 계산한다.\n",
    "accuracy = accuracy_score(y_te, pred_stk)\n",
    "print(accuracy)"
   ]
  },
  {
   "cell_type": "code",
   "execution_count": 13,
   "id": "fa769bee",
   "metadata": {},
   "outputs": [
    {
     "name": "stdout",
     "output_type": "stream",
     "text": [
      "[0.96153846 0.96703297]\n"
     ]
    }
   ],
   "source": [
    "# 정밀도 평가\n",
    "from sklearn.metrics import precision_score # 모델의 정밀도를 평가하기 위해 import 한다.\n",
    "# precision_score() 메소드의 인수로 실제 타겟 데이터(y_te)와 예측된 데이터(pred_stk)를 넘겨 정밀도를 계산한다.\n",
    "precision = precision_score(y_te, pred_stk, average=None)\n",
    "print(precision)"
   ]
  },
  {
   "cell_type": "code",
   "execution_count": 14,
   "id": "f2369acf",
   "metadata": {},
   "outputs": [
    {
     "name": "stdout",
     "output_type": "stream",
     "text": [
      "[0.94339623 0.97777778]\n"
     ]
    }
   ],
   "source": [
    "# 재현율 평가\n",
    "from sklearn.metrics import recall_score # 모델의 재현율를 평가하기 위해 import 한다.\n",
    "# recall_score() 메소드의 인수로 실제 타겟 데이터(y_te)와 예측된 데이터(pred_stk)를 넘겨 재현율를 계산한다.\n",
    "recall = recall_score(y_te, pred_stk, average=None)\n",
    "print(recall)"
   ]
  },
  {
   "cell_type": "code",
   "execution_count": 15,
   "id": "9a56ed5f",
   "metadata": {},
   "outputs": [
    {
     "name": "stdout",
     "output_type": "stream",
     "text": [
      "[0.95238095 0.97237569]\n"
     ]
    }
   ],
   "source": [
    "# f1 score 평가\n",
    "from sklearn.metrics import f1_score # 모델의 f1 score를 평가하기 위해 import 한다.\n",
    "# f1_score() 메소드의 인수로 실제 타겟 데이터(y_te)와 예측된 데이터(pred_stk)를 넘겨 f1 score를 계산한다.\n",
    "f1 = f1_score(y_te, pred_stk, average=None)\n",
    "print(f1)"
   ]
  },
  {
   "cell_type": "code",
   "execution_count": 16,
   "id": "fab4422f",
   "metadata": {},
   "outputs": [
    {
     "name": "stdout",
     "output_type": "stream",
     "text": [
      "[[50  3]\n",
      " [ 2 88]]\n"
     ]
    }
   ],
   "source": [
    "# 혼돈 행렬 확인\n",
    "from sklearn.metrics import confusion_matrix # 혼돈 행렬을 만들기 위해 import 한다.\n",
    "# confusion_matrix() 메소드의 인수로 실제 타겟 데이터(y_te)와 예측된 데이터(pred_stk)를 넘겨 혼돈 행렬을 만든다.\n",
    "conf_matrix = confusion_matrix(y_te, pred_stk)\n",
    "print(conf_matrix)"
   ]
  },
  {
   "cell_type": "code",
   "execution_count": 17,
   "id": "ae3f4cb6",
   "metadata": {},
   "outputs": [
    {
     "name": "stdout",
     "output_type": "stream",
     "text": [
      "              precision    recall  f1-score   support\n",
      "\n",
      "   malignant       0.96      0.94      0.95        53\n",
      "      benign       0.97      0.98      0.97        90\n",
      "\n",
      "    accuracy                           0.97       143\n",
      "   macro avg       0.96      0.96      0.96       143\n",
      "weighted avg       0.96      0.97      0.96       143\n",
      "\n"
     ]
    }
   ],
   "source": [
    "# 분류 리포트 확인\n",
    "from sklearn.metrics import classification_report # 분류 리포트를 출력하기 위해 import 한다.\n",
    "# classification_report() 메소드의 인수로 실제 타겟 데이터(y_te)와 예측된 데이터(pred_stk)를 넘겨 분류 리포트를 만든다.\n",
    "target_names = raw_cancer.target_names\n",
    "class_report = classification_report(y_te, pred_stk, target_names=target_names)\n",
    "print(class_report)"
   ]
  },
  {
   "cell_type": "code",
   "execution_count": null,
   "id": "72fb662a",
   "metadata": {},
   "outputs": [],
   "source": []
  }
 ],
 "metadata": {
  "kernelspec": {
   "display_name": "py37",
   "language": "python",
   "name": "py37"
  },
  "language_info": {
   "codemirror_mode": {
    "name": "ipython",
    "version": 3
   },
   "file_extension": ".py",
   "mimetype": "text/x-python",
   "name": "python",
   "nbconvert_exporter": "python",
   "pygments_lexer": "ipython3",
   "version": "3.7.16"
  }
 },
 "nbformat": 4,
 "nbformat_minor": 5
}
