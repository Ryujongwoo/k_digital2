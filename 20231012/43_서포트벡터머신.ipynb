{
 "cells": [
  {
   "cell_type": "code",
   "execution_count": 1,
   "id": "4327f7bf",
   "metadata": {},
   "outputs": [],
   "source": [
    "import warnings\n",
    "warnings.filterwarnings(action='ignore')\n",
    "%config Completer.use_jedi = False"
   ]
  },
  {
   "cell_type": "markdown",
   "id": "d5d5fb72",
   "metadata": {},
   "source": [
    "서포트 벡터 머신(Support Vector Machine)  \n",
    "서포트 벡터 머신은 벡터를 기준으로 클래스를 판별하는 방식으로 클래스를 구분하는 여러 방법 중 중심선과 경계선을 이용해 데이터를 구분한다. 경계선을 서포트 벡터라고 하며, 이것이 서포트 벡터 머신이라는 이름의 유래이다.\n",
    "\n",
    "중심선을 그리기 위해서는 중심선에 수직인 벡터 $w$를 구하는 것이 중요하다. 중심선에서 수직인 벡터 $w$와 데이터 포인트 $x$를 내적했을 때 내적값 $c$가 되는 지점이 중심선이 되고 $w^T = c$라고 표현한다.\n",
    "\n",
    "내적값 $c$가 되는 지점인 중심선을 기준으로 영역을 나눌 수 있다. 데이터 공간을 내적값이 $c$보다 큰 영역과 $c$보다 작은 영역으로 각각 나누면 중심선의 윗부분과 아랫부분으로 나눌 수 있다는 것을 알 수 있다.\n",
    "\n",
    "서포트 벡터 머신은 마진(margin)을 최대화 하는 것이 목표이다. 마진이란 서포트 벡터 간 너비(width)를 의미한다.\n",
    "\n",
    "소프트 마진(soft margin)  \n",
    "서포트 벡트 머신은 데이터가 잘못 분류되는 경우를 고려하지 않는다. 하지만 잘못 분류된 데이터가 하나도 없다는 조건은 현실적으로 너무 엄격한 기준이므로 성립되기 어렵다. 소프트 마진은 기존 서포트 벡터 머신의 기준을 완화해서 잘못 분류된 데이터를 어느 정도 허용하는 방법이다.\n",
    "\n",
    "커널 소프트 벡터 머신(Kernel Support Vector Machine)  \n",
    "커널 소프트 벡터 머신이란 피쳐 공간을 변형한 후 서포트 벡터 머신을 적용하는 것을 의미한다.  \n",
    "좌표 평면을 빳빳한 종이라 생각하고 종이 위에 데이터가 퍼져있다고 가정하면 종이를 구부렸을 때 기존 좌표 공간과 구부려진 공간의 데이터 좌표가 서로 다를 것이다. 구부러진 공간에 서포트 벡터 머신을 적용한 후 종이를 다시 펴면 데이터가 잘 분리된 것을 볼 수 있다.\n",
    "\n",
    "서포트 벡터 머신 알고리즘을 활용해 와인 종류를 구분한다."
   ]
  },
  {
   "cell_type": "code",
   "execution_count": 2,
   "id": "15d7a90b",
   "metadata": {},
   "outputs": [],
   "source": [
    "# 데이터 불러오기\n",
    "from sklearn import datasets # 사이킷런이 제공하는 데이터셋을 사용하기 위해 import 한다.\n",
    "raw_wine = datasets.load_wine() # 와인 데이터를 불러온다."
   ]
  },
  {
   "cell_type": "code",
   "execution_count": 3,
   "id": "5e72af6f",
   "metadata": {},
   "outputs": [
    {
     "data": {
      "text/plain": [
       "(178, 13)"
      ]
     },
     "execution_count": 3,
     "metadata": {},
     "output_type": "execute_result"
    }
   ],
   "source": [
    "# 피쳐, 타겟 데이터 저장\n",
    "X = raw_wine.data # 피쳐 데이터를 저장한다.\n",
    "y = raw_wine.target # 타겟 데이터를 저장한다.\n",
    "X.shape"
   ]
  },
  {
   "cell_type": "code",
   "execution_count": 29,
   "id": "44f7ee70",
   "metadata": {},
   "outputs": [
    {
     "name": "stdout",
     "output_type": "stream",
     "text": [
      "(133, 13) (133,) (45, 13) (45,)\n"
     ]
    }
   ],
   "source": [
    "# 트레이닝, 테스트 데이터 분할\n",
    "from sklearn.model_selection import train_test_split # 트레이닝, 테스트 데이터 분할을 위해 import 한다.\n",
    "X_tn, X_te, y_tn, y_te = train_test_split(X, y, random_state=0)\n",
    "print(X_tn.shape, y_tn.shape, X_te.shape, y_te.shape) # 트레이닝 데이터와 테스트 데이터로 분할한다."
   ]
  },
  {
   "cell_type": "code",
   "execution_count": 30,
   "id": "364353bb",
   "metadata": {},
   "outputs": [],
   "source": [
    "# 데이터 표준화\n",
    "from sklearn.preprocessing import StandardScaler # 데이터 표준화를 위해 import 한다.\n",
    "std_scale = StandardScaler() # 표준화 스케일러 객체를 만든다.\n",
    "# 표준화는 트레이닝 데이터를 기반으로 실행하므로 트레이닝 피쳐 데이터 X_tn을 표준화 스케일러에 적합시킨다.\n",
    "X_tn_std = std_scale.fit_transform(X_tn) # 트레이닝 데이터를 적합 후 표준화 한다.\n",
    "X_te_std = std_scale.transform(X_te) # 테스트 데이터를 표준화 한다."
   ]
  },
  {
   "cell_type": "code",
   "execution_count": 37,
   "id": "25394868",
   "metadata": {},
   "outputs": [
    {
     "data": {
      "text/plain": [
       "SVC()"
      ]
     },
     "execution_count": 37,
     "metadata": {},
     "output_type": "execute_result"
    }
   ],
   "source": [
    "# 모델 생성 후 데이터 학습\n",
    "from sklearn.svm import SVC  # 서포트 벡터 머신 알고리즘을 사용하기 위해 import 한다.\n",
    "# kernel 옵션을 이용해서 커널 함수 종류를 지정한다.\n",
    "# kernel 옵션은 linear(선형), poly(다항식), rbf(방사 기저 함수, 기본값), sigmoid 중에서 지정 가능하다.\n",
    "clf_svm = SVC(kernel='rbf') # 서포트 벡터 머신 모델을 만든다.\n",
    "# 표준화된 트레이닝 피쳐 데이터 X_tn_std와 트레이닝 타겟 데이터 y_tn를 모델에 넣어서 서포트 벡터머신 알고리즘을 학습시킨다.\n",
    "clf_svm.fit(X_tn_std, y_tn)"
   ]
  },
  {
   "cell_type": "code",
   "execution_count": 38,
   "id": "aced0a31",
   "metadata": {},
   "outputs": [
    {
     "name": "stdout",
     "output_type": "stream",
     "text": [
      "[0 2 1 0 1 1 0 2 1 1 2 2 0 1 2 1 0 0 1 0 1 0 0 1 1 1 1 1 1 2 0 0 1 0 0 0 2\n",
      " 1 1 2 0 0 1 1 1]\n"
     ]
    }
   ],
   "source": [
    "# 테스트 데이터 예측\n",
    "# 표준화된 테스트 데이터 X_te_std로 예측한다.\n",
    "pred_svm = clf_svm.predict(X_te_std)\n",
    "print(pred_svm)"
   ]
  },
  {
   "cell_type": "code",
   "execution_count": 39,
   "id": "eb8ff518",
   "metadata": {},
   "outputs": [
    {
     "name": "stdout",
     "output_type": "stream",
     "text": [
      "1.0\n"
     ]
    }
   ],
   "source": [
    "# 정확도 평가\n",
    "from sklearn.metrics import accuracy_score # 모델의 정확도를 평가하기 위해 import 한다.\n",
    "# accuracy_score() 메소드의 인수로 실제 타겟 데이터(y_te)와 예측된 데이터(pred_svm)를 넘겨 정확도를 계산한다.\n",
    "accuracy = accuracy_score(y_te, pred_svm)\n",
    "print(accuracy)"
   ]
  },
  {
   "cell_type": "code",
   "execution_count": 41,
   "id": "56857fff",
   "metadata": {},
   "outputs": [
    {
     "name": "stdout",
     "output_type": "stream",
     "text": [
      "[1. 1. 1.]\n"
     ]
    }
   ],
   "source": [
    "# 정밀도 평가\n",
    "from sklearn.metrics import precision_score # 모델의 정밀도를 평가하기 위해 import 한다.\n",
    "# precision_score() 메소드의 인수로 실제 타겟 데이터(y_te)와 예측된 데이터(pred_svm)를 넘겨 정밀도를 계산한다.\n",
    "precision = precision_score(y_te, pred_svm, average=None)\n",
    "print(precision)"
   ]
  },
  {
   "cell_type": "code",
   "execution_count": 40,
   "id": "cb3bed9a",
   "metadata": {},
   "outputs": [
    {
     "name": "stdout",
     "output_type": "stream",
     "text": [
      "[1. 1. 1.]\n"
     ]
    }
   ],
   "source": [
    "# 재현율 평가\n",
    "from sklearn.metrics import recall_score # 모델의 재현율를 평가하기 위해 import 한다.\n",
    "# recall_score() 메소드의 인수로 실제 타겟 데이터(y_te)와 예측된 데이터(pred_svm)를 넘겨 재현율를 계산한다.\n",
    "recall = recall_score(y_te, pred_svm, average=None)\n",
    "print(recall)"
   ]
  },
  {
   "cell_type": "code",
   "execution_count": 42,
   "id": "260fe41a",
   "metadata": {},
   "outputs": [
    {
     "name": "stdout",
     "output_type": "stream",
     "text": [
      "[1. 1. 1.]\n"
     ]
    }
   ],
   "source": [
    "# f1 score 평가\n",
    "from sklearn.metrics import f1_score # 모델의 f1 score를 평가하기 위해 import 한다.\n",
    "# f1_score() 메소드의 인수로 실제 타겟 데이터(y_te)와 예측된 데이터(pred_svm)를 넘겨 f1 score를 계산한다.\n",
    "f1 = f1_score(y_te, pred_svm, average=None)\n",
    "print(f1)"
   ]
  },
  {
   "cell_type": "code",
   "execution_count": 43,
   "id": "0efaf2e5",
   "metadata": {},
   "outputs": [
    {
     "name": "stdout",
     "output_type": "stream",
     "text": [
      "[[16  0  0]\n",
      " [ 0 21  0]\n",
      " [ 0  0  8]]\n"
     ]
    }
   ],
   "source": [
    "# 혼돈 행렬 확인\n",
    "from sklearn.metrics import confusion_matrix # 혼돈 행렬을 만들기 위해 import 한다.\n",
    "# confusion_matrix() 메소드의 인수로 실제 타겟 데이터(y_te)와 예측된 데이터(pred_svm)를 넘겨 혼돈 행렬을 만든다.\n",
    "conf_matrix = confusion_matrix(y_te, pred_svm)\n",
    "print(conf_matrix)"
   ]
  },
  {
   "cell_type": "code",
   "execution_count": 44,
   "id": "af8bd1a3",
   "metadata": {},
   "outputs": [
    {
     "name": "stdout",
     "output_type": "stream",
     "text": [
      "              precision    recall  f1-score   support\n",
      "\n",
      "     class_0       1.00      1.00      1.00        16\n",
      "     class_1       1.00      1.00      1.00        21\n",
      "     class_2       1.00      1.00      1.00         8\n",
      "\n",
      "    accuracy                           1.00        45\n",
      "   macro avg       1.00      1.00      1.00        45\n",
      "weighted avg       1.00      1.00      1.00        45\n",
      "\n"
     ]
    }
   ],
   "source": [
    "# 분류 리포트 확인\n",
    "from sklearn.metrics import classification_report # 분류 리포트를 출력하기 위해 import 한다.\n",
    "# classification_report() 메소드의 인수로 실제 타겟 데이터(y_te)와 예측된 데이터(pred_svm)를 넘겨 분류 리포트를 만든다.\n",
    "target_names = raw_wine.target_names\n",
    "class_report = classification_report(y_te, pred_svm, target_names=target_names)\n",
    "print(class_report)"
   ]
  },
  {
   "cell_type": "code",
   "execution_count": null,
   "id": "e4d05695",
   "metadata": {},
   "outputs": [],
   "source": []
  },
  {
   "cell_type": "code",
   "execution_count": null,
   "id": "e50ec89f",
   "metadata": {},
   "outputs": [],
   "source": []
  },
  {
   "cell_type": "code",
   "execution_count": null,
   "id": "3258ded3",
   "metadata": {},
   "outputs": [],
   "source": []
  }
 ],
 "metadata": {
  "kernelspec": {
   "display_name": "py37",
   "language": "python",
   "name": "py37"
  },
  "language_info": {
   "codemirror_mode": {
    "name": "ipython",
    "version": 3
   },
   "file_extension": ".py",
   "mimetype": "text/x-python",
   "name": "python",
   "nbconvert_exporter": "python",
   "pygments_lexer": "ipython3",
   "version": "3.7.16"
  }
 },
 "nbformat": 4,
 "nbformat_minor": 5
}
