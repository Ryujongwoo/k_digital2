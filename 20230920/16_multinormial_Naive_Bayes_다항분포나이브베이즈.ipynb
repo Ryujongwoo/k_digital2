{
 "cells": [
  {
   "cell_type": "markdown",
   "id": "56188263",
   "metadata": {},
   "source": [
    "다항분포 나이브 베이즈를 활용한 영화 리뷰 분류  \n",
    "영화 리뷰에 다항분포 나이브 베이즈를 활용해 영화 리뷰가 긍정적인지 부정적인지 분류한다."
   ]
  },
  {
   "cell_type": "code",
   "execution_count": 1,
   "id": "ccd068cb",
   "metadata": {},
   "outputs": [],
   "source": [
    "import warnings\n",
    "warnings.filterwarnings(action='ignore')\n",
    "%config Completer.use_jedi = False\n",
    "import numpy as np\n",
    "import pandas as pd\n",
    "import matplotlib.pyplot as plt\n",
    "import seaborn as sns\n",
    "from sklearn.model_selection import train_test_split\n",
    "from sklearn.metrics import accuracy_score\n",
    "from sklearn.metrics import confusion_matrix\n",
    "from sklearn.metrics import classification_report"
   ]
  },
  {
   "cell_type": "code",
   "execution_count": 2,
   "id": "44db7318",
   "metadata": {},
   "outputs": [],
   "source": [
    "# 다항분포 나이브 베이즈를 사용하기 위해 import 한다.\n",
    "from sklearn.naive_bayes import MultinomialNB\n",
    "# 데이터에 출현한 모든 단어 개수 만큼의 크기를 가진 벡터를 만들고 고정된 벡터로 표현하기 위해 import 한다.\n",
    "from sklearn.feature_extraction.text import CountVectorizer"
   ]
  },
  {
   "cell_type": "markdown",
   "id": "111f6f0a",
   "metadata": {},
   "source": [
    "데이터 획득  \n",
    "영화 리뷰에 다항분포 나이브 베이즈를 활용해 영화 리뷰가 긍정적인지 부정적인지 분류한다.  \n",
    "movie_review: 영화 리뷰, type: 리뷰가 긍정적(positive)인지 부정적(negative)인지 나타낸다."
   ]
  },
  {
   "cell_type": "code",
   "execution_count": 3,
   "id": "0575f60f",
   "metadata": {},
   "outputs": [
    {
     "data": {
      "text/html": [
       "<div>\n",
       "<style scoped>\n",
       "    .dataframe tbody tr th:only-of-type {\n",
       "        vertical-align: middle;\n",
       "    }\n",
       "\n",
       "    .dataframe tbody tr th {\n",
       "        vertical-align: top;\n",
       "    }\n",
       "\n",
       "    .dataframe thead th {\n",
       "        text-align: right;\n",
       "    }\n",
       "</style>\n",
       "<table border=\"1\" class=\"dataframe\">\n",
       "  <thead>\n",
       "    <tr style=\"text-align: right;\">\n",
       "      <th></th>\n",
       "      <th>movie_review</th>\n",
       "      <th>type</th>\n",
       "    </tr>\n",
       "  </thead>\n",
       "  <tbody>\n",
       "    <tr>\n",
       "      <th>0</th>\n",
       "      <td>this is great great movie. I will watch again</td>\n",
       "      <td>positive</td>\n",
       "    </tr>\n",
       "    <tr>\n",
       "      <th>1</th>\n",
       "      <td>I like this movie</td>\n",
       "      <td>positive</td>\n",
       "    </tr>\n",
       "    <tr>\n",
       "      <th>2</th>\n",
       "      <td>amazing movie in this year</td>\n",
       "      <td>positive</td>\n",
       "    </tr>\n",
       "    <tr>\n",
       "      <th>3</th>\n",
       "      <td>cool my boyfriend also said the movie is cool</td>\n",
       "      <td>positive</td>\n",
       "    </tr>\n",
       "    <tr>\n",
       "      <th>4</th>\n",
       "      <td>awesome of the awesome movie ever</td>\n",
       "      <td>positive</td>\n",
       "    </tr>\n",
       "    <tr>\n",
       "      <th>5</th>\n",
       "      <td>shame I wasted money and time</td>\n",
       "      <td>negative</td>\n",
       "    </tr>\n",
       "    <tr>\n",
       "      <th>6</th>\n",
       "      <td>regret on this move. I will never never what m...</td>\n",
       "      <td>negative</td>\n",
       "    </tr>\n",
       "    <tr>\n",
       "      <th>7</th>\n",
       "      <td>I do not like this movie</td>\n",
       "      <td>negative</td>\n",
       "    </tr>\n",
       "    <tr>\n",
       "      <th>8</th>\n",
       "      <td>I do not like actors in this movie</td>\n",
       "      <td>negative</td>\n",
       "    </tr>\n",
       "    <tr>\n",
       "      <th>9</th>\n",
       "      <td>boring boring sleeping movie</td>\n",
       "      <td>negative</td>\n",
       "    </tr>\n",
       "  </tbody>\n",
       "</table>\n",
       "</div>"
      ],
      "text/plain": [
       "                                        movie_review      type\n",
       "0      this is great great movie. I will watch again  positive\n",
       "1                                  I like this movie  positive\n",
       "2                         amazing movie in this year  positive\n",
       "3      cool my boyfriend also said the movie is cool  positive\n",
       "4                  awesome of the awesome movie ever  positive\n",
       "5                      shame I wasted money and time  negative\n",
       "6  regret on this move. I will never never what m...  negative\n",
       "7                           I do not like this movie  negative\n",
       "8                 I do not like actors in this movie  negative\n",
       "9                       boring boring sleeping movie  negative"
      ]
     },
     "execution_count": 3,
     "metadata": {},
     "output_type": "execute_result"
    }
   ],
   "source": [
    "# 학습 데이터 준비\n",
    "review_list = [\n",
    "    {'movie_review' : 'this is great great movie. I will watch again', 'type' : 'positive'},\n",
    "    {'movie_review' : 'I like this movie', 'type' : 'positive'},\n",
    "    {'movie_review' : 'amazing movie in this year', 'type' : 'positive'},\n",
    "    {'movie_review' : 'cool my boyfriend also said the movie is cool', 'type' : 'positive'},\n",
    "    {'movie_review' : 'awesome of the awesome movie ever', 'type' : 'positive'},\n",
    "    {'movie_review' : 'shame I wasted money and time', 'type' : 'negative'},\n",
    "    {'movie_review' : 'regret on this move. I will never never what movie from this director', 'type' : 'negative'},\n",
    "    {'movie_review' : 'I do not like this movie', 'type' : 'negative'},\n",
    "    {'movie_review' : 'I do not like actors in this movie', 'type' : 'negative'},\n",
    "    {'movie_review' : 'boring boring sleeping movie', 'type' : 'negative'}\n",
    "]\n",
    "df = pd.DataFrame(review_list)\n",
    "df"
   ]
  },
  {
   "cell_type": "code",
   "execution_count": 4,
   "id": "39838c2c",
   "metadata": {},
   "outputs": [
    {
     "data": {
      "text/html": [
       "<div>\n",
       "<style scoped>\n",
       "    .dataframe tbody tr th:only-of-type {\n",
       "        vertical-align: middle;\n",
       "    }\n",
       "\n",
       "    .dataframe tbody tr th {\n",
       "        vertical-align: top;\n",
       "    }\n",
       "\n",
       "    .dataframe thead th {\n",
       "        text-align: right;\n",
       "    }\n",
       "</style>\n",
       "<table border=\"1\" class=\"dataframe\">\n",
       "  <thead>\n",
       "    <tr style=\"text-align: right;\">\n",
       "      <th></th>\n",
       "      <th>movie_review</th>\n",
       "      <th>type</th>\n",
       "      <th>label</th>\n",
       "    </tr>\n",
       "  </thead>\n",
       "  <tbody>\n",
       "    <tr>\n",
       "      <th>0</th>\n",
       "      <td>this is great great movie. I will watch again</td>\n",
       "      <td>positive</td>\n",
       "      <td>1</td>\n",
       "    </tr>\n",
       "    <tr>\n",
       "      <th>1</th>\n",
       "      <td>I like this movie</td>\n",
       "      <td>positive</td>\n",
       "      <td>1</td>\n",
       "    </tr>\n",
       "    <tr>\n",
       "      <th>2</th>\n",
       "      <td>amazing movie in this year</td>\n",
       "      <td>positive</td>\n",
       "      <td>1</td>\n",
       "    </tr>\n",
       "    <tr>\n",
       "      <th>3</th>\n",
       "      <td>cool my boyfriend also said the movie is cool</td>\n",
       "      <td>positive</td>\n",
       "      <td>1</td>\n",
       "    </tr>\n",
       "    <tr>\n",
       "      <th>4</th>\n",
       "      <td>awesome of the awesome movie ever</td>\n",
       "      <td>positive</td>\n",
       "      <td>1</td>\n",
       "    </tr>\n",
       "    <tr>\n",
       "      <th>5</th>\n",
       "      <td>shame I wasted money and time</td>\n",
       "      <td>negative</td>\n",
       "      <td>0</td>\n",
       "    </tr>\n",
       "    <tr>\n",
       "      <th>6</th>\n",
       "      <td>regret on this move. I will never never what m...</td>\n",
       "      <td>negative</td>\n",
       "      <td>0</td>\n",
       "    </tr>\n",
       "    <tr>\n",
       "      <th>7</th>\n",
       "      <td>I do not like this movie</td>\n",
       "      <td>negative</td>\n",
       "      <td>0</td>\n",
       "    </tr>\n",
       "    <tr>\n",
       "      <th>8</th>\n",
       "      <td>I do not like actors in this movie</td>\n",
       "      <td>negative</td>\n",
       "      <td>0</td>\n",
       "    </tr>\n",
       "    <tr>\n",
       "      <th>9</th>\n",
       "      <td>boring boring sleeping movie</td>\n",
       "      <td>negative</td>\n",
       "      <td>0</td>\n",
       "    </tr>\n",
       "  </tbody>\n",
       "</table>\n",
       "</div>"
      ],
      "text/plain": [
       "                                        movie_review      type  label\n",
       "0      this is great great movie. I will watch again  positive      1\n",
       "1                                  I like this movie  positive      1\n",
       "2                         amazing movie in this year  positive      1\n",
       "3      cool my boyfriend also said the movie is cool  positive      1\n",
       "4                  awesome of the awesome movie ever  positive      1\n",
       "5                      shame I wasted money and time  negative      0\n",
       "6  regret on this move. I will never never what m...  negative      0\n",
       "7                           I do not like this movie  negative      0\n",
       "8                 I do not like actors in this movie  negative      0\n",
       "9                       boring boring sleeping movie  negative      0"
      ]
     },
     "execution_count": 4,
     "metadata": {},
     "output_type": "execute_result"
    }
   ],
   "source": [
    "# 학습 데이터 다듬기\n",
    "# 사이킷런의 다항분포 나이브 베이즈 분류기는 숫자 데이터만 다루기 때문에 positive와 negative를 1과 0으로 치환한다.\n",
    "df['label'] = df.type.map({'positive': 1, 'negative': 0})\n",
    "df"
   ]
  },
  {
   "cell_type": "markdown",
   "id": "cca03e27",
   "metadata": {},
   "source": [
    "학습에 사용할 데이터와 레이블(답, 실제값, 타겟, 클래스)로 분리한다."
   ]
  },
  {
   "cell_type": "code",
   "execution_count": 5,
   "id": "48c184aa",
   "metadata": {},
   "outputs": [
    {
     "data": {
      "text/plain": [
       "0        this is great great movie. I will watch again\n",
       "1                                    I like this movie\n",
       "2                           amazing movie in this year\n",
       "3        cool my boyfriend also said the movie is cool\n",
       "4                    awesome of the awesome movie ever\n",
       "5                        shame I wasted money and time\n",
       "6    regret on this move. I will never never what m...\n",
       "7                             I do not like this movie\n",
       "8                   I do not like actors in this movie\n",
       "9                         boring boring sleeping movie\n",
       "Name: movie_review, dtype: object"
      ]
     },
     "execution_count": 5,
     "metadata": {},
     "output_type": "execute_result"
    }
   ],
   "source": [
    "df_x = df['movie_review'] # 피쳐\n",
    "df_x"
   ]
  },
  {
   "cell_type": "code",
   "execution_count": 6,
   "id": "95e5728b",
   "metadata": {},
   "outputs": [
    {
     "data": {
      "text/plain": [
       "0    1\n",
       "1    1\n",
       "2    1\n",
       "3    1\n",
       "4    1\n",
       "5    0\n",
       "6    0\n",
       "7    0\n",
       "8    0\n",
       "9    0\n",
       "Name: label, dtype: int64"
      ]
     },
     "execution_count": 6,
     "metadata": {},
     "output_type": "execute_result"
    }
   ],
   "source": [
    "df_y = df['label'] # 타겟\n",
    "df_y"
   ]
  },
  {
   "cell_type": "markdown",
   "id": "dc66f146",
   "metadata": {},
   "source": [
    "영화 리뷰(movie_review)으로 학습을 진행하고 레이블은 label을 사용해서 긍정적, 부정적 여부를 판단한다.\n",
    "\n",
    "다항분포 나이브 베이즈의 입력 데이터는 고정된(동일한) 크기의 벡터이어야 한다."
   ]
  },
  {
   "cell_type": "code",
   "execution_count": 7,
   "id": "f727c6fc",
   "metadata": {},
   "outputs": [
    {
     "name": "stdout",
     "output_type": "stream",
     "text": [
      "<class 'numpy.ndarray'>\n",
      "[[0 1 0 0 0 0 0 0 0 0 0 0 0 2 0 1 0 0 0 1 0 0 0 0 0 0 0 0 0 0 1 0 0 1 0 1\n",
      "  0]\n",
      " [0 0 0 0 0 0 0 0 0 0 0 0 0 0 0 0 1 0 0 1 0 0 0 0 0 0 0 0 0 0 1 0 0 0 0 0\n",
      "  0]\n",
      " [0 0 0 1 0 0 0 0 0 0 0 0 0 0 1 0 0 0 0 1 0 0 0 0 0 0 0 0 0 0 1 0 0 0 0 0\n",
      "  1]\n",
      " [0 0 1 0 0 0 0 1 2 0 0 0 0 0 0 1 0 0 0 1 1 0 0 0 0 0 1 0 0 1 0 0 0 0 0 0\n",
      "  0]\n",
      " [0 0 0 0 0 2 0 0 0 0 0 1 0 0 0 0 0 0 0 1 0 0 0 1 0 0 0 0 0 1 0 0 0 0 0 0\n",
      "  0]\n",
      " [0 0 0 0 1 0 0 0 0 0 0 0 0 0 0 0 0 1 0 0 0 0 0 0 0 0 0 1 0 0 0 1 1 0 0 0\n",
      "  0]\n",
      " [0 0 0 0 0 0 0 0 0 1 0 0 1 0 0 0 0 0 1 1 0 2 0 0 1 1 0 0 0 0 2 0 0 0 1 1\n",
      "  0]\n",
      " [0 0 0 0 0 0 0 0 0 0 1 0 0 0 0 0 1 0 0 1 0 0 1 0 0 0 0 0 0 0 1 0 0 0 0 0\n",
      "  0]\n",
      " [1 0 0 0 0 0 0 0 0 0 1 0 0 0 1 0 1 0 0 1 0 0 1 0 0 0 0 0 0 0 1 0 0 0 0 0\n",
      "  0]\n",
      " [0 0 0 0 0 0 2 0 0 0 0 0 0 0 0 0 0 0 0 1 0 0 0 0 0 0 0 0 1 0 0 0 0 0 0 0\n",
      "  0]]\n"
     ]
    }
   ],
   "source": [
    "# CountVectorizer 객체는 문자열에 출현한 단어를 오름차순으로 정렬해 단어의 위치로 행렬을 만들어 리턴한다.\n",
    "# 베르누이 나이브 베이즈는 같은 단어가 여러번 출현하더라도 무조건 1을 리턴해야 하기 때문에 binary=True 옵션을 지정하지만\n",
    "# 다항분포 나이브 베이즈는 같은 단어가 여러번 출현하면 출현한 빈도수를 나타내야 하기 때문에 binary=True 옵션을 생략한다.\n",
    "# cv = CountVectorizer(binary=True) # 베르누이 나이브 베이즈\n",
    "cv = CountVectorizer() # 다항분포 나이브 베이즈\n",
    "x_train = cv.fit_transform(df_x) # 학습 후 적용\n",
    "encoding_input = x_train.toarray() # 넘파이 타입의 배열로 데이터를 변환한다.\n",
    "print(type(encoding_input))\n",
    "print(encoding_input)"
   ]
  },
  {
   "cell_type": "markdown",
   "id": "c28c7e8d",
   "metadata": {},
   "source": [
    "위의 행렬에서 볼 수 있듯이 영화 리뷰에서 총 37개의 단어가 발견되어 각 영화 리뷰가 37개 크기의 벡터로 표현(인코딩)된 것을 확인할 수 있다.  \n",
    "다항분포 나이브 베이즈에서 사용하기 위해 영화 리뷰에 중복되서 출현한 단어있으면 출현한 횟수로 표현된 것을 알 수 있다."
   ]
  },
  {
   "cell_type": "code",
   "execution_count": 8,
   "id": "103d5fc5",
   "metadata": {},
   "outputs": [
    {
     "name": "stdout",
     "output_type": "stream",
     "text": [
      "['again' 'great' 'is' 'movie' 'this' 'watch' 'will']\n",
      "['like' 'movie' 'this']\n",
      "['amazing' 'in' 'movie' 'this' 'year']\n",
      "['also' 'boyfriend' 'cool' 'is' 'movie' 'my' 'said' 'the']\n",
      "['awesome' 'ever' 'movie' 'of' 'the']\n",
      "['and' 'money' 'shame' 'time' 'wasted']\n",
      "['director' 'from' 'move' 'movie' 'never' 'on' 'regret' 'this' 'what'\n",
      " 'will']\n",
      "['do' 'like' 'movie' 'not' 'this']\n",
      "['actors' 'do' 'in' 'like' 'movie' 'not' 'this']\n",
      "['boring' 'movie' 'sleeping']\n"
     ]
    }
   ],
   "source": [
    "for s in cv.inverse_transform(encoding_input):\n",
    "    print(s)"
   ]
  },
  {
   "cell_type": "code",
   "execution_count": 9,
   "id": "1e01d20a",
   "metadata": {},
   "outputs": [
    {
     "name": "stdout",
     "output_type": "stream",
     "text": [
      "['actors', 'again', 'also', 'amazing', 'and', 'awesome', 'boring', 'boyfriend', 'cool', 'director', 'do', 'ever', 'from', 'great', 'in', 'is', 'like', 'money', 'move', 'movie', 'my', 'never', 'not', 'of', 'on', 'regret', 'said', 'shame', 'sleeping', 'the', 'this', 'time', 'wasted', 'watch', 'what', 'will', 'year']\n"
     ]
    }
   ],
   "source": [
    "print(cv.get_feature_names())"
   ]
  },
  {
   "cell_type": "markdown",
   "id": "761a8a3f",
   "metadata": {},
   "source": [
    "다항분포 나이브 베이즈 모델 학습하기  \n",
    "사이킷런의 다항분포 나이브 베이즈 분류기는 기본적으로 라플라스 스무딩을 지원하므로 학습 데이터에 없던 단어가 테스트 데이터에 있어도 분류가 잘 진행된다."
   ]
  },
  {
   "cell_type": "code",
   "execution_count": 10,
   "id": "10243a09",
   "metadata": {},
   "outputs": [
    {
     "data": {
      "text/plain": [
       "0    1\n",
       "1    1\n",
       "2    1\n",
       "3    1\n",
       "4    1\n",
       "5    0\n",
       "6    0\n",
       "7    0\n",
       "8    0\n",
       "9    0\n",
       "Name: label, dtype: int64"
      ]
     },
     "execution_count": 10,
     "metadata": {},
     "output_type": "execute_result"
    }
   ],
   "source": [
    "df_y"
   ]
  },
  {
   "cell_type": "code",
   "execution_count": 11,
   "id": "1cfe6b16",
   "metadata": {},
   "outputs": [
    {
     "data": {
      "text/plain": [
       "MultinomialNB()"
      ]
     },
     "execution_count": 11,
     "metadata": {},
     "output_type": "execute_result"
    }
   ],
   "source": [
    "mnb = MultinomialNB() # 다항분포 나이브 베이즈 모델을 만든다.\n",
    "mnb.fit(x_train, df_y) # 다항분포 나이브 베이즈 모델을 학습시킨다."
   ]
  },
  {
   "cell_type": "markdown",
   "id": "8a7ac258",
   "metadata": {},
   "source": [
    "테스트 데이터를 다듬고 테스트 실행"
   ]
  },
  {
   "cell_type": "code",
   "execution_count": 12,
   "id": "db9051bb",
   "metadata": {},
   "outputs": [
    {
     "data": {
      "text/html": [
       "<div>\n",
       "<style scoped>\n",
       "    .dataframe tbody tr th:only-of-type {\n",
       "        vertical-align: middle;\n",
       "    }\n",
       "\n",
       "    .dataframe tbody tr th {\n",
       "        vertical-align: top;\n",
       "    }\n",
       "\n",
       "    .dataframe thead th {\n",
       "        text-align: right;\n",
       "    }\n",
       "</style>\n",
       "<table border=\"1\" class=\"dataframe\">\n",
       "  <thead>\n",
       "    <tr style=\"text-align: right;\">\n",
       "      <th></th>\n",
       "      <th>movie_review</th>\n",
       "      <th>type</th>\n",
       "      <th>label</th>\n",
       "    </tr>\n",
       "  </thead>\n",
       "  <tbody>\n",
       "    <tr>\n",
       "      <th>0</th>\n",
       "      <td>great great great movie ever</td>\n",
       "      <td>positive</td>\n",
       "      <td>1</td>\n",
       "    </tr>\n",
       "    <tr>\n",
       "      <th>1</th>\n",
       "      <td>I like this amazing movie</td>\n",
       "      <td>positive</td>\n",
       "      <td>1</td>\n",
       "    </tr>\n",
       "    <tr>\n",
       "      <th>2</th>\n",
       "      <td>my boyfriend said great movie ever</td>\n",
       "      <td>positive</td>\n",
       "      <td>1</td>\n",
       "    </tr>\n",
       "    <tr>\n",
       "      <th>3</th>\n",
       "      <td>cool cool cool</td>\n",
       "      <td>positive</td>\n",
       "      <td>1</td>\n",
       "    </tr>\n",
       "    <tr>\n",
       "      <th>4</th>\n",
       "      <td>awesome boyfriend said cool movie ever</td>\n",
       "      <td>positive</td>\n",
       "      <td>1</td>\n",
       "    </tr>\n",
       "    <tr>\n",
       "      <th>5</th>\n",
       "      <td>shame shame shame</td>\n",
       "      <td>negative</td>\n",
       "      <td>0</td>\n",
       "    </tr>\n",
       "    <tr>\n",
       "      <th>6</th>\n",
       "      <td>awesome director shame movie boring movie</td>\n",
       "      <td>negative</td>\n",
       "      <td>0</td>\n",
       "    </tr>\n",
       "    <tr>\n",
       "      <th>7</th>\n",
       "      <td>do not like this movie</td>\n",
       "      <td>negative</td>\n",
       "      <td>0</td>\n",
       "    </tr>\n",
       "    <tr>\n",
       "      <th>8</th>\n",
       "      <td>I do not like this boring movie</td>\n",
       "      <td>negative</td>\n",
       "      <td>0</td>\n",
       "    </tr>\n",
       "    <tr>\n",
       "      <th>9</th>\n",
       "      <td>aweful terrible boring movie</td>\n",
       "      <td>negative</td>\n",
       "      <td>0</td>\n",
       "    </tr>\n",
       "  </tbody>\n",
       "</table>\n",
       "</div>"
      ],
      "text/plain": [
       "                                movie_review      type  label\n",
       "0               great great great movie ever  positive      1\n",
       "1                  I like this amazing movie  positive      1\n",
       "2         my boyfriend said great movie ever  positive      1\n",
       "3                             cool cool cool  positive      1\n",
       "4     awesome boyfriend said cool movie ever  positive      1\n",
       "5                          shame shame shame  negative      0\n",
       "6  awesome director shame movie boring movie  negative      0\n",
       "7                     do not like this movie  negative      0\n",
       "8            I do not like this boring movie  negative      0\n",
       "9               aweful terrible boring movie  negative      0"
      ]
     },
     "execution_count": 12,
     "metadata": {},
     "output_type": "execute_result"
    }
   ],
   "source": [
    "test_feedback_list = [\n",
    "    {'movie_review': 'great great great movie ever', 'type': 'positive'},\n",
    "    {'movie_review': 'I like this amazing movie', 'type': 'positive'},\n",
    "    {'movie_review': 'my boyfriend said great movie ever', 'type': 'positive'},\n",
    "    {'movie_review': 'cool cool cool', 'type': 'positive'},\n",
    "    {'movie_review': 'awesome boyfriend said cool movie ever', 'type': 'positive'},\n",
    "    {'movie_review': 'shame shame shame', 'type': 'negative'},\n",
    "    {'movie_review': 'awesome director shame movie boring movie', 'type': 'negative'},\n",
    "    {'movie_review': 'do not like this movie', 'type': 'negative'},\n",
    "    {'movie_review': 'I do not like this boring movie', 'type': 'negative'},\n",
    "    {'movie_review': 'aweful terrible boring movie', 'type': 'negative'}\n",
    "]\n",
    "test_df = pd.DataFrame(test_feedback_list)\n",
    "test_df['label'] = test_df.type.map({'positive': 1, 'negative': 0})\n",
    "test_df"
   ]
  },
  {
   "cell_type": "code",
   "execution_count": 13,
   "id": "fe15369e",
   "metadata": {},
   "outputs": [
    {
     "data": {
      "text/plain": [
       "0                 great great great movie ever\n",
       "1                    I like this amazing movie\n",
       "2           my boyfriend said great movie ever\n",
       "3                               cool cool cool\n",
       "4       awesome boyfriend said cool movie ever\n",
       "5                            shame shame shame\n",
       "6    awesome director shame movie boring movie\n",
       "7                       do not like this movie\n",
       "8              I do not like this boring movie\n",
       "9                 aweful terrible boring movie\n",
       "Name: movie_review, dtype: object"
      ]
     },
     "execution_count": 13,
     "metadata": {},
     "output_type": "execute_result"
    }
   ],
   "source": [
    "test_x = test_df['movie_review']\n",
    "test_x"
   ]
  },
  {
   "cell_type": "code",
   "execution_count": 14,
   "id": "60809581",
   "metadata": {},
   "outputs": [
    {
     "data": {
      "text/plain": [
       "0    1\n",
       "1    1\n",
       "2    1\n",
       "3    1\n",
       "4    1\n",
       "5    0\n",
       "6    0\n",
       "7    0\n",
       "8    0\n",
       "9    0\n",
       "Name: label, dtype: int64"
      ]
     },
     "execution_count": 14,
     "metadata": {},
     "output_type": "execute_result"
    }
   ],
   "source": [
    "test_y = test_df['label']\n",
    "test_y"
   ]
  },
  {
   "cell_type": "code",
   "execution_count": 15,
   "id": "546d1118",
   "metadata": {},
   "outputs": [],
   "source": [
    "# CountVectorizer 객체는 학습 데이터를 다듬을 때 이미 학습을 시켰으므로 테스트 시에는 적용만 시키면 된다.\n",
    "x_test = cv.transform(test_x) # 적용"
   ]
  },
  {
   "cell_type": "markdown",
   "id": "009c662c",
   "metadata": {},
   "source": [
    "모델 테스트"
   ]
  },
  {
   "cell_type": "code",
   "execution_count": 17,
   "id": "b8b72a61",
   "metadata": {},
   "outputs": [
    {
     "name": "stdout",
     "output_type": "stream",
     "text": [
      "정확도: 100.00%\n"
     ]
    }
   ],
   "source": [
    "predict = mnb.predict(x_test) # 학습 데이터로 학습한 결과에 따른 테스트 데이터의 예측값을 계산한다.\n",
    "accuracy = accuracy_score(test_y, predict) #accuracy_score(실제값, 예측값)\n",
    "print('정확도: {:.2%}'.format(accuracy))"
   ]
  },
  {
   "cell_type": "code",
   "execution_count": 18,
   "id": "b50651e5",
   "metadata": {},
   "outputs": [
    {
     "name": "stdout",
     "output_type": "stream",
     "text": [
      "[[5 0]\n",
      " [0 5]]\n"
     ]
    }
   ],
   "source": [
    "conf_matrix = confusion_matrix(test_y, predict)\n",
    "print(conf_matrix)"
   ]
  },
  {
   "cell_type": "code",
   "execution_count": 19,
   "id": "c21f53f0",
   "metadata": {},
   "outputs": [
    {
     "name": "stdout",
     "output_type": "stream",
     "text": [
      "              precision    recall  f1-score   support\n",
      "\n",
      "           0       1.00      1.00      1.00         5\n",
      "           1       1.00      1.00      1.00         5\n",
      "\n",
      "    accuracy                           1.00        10\n",
      "   macro avg       1.00      1.00      1.00        10\n",
      "weighted avg       1.00      1.00      1.00        10\n",
      "\n"
     ]
    }
   ],
   "source": [
    "print(classification_report(test_y, predict))"
   ]
  },
  {
   "cell_type": "code",
   "execution_count": 20,
   "id": "7a1e8ffe",
   "metadata": {},
   "outputs": [
    {
     "data": {
      "text/html": [
       "<div>\n",
       "<style scoped>\n",
       "    .dataframe tbody tr th:only-of-type {\n",
       "        vertical-align: middle;\n",
       "    }\n",
       "\n",
       "    .dataframe tbody tr th {\n",
       "        vertical-align: top;\n",
       "    }\n",
       "\n",
       "    .dataframe thead th {\n",
       "        text-align: right;\n",
       "    }\n",
       "</style>\n",
       "<table border=\"1\" class=\"dataframe\">\n",
       "  <thead>\n",
       "    <tr style=\"text-align: right;\">\n",
       "      <th></th>\n",
       "      <th>실제값</th>\n",
       "      <th>예측값</th>\n",
       "    </tr>\n",
       "  </thead>\n",
       "  <tbody>\n",
       "    <tr>\n",
       "      <th>0</th>\n",
       "      <td>1</td>\n",
       "      <td>1</td>\n",
       "    </tr>\n",
       "    <tr>\n",
       "      <th>1</th>\n",
       "      <td>1</td>\n",
       "      <td>1</td>\n",
       "    </tr>\n",
       "    <tr>\n",
       "      <th>2</th>\n",
       "      <td>1</td>\n",
       "      <td>1</td>\n",
       "    </tr>\n",
       "    <tr>\n",
       "      <th>3</th>\n",
       "      <td>1</td>\n",
       "      <td>1</td>\n",
       "    </tr>\n",
       "    <tr>\n",
       "      <th>4</th>\n",
       "      <td>1</td>\n",
       "      <td>1</td>\n",
       "    </tr>\n",
       "    <tr>\n",
       "      <th>5</th>\n",
       "      <td>0</td>\n",
       "      <td>0</td>\n",
       "    </tr>\n",
       "    <tr>\n",
       "      <th>6</th>\n",
       "      <td>0</td>\n",
       "      <td>0</td>\n",
       "    </tr>\n",
       "    <tr>\n",
       "      <th>7</th>\n",
       "      <td>0</td>\n",
       "      <td>0</td>\n",
       "    </tr>\n",
       "    <tr>\n",
       "      <th>8</th>\n",
       "      <td>0</td>\n",
       "      <td>0</td>\n",
       "    </tr>\n",
       "    <tr>\n",
       "      <th>9</th>\n",
       "      <td>0</td>\n",
       "      <td>0</td>\n",
       "    </tr>\n",
       "  </tbody>\n",
       "</table>\n",
       "</div>"
      ],
      "text/plain": [
       "   실제값  예측값\n",
       "0    1    1\n",
       "1    1    1\n",
       "2    1    1\n",
       "3    1    1\n",
       "4    1    1\n",
       "5    0    0\n",
       "6    0    0\n",
       "7    0    0\n",
       "8    0    0\n",
       "9    0    0"
      ]
     },
     "execution_count": 20,
     "metadata": {},
     "output_type": "execute_result"
    }
   ],
   "source": [
    "comparison = pd.DataFrame({'실제값': test_y, '예측값': predict})\n",
    "comparison"
   ]
  },
  {
   "cell_type": "code",
   "execution_count": null,
   "id": "cb0a3fa8",
   "metadata": {},
   "outputs": [],
   "source": []
  }
 ],
 "metadata": {
  "kernelspec": {
   "display_name": "Python 3",
   "language": "python",
   "name": "python3"
  },
  "language_info": {
   "codemirror_mode": {
    "name": "ipython",
    "version": 3
   },
   "file_extension": ".py",
   "mimetype": "text/x-python",
   "name": "python",
   "nbconvert_exporter": "python",
   "pygments_lexer": "ipython3",
   "version": "3.6.8"
  }
 },
 "nbformat": 4,
 "nbformat_minor": 5
}
