{
 "cells": [
  {
   "cell_type": "code",
   "execution_count": 1,
   "id": "960f004e",
   "metadata": {},
   "outputs": [],
   "source": [
    "import warnings\n",
    "warnings.filterwarnings(action='ignore')\n",
    "%config Completer.use_jedi = False\n",
    "import numpy as np\n",
    "import pandas as pd\n",
    "import matplotlib.pyplot as plt\n",
    "import seaborn as sns\n",
    "from sklearn.model_selection import train_test_split\n",
    "from sklearn.metrics import accuracy_score\n",
    "from sklearn.metrics import confusion_matrix\n",
    "from sklearn.metrics import classification_report"
   ]
  },
  {
   "cell_type": "code",
   "execution_count": 2,
   "id": "24ae232d",
   "metadata": {},
   "outputs": [],
   "source": [
    "from sklearn.datasets import load_digits # MNIST 손글씨 데이터셋\n",
    "from sklearn.neighbors import KNeighborsClassifier # kNN\n",
    "from sklearn.svm import SVC # SVM\n",
    "from sklearn.tree import DecisionTreeClassifier # 의사 결정 트리\n",
    "# 하드/소프트 보팅을 계산하기 위해 import 한다.\n",
    "from sklearn.ensemble import VotingClassifier"
   ]
  },
  {
   "cell_type": "markdown",
   "id": "5da78ebd",
   "metadata": {},
   "source": [
    "손글씨 데이터를 불러온다."
   ]
  },
  {
   "cell_type": "code",
   "execution_count": 3,
   "id": "98e0524f",
   "metadata": {},
   "outputs": [
    {
     "name": "stdout",
     "output_type": "stream",
     "text": [
      "(1797, 64) (1797,)\n"
     ]
    }
   ],
   "source": [
    "mnist = load_digits()\n",
    "features, labels = mnist.data, mnist.target\n",
    "print(features.shape, labels.shape)"
   ]
  },
  {
   "cell_type": "markdown",
   "id": "2e061eda",
   "metadata": {},
   "source": [
    "학습 데이터와 테스트 데이터를 나눈다."
   ]
  },
  {
   "cell_type": "code",
   "execution_count": 4,
   "id": "7c974041",
   "metadata": {},
   "outputs": [
    {
     "name": "stdout",
     "output_type": "stream",
     "text": [
      "학습 데이터 개수: 1437, 테스트 데이터 개수: 360\n"
     ]
    }
   ],
   "source": [
    "X_train, X_test, y_train, y_test = train_test_split(features, labels, train_size=0.8)\n",
    "print('학습 데이터 개수: {}, 테스트 데이터 개수: {}'.format(X_train.shape[0], X_test.shape[0]))"
   ]
  },
  {
   "cell_type": "markdown",
   "id": "bea3be33",
   "metadata": {},
   "source": [
    "단일 모델의 정확도 측정  \n",
    "앙상블 정확도를 측정하기에 앞서서 단일 모델들의 정확도를 kNN, SVC, 의사 결정 트리 분류기를 만들어 정확도를 계산한다."
   ]
  },
  {
   "cell_type": "code",
   "execution_count": 5,
   "id": "fd053d20",
   "metadata": {},
   "outputs": [
    {
     "name": "stdout",
     "output_type": "stream",
     "text": [
      "kNN 정확도: 85.00%\n"
     ]
    }
   ],
   "source": [
    "# kNN\n",
    "knn = KNeighborsClassifier(n_neighbors=299).fit(X_train, y_train)\n",
    "knn_predict = knn.predict(X_test)\n",
    "print('kNN 정확도: {:6.2%}'.format(accuracy_score(y_test, knn_predict)))"
   ]
  },
  {
   "cell_type": "code",
   "execution_count": 6,
   "id": "87eed2da",
   "metadata": {},
   "outputs": [
    {
     "name": "stdout",
     "output_type": "stream",
     "text": [
      "SVM 정확도: 90.83%\n"
     ]
    }
   ],
   "source": [
    "# svm\n",
    "svm = SVC(C=0.1, gamma=0.003, random_state=35, probability=True).fit(X_train, y_train)\n",
    "svm_predict = svm.predict(X_test)\n",
    "print('SVM 정확도: {:6.2%}'.format(accuracy_score(y_test, svm_predict)))"
   ]
  },
  {
   "cell_type": "code",
   "execution_count": 7,
   "id": "3b1fa9e2",
   "metadata": {},
   "outputs": [
    {
     "name": "stdout",
     "output_type": "stream",
     "text": [
      "의사 결정 트리 정확도: 85.83%\n"
     ]
    }
   ],
   "source": [
    "# 의사 결정 트리\n",
    "dtree = DecisionTreeClassifier(random_state=35, max_depth=8).fit(X_train, y_train)\n",
    "dtree_predict = dtree.predict(X_test)\n",
    "print('의사 결정 트리 정확도: {:6.2%}'.format(accuracy_score(y_test, dtree_predict)))"
   ]
  },
  {
   "cell_type": "markdown",
   "id": "29ff2bf3",
   "metadata": {},
   "source": [
    "하드 보팅  \n",
    "일반적인 투표와 같이 각 분류기의 예측값들을 모아 가장 많은 투표를 받은 예측값으로 최종 결론을 내린다."
   ]
  },
  {
   "cell_type": "code",
   "execution_count": 8,
   "id": "f0954eb8",
   "metadata": {},
   "outputs": [
    {
     "name": "stdout",
     "output_type": "stream",
     "text": [
      "하드 보팅 정확도: 91.11%\n"
     ]
    }
   ],
   "source": [
    "hv_clf = VotingClassifier(estimators=[('knn', knn), ('svm', svm), ('decision_tree', dtree)], \n",
    "                          weights=[1, 1, 1], voting='hard').fit(X_train, y_train)\n",
    "hv_predict = hv_clf.predict(X_test)\n",
    "print('하드 보팅 정확도: {:6.2%}'.format(accuracy_score(y_test, hv_predict)))"
   ]
  },
  {
   "cell_type": "markdown",
   "id": "f3b43e3c",
   "metadata": {},
   "source": [
    "소프트 보팅  \n",
    "각 분류값별 확률을 더해준 값을 점수로 사용해 최대 점수를 가진 분류값으로 결론을 내린다.\n",
    "\n",
    "확률 합계"
   ]
  },
  {
   "cell_type": "code",
   "execution_count": 9,
   "id": "5b6a878d",
   "metadata": {},
   "outputs": [
    {
     "name": "stdout",
     "output_type": "stream",
     "text": [
      "[0.         0.3277592  0.21404682 0.04682274 0.04347826 0.01003344\n",
      " 0.04347826 0.11036789 0.2006689  0.00334448]\n",
      "확률 합계: 1.0\n"
     ]
    }
   ],
   "source": [
    "# predict_proba() 메소드로 분류 모델이 각 클래스(타겟, 레이블, 실제값)의 확률을 계산한다.\n",
    "knn_proba = knn.predict_proba(X_test)\n",
    "# print(len(knn_proba))\n",
    "print(knn_proba[0])\n",
    "print('확률 합계: {}'.format(knn_proba[0].sum()))"
   ]
  },
  {
   "cell_type": "code",
   "execution_count": 10,
   "id": "a46e0c14",
   "metadata": {},
   "outputs": [
    {
     "name": "stdout",
     "output_type": "stream",
     "text": [
      "[0.00131663 0.89453486 0.00935126 0.00309255 0.00372718 0.00853162\n",
      " 0.00152847 0.00435368 0.06823857 0.00532519]\n",
      "확률 합계: 1.0\n"
     ]
    }
   ],
   "source": [
    "svm_proba = svm.predict_proba(X_test)\n",
    "print(svm_proba[0])\n",
    "print('확률 합계: {}'.format(svm_proba[0].sum()))"
   ]
  },
  {
   "cell_type": "code",
   "execution_count": 11,
   "id": "78e8e794",
   "metadata": {},
   "outputs": [
    {
     "name": "stdout",
     "output_type": "stream",
     "text": [
      "[0.         0.8313253  0.         0.03614458 0.01204819 0.\n",
      " 0.         0.         0.12048193 0.        ]\n",
      "확률 합계: 1.0\n"
     ]
    }
   ],
   "source": [
    "dtree_proba = dtree.predict_proba(X_test)\n",
    "print(dtree_proba[0])\n",
    "print('확률 합계: {}'.format(dtree_proba[0].sum()))"
   ]
  },
  {
   "cell_type": "code",
   "execution_count": 12,
   "id": "b3930d40",
   "metadata": {},
   "outputs": [
    {
     "name": "stdout",
     "output_type": "stream",
     "text": [
      "소프트 보팅 정확도: 89.72%\n"
     ]
    }
   ],
   "source": [
    "sv_clf = VotingClassifier(estimators=[('knn', knn), ('svm', svm), ('decision_tree', dtree)], \n",
    "                          weights=[1, 1, 1], voting='soft').fit(X_train, y_train)\n",
    "sv_predict = sv_clf.predict(X_test)\n",
    "print('소프트 보팅 정확도: {:6.2%}'.format(accuracy_score(y_test, sv_predict)))"
   ]
  },
  {
   "cell_type": "markdown",
   "id": "8a8d670d",
   "metadata": {},
   "source": [
    "단일 모델과 앙상블 모델의 정확도 비교 시각화"
   ]
  },
  {
   "cell_type": "code",
   "execution_count": 13,
   "id": "3b2124a0",
   "metadata": {},
   "outputs": [
    {
     "data": {
      "image/png": "[encoded data removed]",
      "text/plain": [
       "<Figure size 864x576 with 1 Axes>"
      ]
     },
     "metadata": {
      "needs_background": "light"
     },
     "output_type": "display_data"
    }
   ],
   "source": [
    "plt.figure(figsize=(12, 8))\n",
    "x = np.arange(5)\n",
    "plt.bar(x, height=[\n",
    "    accuracy_score(y_test, knn_predict),\n",
    "    accuracy_score(y_test, svm_predict),\n",
    "    accuracy_score(y_test, dtree_predict),\n",
    "    accuracy_score(y_test, hv_predict),\n",
    "    accuracy_score(y_test, sv_predict)\n",
    "])\n",
    "plt.xticks(x, ['knn', 'svm', 'decision_tree', 'hard_voting', 'soft_voting'])\n",
    "plt.show()"
   ]
  },
  {
   "cell_type": "code",
   "execution_count": null,
   "id": "27d753df",
   "metadata": {},
   "outputs": [],
   "source": []
  },
  {
   "cell_type": "code",
   "execution_count": null,
   "id": "e8f7f862",
   "metadata": {},
   "outputs": [],
   "source": []
  },
  {
   "cell_type": "code",
   "execution_count": null,
   "id": "5ae3bd6e",
   "metadata": {},
   "outputs": [],
   "source": []
  }
 ],
 "metadata": {
  "kernelspec": {
   "display_name": "Python 3",
   "language": "python",
   "name": "python3"
  },
  "language_info": {
   "codemirror_mode": {
    "name": "ipython",
    "version": 3
   },
   "file_extension": ".py",
   "mimetype": "text/x-python",
   "name": "python",
   "nbconvert_exporter": "python",
   "pygments_lexer": "ipython3",
   "version": "3.6.8"
  }
 },
 "nbformat": 4,
 "nbformat_minor": 5
}
