{
 "cells": [
  {
   "cell_type": "markdown",
   "id": "4053fa5c",
   "metadata": {},
   "source": [
    "분산, 표준편차\n",
    "\n",
    "n개의 데이터(999가 입력되기 전 까지)를 입력받아 최대값과 최소값을 제외한 나머지 데이터의 표준편차를 계산하는 프로그램\n",
    "***\n",
    "표준편차 공식\n",
    "\n",
    "$$\\sqrt{\\frac{\\sum_{i=1}^{n-2}(x_i - \\bar{x})^2}{N-2}}$$"
   ]
  },
  {
   "cell_type": "markdown",
   "id": "103262fa",
   "metadata": {},
   "source": [
    "<img src=\"./images/stdDev.png\" align=\"left\" width=\"800\" title=\"표준편차 이미지\"/>"
   ]
  },
  {
   "cell_type": "markdown",
   "id": "4b606012",
   "metadata": {},
   "source": [
    "999가 입력되기 전 까지 데이터 입력받기"
   ]
  },
  {
   "cell_type": "code",
   "execution_count": 7,
   "id": "920191ce",
   "metadata": {},
   "outputs": [
    {
     "name": "stdout",
     "output_type": "stream",
     "text": [
      "n: 1\n",
      "n: 2\n",
      "n: 999\n"
     ]
    }
   ],
   "source": [
    "data = []\n",
    "while True:\n",
    "    n = int(input('n: '))\n",
    "    if n == 999:\n",
    "        break\n",
    "    data.append(n)"
   ]
  },
  {
   "cell_type": "markdown",
   "id": "402b86f0",
   "metadata": {},
   "source": [
    "데이터를 입력받을 때 최대값, 최소값 판단하기"
   ]
  },
  {
   "cell_type": "code",
   "execution_count": 6,
   "id": "3751a3d6",
   "metadata": {},
   "outputs": [
    {
     "name": "stdout",
     "output_type": "stream",
     "text": [
      "최대값: 91, 최소값: 35\n"
     ]
    }
   ],
   "source": [
    "# data = [35, 91, 75, 62, 84]\n",
    "data = [35, 62, 75, 84, 91]\n",
    "# 최대값을 기억할 변수는 아주 작은 값을, 최소값을 기억할 변수는 아주 큰 값을 초기치로 넣어주고 비교한다.\n",
    "big = 0\n",
    "small = 100\n",
    "for score in data:\n",
    "    if score > big:\n",
    "        big = score\n",
    "    if score < small:\n",
    "        small = score\n",
    "print(f'최대값: {big}, 최소값: {small}')"
   ]
  },
  {
   "cell_type": "markdown",
   "id": "7b26fd6e",
   "metadata": {},
   "source": [
    "데이터를 입력받은 후 최대값, 최소값 판단하기"
   ]
  },
  {
   "cell_type": "code",
   "execution_count": 9,
   "id": "4e6bbd78",
   "metadata": {},
   "outputs": [
    {
     "name": "stdout",
     "output_type": "stream",
     "text": [
      "최대값: 91, 최소값: 35\n"
     ]
    }
   ],
   "source": [
    "# data = [35, 91, 75, 62, 84]\n",
    "data = [35, 62, 75, 84, 91]\n",
    "# 최대값을 기억할 변수와 최소값을 기억할 변수에 각각 리스트의 0번째 인덱스 요소를 초기치로 넣어주고 비교한다.\n",
    "big = data[0]\n",
    "small = data[0]\n",
    "for score in data[1:]:\n",
    "    if score > big:\n",
    "        big = score\n",
    "    elif score < small:\n",
    "        small = score\n",
    "print(f'최대값: {big}, 최소값: {small}')"
   ]
  },
  {
   "cell_type": "markdown",
   "id": "eafa6fd4",
   "metadata": {},
   "source": [
    "max(), min() 함수로 최대값, 최소값 판단하기"
   ]
  },
  {
   "cell_type": "code",
   "execution_count": 11,
   "id": "c7f176bf",
   "metadata": {},
   "outputs": [
    {
     "name": "stdout",
     "output_type": "stream",
     "text": [
      "최대값: 91, 최소값: 35\n"
     ]
    }
   ],
   "source": [
    "data = [35, 91, 75, 62, 84]\n",
    "# data = [35, 62, 75, 84, 91]\n",
    "print(f'최대값: {max(data)}, 최소값: {min(data)}')"
   ]
  },
  {
   "cell_type": "markdown",
   "id": "62cd399b",
   "metadata": {},
   "source": [
    "데이터를 정렬시켜서 최대값, 최소값 판단하기"
   ]
  },
  {
   "cell_type": "code",
   "execution_count": 14,
   "id": "de994588",
   "metadata": {},
   "outputs": [
    {
     "name": "stdout",
     "output_type": "stream",
     "text": [
      "[35, 62, 75, 84, 91]\n",
      "최대값: 91, 최소값: 35\n",
      "[91, 84, 75, 62, 35]\n",
      "최대값: 91, 최소값: 35\n"
     ]
    }
   ],
   "source": [
    "data = [35, 91, 75, 62, 84]\n",
    "data.sort()\n",
    "print(data)\n",
    "print(f'최대값: {data[-1]}, 최소값: {data[0]}')\n",
    "data.sort(reverse=True)\n",
    "print(data)\n",
    "print(f'최대값: {data[0]}, 최소값: {data[-1]}')"
   ]
  },
  {
   "cell_type": "code",
   "execution_count": 18,
   "id": "d5393a22",
   "metadata": {},
   "outputs": [
    {
     "name": "stdout",
     "output_type": "stream",
     "text": [
      "1번째 표준편차를 계산할 데이터를 입력하세요: 1\n",
      "2번째 표준편차를 계산할 데이터를 입력하세요: 2\n",
      "3번째 표준편차를 계산할 데이터를 입력하세요: 3\n",
      "4번째 표준편차를 계산할 데이터를 입력하세요: 4\n",
      "5번째 표준편차를 계산할 데이터를 입력하세요: 5\n",
      "6번째 표준편차를 계산할 데이터를 입력하세요: 999\n",
      "입력받은 데이터는 5개 이고 데이터는 [1, 2, 3, 4, 5] 입니다.\n"
     ]
    }
   ],
   "source": [
    "# 표준편차를 계산할 데이터를 999가 입력될 때 까지 입력받는다.\n",
    "score = []\n",
    "# 999가 몇 번째 데이터로 입력될지 모르기 때문에 무한 루프를 돌린다.\n",
    "while True:\n",
    "    data = int(input('{}번째 표준편차를 계산할 데이터를 입력하세요: '.format(len(score) + 1)))\n",
    "    # 입력받은 데이터가 999면 더 이상 데이터를 입력받을 필요 없으므로 무한 루프를 탈출한다.\n",
    "    if data == 999:\n",
    "        break\n",
    "    # ===== if\n",
    "    # 999가 입력되지 않았으므로 리스트에 입력받은 데이터를 추가한다.\n",
    "    score.append(data)\n",
    "# ===== while\n",
    "print(f'입력받은 데이터는 {len(score)}개 이고 데이터는 {score} 입니다.')"
   ]
  },
  {
   "cell_type": "markdown",
   "id": "9674e210",
   "metadata": {},
   "source": [
    "최대값과 최소값을 제외한 나머지 데이터의 평균을 계산한다."
   ]
  },
  {
   "cell_type": "code",
   "execution_count": 25,
   "id": "852dd3f5",
   "metadata": {},
   "outputs": [
    {
     "name": "stdout",
     "output_type": "stream",
     "text": [
      "최대값과 최소값을 제외한 나머지 데이터의 합계: 9\n",
      "최대값과 최소값을 제외한 나머지 데이터의 평균: 3.0\n"
     ]
    }
   ],
   "source": [
    "big = max(score)\n",
    "small = min(score)\n",
    "'''\n",
    "total = 0\n",
    "for s in score:\n",
    "    total += s\n",
    "# total = total - big - small\n",
    "total -= big + small\n",
    "'''\n",
    "total = sum(score) - big - small\n",
    "print(f'최대값과 최소값을 제외한 나머지 데이터의 합계: {total}')\n",
    "mean = total / (len(score) - 2)\n",
    "print(f'최대값과 최소값을 제외한 나머지 데이터의 평균: {mean}')"
   ]
  },
  {
   "cell_type": "code",
   "execution_count": 29,
   "id": "49f6f938",
   "metadata": {},
   "outputs": [
    {
     "name": "stdout",
     "output_type": "stream",
     "text": [
      "최대값과 최소값을 제외한 나머지 데이터의 합계: 9\n",
      "최대값과 최소값을 제외한 나머지 데이터의 평균: 3.0\n"
     ]
    }
   ],
   "source": [
    "score.sort()\n",
    "total = 0\n",
    "'''\n",
    "# for s in score[1:len(score) - 1]:\n",
    "for s in score[1:-1]:\n",
    "    total += s\n",
    "'''\n",
    "total = sum(score[1:-1])\n",
    "print(f'최대값과 최소값을 제외한 나머지 데이터의 합계: {total}')\n",
    "mean = total / (len(score) - 2)\n",
    "print(f'최대값과 최소값을 제외한 나머지 데이터의 평균: {mean}')"
   ]
  },
  {
   "cell_type": "markdown",
   "id": "9bb89b44",
   "metadata": {},
   "source": [
    "최대값과 최소값을 제외한 나머지 데이터와 산술평균의 편차의 제곱의 합계를 계산한다."
   ]
  },
  {
   "cell_type": "code",
   "execution_count": 30,
   "id": "9b2dff72",
   "metadata": {},
   "outputs": [],
   "source": [
    "import math"
   ]
  },
  {
   "cell_type": "code",
   "execution_count": 33,
   "id": "9acb0966",
   "metadata": {},
   "outputs": [
    {
     "name": "stdout",
     "output_type": "stream",
     "text": [
      "최대값과 최소값을 제외한 나머지 데이터와 산술평균의 편차의 제곱의 합계: 2.0\n"
     ]
    }
   ],
   "source": [
    "total = 0\n",
    "for s in score[1:-1]:\n",
    "    # total += (s - mean) * (s - mean)\n",
    "    # total += (s - mean) ** 2\n",
    "    total += math.pow(s - mean, 2)\n",
    "print(f'최대값과 최소값을 제외한 나머지 데이터와 산술평균의 편차의 제곱의 합계: {total}')"
   ]
  },
  {
   "cell_type": "markdown",
   "id": "a0849f11",
   "metadata": {},
   "source": [
    "최대값과 최소값을 제외한 나머지 데이터의 분산"
   ]
  },
  {
   "cell_type": "code",
   "execution_count": 34,
   "id": "9c092201",
   "metadata": {},
   "outputs": [
    {
     "name": "stdout",
     "output_type": "stream",
     "text": [
      "최대값과 최소값을 제외한 나머지 데이터의 분산: 0.6666666666666666\n"
     ]
    }
   ],
   "source": [
    "# 최대값과 최소값을 제외한 나머지 데이터와 산술평균의 편차의 제곱의 평균을 계산한다.\n",
    "var = total / (len(score) - 2)\n",
    "print(f'최대값과 최소값을 제외한 나머지 데이터의 분산: {var}')"
   ]
  },
  {
   "cell_type": "markdown",
   "id": "ef04b685",
   "metadata": {},
   "source": [
    "최대값과 최소값을 제외한 나머지 데이터의 표준편차"
   ]
  },
  {
   "cell_type": "code",
   "execution_count": 35,
   "id": "d3537adb",
   "metadata": {},
   "outputs": [
    {
     "name": "stdout",
     "output_type": "stream",
     "text": [
      "최대값과 최소값을 제외한 나머지 데이터의 표준편차: 0.816496580927726\n"
     ]
    }
   ],
   "source": [
    "# std = var ** 0.5\n",
    "std = math.sqrt(var)\n",
    "print(f'최대값과 최소값을 제외한 나머지 데이터의 표준편차: {std}')"
   ]
  },
  {
   "cell_type": "markdown",
   "id": "a0e907a0",
   "metadata": {},
   "source": [
    "numpy 라이브러리를 이용해서 분산과 표준편차 계산하기\n",
    "\n",
    "numpy는 파이썬을 설치할 때 자동으로 설치되는 라이브러리가 아니기 때문에 별도로 설치하는 과정이 필요하다.  \n",
    "콘솔창에서 pip install numpy와 같이 입력해서 설치하면 되고 쥬피터 노트북에서 바로 라이브러리를 설치하려면 !pip install numpy와 같이 pip 앞에 '!'를 붙여서 실행하면 된다."
   ]
  },
  {
   "cell_type": "code",
   "execution_count": 37,
   "id": "ab522f93",
   "metadata": {},
   "outputs": [],
   "source": [
    "# !pip install numpy"
   ]
  },
  {
   "cell_type": "code",
   "execution_count": 38,
   "id": "973a27c1",
   "metadata": {},
   "outputs": [],
   "source": [
    "import numpy as np"
   ]
  },
  {
   "cell_type": "code",
   "execution_count": 40,
   "id": "55584388",
   "metadata": {},
   "outputs": [
    {
     "name": "stdout",
     "output_type": "stream",
     "text": [
      "최대값과 최소값을 제외한 나머지 데이터의 분산: 0.6666666666666666\n",
      "최대값과 최소값을 제외한 나머지 데이터의 표준편차: 0.816496580927726\n"
     ]
    }
   ],
   "source": [
    "print(f'최대값과 최소값을 제외한 나머지 데이터의 분산: {np.var(score[1:-1])}')\n",
    "print(f'최대값과 최소값을 제외한 나머지 데이터의 표준편차: {np.std(score[1:-1])}')"
   ]
  },
  {
   "cell_type": "code",
   "execution_count": null,
   "id": "b5fa9715",
   "metadata": {},
   "outputs": [],
   "source": []
  },
  {
   "cell_type": "code",
   "execution_count": null,
   "id": "ebdcb8f3",
   "metadata": {},
   "outputs": [],
   "source": []
  }
 ],
 "metadata": {
  "kernelspec": {
   "display_name": "Python 3",
   "language": "python",
   "name": "python3"
  },
  "language_info": {
   "codemirror_mode": {
    "name": "ipython",
    "version": 3
   },
   "file_extension": ".py",
   "mimetype": "text/x-python",
   "name": "python",
   "nbconvert_exporter": "python",
   "pygments_lexer": "ipython3",
   "version": "3.6.8"
  }
 },
 "nbformat": 4,
 "nbformat_minor": 5
}
