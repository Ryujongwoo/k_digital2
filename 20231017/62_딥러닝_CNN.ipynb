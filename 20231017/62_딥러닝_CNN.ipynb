{
 "cells": [
  {
   "cell_type": "code",
   "execution_count": 1,
   "id": "9e3751a3",
   "metadata": {},
   "outputs": [],
   "source": [
    "import warnings\n",
    "warnings.filterwarnings(action='ignore')\n",
    "%config Completer.use_jedi = False"
   ]
  },
  {
   "cell_type": "markdown",
   "id": "5134090c",
   "metadata": {},
   "source": [
    "합성곱 신경망(Convolution Neural Network, CNN)\n",
    "\n",
    "합성곱 신경망은 흔히 CNN이라고 부르는 방법으로 합성곱이라는 연산을 사용하는 신경망이다. CNN은 실제 여러 분야에서 사용되는 방법으로 특히 이미지 분류 작업에서 좋은 성능을 보여준다.\n",
    "\n",
    "합성곱 연산은 아래와 같은 연산을 의미한다.\n",
    "\n",
    "$$y(i) = (x \\times w)(i) = \\sum_{k=-\\infty}^{-\\infty} x(k)w(i - k)$$\n",
    "\n",
    "위 식은 $i$ 시점에서의 입력 데이터 $x$값과 가중치 $w$값의 합성곱 연산의 결과는 $y(i)$와 같음을 나타낸다. 위 식석에서도 $k$도 시점을 의미하는데, 가중치 $w$의 시점은 $w(i)$가 아닌 $w(i - k)$임을 알 수 있다. 이를 플립(flip)이라고 하며 가중치 커널(kernel)이라고도 부른다. 플립은 우리말로 하면 '뒤집다'라는 뜻으로 가중치의 시점을 뒤집는다는 뜻이다. 위 식은 시점의 순서와 상관없이 결과가 동일하므로 아래와 같이 쓸 수도 있다.\n",
    "\n",
    "$$y(i) = (x \\times w)(i) = \\sum_{k=-\\infty}^{-\\infty} x(i - k)w(k)$$\n",
    "\n",
    "패딩(Padding)  \n",
    "패딩은 입력 데이터 주변을 특정 값으로 채우는 것을 의미한다.\n",
    "\n",
    "<img src=\"./images/cnn_1.png/\" width=\"500\"/>\n",
    "\n",
    "신경망에 커널을 적용하면 층이 깊어질수록 데이터의 차원은 점점 줄어든다. 4 * 4 차원의 입력 데이터에 2 * 2 커널을 합성곱했을 때 출력 데이터의 차원은 3 * 3으로 입력 데이터보다 출력 데이터가 줄어든다. 이렇듯, 입력 데이터에 커널을 합성곱한 후 출력 데이터의 차원이 줄어드는 현상을 방지하기 위해서 패딩이라는 방법을 사용한다.\n",
    "\n",
    "스트라이드(Stride)  \n",
    "스트라이드는 한 번 합성곱 연산을 한 후 다음 계산 영역을 선택할 때 얼마나 이동할지 간격을 정하는 것이다.\n",
    "\n",
    "<img src=\"./images/cnn_2.png/\" width=\"400\"/>\n",
    "\n",
    "스트라이드 2를 적용한 후 합성곱 연산을 한 결과를 스트라이드 1때와 비교해 보면 출력 데이터 행렬의 차원이 더 적은 것을 알 수 있다.\n",
    "\n",
    "풀링(Pooling)  \n",
    "풀링은 데이터의 차원을 줄이는 방법이다.\n",
    "\n",
    "<img src=\"./images/cnn_3.png/\" width=\"300\"/>\n",
    "\n",
    "맥스 풀링이란 해당 영역에서 가장 큰 값을 선택하는 방법이다.\n",
    "\n",
    "합성곱 신경망 실습  \n",
    "합성곱 신경망을 이용해 손글씨 인식 모델을 생성해본다."
   ]
  },
  {
   "cell_type": "code",
   "execution_count": 2,
   "id": "ad39bb90",
   "metadata": {},
   "outputs": [],
   "source": [
    "# 일관된 결과값이 나오도록 random seed를 설정한다.\n",
    "import numpy as np\n",
    "import tensorflow as tf\n",
    "np.random.seed(0)\n",
    "tf.random.set_seed(0)"
   ]
  },
  {
   "cell_type": "code",
   "execution_count": 3,
   "id": "ad6c4c5c",
   "metadata": {
    "scrolled": true
   },
   "outputs": [],
   "source": [
    "# 데이터 불러오기\n",
    "from tensorflow.keras import datasets # 텐서플로우가 제공하는 데이터셋을 사용하기 위해 import 한다.\n",
    "# mnist 손글씨 데이터는 트레이닝 데이터와 테스트 데이터가 나눠서 저장되어 있다.\n",
    "# load_data() 메소드는 (트레이닝 피쳐 데이터, 트레이닝 타겟 데이터)와 (테스트 피쳐 데이터, 테스트 타겟 데이터)를\n",
    "# 튜플 형태로 묶서러 리턴한다.\n",
    "(X_train, y_train), (X_test, y_test) = datasets.mnist.load_data() # 손글씨 데이터셋을 피쳐, 타겟 데이터로 저장한다."
   ]
  },
  {
   "cell_type": "code",
   "execution_count": 4,
   "id": "9c4f5b34",
   "metadata": {},
   "outputs": [
    {
     "name": "stdout",
     "output_type": "stream",
     "text": [
      "(60000, 28, 28)\n",
      "(60000,)\n",
      "(10000, 28, 28)\n",
      "(10000,)\n"
     ]
    }
   ],
   "source": [
    "# 오리지널 데이터 확인\n",
    "# 트레이닝 피쳐 데이터의 차원을 확인하면 (이미지 개수, 행, 열) 형태로 나온다.\n",
    "# 즉, 트레이닝 피쳐 데이터는 28행 * 28열의 이미지 60,000개로 구성되어 있는 것을 알 수 있다.\n",
    "print(X_train.shape)\n",
    "print(y_train.shape) # 트레이닝 타겟 데이터는 스칼라값 60,000개로 이루어진 벡터이다.\n",
    "print(X_test.shape) # 테스트 피쳐 데이터는 28행 * 28열의 이미지 60,000개로 구성되어 있는 것을 알 수 있다.\n",
    "print(y_test.shape) # 테스트 타겟 데이터는 스칼라값 10,000개로 이루어진 벡터이다."
   ]
  },
  {
   "cell_type": "code",
   "execution_count": 5,
   "id": "d9a79439",
   "metadata": {},
   "outputs": [
    {
     "data": {
      "image/png": "[encoded data removed]",
      "text/plain": [
       "<Figure size 1000x600 with 10 Axes>"
      ]
     },
     "metadata": {},
     "output_type": "display_data"
    },
    {
     "name": "stdout",
     "output_type": "stream",
     "text": [
      "[5 0 4 1 9 2 1 3 1 4]\n"
     ]
    }
   ],
   "source": [
    "# 오리지널 데이터 시각화\n",
    "import matplotlib.pyplot as plt\n",
    "plt.figure(figsize=(10, 6))\n",
    "for i in range(10):\n",
    "    plt.subplot(2, 5, i + 1)\n",
    "    plt.imshow(X_train[i].reshape((28, 28)), cmap='Greys')\n",
    "    plt.axis('off')\n",
    "plt.show()\n",
    "print(y_train[:10])"
   ]
  },
  {
   "cell_type": "code",
   "execution_count": 6,
   "id": "14ad230a",
   "metadata": {},
   "outputs": [
    {
     "name": "stdout",
     "output_type": "stream",
     "text": [
      "{0, 1, 2, 3, 4, 5, 6, 7, 8, 9}\n"
     ]
    }
   ],
   "source": [
    "# 타겟 데이터 종류 확인\n",
    "# 타겟 데이터 종류를 확인함으로써 분류 문제인지 아니면 회귀 문제인지 파악할 수 있고, 분류 문제라면\n",
    "# 몇 가지 클래스로 구분되는지 알 수 있다.\n",
    "print(set(y_train))"
   ]
  },
  {
   "cell_type": "code",
   "execution_count": 7,
   "id": "52817e0f",
   "metadata": {},
   "outputs": [
    {
     "name": "stdout",
     "output_type": "stream",
     "text": [
      "(60000, 28, 28) (60000, 28, 28, 1) (60000, 28, 28, 1)\n",
      "(10000, 28, 28) (10000, 28, 28, 1) (10000, 28, 28, 1)\n"
     ]
    }
   ],
   "source": [
    "# 피쳐 데이터 스케일 조정\n",
    "# 오리지널 데이터의 차원은 (이미지 개수, 행, 열) 형태의 3차원 데이터로 표현이 되어있지만 합성곱 신경망에 데이터를\n",
    "# 넣으려면 4차원 형태의 (이미지 개수, 행, 열, 채널 개수) 형태로 구성해야 한다.\n",
    "# 합성곱 신경망의 입력 데이터는 (이미지 개수, 행, 열, 채널 개수) 형태로 구성된다. 이때, 채널이란 흔히 RGB로 구분되는\n",
    "# 것을 의미하는데, 만약 하나의 이미지 데이터를 R을 이용한 픽셀값, G를 이용한 픽셀값, B를 이용한 픽셀값으로 나타낼 때,\n",
    "# 채널 개수는 3이 된다. 하지만 현재 분석에 사용되는 mnist 데이터는 흑백 이미지이므로 채널 수는 1이 된다.\n",
    "# 합성곱 신경망에 사용할 이미지 데이터는 reshape() 메소드를 이용해 (이미지 개수, 행, 열, 채널 개수) 형태로 변형한다.\n",
    "X_tn_re = X_train.reshape(60000, 28, 28, 1) # 트레이닝 피쳐 데이터의 차원을 바꿔준다.\n",
    "X_tn = X_tn_re / 255 # 이미지 픽셀값은 0에서 255 사이에 있으므로 최대값이 1이 되도록 조정한다.\n",
    "print(X_train.shape, X_tn_re.shape, X_tn.shape)\n",
    "X_te_re = X_test.reshape(10000, 28, 28, 1) # 테스트 피쳐 데이터의 차원을 바꿔준다.\n",
    "X_te = X_te_re / 255\n",
    "print(X_test.shape, X_te_re.shape, X_te.shape)"
   ]
  },
  {
   "cell_type": "code",
   "execution_count": 8,
   "id": "9e530282",
   "metadata": {},
   "outputs": [
    {
     "name": "stdout",
     "output_type": "stream",
     "text": [
      "[0. 0. 0. 0. 0. 1. 0. 0. 0. 0.] [0. 0. 0. 0. 0. 0. 0. 1. 0. 0.]\n"
     ]
    }
   ],
   "source": [
    "# 타겟 데이터 원-핫 인코딩\n",
    "from tensorflow.keras.utils import to_categorical # 원-핫 인코딩을 사용하기 위해 import 한다.\n",
    "y_tn = to_categorical(y_train) # 트레이닝 타겟 데이터를 넣어서 원-핫 인코딩을 실행한다.\n",
    "y_te = to_categorical(y_test) # 테스트 타겟 데이터를 넣어서 원-핫 인코딩을 실행한다.\n",
    "print(y_tn[0], y_te[0])"
   ]
  },
  {
   "cell_type": "markdown",
   "id": "f7b617a7",
   "metadata": {},
   "source": [
    "합성곱 신경망 모델을 만든다."
   ]
  },
  {
   "cell_type": "code",
   "execution_count": 9,
   "id": "af48f4a1",
   "metadata": {},
   "outputs": [],
   "source": [
    "# 시퀀스 API를 사용한 합성곱 신경망 모델 생성에 필요한 라이브러리 import\n",
    "from tensorflow.keras.models import Sequential # 시퀀스 API 신경망을 생성하기 위해 import 한다.\n",
    "from tensorflow.keras.layers import Dense # 신경망에 추가할 완전 연결 layer를 생성하기 위해 import 한다.\n",
    "from tensorflow.keras.layers import Conv2D # 신경망에 추가할 합성곱 layer를 생성하기 위해 import 한다.\n",
    "from tensorflow.keras.layers import MaxPool2D # 신경망에 추가할 맥스 풀링 layer를 생성하기 위해 import 한다.\n",
    "from tensorflow.keras.layers import Flatten # 신경망 모델을 최종 출력층에서 벡터 형태로 만들기 위해 import 한다.\n",
    "from tensorflow.keras.layers import Dropout # 신경망에 추가할 드롭다운 layer를 생성하기 위해 import 한다.\n",
    "n_class = len(set(y_train)) # 분류할 타겟 클래스의 개수를 저장한다.\n",
    "# print(n_class) # 10"
   ]
  },
  {
   "cell_type": "code",
   "execution_count": 10,
   "id": "d69bd124",
   "metadata": {},
   "outputs": [
    {
     "name": "stdout",
     "output_type": "stream",
     "text": [
      "Model: \"sequential\"\n",
      "_________________________________________________________________\n",
      " Layer (type)                Output Shape              Param #   \n",
      "=================================================================\n",
      " conv2d (Conv2D)             (None, 24, 24, 32)        832       \n",
      "                                                                 \n",
      " max_pooling2d (MaxPooling2D  (None, 12, 12, 32)       0         \n",
      " )                                                               \n",
      "                                                                 \n",
      " dropout (Dropout)           (None, 12, 12, 32)        0         \n",
      "                                                                 \n",
      " conv2d_1 (Conv2D)           (None, 10, 10, 32)        9248      \n",
      "                                                                 \n",
      " max_pooling2d_1 (MaxPooling  (None, 5, 5, 32)         0         \n",
      " 2D)                                                             \n",
      "                                                                 \n",
      " dropout_1 (Dropout)         (None, 5, 5, 32)          0         \n",
      "                                                                 \n",
      " flatten (Flatten)           (None, 800)               0         \n",
      "                                                                 \n",
      " dense (Dense)               (None, 1024)              820224    \n",
      "                                                                 \n",
      " dropout_2 (Dropout)         (None, 1024)              0         \n",
      "                                                                 \n",
      " dense_1 (Dense)             (None, 10)                10250     \n",
      "                                                                 \n",
      "=================================================================\n",
      "Total params: 840,554\n",
      "Trainable params: 840,554\n",
      "Non-trainable params: 0\n",
      "_________________________________________________________________\n"
     ]
    }
   ],
   "source": [
    "# Sequential 객체를 선언 후 Sequential 모델에 add() 메소드로 layer를 추가해서 쌓아올린다.\n",
    "model = Sequential() # 신경망(CNN) 모델을 만든다.\n",
    "\n",
    "# 신경망 모델에 input layer를 추가한다.\n",
    "# input_shape 속성으로 Conv2D layer에 입력되는 데이터의 차원을 지정한다.\n",
    "# filters 속성으로 Conv2D layer를 거쳐서 출력되는 데이터의 차원을 지정한다.\n",
    "# kernel_size 속성으로 커널의 크기를 지정한다.\n",
    "# padding 속성으로 패딩 방법을 지정한다. valid(기본값)은 패딩을 사용하지 않고 same은 패딩을 사용한다.\n",
    "# activation 속성으로 활성화 함수를 지정한다.\n",
    "# Conv2D layer의 Output Shape은 padding을 사용하지 않으면 입력 데이터 차원 수 + 1 - 커널의 차원 수로 결정되고\n",
    "# padding을 사용하면 입력 데이터의 차원 수와 같아진다. 28 + 1 - 5 = 24, (None, 24, 24, 32)\n",
    "# Conv2D layer의 Param은 kernel_size * 입력 채널 크기 * filters + filters마다 1개씩의 바이어스로 결정된다.\n",
    "# kernel_size(5 * 5) * 입력 채널 크기(1) * filters(32) + ilters마다 1개씩의 바이어스(32) = 832\n",
    "model.add(Conv2D(input_shape=(28, 28, 1), filters=32, kernel_size=(5, 5), padding='valid', activation='relu'))\n",
    "# input layer에 MaxPool layer를 추가한다.\n",
    "# pool_size 속성으로 맥스 풀링을 실행할 픽셀의 크기를 지정한다. 기본값은 (2, 2)이다.\n",
    "# MaxPool2D layer의 Output Shape은 입력 데이터의 차원수 / pool_size로 결정된다. 24 / 2 = 12, (None, 12, 12, 32)\n",
    "# MaxPool2D layer는 Param이 없으므로 0이다.\n",
    "model.add(MaxPool2D(pool_size=(2, 2)))\n",
    "# input layer에 Dropout layer를 추가한다.\n",
    "# Dropout layer를 추가할 때 드롭아웃(사용하지 않을) 할 노드의 비율을 지정한다.\n",
    "# Dropout layer는 Output Shape이 변경되지 않고 Param도 없다.\n",
    "model.add(Dropout(0.25))\n",
    "\n",
    "# 신경망 모델에 hidden layer를 추가한다.\n",
    "# input layer는 input_shape 속성으로 입력되는 데이터의 차원을 지정했지만 hidden layer에는 input layer의 출력이\n",
    "# 입력으로 들어오기 때문에 input_shape 속성은 지정하지 않는다.\n",
    "# Output Shape = 12 + 1 - 3 = 10, (None, 10, 10, 32)\n",
    "# Param = 3 * 3 * 32 * 32 + 32 = 9248\n",
    "model.add(Conv2D(filters=32, kernel_size=(3, 3), padding='valid', activation='relu'))\n",
    "# hidden layer에 MaxPool layer를 추가한다.\n",
    "# Output Shape = 10 / 2 = 5, (None, 5, 5, 32)\n",
    "model.add(MaxPool2D(pool_size=(2, 2)))\n",
    "# hidden layer에 Dropout layer를 추가한다.\n",
    "model.add(Dropout(0.25))\n",
    "\n",
    "# 신경망 모델에 output layer를 추가한다.\n",
    "# 최종 출력층에서 소프트맥스 활성화 함수를 사용하기 위해서 벡터 형태로 펼쳐준다. => 1차원으로 만든다.\n",
    "# Flatten layer의 Output Shape은 (5, 5, 32) 형태를 벡터 형태로 펼쳐주므로 5 * 5 * 32 = 800이 된다. (None, 800)\n",
    "# Flatten layer는 Param이 없으므로 0이다.\n",
    "model.add(Flatten())\n",
    "# 최종 출력층은 Dense layer로 구성한다.\n",
    "# Dense layer는 input_dim 속성으로 입력 데이터(피쳐)의 차원, units 속성으로 layer의 출력 차원, activation 속성으로\n",
    "# 활성화 함수를 지정한다.\n",
    "# output layer에는 hidden layer의 출력이 입력으로 들어오기 때문에 input_dim 속성은 지정하지 않는다.\n",
    "# Dense layer의 Output Shape은 units 속성의 크기로 결정된다. (None, 1024)\n",
    "# Dense layer의 Param은 (입력 크기 + 바이어스(무조건 1)) * 출력 크기로 결정된다. (800 + 1) * 1024 = 820224\n",
    "model.add(Dense(units=1024, activation='relu'))\n",
    "# output layer에 Dropout layer를 추가한다.\n",
    "model.add(Dropout(0.5))\n",
    "# output layer의 활성화 함수를 소프트맥스로 지정하고 최종 출력(타겟 클래스의 개수)을 구한다.\n",
    "# Dense layer의 Output Shape은 units 속성의 크기로 결정된다. (None, 10)\n",
    "# Param = (1024 + 1) * 10 = 10250\n",
    "model.add(Dense(units=n_class, activation='softmax'))\n",
    "\n",
    "model.summary()"
   ]
  },
  {
   "cell_type": "code",
   "execution_count": 11,
   "id": "1201c6dc",
   "metadata": {},
   "outputs": [],
   "source": [
    "# 모델 컴파일\n",
    "# 분류 신경망은 loss 속성에 손실(비용, 오차)함수를 지정할 때 이진 분류 문제 binary_crossentropy를 지정하고, \n",
    "# 3개 이상의 클래스로 분류하는 다중 분류 문제에서는 categorical_crossentropy를 지정한다.\n",
    "# optimizer 속성에 최적화 함수(일반적으로 adam)를 지정한다.\n",
    "# metrics 속성에 평가 기준을 지정한다.\n",
    "model.compile(loss='categorical_crossentropy', optimizer='adam', metrics=['accuracy'])"
   ]
  },
  {
   "cell_type": "code",
   "execution_count": 12,
   "id": "01043ff6",
   "metadata": {},
   "outputs": [
    {
     "name": "stdout",
     "output_type": "stream",
     "text": [
      "Epoch 1/10\n",
      "600/600 [==============================] - 29s 47ms/step - loss: 0.2312 - accuracy: 0.9279\n",
      "Epoch 2/10\n",
      "600/600 [==============================] - 27s 45ms/step - loss: 0.0779 - accuracy: 0.9755\n",
      "Epoch 3/10\n",
      "600/600 [==============================] - 28s 46ms/step - loss: 0.0575 - accuracy: 0.9824\n",
      "Epoch 4/10\n",
      "600/600 [==============================] - 28s 46ms/step - loss: 0.0485 - accuracy: 0.9851\n",
      "Epoch 5/10\n",
      "600/600 [==============================] - 27s 46ms/step - loss: 0.0419 - accuracy: 0.9869\n",
      "Epoch 6/10\n",
      "600/600 [==============================] - 27s 46ms/step - loss: 0.0374 - accuracy: 0.9884\n",
      "Epoch 7/10\n",
      "600/600 [==============================] - 29s 48ms/step - loss: 0.0349 - accuracy: 0.9889\n",
      "Epoch 8/10\n",
      "600/600 [==============================] - 27s 46ms/step - loss: 0.0312 - accuracy: 0.9903\n",
      "Epoch 9/10\n",
      "600/600 [==============================] - 27s 46ms/step - loss: 0.0291 - accuracy: 0.9908\n",
      "Epoch 10/10\n",
      "600/600 [==============================] - 27s 46ms/step - loss: 0.0275 - accuracy: 0.9912\n"
     ]
    }
   ],
   "source": [
    "# 신경망 학습\n",
    "# 트레이닝 피쳐 데이터(X_tn)와 트레이닝 데이터에 따른 타겟 데이터(y_tn)를 지정하고 epochs 속성에\n",
    "# epoch와 batch_size 속성에 batch_size를 지정한다. epochs가 커질 수록 정확도는 올라간다.\n",
    "hist = model.fit(X_tn, y_tn, epochs=10, batch_size=100)"
   ]
  },
  {
   "cell_type": "code",
   "execution_count": 13,
   "id": "90274f52",
   "metadata": {},
   "outputs": [
    {
     "name": "stdout",
     "output_type": "stream",
     "text": [
      "1875/1875 [==============================] - 11s 6ms/step - loss: 0.0080 - accuracy: 0.9976\n",
      "[0.007956176064908504, 0.9976333379745483]\n",
      "313/313 [==============================] - 2s 6ms/step - loss: 0.0195 - accuracy: 0.9937\n",
      "[0.019463174045085907, 0.9937000274658203]\n"
     ]
    }
   ],
   "source": [
    "# 신경망 학습 평가\n",
    "print(model.evaluate(X_tn, y_tn)) # 트레이닝 피쳐 데이터를 트레이닝 피처 타겟 데이터와 학습 평가\n",
    "print(model.evaluate(X_te, y_te)) # 테스트 피쳐 데이터를 테스트 피처 타겟 데이터와 학습 평가"
   ]
  },
  {
   "cell_type": "code",
   "execution_count": 14,
   "id": "6bd96baf",
   "metadata": {},
   "outputs": [
    {
     "name": "stdout",
     "output_type": "stream",
     "text": [
      "313/313 [==============================] - 2s 6ms/step\n",
      "7\n",
      "[0. 0. 0. 0. 0. 0. 0. 1. 0. 0.]\n",
      "[1.4106662e-10 6.9141270e-09 4.2017407e-09 1.2984374e-07 2.2893496e-09\n",
      " 5.4400338e-11 1.1598072e-13 9.9999851e-01 1.1712429e-09 1.2990537e-06]\n"
     ]
    }
   ],
   "source": [
    "# 학습된 모델 예측\n",
    "y_pred_hot = model.predict(X_te) # 테스트 피쳐 데이터를 넘겨서 예측값을 계산한다.\n",
    "print(y_test[0]) # 테스트 타겟 데이터\n",
    "print(y_te[0]) # 테스트 타겟 데이터를 원-핫 인코딩한 결과\n",
    "print(y_pred_hot[0]) # 테스트 피쳐 데이터를 학습된 모델로 예측한 원-핫 인코딩 결과"
   ]
  },
  {
   "cell_type": "markdown",
   "id": "38d49c9d",
   "metadata": {},
   "source": [
    "오답 데이터 확인"
   ]
  },
  {
   "cell_type": "code",
   "execution_count": 32,
   "id": "3a52a37e",
   "metadata": {},
   "outputs": [
    {
     "name": "stdout",
     "output_type": "stream",
     "text": [
      "[7 2 1 ... 4 5 6] [7 2 1 ... 4 5 6]\n"
     ]
    }
   ],
   "source": [
    "# 실제값과 예측값이 같은가 확인하기 위해 넘파이를 이용해 예측값을 원-핫 인코딩 형태가 아닌 원래 숫자로 변환한다.\n",
    "import numpy as np\n",
    "# argmax() 메소드는 인수로 지정된 배열에서 가장 큰 값의 인덱스를 리턴하기 때문에 원-핫 인코딩된 값을 원래 숫자로\n",
    "# 바꿀 수 있다.\n",
    "y_pred = np.argmax(y_pred_hot, axis=1)\n",
    "print(y_test, y_pred)"
   ]
  },
  {
   "cell_type": "code",
   "execution_count": 35,
   "id": "d1803d81",
   "metadata": {},
   "outputs": [
    {
     "name": "stdout",
     "output_type": "stream",
     "text": [
      "63\n",
      "[321, 340, 449, 582, 646, 659, 740, 947, 1014, 1039, 1112, 1224, 1226, 1232, 1242, 1247, 1260, 1393, 1459, 1709, 1901, 2035, 2070, 2098, 2118, 2130, 2135, 2182, 2414, 2462, 2597, 2654, 2896, 2939, 2953, 2959, 3023, 3225, 3422, 3520, 3558, 3767, 3808, 4007, 4176, 4248, 4369, 4740, 4761, 4823, 4860, 5937, 5955, 6576, 6597, 6625, 6755, 7216, 8094, 8325, 8408, 9664, 9729]\n"
     ]
    }
   ],
   "source": [
    "# 오답 데이터의 인덱스를 리스트에 저장한다.\n",
    "diff_index = [] # 실제값과 다르게 예측된 예측값의 인덱스를 저장할 빈 리스트를 만든다.\n",
    "for i in range(len(y_test)): # 테스트 타겟 데이터의 개수만큼 반복한다.\n",
    "    if y_test[i] != y_pred[i]: # 실제값과 예측값이 다른가?\n",
    "        diff_index.append(i) # 실제값과 예측값이 다른 데이터의 인덱스를 리스트에 저장한다.\n",
    "print(len(diff_index))\n",
    "print(diff_index)"
   ]
  },
  {
   "cell_type": "code",
   "execution_count": 41,
   "id": "18b9ec09",
   "metadata": {
    "scrolled": false
   },
   "outputs": [
    {
     "data": {
      "image/png": "[encoded data removed]",
      "text/plain": [
       "<Figure size 2000x600 with 20 Axes>"
      ]
     },
     "metadata": {},
     "output_type": "display_data"
    },
    {
     "name": "stdout",
     "output_type": "stream",
     "text": [
      "실제값\n",
      "2 5 3 8 2 2 4 8 6 7 4 2 7 9 4 9 7 5 2 9 \n",
      "예측값\n",
      "7 3 5 2 4 1 9 9 5 1 6 4 2 4 9 5 1 3 3 5 "
     ]
    }
   ],
   "source": [
    "# 오답 데이터 시각화\n",
    "import matplotlib.pyplot as plt\n",
    "plt.figure(figsize=(20, 6))\n",
    "for i in range(20):\n",
    "    plt.subplot(2, 10, i + 1)\n",
    "    plt.imshow(X_test[diff_index[i]].reshape((28, 28)), cmap='Greys')\n",
    "    plt.axis('off')\n",
    "plt.show()\n",
    "print('실제값')\n",
    "for i in range(20):\n",
    "    print(y_test[diff_index[i]], end=' ')\n",
    "print('\\n예측값')\n",
    "for i in range(20):\n",
    "    print(y_pred[diff_index[i]], end=' ')"
   ]
  },
  {
   "cell_type": "code",
   "execution_count": null,
   "id": "4edf53fe",
   "metadata": {},
   "outputs": [],
   "source": []
  },
  {
   "cell_type": "code",
   "execution_count": null,
   "id": "557101e4",
   "metadata": {},
   "outputs": [],
   "source": []
  },
  {
   "cell_type": "code",
   "execution_count": null,
   "id": "59ed117b",
   "metadata": {},
   "outputs": [],
   "source": []
  }
 ],
 "metadata": {
  "kernelspec": {
   "display_name": "py37",
   "language": "python",
   "name": "py37"
  },
  "language_info": {
   "codemirror_mode": {
    "name": "ipython",
    "version": 3
   },
   "file_extension": ".py",
   "mimetype": "text/x-python",
   "name": "python",
   "nbconvert_exporter": "python",
   "pygments_lexer": "ipython3",
   "version": "3.7.16"
  }
 },
 "nbformat": 4,
 "nbformat_minor": 5
}
