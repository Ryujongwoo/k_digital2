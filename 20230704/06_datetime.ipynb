{
 "cells": [
  {
   "cell_type": "markdown",
   "id": "45f8b8a9",
   "metadata": {},
   "source": [
    "datetime 모듈\n",
    "\n",
    "컴퓨터 시스템의 날짜와 시간을 얻어온다."
   ]
  },
  {
   "cell_type": "code",
   "execution_count": 1,
   "id": "3042cda1",
   "metadata": {},
   "outputs": [
    {
     "name": "stdout",
     "output_type": "stream",
     "text": [
      "2023-07-03 11:11:52.078775\n"
     ]
    }
   ],
   "source": [
    "import datetime # datetime 모듈 전체를 import 한다.\n",
    "now = datetime.datetime.now()\n",
    "print(now)"
   ]
  },
  {
   "cell_type": "code",
   "execution_count": 2,
   "id": "bc939837",
   "metadata": {},
   "outputs": [
    {
     "name": "stdout",
     "output_type": "stream",
     "text": [
      "2023-07-03 11:11:52.100671\n"
     ]
    }
   ],
   "source": [
    "from datetime import datetime # datetime 모듈에서 datetime 클래스만 import 한다.\n",
    "now2 = datetime.now()\n",
    "print(now2)"
   ]
  },
  {
   "cell_type": "code",
   "execution_count": 3,
   "id": "4f184fee",
   "metadata": {},
   "outputs": [
    {
     "name": "stdout",
     "output_type": "stream",
     "text": [
      "2023-07-03 11:11:52.110674\n"
     ]
    }
   ],
   "source": [
    "from datetime import datetime as dt # import한 datetime 클래스에 dt라는 별명을 지정한다.\n",
    "# import하는 모듈에 별명을 지정한 경우 원래 모듈 이름은 사용할 수 없고 as 뒤의 별명을 사용해야 한다.\n",
    "# now3 = datetime.now() # 에러\n",
    "now3 = dt.now()\n",
    "print(now3)"
   ]
  },
  {
   "cell_type": "markdown",
   "id": "e16eebd7",
   "metadata": {},
   "source": [
    "날짜, 시간 데이터에서 년, 월, 일, 시, 분, 초, 밀리초, 마이크로초, 요일 추출하기"
   ]
  },
  {
   "cell_type": "code",
   "execution_count": 14,
   "id": "59831012",
   "metadata": {},
   "outputs": [
    {
     "name": "stdout",
     "output_type": "stream",
     "text": [
      "2023-07-03 11:22:07.813264\n",
      "년: 2023\n",
      "월: 7\n",
      "일: 3\n",
      "시: 11\n",
      "분: 22\n",
      "초: 7\n",
      "마이크로초: 813264\n",
      "밀리초: 813\n",
      "요일: 0\n",
      "요일: 월\n"
     ]
    }
   ],
   "source": [
    "from datetime import datetime as dt\n",
    "today = dt.now()\n",
    "print(today)\n",
    "\n",
    "print('년: {}'.format(today.year))\n",
    "print('월: {}'.format(today.month))\n",
    "print('일: {}'.format(today.day))\n",
    "print('시: {}'.format(today.hour))\n",
    "print('분: {}'.format(today.minute))\n",
    "print('초: {}'.format(today.second))\n",
    "print('마이크로초: {}'.format(today.microsecond))\n",
    "print('밀리초: {}'.format(today.microsecond // 1000))\n",
    "# weekday() 메소드로 요일을 숫자로 얻어올 수 있다. => 월(0), 화(1), 수(2), 목(3), 금(4), 토(5), 일(0)\n",
    "print('요일: {}'.format(today.weekday()))\n",
    "week = ['월', '화', '수', '목', '금', '토', '일']\n",
    "print('요일: {}'.format(week[today.weekday()]))"
   ]
  },
  {
   "cell_type": "markdown",
   "id": "59546585",
   "metadata": {},
   "source": [
    "날짜, 시간 수정하기"
   ]
  },
  {
   "cell_type": "code",
   "execution_count": 5,
   "id": "71f76144",
   "metadata": {},
   "outputs": [
    {
     "name": "stdout",
     "output_type": "stream",
     "text": [
      "2023-07-04 09:43:24.907049\n",
      "2024-07-04 09:43:24.907049\n",
      "2023-11-04 09:43:24.907049\n",
      "2023-07-22 09:43:24.907049\n",
      "2023-07-04 13:43:24.907049\n",
      "2023-07-04 09:22:24.907049\n",
      "2023-07-04 09:43:00.907049\n",
      "2023-07-04 09:43:24.111111\n"
     ]
    }
   ],
   "source": [
    "from datetime import datetime as dt\n",
    "today = dt.now()\n",
    "print(today)\n",
    "\n",
    "print(today.replace(year=2024))\n",
    "print(today.replace(month=11))\n",
    "print(today.replace(day=22))\n",
    "print(today.replace(hour=13))\n",
    "print(today.replace(minute=22))\n",
    "print(today.replace(second=0))\n",
    "print(today.replace(microsecond=111111))"
   ]
  },
  {
   "cell_type": "markdown",
   "id": "a5801cb7",
   "metadata": {},
   "source": [
    "날짜, 시간 데이터 만들기"
   ]
  },
  {
   "cell_type": "code",
   "execution_count": 20,
   "id": "bfcedeaa",
   "metadata": {},
   "outputs": [
    {
     "name": "stdout",
     "output_type": "stream",
     "text": [
      "2023-11-22 <class 'str'>\n",
      "2023-11-22 00:00:00 <class 'datetime.datetime'>\n",
      "13:20:01 <class 'str'>\n",
      "2023-07-04 13:20:01 <class 'datetime.datetime'>\n",
      "2023-11-22 13:20:01 <class 'datetime.datetime'>\n"
     ]
    }
   ],
   "source": [
    "from dateutil.parser import parse\n",
    "string = '2023-11-22'\n",
    "print(string, type(string))\n",
    "date = parse(string)\n",
    "print(date, type(date))\n",
    "string = '13:20:01'\n",
    "print(string, type(string))\n",
    "time = parse(string)\n",
    "print(time, type(time))\n",
    "day = parse('2023-11-22 13:20:01')\n",
    "print(day, type(day))"
   ]
  },
  {
   "cell_type": "markdown",
   "id": "135efc9c",
   "metadata": {},
   "source": [
    "두 날짜 데이터 사이의 차이 계산하기"
   ]
  },
  {
   "cell_type": "code",
   "execution_count": 32,
   "id": "93b8107f",
   "metadata": {},
   "outputs": [
    {
     "name": "stdout",
     "output_type": "stream",
     "text": [
      "2023-07-04 10:01:16.648932\n",
      "2023-11-22 13:20:01.123456\n",
      "141 days, 3:18:44.474524\n",
      "141\n",
      "11924\n",
      "474524\n",
      "12194324.474524\n"
     ]
    }
   ],
   "source": [
    "from datetime import datetime as dt\n",
    "from dateutil.parser import parse\n",
    "start = dt.now()\n",
    "print(start)\n",
    "end = parse('2023-11-22 13:20:01.123456')\n",
    "print(end)\n",
    "\n",
    "gap = end - start\n",
    "print(gap)\n",
    "print(gap.days) # 두 날짜 데이터 사이의 일 단위 차이를 얻어온다. => 날짜만\n",
    "print(gap.seconds) # 두 날짜 데이터 사이의 초 단위 차이를 얻어온다. => 시간만\n",
    "print(gap.microseconds) # 두 날짜 데이터 사이의 마이크로초 단위 차이를 얻어온다. => 밀리초만\n",
    "print(gap.total_seconds()) # 두 날짜 데이터 사이의 차이를 초 단위로 환산해서 얻어온다. => 전체 데이터"
   ]
  },
  {
   "cell_type": "markdown",
   "id": "6c729692",
   "metadata": {},
   "source": [
    "날짜, 시간 서식 지정하기  \n",
    "날짜데이터.strftime('출력 서식')\n",
    "\n",
    "날짜 서식  \n",
    "%Y: 년도 4자리, %y: 년도 2자리  \n",
    "%m: 월(숫자), %B: 월(영어 => 전체), %b: 월(영어 => 앞 3글자)  \n",
    "%d: 일, %A: 요일(영어 => 전체), %a: 요일(영어 => 앞 3글자)"
   ]
  },
  {
   "cell_type": "code",
   "execution_count": 48,
   "id": "089b00e5",
   "metadata": {},
   "outputs": [
    {
     "name": "stdout",
     "output_type": "stream",
     "text": [
      "2023-07-04 10:20:33.988465\n",
      "2023-07-04\n",
      "<class 'str'>\n",
      "23-07-04\n",
      "2023-July-04\n",
      "2023-Jul-04\n",
      "July 04 2023\n",
      "2023-07-04 Tue\n",
      "Tuesday July 04 2023\n",
      "2023년 07월 04일\n"
     ]
    }
   ],
   "source": [
    "from datetime import datetime as dt\n",
    "today = dt.now()\n",
    "print(today)\n",
    "\n",
    "print(today.strftime('%Y-%m-%d'))\n",
    "print(type(today.strftime('%Y-%m-%d')))\n",
    "print(today.strftime('%y-%m-%d'))\n",
    "print(today.strftime('%Y-%B-%d'))\n",
    "print(today.strftime('%Y-%b-%d'))\n",
    "print(today.strftime('%B %d %Y'))\n",
    "print(today.strftime('%Y-%m-%d %a'))\n",
    "print(today.strftime('%A %B %d %Y'))\n",
    "\n",
    "# 날짜, 시간 서식에 한글을 넣었을 때 유니코드 인코딩 문제로 UnicodeEncodeError가 발생된다.\n",
    "# print(today.strftime('%Y년 %m월 %d일')) # 에러\n",
    "# 날짜, 시간 서식 지정시 UnicodeEncodeError가 발생되면 아래와 같이 코딩한다.\n",
    "print(today.strftime('%Y년 %m월 %d일'.encode('unicode-escape').decode()).encode().decode('unicode-escape'))"
   ]
  },
  {
   "cell_type": "markdown",
   "id": "9e85749c",
   "metadata": {},
   "source": [
    "시간 서식  \n",
    "%H: 시간(24시각), %I: 시간(12시각), %M: 분, %S: 초, %f: 마이크로초, %p: AM/PM"
   ]
  },
  {
   "cell_type": "code",
   "execution_count": 53,
   "id": "43f29e98",
   "metadata": {},
   "outputs": [
    {
     "name": "stdout",
     "output_type": "stream",
     "text": [
      "2023-07-04 10:36:34.112418\n",
      "10:36:34\n",
      "AM 10:36:34\n",
      "10시 36분 34초\n"
     ]
    }
   ],
   "source": [
    "from datetime import datetime as dt\n",
    "today = dt.now()\n",
    "print(today)\n",
    "\n",
    "print(today.strftime('%H:%M:%S'))\n",
    "print(today.strftime('%p %H:%M:%S'))\n",
    "# print(today.strftime('%H시 %M분 %S초')) # 에러\n",
    "print(today.strftime('%H시 %M분 %S초'.encode('unicode-escape').decode()).encode().decode('unicode-escape'))"
   ]
  },
  {
   "cell_type": "code",
   "execution_count": null,
   "id": "ddea0c16",
   "metadata": {},
   "outputs": [],
   "source": []
  }
 ],
 "metadata": {
  "kernelspec": {
   "display_name": "Python 3",
   "language": "python",
   "name": "python3"
  },
  "language_info": {
   "codemirror_mode": {
    "name": "ipython",
    "version": 3
   },
   "file_extension": ".py",
   "mimetype": "text/x-python",
   "name": "python",
   "nbconvert_exporter": "python",
   "pygments_lexer": "ipython3",
   "version": "3.6.8"
  }
 },
 "nbformat": 4,
 "nbformat_minor": 5
}
