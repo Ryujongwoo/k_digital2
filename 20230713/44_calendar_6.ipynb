{
 "cells": [
  {
   "cell_type": "markdown",
   "id": "2305184e",
   "metadata": {},
   "source": [
    "모듈의 특정 함수만 import 해서 사용하기\n",
    "\n",
    "특정 모듈의 특정 함수만 import 해서 사용하려면 아래와 같이 import 시키면 된다.  \n",
    "from 모듈이름 import 함수이름 => from 다음에 지정한 모듈의 모든 함수를 import 시키지 않고 지정한 함수만 import 시킨다.  \n"
   ]
  },
  {
   "cell_type": "code",
   "execution_count": 1,
   "id": "2e9ae52f",
   "metadata": {},
   "outputs": [],
   "source": [
    "# import calendarModule as cm # calendarModule 모듈의 모든 함수가 import 된다.\n",
    "# from calendarModule import weekDay # calendarModule이라는 모듈에서 weekDay 함수만 import 시킨다.\n",
    "# from calendarModule import lastDay # calendarModule이라는 모듈에서 lastDay 함수만 import 시킨다.\n",
    "\n",
    "# weekDay, lastDay 함수는 모두 calendarModule의 함수이므로 아래와 같이 줄여서 사용할 수 있다.\n",
    "# from calendarModule import weekDay, lastDay\n",
    "\n",
    "# 아래와 같이 코딩하면 calendarModule의 모든 함수를 import 시켜서 사용할 수 있다.\n",
    "from calendarModule import *"
   ]
  },
  {
   "cell_type": "code",
   "execution_count": 2,
   "id": "6984d685",
   "metadata": {},
   "outputs": [
    {
     "name": "stdout",
     "output_type": "stream",
     "text": [
      "달력을 출력할 년과 월을 입력하세요: 2023 7\n",
      "============================\n",
      "         2023년 7월\n",
      "============================\n",
      " 일  월  화  수  목  금  토 \n",
      "============================\n",
      "                          1 \n",
      "  2   3   4   5   6   7   8 \n",
      "  9  10  11  12  13  14  15 \n",
      " 16  17  18  19  20  21  22 \n",
      " 23  24  25  26  27  28  29 \n",
      " 30  31 \n",
      "============================\n"
     ]
    }
   ],
   "source": [
    "# 달력을 출력할 년, 월을 입력받는다.\n",
    "year, month = map(int, input('달력을 출력할 년과 월을 입력하세요: ').split())\n",
    "\n",
    "print('=' * 28)\n",
    "print('         {:4d}년{:2d}월'.format(year, month))\n",
    "print('=' * 28)\n",
    "print(' 일  월  화  수  목  금  토 ')\n",
    "print('=' * 28)\n",
    "\n",
    "# 1일이 출력될 위치(요일)을 맞추기 위해서 1일의 요일만큼 반복하며 빈 칸을 출력한다. => 빈 칸은 요일당 4칸\n",
    "for _ in range(weekDay(year, month, 1)):\n",
    "    print('    ', end='')\n",
    "    \n",
    "# 1일부터 달력을 출력할 달의 마지막 날짜까지 반복하며 날짜를 출력한다.\n",
    "for i in range(1, lastDay(year, month) + 1):\n",
    "    print(' {:2d} '.format(i), end='')\n",
    "    # 출력한 날짜(i)가 토요일이고 그 달의 마지막 날짜가 아니면 줄을 바꾼다.\n",
    "    if weekDay(year, month, i) == 6 and i != lastDay(year, month):\n",
    "        print()\n",
    "    # ===== if\n",
    "# ===== for\n",
    "print('\\n' + '=' * 28)"
   ]
  },
  {
   "cell_type": "code",
   "execution_count": null,
   "id": "a5ddc131",
   "metadata": {},
   "outputs": [],
   "source": []
  },
  {
   "cell_type": "code",
   "execution_count": null,
   "id": "a1cfdc9c",
   "metadata": {},
   "outputs": [],
   "source": []
  },
  {
   "cell_type": "code",
   "execution_count": null,
   "id": "3c8d0a23",
   "metadata": {},
   "outputs": [],
   "source": []
  },
  {
   "cell_type": "code",
   "execution_count": null,
   "id": "9d4f8eb2",
   "metadata": {},
   "outputs": [],
   "source": []
  },
  {
   "cell_type": "code",
   "execution_count": null,
   "id": "1d429b26",
   "metadata": {},
   "outputs": [],
   "source": []
  },
  {
   "cell_type": "code",
   "execution_count": null,
   "id": "ab430505",
   "metadata": {},
   "outputs": [],
   "source": []
  },
  {
   "cell_type": "code",
   "execution_count": null,
   "id": "83a62416",
   "metadata": {},
   "outputs": [],
   "source": []
  }
 ],
 "metadata": {
  "kernelspec": {
   "display_name": "Python 3",
   "language": "python",
   "name": "python3"
  },
  "language_info": {
   "codemirror_mode": {
    "name": "ipython",
    "version": 3
   },
   "file_extension": ".py",
   "mimetype": "text/x-python",
   "name": "python",
   "nbconvert_exporter": "python",
   "pygments_lexer": "ipython3",
   "version": "3.6.8"
  }
 },
 "nbformat": 4,
 "nbformat_minor": 5
}
