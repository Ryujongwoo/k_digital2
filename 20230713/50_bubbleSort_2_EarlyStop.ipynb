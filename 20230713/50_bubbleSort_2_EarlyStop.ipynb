{
 "cells": [
  {
   "cell_type": "markdown",
   "id": "a017e27b",
   "metadata": {},
   "source": [
    "<img src=\"./images/bubbleSort5.png\" align=\"left\" width=\"800\"/>"
   ]
  },
  {
   "cell_type": "markdown",
   "id": "cb75532f",
   "metadata": {},
   "source": [
    "<img src=\"./images/bubbleSort6.png\" align=\"left\" width=\"600\"/>"
   ]
  },
  {
   "cell_type": "code",
   "execution_count": 1,
   "id": "7f305b9e",
   "metadata": {},
   "outputs": [
    {
     "name": "stdout",
     "output_type": "stream",
     "text": [
      "1회전 결과: [1, 3, 4, 8, 9]\n",
      "정렬 결과: [1, 3, 4, 8, 9]\n"
     ]
    }
   ],
   "source": [
    "data = [9, 1, 3, 4, 8]\n",
    "for i in range(len(data) - 1):\n",
    "    # ⓐ => 회전(정렬) 작업이 시작되기 전에 flag 변수를 0으로 초기화 한다.\n",
    "    flag = 0\n",
    "    for j in range(len(data) - 1 - i):\n",
    "        if data[j] > data[j + 1]:\n",
    "            data[j], data[j + 1] = data[j + 1], data[j]\n",
    "            # ⓑ => 데이터 교환 작업이 실행되면 flag 변수를 1로 수정한다.\n",
    "            flag = 1\n",
    "        # ===== if\n",
    "    # ===== for j => 회전 종료\n",
    "    # ⓒ => 한 회전이 종료되었을 때 데이터 교환 작업이 1번도 실행되지 않았다면 현재 데이터는 모두 정렬이 되어있는\n",
    "    # 상태를 의미하므로 정렬을 중지시킨다. => i 반복을 탈출한다.\n",
    "    if flag == 0:\n",
    "        break\n",
    "    print(f'{i + 1}회전 결과: {data}')\n",
    "# ===== for i => 정렬 종료\n",
    "print(f'정렬 결과: {data}')"
   ]
  },
  {
   "cell_type": "code",
   "execution_count": 4,
   "id": "76f1327e",
   "metadata": {},
   "outputs": [
    {
     "name": "stdout",
     "output_type": "stream",
     "text": [
      "1회전 결과: [1, 3, 4, 8, 9]\n",
      "4회전을 해야하지만 2회전 후 중간 종료됨\n",
      "정렬 결과: [1, 3, 4, 8, 9]\n"
     ]
    }
   ],
   "source": [
    "data = [9, 1, 3, 4, 8]\n",
    "for i in range(len(data) - 1):\n",
    "    flag = True\n",
    "    for j in range(len(data) - 1 - i):\n",
    "        if data[j] > data[j + 1]:\n",
    "            data[j], data[j + 1] = data[j + 1], data[j]\n",
    "            flag = False\n",
    "        # ===== if\n",
    "    # ===== for j => 회전 종료\n",
    "    if flag:\n",
    "        print(f'{len(data) - 1}회전을 해야하지만 {i + 1}회전 후 중간 종료됨')\n",
    "        break\n",
    "    print(f'{i + 1}회전 결과: {data}')\n",
    "# ===== for i => 정렬 종료\n",
    "print(f'정렬 결과: {data}')"
   ]
  },
  {
   "cell_type": "code",
   "execution_count": null,
   "id": "8cee41b0",
   "metadata": {},
   "outputs": [],
   "source": []
  },
  {
   "cell_type": "code",
   "execution_count": null,
   "id": "bcbde883",
   "metadata": {},
   "outputs": [],
   "source": []
  },
  {
   "cell_type": "code",
   "execution_count": null,
   "id": "1a8c3e43",
   "metadata": {},
   "outputs": [],
   "source": []
  },
  {
   "cell_type": "code",
   "execution_count": null,
   "id": "168ebe89",
   "metadata": {},
   "outputs": [],
   "source": []
  }
 ],
 "metadata": {
  "kernelspec": {
   "display_name": "Python 3",
   "language": "python",
   "name": "python3"
  },
  "language_info": {
   "codemirror_mode": {
    "name": "ipython",
    "version": 3
   },
   "file_extension": ".py",
   "mimetype": "text/x-python",
   "name": "python",
   "nbconvert_exporter": "python",
   "pygments_lexer": "ipython3",
   "version": "3.6.8"
  }
 },
 "nbformat": 4,
 "nbformat_minor": 5
}
