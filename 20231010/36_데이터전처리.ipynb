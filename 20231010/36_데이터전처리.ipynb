{
 "cells": [
  {
   "cell_type": "code",
   "execution_count": 1,
   "id": "560edc2f",
   "metadata": {},
   "outputs": [],
   "source": [
    "import warnings\n",
    "warnings.filterwarnings(action='ignore')\n",
    "%config Completer.use_jedi = False\n",
    "import numpy as np\n",
    "import pandas as pd\n",
    "import matplotlib.pyplot as plt\n",
    "import seaborn as sns\n",
    "from sklearn import datasets"
   ]
  },
  {
   "cell_type": "markdown",
   "id": "5d7ef8e8",
   "metadata": {},
   "source": [
    "데이터 전처리  \n",
    "우리가 실제로 접하게 되는 데이터는 사이킷런에서 제공하는 데이터와는 다르게 머신러닝을 적용하기 전에 데이터를 가공해야 하는 경우가 많다. 이를 데이터 전처리, 피쳐 엔지니어링 등으로 부른다.\n",
    "\n",
    "결측치(missing value) 처리  \n",
    "데이터셋의 일부에 데이터가 존재하지 않을 경우 결측치라고 부르며, 머신러닝 알고리즘을 적용하기 전에 미리 결측치를 처리하는 것이 중요하다."
   ]
  },
  {
   "cell_type": "code",
   "execution_count": 2,
   "id": "a1bba73f",
   "metadata": {},
   "outputs": [
    {
     "data": {
      "text/html": [
       "<div>\n",
       "<style scoped>\n",
       "    .dataframe tbody tr th:only-of-type {\n",
       "        vertical-align: middle;\n",
       "    }\n",
       "\n",
       "    .dataframe tbody tr th {\n",
       "        vertical-align: top;\n",
       "    }\n",
       "\n",
       "    .dataframe thead th {\n",
       "        text-align: right;\n",
       "    }\n",
       "</style>\n",
       "<table border=\"1\" class=\"dataframe\">\n",
       "  <thead>\n",
       "    <tr style=\"text-align: right;\">\n",
       "      <th></th>\n",
       "      <th>age</th>\n",
       "      <th>gender</th>\n",
       "      <th>month_birth</th>\n",
       "      <th>hobby</th>\n",
       "      <th>target</th>\n",
       "    </tr>\n",
       "  </thead>\n",
       "  <tbody>\n",
       "    <tr>\n",
       "      <th>0</th>\n",
       "      <td>42</td>\n",
       "      <td>male</td>\n",
       "      <td>12</td>\n",
       "      <td>reading</td>\n",
       "      <td>class2</td>\n",
       "    </tr>\n",
       "    <tr>\n",
       "      <th>1</th>\n",
       "      <td>35</td>\n",
       "      <td>unknown</td>\n",
       "      <td>3</td>\n",
       "      <td>cooking</td>\n",
       "      <td>class1</td>\n",
       "    </tr>\n",
       "    <tr>\n",
       "      <th>2</th>\n",
       "      <td>1000</td>\n",
       "      <td>female</td>\n",
       "      <td>7</td>\n",
       "      <td>cycling</td>\n",
       "      <td>class3</td>\n",
       "    </tr>\n",
       "    <tr>\n",
       "      <th>3</th>\n",
       "      <td>1000</td>\n",
       "      <td>unknown</td>\n",
       "      <td>21</td>\n",
       "      <td>unknown</td>\n",
       "      <td>unknown</td>\n",
       "    </tr>\n",
       "  </tbody>\n",
       "</table>\n",
       "</div>"
      ],
      "text/plain": [
       "    age   gender  month_birth    hobby   target\n",
       "0    42     male           12  reading   class2\n",
       "1    35  unknown            3  cooking   class1\n",
       "2  1000   female            7  cycling   class3\n",
       "3  1000  unknown           21  unknown  unknown"
      ]
     },
     "execution_count": 2,
     "metadata": {},
     "output_type": "execute_result"
    }
   ],
   "source": [
    "# 데이터프레임에 데이터가 존재하지 않는 결측치는 없지만 부적절한 값(이상치)이 존재한다.\n",
    "# 나이에 1000이라는 값이 존재하는 것과 나머지 피쳐에 unknown이라는 값이 입력된 부적절한 값은 결측치로 처리하는 것이 좋다.\n",
    "df = pd.DataFrame([\n",
    "    [42, 'male', 12, 'reading', 'class2'],\n",
    "    [35, 'unknown', 3, 'cooking', 'class1'],\n",
    "    [1000, 'female', 7, 'cycling', 'class3'],\n",
    "    [1000, 'unknown', 21, 'unknown', 'unknown']\n",
    "])\n",
    "# 나이, 성별, 태어난 달, 취미, 타겟\n",
    "df.columns = ['age', 'gender', 'month_birth', 'hobby', 'target']\n",
    "df"
   ]
  },
  {
   "cell_type": "code",
   "execution_count": 3,
   "id": "4ca6bda6",
   "metadata": {},
   "outputs": [
    {
     "name": "stdout",
     "output_type": "stream",
     "text": [
      "age: [  42   35 1000]\n",
      "gender: ['male' 'unknown' 'female']\n",
      "month_birth: [12  3  7 21]\n",
      "hobby: ['reading' 'cooking' 'cycling' 'unknown']\n",
      "target: ['class2' 'class1' 'class3' 'unknown']\n"
     ]
    }
   ],
   "source": [
    "# unique() 메소드로 각 열의 유일한 값을 확인할 수 있다.\n",
    "print('age:', df.age.unique())\n",
    "print('gender:', df.gender.unique())\n",
    "print('month_birth:', df.month_birth.unique())\n",
    "print('hobby:', df.hobby.unique())\n",
    "print('target:', df.target.unique())"
   ]
  },
  {
   "cell_type": "code",
   "execution_count": 4,
   "id": "8699ca35",
   "metadata": {},
   "outputs": [
    {
     "data": {
      "text/html": [
       "<div>\n",
       "<style scoped>\n",
       "    .dataframe tbody tr th:only-of-type {\n",
       "        vertical-align: middle;\n",
       "    }\n",
       "\n",
       "    .dataframe tbody tr th {\n",
       "        vertical-align: top;\n",
       "    }\n",
       "\n",
       "    .dataframe thead th {\n",
       "        text-align: right;\n",
       "    }\n",
       "</style>\n",
       "<table border=\"1\" class=\"dataframe\">\n",
       "  <thead>\n",
       "    <tr style=\"text-align: right;\">\n",
       "      <th></th>\n",
       "      <th>age</th>\n",
       "      <th>gender</th>\n",
       "      <th>month_birth</th>\n",
       "      <th>hobby</th>\n",
       "      <th>target</th>\n",
       "    </tr>\n",
       "  </thead>\n",
       "  <tbody>\n",
       "    <tr>\n",
       "      <th>0</th>\n",
       "      <td>42.0</td>\n",
       "      <td>male</td>\n",
       "      <td>12.0</td>\n",
       "      <td>reading</td>\n",
       "      <td>class2</td>\n",
       "    </tr>\n",
       "    <tr>\n",
       "      <th>1</th>\n",
       "      <td>35.0</td>\n",
       "      <td>NaN</td>\n",
       "      <td>3.0</td>\n",
       "      <td>cooking</td>\n",
       "      <td>class1</td>\n",
       "    </tr>\n",
       "    <tr>\n",
       "      <th>2</th>\n",
       "      <td>NaN</td>\n",
       "      <td>female</td>\n",
       "      <td>7.0</td>\n",
       "      <td>cycling</td>\n",
       "      <td>class3</td>\n",
       "    </tr>\n",
       "    <tr>\n",
       "      <th>3</th>\n",
       "      <td>NaN</td>\n",
       "      <td>NaN</td>\n",
       "      <td>NaN</td>\n",
       "      <td>NaN</td>\n",
       "      <td>NaN</td>\n",
       "    </tr>\n",
       "  </tbody>\n",
       "</table>\n",
       "</div>"
      ],
      "text/plain": [
       "    age  gender  month_birth    hobby  target\n",
       "0  42.0    male         12.0  reading  class2\n",
       "1  35.0     NaN          3.0  cooking  class1\n",
       "2   NaN  female          7.0  cycling  class3\n",
       "3   NaN     NaN          NaN      NaN     NaN"
      ]
     },
     "execution_count": 4,
     "metadata": {},
     "output_type": "execute_result"
    }
   ],
   "source": [
    "# 부적절한 데이터값을 결측치로 바꾸기 위해서 np.nan을 사용한다.\n",
    "df.loc[df.age > 150, ['age']] = np.nan\n",
    "df.loc[df.gender == 'unknown', ['gender']] = np.nan\n",
    "df.loc[df.month_birth > 12, ['month_birth']] = np.nan\n",
    "df.loc[df.hobby == 'unknown', ['hobby']] = np.nan\n",
    "df.loc[df.target == 'unknown', ['target']] = np.nan\n",
    "df"
   ]
  },
  {
   "cell_type": "code",
   "execution_count": 5,
   "id": "572c7e46",
   "metadata": {},
   "outputs": [
    {
     "data": {
      "text/plain": [
       "age            2\n",
       "gender         2\n",
       "month_birth    1\n",
       "hobby          1\n",
       "target         1\n",
       "dtype: int64"
      ]
     },
     "execution_count": 5,
     "metadata": {},
     "output_type": "execute_result"
    }
   ],
   "source": [
    "# 데이터셋 각 열의 결측치 개수를 확인한다.\n",
    "df.isnull().sum() # df.isna().sum()"
   ]
  },
  {
   "cell_type": "code",
   "execution_count": 6,
   "id": "5075706d",
   "metadata": {},
   "outputs": [
    {
     "name": "stdout",
     "output_type": "stream",
     "text": [
      "<class 'pandas.core.frame.DataFrame'>\n",
      "RangeIndex: 4 entries, 0 to 3\n",
      "Data columns (total 5 columns):\n",
      " #   Column       Non-Null Count  Dtype  \n",
      "---  ------       --------------  -----  \n",
      " 0   age          2 non-null      float64\n",
      " 1   gender       2 non-null      object \n",
      " 2   month_birth  3 non-null      float64\n",
      " 3   hobby        3 non-null      object \n",
      " 4   target       3 non-null      object \n",
      "dtypes: float64(2), object(3)\n",
      "memory usage: 288.0+ bytes\n"
     ]
    }
   ],
   "source": [
    "df.info()"
   ]
  },
  {
   "cell_type": "markdown",
   "id": "479e55d8",
   "metadata": {},
   "source": [
    "결측치를 처리하는 데 주로 쓰이는 방법은 결측치를 삭제하거나 다른 값으로 변경하는 방법이 있다."
   ]
  },
  {
   "cell_type": "code",
   "execution_count": 7,
   "id": "7649adc7",
   "metadata": {},
   "outputs": [
    {
     "data": {
      "text/html": [
       "<div>\n",
       "<style scoped>\n",
       "    .dataframe tbody tr th:only-of-type {\n",
       "        vertical-align: middle;\n",
       "    }\n",
       "\n",
       "    .dataframe tbody tr th {\n",
       "        vertical-align: top;\n",
       "    }\n",
       "\n",
       "    .dataframe thead th {\n",
       "        text-align: right;\n",
       "    }\n",
       "</style>\n",
       "<table border=\"1\" class=\"dataframe\">\n",
       "  <thead>\n",
       "    <tr style=\"text-align: right;\">\n",
       "      <th></th>\n",
       "      <th>age</th>\n",
       "      <th>gender</th>\n",
       "      <th>month_birth</th>\n",
       "      <th>hobby</th>\n",
       "      <th>target</th>\n",
       "    </tr>\n",
       "  </thead>\n",
       "  <tbody>\n",
       "    <tr>\n",
       "      <th>0</th>\n",
       "      <td>42.0</td>\n",
       "      <td>male</td>\n",
       "      <td>12.0</td>\n",
       "      <td>reading</td>\n",
       "      <td>class2</td>\n",
       "    </tr>\n",
       "  </tbody>\n",
       "</table>\n",
       "</div>"
      ],
      "text/plain": [
       "    age gender  month_birth    hobby  target\n",
       "0  42.0   male         12.0  reading  class2"
      ]
     },
     "execution_count": 7,
     "metadata": {},
     "output_type": "execute_result"
    }
   ],
   "source": [
    "# dropna() 메소드로 결측치를 삭제할 수 있다.\n",
    "# axis 속성을 생략하거나 axis=0으로 지정하면 결측치가 하나라도 포함된 모든 행을 삭제한다.\n",
    "# inplace 속성을 inplace=True로 지정하면 실행 결과를 즉시 데이터프레임에 반영한다.\n",
    "df2 = df.dropna(axis=0)\n",
    "df2"
   ]
  },
  {
   "cell_type": "code",
   "execution_count": 8,
   "id": "fcca281f",
   "metadata": {},
   "outputs": [
    {
     "data": {
      "text/html": [
       "<div>\n",
       "<style scoped>\n",
       "    .dataframe tbody tr th:only-of-type {\n",
       "        vertical-align: middle;\n",
       "    }\n",
       "\n",
       "    .dataframe tbody tr th {\n",
       "        vertical-align: top;\n",
       "    }\n",
       "\n",
       "    .dataframe thead th {\n",
       "        text-align: right;\n",
       "    }\n",
       "</style>\n",
       "<table border=\"1\" class=\"dataframe\">\n",
       "  <thead>\n",
       "    <tr style=\"text-align: right;\">\n",
       "      <th></th>\n",
       "    </tr>\n",
       "  </thead>\n",
       "  <tbody>\n",
       "    <tr>\n",
       "      <th>0</th>\n",
       "    </tr>\n",
       "    <tr>\n",
       "      <th>1</th>\n",
       "    </tr>\n",
       "    <tr>\n",
       "      <th>2</th>\n",
       "    </tr>\n",
       "    <tr>\n",
       "      <th>3</th>\n",
       "    </tr>\n",
       "  </tbody>\n",
       "</table>\n",
       "</div>"
      ],
      "text/plain": [
       "Empty DataFrame\n",
       "Columns: []\n",
       "Index: [0, 1, 2, 3]"
      ]
     },
     "execution_count": 8,
     "metadata": {},
     "output_type": "execute_result"
    }
   ],
   "source": [
    "# axis 속성을 axis=1로 지정하면 결측치가 하나라도 포함된 모든 열을 삭제한다.\n",
    "df3 = df.dropna(axis=1)\n",
    "df3"
   ]
  },
  {
   "cell_type": "code",
   "execution_count": 9,
   "id": "e61afa92",
   "metadata": {},
   "outputs": [
    {
     "data": {
      "text/html": [
       "<div>\n",
       "<style scoped>\n",
       "    .dataframe tbody tr th:only-of-type {\n",
       "        vertical-align: middle;\n",
       "    }\n",
       "\n",
       "    .dataframe tbody tr th {\n",
       "        vertical-align: top;\n",
       "    }\n",
       "\n",
       "    .dataframe thead th {\n",
       "        text-align: right;\n",
       "    }\n",
       "</style>\n",
       "<table border=\"1\" class=\"dataframe\">\n",
       "  <thead>\n",
       "    <tr style=\"text-align: right;\">\n",
       "      <th></th>\n",
       "      <th>age</th>\n",
       "      <th>gender</th>\n",
       "      <th>month_birth</th>\n",
       "      <th>hobby</th>\n",
       "      <th>target</th>\n",
       "    </tr>\n",
       "  </thead>\n",
       "  <tbody>\n",
       "    <tr>\n",
       "      <th>0</th>\n",
       "      <td>42.0</td>\n",
       "      <td>male</td>\n",
       "      <td>12.0</td>\n",
       "      <td>reading</td>\n",
       "      <td>class2</td>\n",
       "    </tr>\n",
       "    <tr>\n",
       "      <th>1</th>\n",
       "      <td>35.0</td>\n",
       "      <td>NaN</td>\n",
       "      <td>3.0</td>\n",
       "      <td>cooking</td>\n",
       "      <td>class1</td>\n",
       "    </tr>\n",
       "    <tr>\n",
       "      <th>2</th>\n",
       "      <td>NaN</td>\n",
       "      <td>female</td>\n",
       "      <td>7.0</td>\n",
       "      <td>cycling</td>\n",
       "      <td>class3</td>\n",
       "    </tr>\n",
       "  </tbody>\n",
       "</table>\n",
       "</div>"
      ],
      "text/plain": [
       "    age  gender  month_birth    hobby  target\n",
       "0  42.0    male         12.0  reading  class2\n",
       "1  35.0     NaN          3.0  cooking  class1\n",
       "2   NaN  female          7.0  cycling  class3"
      ]
     },
     "execution_count": 9,
     "metadata": {},
     "output_type": "execute_result"
    }
   ],
   "source": [
    "# how 속성을 how='all'로 지정하면 행의 값이 모두 결측치인 행을 삭제한다.\n",
    "df4 = df.dropna(how='all')\n",
    "df4"
   ]
  },
  {
   "cell_type": "code",
   "execution_count": 10,
   "id": "d0e8daf1",
   "metadata": {},
   "outputs": [
    {
     "data": {
      "text/html": [
       "<div>\n",
       "<style scoped>\n",
       "    .dataframe tbody tr th:only-of-type {\n",
       "        vertical-align: middle;\n",
       "    }\n",
       "\n",
       "    .dataframe tbody tr th {\n",
       "        vertical-align: top;\n",
       "    }\n",
       "\n",
       "    .dataframe thead th {\n",
       "        text-align: right;\n",
       "    }\n",
       "</style>\n",
       "<table border=\"1\" class=\"dataframe\">\n",
       "  <thead>\n",
       "    <tr style=\"text-align: right;\">\n",
       "      <th></th>\n",
       "      <th>age</th>\n",
       "      <th>gender</th>\n",
       "      <th>month_birth</th>\n",
       "      <th>hobby</th>\n",
       "      <th>target</th>\n",
       "    </tr>\n",
       "  </thead>\n",
       "  <tbody>\n",
       "    <tr>\n",
       "      <th>0</th>\n",
       "      <td>42.0</td>\n",
       "      <td>male</td>\n",
       "      <td>12.0</td>\n",
       "      <td>reading</td>\n",
       "      <td>class2</td>\n",
       "    </tr>\n",
       "    <tr>\n",
       "      <th>1</th>\n",
       "      <td>35.0</td>\n",
       "      <td>NaN</td>\n",
       "      <td>3.0</td>\n",
       "      <td>cooking</td>\n",
       "      <td>class1</td>\n",
       "    </tr>\n",
       "    <tr>\n",
       "      <th>2</th>\n",
       "      <td>NaN</td>\n",
       "      <td>female</td>\n",
       "      <td>7.0</td>\n",
       "      <td>cycling</td>\n",
       "      <td>class3</td>\n",
       "    </tr>\n",
       "  </tbody>\n",
       "</table>\n",
       "</div>"
      ],
      "text/plain": [
       "    age  gender  month_birth    hobby  target\n",
       "0  42.0    male         12.0  reading  class2\n",
       "1  35.0     NaN          3.0  cooking  class1\n",
       "2   NaN  female          7.0  cycling  class3"
      ]
     },
     "execution_count": 10,
     "metadata": {},
     "output_type": "execute_result"
    }
   ],
   "source": [
    "# thresh 속성을 thresh=n으로 지정하면 결측치를 제외한 값의 개수가 n보다 작은 행을 삭제한다.\n",
    "df5 = df.dropna(thresh=1)\n",
    "df5"
   ]
  },
  {
   "cell_type": "code",
   "execution_count": 11,
   "id": "ba9e5018",
   "metadata": {},
   "outputs": [
    {
     "data": {
      "text/html": [
       "<div>\n",
       "<style scoped>\n",
       "    .dataframe tbody tr th:only-of-type {\n",
       "        vertical-align: middle;\n",
       "    }\n",
       "\n",
       "    .dataframe tbody tr th {\n",
       "        vertical-align: top;\n",
       "    }\n",
       "\n",
       "    .dataframe thead th {\n",
       "        text-align: right;\n",
       "    }\n",
       "</style>\n",
       "<table border=\"1\" class=\"dataframe\">\n",
       "  <thead>\n",
       "    <tr style=\"text-align: right;\">\n",
       "      <th></th>\n",
       "      <th>age</th>\n",
       "      <th>gender</th>\n",
       "      <th>month_birth</th>\n",
       "      <th>hobby</th>\n",
       "      <th>target</th>\n",
       "    </tr>\n",
       "  </thead>\n",
       "  <tbody>\n",
       "    <tr>\n",
       "      <th>0</th>\n",
       "      <td>42.0</td>\n",
       "      <td>male</td>\n",
       "      <td>12.0</td>\n",
       "      <td>reading</td>\n",
       "      <td>class2</td>\n",
       "    </tr>\n",
       "    <tr>\n",
       "      <th>2</th>\n",
       "      <td>NaN</td>\n",
       "      <td>female</td>\n",
       "      <td>7.0</td>\n",
       "      <td>cycling</td>\n",
       "      <td>class3</td>\n",
       "    </tr>\n",
       "  </tbody>\n",
       "</table>\n",
       "</div>"
      ],
      "text/plain": [
       "    age  gender  month_birth    hobby  target\n",
       "0  42.0    male         12.0  reading  class2\n",
       "2   NaN  female          7.0  cycling  class3"
      ]
     },
     "execution_count": 11,
     "metadata": {},
     "output_type": "execute_result"
    }
   ],
   "source": [
    "# subset 속성을 subset=['열이름']으로 지정하면 특정 열에 결측치가 존재하는 행을 삭제한다.\n",
    "df6 = df.dropna(subset=['gender'])\n",
    "df6"
   ]
  },
  {
   "cell_type": "code",
   "execution_count": 12,
   "id": "b36c3f70",
   "metadata": {},
   "outputs": [
    {
     "data": {
      "text/html": [
       "<div>\n",
       "<style scoped>\n",
       "    .dataframe tbody tr th:only-of-type {\n",
       "        vertical-align: middle;\n",
       "    }\n",
       "\n",
       "    .dataframe tbody tr th {\n",
       "        vertical-align: top;\n",
       "    }\n",
       "\n",
       "    .dataframe thead th {\n",
       "        text-align: right;\n",
       "    }\n",
       "</style>\n",
       "<table border=\"1\" class=\"dataframe\">\n",
       "  <thead>\n",
       "    <tr style=\"text-align: right;\">\n",
       "      <th></th>\n",
       "      <th>age</th>\n",
       "      <th>gender</th>\n",
       "      <th>month_birth</th>\n",
       "      <th>hobby</th>\n",
       "      <th>target</th>\n",
       "    </tr>\n",
       "  </thead>\n",
       "  <tbody>\n",
       "    <tr>\n",
       "      <th>0</th>\n",
       "      <td>42.0</td>\n",
       "      <td>male</td>\n",
       "      <td>12.0</td>\n",
       "      <td>reading</td>\n",
       "      <td>class2</td>\n",
       "    </tr>\n",
       "    <tr>\n",
       "      <th>1</th>\n",
       "      <td>35.0</td>\n",
       "      <td>0</td>\n",
       "      <td>3.0</td>\n",
       "      <td>cooking</td>\n",
       "      <td>class1</td>\n",
       "    </tr>\n",
       "    <tr>\n",
       "      <th>2</th>\n",
       "      <td>0.0</td>\n",
       "      <td>female</td>\n",
       "      <td>7.0</td>\n",
       "      <td>cycling</td>\n",
       "      <td>class3</td>\n",
       "    </tr>\n",
       "    <tr>\n",
       "      <th>3</th>\n",
       "      <td>0.0</td>\n",
       "      <td>0</td>\n",
       "      <td>0.0</td>\n",
       "      <td>0</td>\n",
       "      <td>0</td>\n",
       "    </tr>\n",
       "  </tbody>\n",
       "</table>\n",
       "</div>"
      ],
      "text/plain": [
       "    age  gender  month_birth    hobby  target\n",
       "0  42.0    male         12.0  reading  class2\n",
       "1  35.0       0          3.0  cooking  class1\n",
       "2   0.0  female          7.0  cycling  class3\n",
       "3   0.0       0          0.0        0       0"
      ]
     },
     "execution_count": 12,
     "metadata": {},
     "output_type": "execute_result"
    }
   ],
   "source": [
    "# fillna() 메소드로 결측치를 대체할 값을 지정할 수 있다.\n",
    "df7 = df.fillna(0)\n",
    "df7"
   ]
  },
  {
   "cell_type": "code",
   "execution_count": 13,
   "id": "e5d10273",
   "metadata": {},
   "outputs": [
    {
     "data": {
      "text/html": [
       "<div>\n",
       "<style scoped>\n",
       "    .dataframe tbody tr th:only-of-type {\n",
       "        vertical-align: middle;\n",
       "    }\n",
       "\n",
       "    .dataframe tbody tr th {\n",
       "        vertical-align: top;\n",
       "    }\n",
       "\n",
       "    .dataframe thead th {\n",
       "        text-align: right;\n",
       "    }\n",
       "</style>\n",
       "<table border=\"1\" class=\"dataframe\">\n",
       "  <thead>\n",
       "    <tr style=\"text-align: right;\">\n",
       "      <th></th>\n",
       "      <th>age</th>\n",
       "      <th>gender</th>\n",
       "      <th>month_birth</th>\n",
       "      <th>hobby</th>\n",
       "      <th>target</th>\n",
       "    </tr>\n",
       "  </thead>\n",
       "  <tbody>\n",
       "    <tr>\n",
       "      <th>0</th>\n",
       "      <td>42.0</td>\n",
       "      <td>male</td>\n",
       "      <td>12.0</td>\n",
       "      <td>reading</td>\n",
       "      <td>class2</td>\n",
       "    </tr>\n",
       "    <tr>\n",
       "      <th>1</th>\n",
       "      <td>35.0</td>\n",
       "      <td>U</td>\n",
       "      <td>3.0</td>\n",
       "      <td>cooking</td>\n",
       "      <td>class1</td>\n",
       "    </tr>\n",
       "    <tr>\n",
       "      <th>2</th>\n",
       "      <td>0.0</td>\n",
       "      <td>female</td>\n",
       "      <td>7.0</td>\n",
       "      <td>cycling</td>\n",
       "      <td>class3</td>\n",
       "    </tr>\n",
       "    <tr>\n",
       "      <th>3</th>\n",
       "      <td>0.0</td>\n",
       "      <td>U</td>\n",
       "      <td>0.0</td>\n",
       "      <td>U</td>\n",
       "      <td>class4</td>\n",
       "    </tr>\n",
       "  </tbody>\n",
       "</table>\n",
       "</div>"
      ],
      "text/plain": [
       "    age  gender  month_birth    hobby  target\n",
       "0  42.0    male         12.0  reading  class2\n",
       "1  35.0       U          3.0  cooking  class1\n",
       "2   0.0  female          7.0  cycling  class3\n",
       "3   0.0       U          0.0        U  class4"
      ]
     },
     "execution_count": 13,
     "metadata": {},
     "output_type": "execute_result"
    }
   ],
   "source": [
    "# value 속성으로 결측치를 대체할 값이 지정된 딕셔너리를 지정하면 열별로 결측치를 대체할 수 있다.\n",
    "# 열 이름을 key로 하고 결측치를 대체할 값을 value로 지정한 딕셔너리\n",
    "alter_values = {'age': 0, 'gender': 'U', 'month_birth': 0, 'hobby': 'U', 'target': 'class4'}\n",
    "df8 = df.fillna(value=alter_values)\n",
    "df8"
   ]
  },
  {
   "cell_type": "markdown",
   "id": "34d9f687",
   "metadata": {},
   "source": [
    "기계 처리에 적합하도록 클래스 레이블 설정  \n",
    "target 열을 보면 문자열(string) 형태인데, 데이터 전처리 과정에서 문자열을 정수(int)로 바꿔야 하는 경우가 있다.\n",
    "\n",
    "사이킷런을 사용하지 않고 레이블 설정하기"
   ]
  },
  {
   "cell_type": "code",
   "execution_count": 14,
   "id": "599e337e",
   "metadata": {},
   "outputs": [],
   "source": [
    "df9 = df8"
   ]
  },
  {
   "cell_type": "code",
   "execution_count": 15,
   "id": "ed9a4a75",
   "metadata": {},
   "outputs": [
    {
     "data": {
      "text/plain": [
       "array(['class1', 'class2', 'class3', 'class4'], dtype=object)"
      ]
     },
     "execution_count": 15,
     "metadata": {},
     "output_type": "execute_result"
    }
   ],
   "source": [
    "# 라벨링할 타겟만 얻어와서 오름차순으로 정렬한다.\n",
    "y_arr = df9.target.values\n",
    "# print(type(y_arr))\n",
    "y_arr.sort() # 오름차순\n",
    "# y_arr = y_arr[::-1] # 역순으로 뒤집어서 다시 저장한다.\n",
    "y_arr"
   ]
  },
  {
   "cell_type": "code",
   "execution_count": 16,
   "id": "659612c6",
   "metadata": {},
   "outputs": [
    {
     "data": {
      "text/plain": [
       "{'class1': 0, 'class2': 1, 'class3': 2, 'class4': 3}"
      ]
     },
     "execution_count": 16,
     "metadata": {},
     "output_type": "execute_result"
    }
   ],
   "source": [
    "# 반복문을 실행해서 정렬된 타겟 데이터를 key로 일련번호를 value로 하는 딕셔너리를 만든다.\n",
    "dict_y = {}\n",
    "for value, key in enumerate(y_arr):\n",
    "    # print(value, key)\n",
    "    dict_y[key] = value\n",
    "dict_y"
   ]
  },
  {
   "cell_type": "code",
   "execution_count": 17,
   "id": "32f7f889",
   "metadata": {},
   "outputs": [
    {
     "data": {
      "text/html": [
       "<div>\n",
       "<style scoped>\n",
       "    .dataframe tbody tr th:only-of-type {\n",
       "        vertical-align: middle;\n",
       "    }\n",
       "\n",
       "    .dataframe tbody tr th {\n",
       "        vertical-align: top;\n",
       "    }\n",
       "\n",
       "    .dataframe thead th {\n",
       "        text-align: right;\n",
       "    }\n",
       "</style>\n",
       "<table border=\"1\" class=\"dataframe\">\n",
       "  <thead>\n",
       "    <tr style=\"text-align: right;\">\n",
       "      <th></th>\n",
       "      <th>age</th>\n",
       "      <th>gender</th>\n",
       "      <th>month_birth</th>\n",
       "      <th>hobby</th>\n",
       "      <th>target</th>\n",
       "      <th>target_1</th>\n",
       "    </tr>\n",
       "  </thead>\n",
       "  <tbody>\n",
       "    <tr>\n",
       "      <th>0</th>\n",
       "      <td>42.0</td>\n",
       "      <td>male</td>\n",
       "      <td>12.0</td>\n",
       "      <td>reading</td>\n",
       "      <td>class1</td>\n",
       "      <td>0</td>\n",
       "    </tr>\n",
       "    <tr>\n",
       "      <th>1</th>\n",
       "      <td>35.0</td>\n",
       "      <td>U</td>\n",
       "      <td>3.0</td>\n",
       "      <td>cooking</td>\n",
       "      <td>class2</td>\n",
       "      <td>1</td>\n",
       "    </tr>\n",
       "    <tr>\n",
       "      <th>2</th>\n",
       "      <td>0.0</td>\n",
       "      <td>female</td>\n",
       "      <td>7.0</td>\n",
       "      <td>cycling</td>\n",
       "      <td>class3</td>\n",
       "      <td>2</td>\n",
       "    </tr>\n",
       "    <tr>\n",
       "      <th>3</th>\n",
       "      <td>0.0</td>\n",
       "      <td>U</td>\n",
       "      <td>0.0</td>\n",
       "      <td>U</td>\n",
       "      <td>class4</td>\n",
       "      <td>3</td>\n",
       "    </tr>\n",
       "  </tbody>\n",
       "</table>\n",
       "</div>"
      ],
      "text/plain": [
       "    age  gender  month_birth    hobby  target  target_1\n",
       "0  42.0    male         12.0  reading  class1         0\n",
       "1  35.0       U          3.0  cooking  class2         1\n",
       "2   0.0  female          7.0  cycling  class3         2\n",
       "3   0.0       U          0.0        U  class4         3"
      ]
     },
     "execution_count": 17,
     "metadata": {},
     "output_type": "execute_result"
    }
   ],
   "source": [
    "# replace() 메소드를 이용해서 딕셔너리에 저장된 데이터로 타겟을 라벨링 한다.\n",
    "# df9['target'].replace(dict_y, inplace=True)\n",
    "df9['target_1'] = df9.target.replace(dict_y)\n",
    "df9"
   ]
  },
  {
   "cell_type": "markdown",
   "id": "f5b28e8b",
   "metadata": {},
   "source": [
    "사이킷런을 사용해서 레이블 설정하기"
   ]
  },
  {
   "cell_type": "code",
   "execution_count": 18,
   "id": "62c0163a",
   "metadata": {},
   "outputs": [],
   "source": [
    "# 클래스 라벨링을 하기 위해 import 한다.\n",
    "from sklearn.preprocessing import LabelEncoder"
   ]
  },
  {
   "cell_type": "code",
   "execution_count": 19,
   "id": "19901f22",
   "metadata": {},
   "outputs": [
    {
     "name": "stdout",
     "output_type": "stream",
     "text": [
      "['class1' 'class2' 'class3' 'class4']\n"
     ]
    },
    {
     "data": {
      "text/plain": [
       "array([0, 1, 2, 3])"
      ]
     },
     "execution_count": 19,
     "metadata": {},
     "output_type": "execute_result"
    }
   ],
   "source": [
    "df10 = df8\n",
    "class_label = LabelEncoder() # 클래스 라벨링을 실행하는 객체를 생성한다.\n",
    "data_value = df10.target.values # 라벨링을 실행할 데이터를 얻어온다.\n",
    "print(data_value)\n",
    "# fit_transform() 메소드로 라벨링할 데이터를 넘겨서 라벨링을 실행한다.\n",
    "y_new = class_label.fit_transform(data_value)\n",
    "y_new"
   ]
  },
  {
   "cell_type": "code",
   "execution_count": 20,
   "id": "c2bf2e3a",
   "metadata": {},
   "outputs": [
    {
     "data": {
      "text/html": [
       "<div>\n",
       "<style scoped>\n",
       "    .dataframe tbody tr th:only-of-type {\n",
       "        vertical-align: middle;\n",
       "    }\n",
       "\n",
       "    .dataframe tbody tr th {\n",
       "        vertical-align: top;\n",
       "    }\n",
       "\n",
       "    .dataframe thead th {\n",
       "        text-align: right;\n",
       "    }\n",
       "</style>\n",
       "<table border=\"1\" class=\"dataframe\">\n",
       "  <thead>\n",
       "    <tr style=\"text-align: right;\">\n",
       "      <th></th>\n",
       "      <th>age</th>\n",
       "      <th>gender</th>\n",
       "      <th>month_birth</th>\n",
       "      <th>hobby</th>\n",
       "      <th>target</th>\n",
       "      <th>target_1</th>\n",
       "      <th>target_2</th>\n",
       "    </tr>\n",
       "  </thead>\n",
       "  <tbody>\n",
       "    <tr>\n",
       "      <th>0</th>\n",
       "      <td>42.0</td>\n",
       "      <td>male</td>\n",
       "      <td>12.0</td>\n",
       "      <td>reading</td>\n",
       "      <td>class1</td>\n",
       "      <td>0</td>\n",
       "      <td>0</td>\n",
       "    </tr>\n",
       "    <tr>\n",
       "      <th>1</th>\n",
       "      <td>35.0</td>\n",
       "      <td>U</td>\n",
       "      <td>3.0</td>\n",
       "      <td>cooking</td>\n",
       "      <td>class2</td>\n",
       "      <td>1</td>\n",
       "      <td>1</td>\n",
       "    </tr>\n",
       "    <tr>\n",
       "      <th>2</th>\n",
       "      <td>0.0</td>\n",
       "      <td>female</td>\n",
       "      <td>7.0</td>\n",
       "      <td>cycling</td>\n",
       "      <td>class3</td>\n",
       "      <td>2</td>\n",
       "      <td>2</td>\n",
       "    </tr>\n",
       "    <tr>\n",
       "      <th>3</th>\n",
       "      <td>0.0</td>\n",
       "      <td>U</td>\n",
       "      <td>0.0</td>\n",
       "      <td>U</td>\n",
       "      <td>class4</td>\n",
       "      <td>3</td>\n",
       "      <td>3</td>\n",
       "    </tr>\n",
       "  </tbody>\n",
       "</table>\n",
       "</div>"
      ],
      "text/plain": [
       "    age  gender  month_birth    hobby  target  target_1  target_2\n",
       "0  42.0    male         12.0  reading  class1         0         0\n",
       "1  35.0       U          3.0  cooking  class2         1         1\n",
       "2   0.0  female          7.0  cycling  class3         2         2\n",
       "3   0.0       U          0.0        U  class4         3         3"
      ]
     },
     "execution_count": 20,
     "metadata": {},
     "output_type": "execute_result"
    }
   ],
   "source": [
    "# 라벨링한 결과를 데이터프레임에 넣어준다.\n",
    "df10['target_2'] = y_new\n",
    "df10"
   ]
  },
  {
   "cell_type": "markdown",
   "id": "cbd573d6",
   "metadata": {},
   "source": [
    "원-핫 인코딩(one-hot encoding)  \n",
    "원-핫 인코딩은 클래스를 라벨링하는 또 다른 방법으로 오직 0과 1만 사용한 벡터를 이용해서 데이터 값을 나타내는 것이다.\n",
    "\n",
    "판다스를 이용한 원-핫 인코딩"
   ]
  },
  {
   "cell_type": "code",
   "execution_count": 21,
   "id": "b5a16662",
   "metadata": {},
   "outputs": [],
   "source": [
    "df11 = df8"
   ]
  },
  {
   "cell_type": "code",
   "execution_count": 22,
   "id": "6abbf775",
   "metadata": {},
   "outputs": [
    {
     "data": {
      "text/html": [
       "<div>\n",
       "<style scoped>\n",
       "    .dataframe tbody tr th:only-of-type {\n",
       "        vertical-align: middle;\n",
       "    }\n",
       "\n",
       "    .dataframe tbody tr th {\n",
       "        vertical-align: top;\n",
       "    }\n",
       "\n",
       "    .dataframe thead th {\n",
       "        text-align: right;\n",
       "    }\n",
       "</style>\n",
       "<table border=\"1\" class=\"dataframe\">\n",
       "  <thead>\n",
       "    <tr style=\"text-align: right;\">\n",
       "      <th></th>\n",
       "      <th>class1</th>\n",
       "      <th>class2</th>\n",
       "      <th>class3</th>\n",
       "      <th>class4</th>\n",
       "    </tr>\n",
       "  </thead>\n",
       "  <tbody>\n",
       "    <tr>\n",
       "      <th>0</th>\n",
       "      <td>1</td>\n",
       "      <td>0</td>\n",
       "      <td>0</td>\n",
       "      <td>0</td>\n",
       "    </tr>\n",
       "    <tr>\n",
       "      <th>1</th>\n",
       "      <td>0</td>\n",
       "      <td>1</td>\n",
       "      <td>0</td>\n",
       "      <td>0</td>\n",
       "    </tr>\n",
       "    <tr>\n",
       "      <th>2</th>\n",
       "      <td>0</td>\n",
       "      <td>0</td>\n",
       "      <td>1</td>\n",
       "      <td>0</td>\n",
       "    </tr>\n",
       "    <tr>\n",
       "      <th>3</th>\n",
       "      <td>0</td>\n",
       "      <td>0</td>\n",
       "      <td>0</td>\n",
       "      <td>1</td>\n",
       "    </tr>\n",
       "  </tbody>\n",
       "</table>\n",
       "</div>"
      ],
      "text/plain": [
       "   class1  class2  class3  class4\n",
       "0       1       0       0       0\n",
       "1       0       1       0       0\n",
       "2       0       0       1       0\n",
       "3       0       0       0       1"
      ]
     },
     "execution_count": 22,
     "metadata": {},
     "output_type": "execute_result"
    }
   ],
   "source": [
    "# get_dummies() 메소드의 인수로 원-핫 인코딩을 실행한다.\n",
    "df12 = pd.get_dummies(df11.target)\n",
    "df12"
   ]
  },
  {
   "cell_type": "code",
   "execution_count": 23,
   "id": "a33ef032",
   "metadata": {},
   "outputs": [
    {
     "data": {
      "text/html": [
       "<div>\n",
       "<style scoped>\n",
       "    .dataframe tbody tr th:only-of-type {\n",
       "        vertical-align: middle;\n",
       "    }\n",
       "\n",
       "    .dataframe tbody tr th {\n",
       "        vertical-align: top;\n",
       "    }\n",
       "\n",
       "    .dataframe thead th {\n",
       "        text-align: right;\n",
       "    }\n",
       "</style>\n",
       "<table border=\"1\" class=\"dataframe\">\n",
       "  <thead>\n",
       "    <tr style=\"text-align: right;\">\n",
       "      <th></th>\n",
       "      <th>0</th>\n",
       "      <th>1</th>\n",
       "      <th>2</th>\n",
       "      <th>3</th>\n",
       "    </tr>\n",
       "  </thead>\n",
       "  <tbody>\n",
       "    <tr>\n",
       "      <th>0</th>\n",
       "      <td>1</td>\n",
       "      <td>0</td>\n",
       "      <td>0</td>\n",
       "      <td>0</td>\n",
       "    </tr>\n",
       "    <tr>\n",
       "      <th>1</th>\n",
       "      <td>0</td>\n",
       "      <td>1</td>\n",
       "      <td>0</td>\n",
       "      <td>0</td>\n",
       "    </tr>\n",
       "    <tr>\n",
       "      <th>2</th>\n",
       "      <td>0</td>\n",
       "      <td>0</td>\n",
       "      <td>1</td>\n",
       "      <td>0</td>\n",
       "    </tr>\n",
       "    <tr>\n",
       "      <th>3</th>\n",
       "      <td>0</td>\n",
       "      <td>0</td>\n",
       "      <td>0</td>\n",
       "      <td>1</td>\n",
       "    </tr>\n",
       "  </tbody>\n",
       "</table>\n",
       "</div>"
      ],
      "text/plain": [
       "   0  1  2  3\n",
       "0  1  0  0  0\n",
       "1  0  1  0  0\n",
       "2  0  0  1  0\n",
       "3  0  0  0  1"
      ]
     },
     "execution_count": 23,
     "metadata": {},
     "output_type": "execute_result"
    }
   ],
   "source": [
    "df11['target_2'] = df11.target_2.astype(str) # 타겟의 값을 문자열로 변환한다.\n",
    "df13 = pd.get_dummies(df11.target_2)\n",
    "df13"
   ]
  },
  {
   "cell_type": "code",
   "execution_count": 24,
   "id": "e38e676d",
   "metadata": {},
   "outputs": [
    {
     "data": {
      "text/html": [
       "<div>\n",
       "<style scoped>\n",
       "    .dataframe tbody tr th:only-of-type {\n",
       "        vertical-align: middle;\n",
       "    }\n",
       "\n",
       "    .dataframe tbody tr th {\n",
       "        vertical-align: top;\n",
       "    }\n",
       "\n",
       "    .dataframe thead th {\n",
       "        text-align: right;\n",
       "    }\n",
       "</style>\n",
       "<table border=\"1\" class=\"dataframe\">\n",
       "  <thead>\n",
       "    <tr style=\"text-align: right;\">\n",
       "      <th></th>\n",
       "      <th>class2</th>\n",
       "      <th>class3</th>\n",
       "      <th>class4</th>\n",
       "    </tr>\n",
       "  </thead>\n",
       "  <tbody>\n",
       "    <tr>\n",
       "      <th>0</th>\n",
       "      <td>0</td>\n",
       "      <td>0</td>\n",
       "      <td>0</td>\n",
       "    </tr>\n",
       "    <tr>\n",
       "      <th>1</th>\n",
       "      <td>1</td>\n",
       "      <td>0</td>\n",
       "      <td>0</td>\n",
       "    </tr>\n",
       "    <tr>\n",
       "      <th>2</th>\n",
       "      <td>0</td>\n",
       "      <td>1</td>\n",
       "      <td>0</td>\n",
       "    </tr>\n",
       "    <tr>\n",
       "      <th>3</th>\n",
       "      <td>0</td>\n",
       "      <td>0</td>\n",
       "      <td>1</td>\n",
       "    </tr>\n",
       "  </tbody>\n",
       "</table>\n",
       "</div>"
      ],
      "text/plain": [
       "   class2  class3  class4\n",
       "0       0       0       0\n",
       "1       1       0       0\n",
       "2       0       1       0\n",
       "3       0       0       1"
      ]
     },
     "execution_count": 24,
     "metadata": {},
     "output_type": "execute_result"
    }
   ],
   "source": [
    "# 위의 방법에서는 길이가 4인 벡터를 이용해서 클래스를 구분했다.\n",
    "# drop_first 속성을 지정하면 벡터 길이를 하나 줄인 벡트럴 이용해 원-한 인코딩을 할 수 있다.\n",
    "# drop_first 속성을 drop_first=True로 지정하면 3개의 0과 1의 조합으로 4개의 클래스가 구분되는 것을 확인할 수 있다.\n",
    "df14 = pd.get_dummies(df11.target, drop_first=True)\n",
    "df14"
   ]
  },
  {
   "cell_type": "markdown",
   "id": "503df4e4",
   "metadata": {},
   "source": [
    "사이킷런을 이용한 원-핫 인코딩"
   ]
  },
  {
   "cell_type": "code",
   "execution_count": 25,
   "id": "22692f1c",
   "metadata": {},
   "outputs": [],
   "source": [
    "# 원-핫 인코딩을 하기 위해 import 한다.\n",
    "from sklearn.preprocessing import OneHotEncoder"
   ]
  },
  {
   "cell_type": "code",
   "execution_count": 26,
   "id": "a42f7510",
   "metadata": {},
   "outputs": [
    {
     "name": "stdout",
     "output_type": "stream",
     "text": [
      "<class 'scipy.sparse.csr.csr_matrix'>\n",
      "  (0, 0)\t1.0\n",
      "  (1, 1)\t1.0\n",
      "  (2, 2)\t1.0\n",
      "  (3, 3)\t1.0\n",
      "<class 'numpy.ndarray'>\n",
      "[[1. 0. 0. 0.]\n",
      " [0. 1. 0. 0.]\n",
      " [0. 0. 1. 0.]\n",
      " [0. 0. 0. 1.]]\n"
     ]
    }
   ],
   "source": [
    "one_hot_encoder = OneHotEncoder() # 원-핫 인코딩을 실행하는 객체를 생성한다.\n",
    "y = df8[['target']]\n",
    "# print(y)\n",
    "y_hot = one_hot_encoder.fit_transform(y)\n",
    "print(type(y_hot))\n",
    "print(y_hot)\n",
    "print(type(y_hot.toarray()))\n",
    "print(y_hot.toarray())"
   ]
  },
  {
   "cell_type": "markdown",
   "id": "37862d94",
   "metadata": {},
   "source": [
    "텐서플로우를 이용한 원-핫 인코딩"
   ]
  },
  {
   "cell_type": "code",
   "execution_count": 27,
   "id": "aef11bc3",
   "metadata": {},
   "outputs": [],
   "source": [
    "# 원-핫 인코딩을 하기 위해 import 한다.\n",
    "from tensorflow.keras.utils import to_categorical"
   ]
  },
  {
   "cell_type": "code",
   "execution_count": 28,
   "id": "c77ee06c",
   "metadata": {},
   "outputs": [
    {
     "name": "stdout",
     "output_type": "stream",
     "text": [
      "<class 'numpy.ndarray'>\n",
      "[[1. 0. 0. 0.]\n",
      " [0. 1. 0. 0.]\n",
      " [0. 0. 1. 0.]\n",
      " [0. 0. 0. 1.]]\n"
     ]
    }
   ],
   "source": [
    "y = df8[['target_1']]\n",
    "y_onehot = to_categorical(y)\n",
    "print(type(y_onehot))\n",
    "print(y_onehot)"
   ]
  },
  {
   "cell_type": "markdown",
   "id": "6528293f",
   "metadata": {},
   "source": [
    "데이터 스케일링(data scaling)  \n",
    "피쳐는 제각기 다른 단위를 가지기 때문에 이로 인해 숫자 자체의 크기 차이가 발생한다. 데이터 스케일링은 데이터 값이 단위의 영향을 받지 않도록 변형하는 것을 의미한다. 전체 데이터를 트레이닝 데이터와 테스트 데이터로 나누고 스케일링 기준이 되는 값을 구할 때는 트레이닝 데이터만으로 구한다.\n",
    "\n",
    "표준화 스케일링(standard scaling)  \n",
    "대표적인 데이터 스케일링 방법으로 평균 0, 표준 편차가 1이 되도록 변경하는 방법이다.\n",
    "\n",
    "$$\\frac{x_i - \\bar x}{\\sigma}$$\n",
    "\n",
    "위 식의 의미는 기존 데이터 값에서 평균을 뺀 후 표준 편차로 나눈 값으로 바꾼다는 의미이다."
   ]
  },
  {
   "cell_type": "code",
   "execution_count": 29,
   "id": "ff04a7fc",
   "metadata": {},
   "outputs": [],
   "source": [
    "# 표준화 스케일링을 하기 위해서 import 한다.\n",
    "from sklearn.preprocessing import StandardScaler"
   ]
  },
  {
   "cell_type": "code",
   "execution_count": 30,
   "id": "9bbf6c1f",
   "metadata": {},
   "outputs": [
    {
     "name": "stdout",
     "output_type": "stream",
     "text": [
      "   month_birth\n",
      "0         12.0\n",
      "1          3.0\n",
      "2          7.0\n",
      "3          0.0\n",
      "[[ 1.44444444]\n",
      " [-0.55555556]\n",
      " [ 0.33333333]\n",
      " [-1.22222222]]\n"
     ]
    }
   ],
   "source": [
    "std = StandardScaler() # 표준화 스케일링 객체를 만든다.\n",
    "# 표준화 스케일러를 적용할 데이터를 fit() 메소드로 먼저 학습(적합) 시킨 후 transform() 메소드로 적용시킨다.\n",
    "y = df8[['month_birth']]\n",
    "print(y)\n",
    "std.fit(y) # 표준화 스케일러에 month_birth 열을 적합시킨다.\n",
    "x_std = std.transform(y) # 적합(fit)된 표준화 스케일러를 기준으로 month_birth 열 데이터 값을 변형시킨다.\n",
    "print(x_std)"
   ]
  },
  {
   "cell_type": "code",
   "execution_count": 31,
   "id": "7c8b8bb7",
   "metadata": {},
   "outputs": [
    {
     "name": "stdout",
     "output_type": "stream",
     "text": [
      "평균: -0.0, 표준편차: 1.0\n"
     ]
    }
   ],
   "source": [
    "# 실제로 표준화 스케일링 후 데이터가 평균 0, 표준 편차 1인지 확인한다.\n",
    "print('평균: {:.1f}, 표준편차: {:.1f}'.format(np.mean(x_std), np.std(x_std)))"
   ]
  },
  {
   "cell_type": "code",
   "execution_count": 32,
   "id": "f4a449f7",
   "metadata": {},
   "outputs": [
    {
     "name": "stdout",
     "output_type": "stream",
     "text": [
      "[[ 1.44444444]\n",
      " [-0.55555556]\n",
      " [ 0.33333333]\n",
      " [-1.22222222]]\n"
     ]
    }
   ],
   "source": [
    "# fit() 메소드와 transform() 메소드를 각각 실행한 표준화 스케일링은 fit_transform() 메소드를 사용하면 한 번에\n",
    "# 실행할 수 있다.\n",
    "x_std2 = std.fit_transform(y)\n",
    "print(x_std2)"
   ]
  },
  {
   "cell_type": "code",
   "execution_count": 33,
   "id": "cabeec51",
   "metadata": {},
   "outputs": [
    {
     "name": "stdout",
     "output_type": "stream",
     "text": [
      "평균: -0.0, 표준편차: 1.0\n"
     ]
    }
   ],
   "source": [
    "print('평균: {:.1f}, 표준편차: {:.1f}'.format(np.mean(x_std2), np.std(x_std2)))"
   ]
  },
  {
   "cell_type": "markdown",
   "id": "1d3f0a4d",
   "metadata": {},
   "source": [
    "로버스트 스케일링(robust scaling)  \n",
    "로버스트 스케일링은 표준화 스케일링을 변형한 방법으로 중앙값(median)과 사분위수(quantile)를 사용한다. 극단값의 영형을 거의 받지 않는다는 장점이 있다.\n",
    "\n",
    "$$\\frac{x_i - q_2}{q_3 - q_1}$$\n",
    "\n",
    "위 식에서 $q_1$은 1사분위수, $q_2$은 2사분위수(중앙값), $q_3$은 3사분위수를 의미한다."
   ]
  },
  {
   "cell_type": "code",
   "execution_count": 34,
   "id": "25c0cd4b",
   "metadata": {},
   "outputs": [],
   "source": [
    "# 로버스트 스케일링을 하기 위해서 import 한다.\n",
    "from sklearn.preprocessing import RobustScaler"
   ]
  },
  {
   "cell_type": "code",
   "execution_count": 35,
   "id": "415a939e",
   "metadata": {},
   "outputs": [
    {
     "name": "stdout",
     "output_type": "stream",
     "text": [
      "[[ 1.16666667]\n",
      " [-0.33333333]\n",
      " [ 0.33333333]\n",
      " [-0.83333333]]\n"
     ]
    }
   ],
   "source": [
    "robust = RobustScaler() # 로버스트 스케일링 객체를 만든다.\n",
    "y = df8[['month_birth']]\n",
    "robust.fit(y)\n",
    "x_robust = robust.transform(y)\n",
    "print(x_robust)"
   ]
  },
  {
   "cell_type": "code",
   "execution_count": 36,
   "id": "4c05b9ec",
   "metadata": {},
   "outputs": [
    {
     "name": "stdout",
     "output_type": "stream",
     "text": [
      "[[ 1.16666667]\n",
      " [-0.33333333]\n",
      " [ 0.33333333]\n",
      " [-0.83333333]]\n"
     ]
    }
   ],
   "source": [
    "x_robust2 = robust.fit_transform(y)\n",
    "print(x_robust2)"
   ]
  },
  {
   "cell_type": "markdown",
   "id": "52b13f5a",
   "metadata": {},
   "source": [
    "최소-최대 스케일링(min-max scaling)  \n",
    "최소-최대 스케일링은 데이터 값의 범위를 최소값(0)과 최대값(1) 사이의 값으로 범위를 제한한다.\n",
    "\n",
    "$$\\frac{x_i - min(x)}{max(x) - min(x)}$$"
   ]
  },
  {
   "cell_type": "code",
   "execution_count": 37,
   "id": "5578552c",
   "metadata": {},
   "outputs": [],
   "source": [
    "# 최소-최대 스케일링을 하기 위해서 import 한다.\n",
    "from sklearn.preprocessing import MinMaxScaler"
   ]
  },
  {
   "cell_type": "code",
   "execution_count": 38,
   "id": "a85901d8",
   "metadata": {},
   "outputs": [
    {
     "name": "stdout",
     "output_type": "stream",
     "text": [
      "[[1.        ]\n",
      " [0.25      ]\n",
      " [0.58333333]\n",
      " [0.        ]]\n"
     ]
    }
   ],
   "source": [
    "minmax = MinMaxScaler() # 최소-최대 스케일링 객체를 만든다.\n",
    "y = df8[['month_birth']]\n",
    "minmax.fit(y)\n",
    "x_minmax = minmax.transform(y)\n",
    "print(x_minmax)"
   ]
  },
  {
   "cell_type": "code",
   "execution_count": 39,
   "id": "78ac95c0",
   "metadata": {},
   "outputs": [
    {
     "name": "stdout",
     "output_type": "stream",
     "text": [
      "[[1.        ]\n",
      " [0.25      ]\n",
      " [0.58333333]\n",
      " [0.        ]]\n"
     ]
    }
   ],
   "source": [
    "x_minmax2 = minmax.fit_transform(y)\n",
    "print(x_minmax2)"
   ]
  },
  {
   "cell_type": "markdown",
   "id": "ea3b17aa",
   "metadata": {},
   "source": [
    "노멀 스케일링(normalizer scaling)  \n",
    "노멀 스케일링은 벡터의 유클라디안 거리가 1이 되도록 데이터 값을 변경한다.  \n",
    "노멀 스케일링은 주로 벡터의 길이는 상관없고 방향(각도)만 고려할 때 사용한다.  \n",
    "표준화, 로버스트, 최소-최대 스케일링은 열 기준인 것과 다르게 노멀 스케일링은 행 기준이다.\n",
    "\n",
    "$$\\frac{x_i}{\\sqrt{x_i^2 + y_i^2 + z_i^2}}$$"
   ]
  },
  {
   "cell_type": "code",
   "execution_count": 40,
   "id": "cad034ae",
   "metadata": {},
   "outputs": [],
   "source": [
    "# 노멀 스케일링을 하기 위해서 import 한다.\n",
    "from sklearn.preprocessing import Normalizer"
   ]
  },
  {
   "cell_type": "code",
   "execution_count": 41,
   "id": "fe6feed9",
   "metadata": {},
   "outputs": [
    {
     "name": "stdout",
     "output_type": "stream",
     "text": [
      "[[0.96152395 0.27472113]\n",
      " [0.99634665 0.08540114]\n",
      " [0.         1.        ]\n",
      " [0.         0.        ]]\n"
     ]
    }
   ],
   "source": [
    "normal = Normalizer() # 최소-최대 스케일링 객체를 만든다.\n",
    "y = df8[['age', 'month_birth']]\n",
    "normal.fit(y)\n",
    "x_normal = normal.transform(y)\n",
    "print(x_normal)"
   ]
  },
  {
   "cell_type": "code",
   "execution_count": 42,
   "id": "dc61671d",
   "metadata": {},
   "outputs": [
    {
     "name": "stdout",
     "output_type": "stream",
     "text": [
      "[[0.96152395 0.27472113]\n",
      " [0.99634665 0.08540114]\n",
      " [0.         1.        ]\n",
      " [0.         0.        ]]\n"
     ]
    }
   ],
   "source": [
    "x_normal2 = normal.fit_transform(y)\n",
    "print(x_normal2)"
   ]
  },
  {
   "cell_type": "markdown",
   "id": "af33611c",
   "metadata": {},
   "source": [
    "데이터 스케일링 과정에서 fit() 메소드는 트레이닝 데이터셋에 대해서만 사용하며, 테스트 데이터셋에는 fit() 메소드를 사용하지 않고 transform() 메소드만 사용한다. 그 이유는 데이터 스케일러는 트레이닝 데이터를 기반으로 만들기 때문이다.\n",
    "\n",
    "from sklearn.preprocessing import StandardScaler\n",
    "\n",
    "stand_scale = StandardScaler()  \n",
    "x_train_std = stand_scale.fit_transform(x_train) # 트레이닝 데이터셋  \n",
    "x_test_std = stand_scale.transform(x_test) # 테스트 데이터셋\n",
    "\n",
    "만약에 stand_scale.transform(x_test)이 아닌 stand_scale.fit_transform(x_test)를 사용하면 테스트 데이터의 평균, 표준 편차를 이용해 스케일링을 적용하므로 트레이닝 데이터를 이용해 생성했던 스케일링 범위 및 파이리터가 달라진다."
   ]
  },
  {
   "cell_type": "code",
   "execution_count": null,
   "id": "299a9e0a",
   "metadata": {},
   "outputs": [],
   "source": []
  }
 ],
 "metadata": {
  "kernelspec": {
   "display_name": "py37",
   "language": "python",
   "name": "py37"
  },
  "language_info": {
   "codemirror_mode": {
    "name": "ipython",
    "version": 3
   },
   "file_extension": ".py",
   "mimetype": "text/x-python",
   "name": "python",
   "nbconvert_exporter": "python",
   "pygments_lexer": "ipython3",
   "version": "3.7.16"
  }
 },
 "nbformat": 4,
 "nbformat_minor": 5
}
