{
 "cells": [
  {
   "cell_type": "markdown",
   "id": "32e28071",
   "metadata": {},
   "source": [
    "진법 변환\n",
    "\n",
    "<img src=\"./images/convert.png\" align=\"left\" width=\"800\" title=\"진법 변환 이미지\"/>"
   ]
  },
  {
   "cell_type": "markdown",
   "id": "0665fca2",
   "metadata": {},
   "source": [
    "10진수를 2진수로: 26 => 11010<sub>2</sub>"
   ]
  },
  {
   "cell_type": "code",
   "execution_count": null,
   "id": "c2009caf",
   "metadata": {},
   "outputs": [],
   "source": []
  },
  {
   "cell_type": "code",
   "execution_count": null,
   "id": "15bed3d9",
   "metadata": {},
   "outputs": [],
   "source": []
  }
 ],
 "metadata": {
  "kernelspec": {
   "display_name": "Python 3",
   "language": "python",
   "name": "python3"
  },
  "language_info": {
   "codemirror_mode": {
    "name": "ipython",
    "version": 3
   },
   "file_extension": ".py",
   "mimetype": "text/x-python",
   "name": "python",
   "nbconvert_exporter": "python",
   "pygments_lexer": "ipython3",
   "version": "3.6.8"
  }
 },
 "nbformat": 4,
 "nbformat_minor": 5
}
