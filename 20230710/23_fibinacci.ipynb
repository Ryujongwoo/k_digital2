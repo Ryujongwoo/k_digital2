{
 "cells": [
  {
   "cell_type": "markdown",
   "id": "ce87e9df",
   "metadata": {},
   "source": [
    "<img src=\"./images/fibonacci.png\" align=\"left\" width=\"800\" title=\"피보나치 수열 이미지\"/>"
   ]
  },
  {
   "cell_type": "markdown",
   "id": "1efb5439",
   "metadata": {},
   "source": [
    "<img src=\"./images/fibonacci2.png\" align=\"left\" width=\"1000\" title=\"피보나치 수열 이미지\"/>"
   ]
  },
  {
   "cell_type": "code",
   "execution_count": 1,
   "id": "39c7cd0a",
   "metadata": {},
   "outputs": [
    {
     "name": "stdout",
     "output_type": "stream",
     "text": [
      "피보나치 수열의 합계를 계산할 항을 입력하세요: 5\n",
      "피보나치 수열 5번째 항 까지의 합계: 12\n"
     ]
    }
   ],
   "source": [
    "a = 1 # 1번째 항 초기화, 피보나치 수열의 n-2번째 항의 값\n",
    "b = 1 # 2번째 항 초기화, 피보나치 수열의 n-1번째 항의 값\n",
    "y = 2 # 1번째 항과 2번째 항의 합계 => n번째 항 까지의 피보나치 수열의 합계를 기억할 변수\n",
    "\n",
    "# 피보나치 수열의 합계를 계산할 항(n)을 입력받는다.\n",
    "n = int(input('피보나치 수열의 합계를 계산할 항을 입력하세요: '))\n",
    "\n",
    "# 1번째 항과 2번째 항은 이미 합계가 계산되었다는 가정하에 작업을 시작하므로 3번째 항 부터 n번째 항까지 반복하며\n",
    "# 합계를 계산한다.\n",
    "for k in range(3, n + 1):\n",
    "    c = a + b # k번째 항의 피보나치 수를 계산한다.\n",
    "    y += c # k번째 항까지 피보나치 수열의 합계를 계산한다.\n",
    "    # 다음 항의 값을 계산하기 위해 현재 반복의 n-1 번째 항의 값(b)을 다음 반복의 n-2 번째 항의 값(a)에 넣어준다.\n",
    "    a = b\n",
    "    # 다음 항의 값을 계산하기 위해 현재 반복의 n 번째 항의 값(c)을 다음 반복의 n-1 번째 항의 값(b)에 넣어준다.\n",
    "    b = c\n",
    "# ===== for\n",
    "print(f'피보나치 수열 {n}번째 항 까지의 합계: {y}')"
   ]
  },
  {
   "cell_type": "code",
   "execution_count": 2,
   "id": "6f57b31d",
   "metadata": {},
   "outputs": [
    {
     "name": "stdout",
     "output_type": "stream",
     "text": [
      "피보나치 수열의 합계를 계산할 항을 입력하세요: 8\n",
      "피보나치 수열 8번째 항 까지의 합계: 54 = [1, 1, 2, 3, 5, 8, 13, 21]\n"
     ]
    }
   ],
   "source": [
    "# 피보나치 수열의 1번째 항과 2번째 항의 값으로 초기화된 리스트를 만든다. => 3번째 항 부터의 값을 추가한다.\n",
    "f = [1, 1]\n",
    "n = int(input('피보나치 수열의 합계를 계산할 항을 입력하세요: '))\n",
    "for k in range(3, n + 1):\n",
    "    f.append(f[k - 3] + f[k - 2])\n",
    "print(f'피보나치 수열 {n}번째 항 까지의 합계: {sum(f)} = {f}')"
   ]
  },
  {
   "cell_type": "code",
   "execution_count": 3,
   "id": "aad50fb0",
   "metadata": {},
   "outputs": [
    {
     "name": "stdout",
     "output_type": "stream",
     "text": [
      "피보나치 수열 8번째 항 까지의 합계: 54 = 1 + 1 + 2 + 3 + 5 + 8 + 13 + 21\n"
     ]
    }
   ],
   "source": [
    "# 피보나치 수열 8번째 항 까지의 합계: 54 = 1 + 1 + 2 + 3 + 5 + 8 + 13 + 21\n",
    "print(f'피보나치 수열 {n}번째 항 까지의 합계: {sum(f)} = ', end='')\n",
    "for i in range(len(f) - 1):\n",
    "    print(f[i], end=' + ')\n",
    "print(f[-1])"
   ]
  },
  {
   "cell_type": "code",
   "execution_count": 4,
   "id": "ba57403f",
   "metadata": {},
   "outputs": [
    {
     "name": "stdout",
     "output_type": "stream",
     "text": [
      "피보나치 수열 8번째 항 까지의 합계: 54 = 1 + 1 + 2 + 3 + 5 + 8 + 13 + 21"
     ]
    }
   ],
   "source": [
    "print(f'피보나치 수열 {n}번째 항 까지의 합계: {sum(f)} = ', end='')\n",
    "for i in range(len(f)):\n",
    "    if i > 0:\n",
    "        print(' + ', end='')\n",
    "    print(f[i], end='')"
   ]
  },
  {
   "cell_type": "code",
   "execution_count": 5,
   "id": "07a9f786",
   "metadata": {},
   "outputs": [
    {
     "name": "stdout",
     "output_type": "stream",
     "text": [
      "피보나치 수열 8번째 항 까지의 합계: 54 = 1 + 1 + 2 + 3 + 5 + 8 + 13 + 21\n",
      "피보나치 수열 8번째 항 까지의 합계: 54 = 1 + 1 + 2 + 3 + 5 + 8 + 13 + 21\n"
     ]
    }
   ],
   "source": [
    "# p = []\n",
    "# for i in range(len(f)):\n",
    "    # p.append(str(f[i]))\n",
    "# p = [str(f[i]) for i in range(len(f))]\n",
    "p = [str(i) for i in f]\n",
    "print(f'피보나치 수열 {n}번째 항 까지의 합계: {sum(f)} = {\" + \".join(p)}')\n",
    "print('피보나치 수열 {}번째 항 까지의 합계: {} = {}'.format(n, sum(f), ' + '.join(p)))"
   ]
  },
  {
   "cell_type": "code",
   "execution_count": 6,
   "id": "f31579e0",
   "metadata": {},
   "outputs": [
    {
     "name": "stdout",
     "output_type": "stream",
     "text": [
      "피보나치 수열 8번째 항 까지의 합계: 54 = 1 + 1 + 2 + 3 + 5 + 8 + 13 + 21\n"
     ]
    }
   ],
   "source": [
    "print(f'피보나치 수열 {n}번째 항 까지의 합계: {sum(f)} = ', end='')\n",
    "for i in range(len(f)):\n",
    "     print(f[i], end=' + ' if i < len(f) - 1 else '\\n')"
   ]
  },
  {
   "cell_type": "code",
   "execution_count": null,
   "id": "13ef0ef8",
   "metadata": {},
   "outputs": [],
   "source": []
  }
 ],
 "metadata": {
  "kernelspec": {
   "display_name": "Python 3",
   "language": "python",
   "name": "python3"
  },
  "language_info": {
   "codemirror_mode": {
    "name": "ipython",
    "version": 3
   },
   "file_extension": ".py",
   "mimetype": "text/x-python",
   "name": "python",
   "nbconvert_exporter": "python",
   "pygments_lexer": "ipython3",
   "version": "3.6.8"
  }
 },
 "nbformat": 4,
 "nbformat_minor": 5
}
