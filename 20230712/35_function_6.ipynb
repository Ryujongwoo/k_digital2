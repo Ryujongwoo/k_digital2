{
 "cells": [
  {
   "cell_type": "markdown",
   "id": "eea3af24",
   "metadata": {},
   "source": [
    "넘겨받은 인수를 딕셔너리 형태로 변환하는 함수 => 디셔너리 변환 인자는 '**변수이름' 형태로 표현한다."
   ]
  },
  {
   "cell_type": "code",
   "execution_count": 3,
   "id": "24d31449",
   "metadata": {},
   "outputs": [],
   "source": [
    "def func8(**args):\n",
    "    print(type(args))\n",
    "    print(args)"
   ]
  },
  {
   "cell_type": "code",
   "execution_count": 4,
   "id": "69aa6625",
   "metadata": {},
   "outputs": [
    {
     "name": "stdout",
     "output_type": "stream",
     "text": [
      "<class 'dict'>\n",
      "{}\n"
     ]
    }
   ],
   "source": [
    "func8()"
   ]
  },
  {
   "cell_type": "code",
   "execution_count": 7,
   "id": "bb1bae16",
   "metadata": {},
   "outputs": [
    {
     "name": "stdout",
     "output_type": "stream",
     "text": [
      "<class 'dict'>\n",
      "{'apple': 1000}\n"
     ]
    }
   ],
   "source": [
    "# '**변수이름' 형태로 인수를 사용하는 함수에는 key와 key에 할당할 value를 'key=value' 형태로 전달한다.\n",
    "# func8(1000) # 'key=value' 형태로 인수를 전달하지 않아서 에러가 발생된다.\n",
    "func8(apple=1000)"
   ]
  },
  {
   "cell_type": "code",
   "execution_count": 9,
   "id": "d9b8ec61",
   "metadata": {},
   "outputs": [
    {
     "name": "stdout",
     "output_type": "stream",
     "text": [
      "<class 'dict'>\n",
      "{'apple': 1000, 'water_melon': 20000}\n"
     ]
    }
   ],
   "source": [
    "func8(apple=1000, water_melon=20000)"
   ]
  },
  {
   "cell_type": "code",
   "execution_count": null,
   "id": "f8b3c0cf",
   "metadata": {},
   "outputs": [],
   "source": []
  }
 ],
 "metadata": {
  "kernelspec": {
   "display_name": "Python 3",
   "language": "python",
   "name": "python3"
  },
  "language_info": {
   "codemirror_mode": {
    "name": "ipython",
    "version": 3
   },
   "file_extension": ".py",
   "mimetype": "text/x-python",
   "name": "python",
   "nbconvert_exporter": "python",
   "pygments_lexer": "ipython3",
   "version": "3.6.8"
  }
 },
 "nbformat": 4,
 "nbformat_minor": 5
}
