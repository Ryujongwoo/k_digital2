{
 "cells": [
  {
   "cell_type": "markdown",
   "id": "97887250",
   "metadata": {},
   "source": [
    "디폴트 인수를 사용하는 함수로 가변 인자를 가지는 함수를 흉내낼 수 있지만 인수의 개수가 많아지면 비효율적이다."
   ]
  },
  {
   "cell_type": "code",
   "execution_count": 16,
   "id": "b1f814c4",
   "metadata": {},
   "outputs": [],
   "source": [
    "def func6(a = 0, b = 0, c = 0, d = 0, e = 0, f = 0, g = 0):\n",
    "    print('{}'.format(a + b + c + d + e + f + g))"
   ]
  },
  {
   "cell_type": "code",
   "execution_count": 22,
   "id": "b98794ee",
   "metadata": {},
   "outputs": [
    {
     "name": "stdout",
     "output_type": "stream",
     "text": [
      "0\n",
      "1\n",
      "3\n",
      "6\n",
      "10\n",
      "15\n",
      "21\n",
      "28\n"
     ]
    },
    {
     "ename": "TypeError",
     "evalue": "func6() takes from 0 to 7 positional arguments but 8 were given",
     "output_type": "error",
     "traceback": [
      "\u001b[1;31m---------------------------------------------------------------------------\u001b[0m",
      "\u001b[1;31mTypeError\u001b[0m                                 Traceback (most recent call last)",
      "\u001b[1;32m<ipython-input-22-6f308b5ffca2>\u001b[0m in \u001b[0;36m<module>\u001b[1;34m\u001b[0m\n\u001b[0;32m      7\u001b[0m \u001b[0mfunc6\u001b[0m\u001b[1;33m(\u001b[0m\u001b[1;36m1\u001b[0m\u001b[1;33m,\u001b[0m \u001b[1;36m2\u001b[0m\u001b[1;33m,\u001b[0m \u001b[1;36m3\u001b[0m\u001b[1;33m,\u001b[0m \u001b[1;36m4\u001b[0m\u001b[1;33m,\u001b[0m \u001b[1;36m5\u001b[0m\u001b[1;33m,\u001b[0m \u001b[1;36m6\u001b[0m\u001b[1;33m)\u001b[0m\u001b[1;33m\u001b[0m\u001b[1;33m\u001b[0m\u001b[0m\n\u001b[0;32m      8\u001b[0m \u001b[0mfunc6\u001b[0m\u001b[1;33m(\u001b[0m\u001b[1;36m1\u001b[0m\u001b[1;33m,\u001b[0m \u001b[1;36m2\u001b[0m\u001b[1;33m,\u001b[0m \u001b[1;36m3\u001b[0m\u001b[1;33m,\u001b[0m \u001b[1;36m4\u001b[0m\u001b[1;33m,\u001b[0m \u001b[1;36m5\u001b[0m\u001b[1;33m,\u001b[0m \u001b[1;36m6\u001b[0m\u001b[1;33m,\u001b[0m \u001b[1;36m7\u001b[0m\u001b[1;33m)\u001b[0m\u001b[1;33m\u001b[0m\u001b[1;33m\u001b[0m\u001b[0m\n\u001b[1;32m----> 9\u001b[1;33m \u001b[0mfunc6\u001b[0m\u001b[1;33m(\u001b[0m\u001b[1;36m1\u001b[0m\u001b[1;33m,\u001b[0m \u001b[1;36m2\u001b[0m\u001b[1;33m,\u001b[0m \u001b[1;36m3\u001b[0m\u001b[1;33m,\u001b[0m \u001b[1;36m4\u001b[0m\u001b[1;33m,\u001b[0m \u001b[1;36m5\u001b[0m\u001b[1;33m,\u001b[0m \u001b[1;36m6\u001b[0m\u001b[1;33m,\u001b[0m \u001b[1;36m7\u001b[0m\u001b[1;33m,\u001b[0m \u001b[1;36m8\u001b[0m\u001b[1;33m)\u001b[0m \u001b[1;31m# 8때문에 에러\u001b[0m\u001b[1;33m\u001b[0m\u001b[1;33m\u001b[0m\u001b[0m\n\u001b[0m",
      "\u001b[1;31mTypeError\u001b[0m: func6() takes from 0 to 7 positional arguments but 8 were given"
     ]
    }
   ],
   "source": [
    "func6()\n",
    "func6(1)\n",
    "func6(1, 2)\n",
    "func6(1, 2, 3)\n",
    "func6(1, 2, 3, 4)\n",
    "func6(1, 2, 3, 4, 5)\n",
    "func6(1, 2, 3, 4, 5, 6)\n",
    "func6(1, 2, 3, 4, 5, 6, 7)\n",
    "func6(1, 2, 3, 4, 5, 6, 7, 8) # 8때문에 에러"
   ]
  },
  {
   "cell_type": "markdown",
   "id": "4d8e66fe",
   "metadata": {},
   "source": [
    "가변 인자를 사용하는 함수"
   ]
  },
  {
   "cell_type": "code",
   "execution_count": 52,
   "id": "9bb94f79",
   "metadata": {},
   "outputs": [],
   "source": [
    "# 가변 인자는 '*변수이름' 형태로 표현한다. => 가변 인자는 넘어오는 데이터를 튜플로 받는다.\n",
    "# 가변 인자를 사용하면 가변 인자에 할당해야 할 메모리 크기를 모르기 때문에 인수 목록의 맨 마지막에 딱 1번만 사용한다.\n",
    "def func7(*args):\n",
    "    # print(type(args))\n",
    "    # print(args)\n",
    "    total = 0\n",
    "    for arg in args:\n",
    "        total += arg\n",
    "    print(total)"
   ]
  },
  {
   "cell_type": "code",
   "execution_count": 54,
   "id": "6f5cd2a0",
   "metadata": {},
   "outputs": [
    {
     "name": "stdout",
     "output_type": "stream",
     "text": [
      "0\n",
      "1\n",
      "3\n",
      "6\n",
      "10\n",
      "15\n",
      "21\n",
      "28\n",
      "36\n"
     ]
    }
   ],
   "source": [
    "func7()\n",
    "func7(1)\n",
    "func7(1, 2)\n",
    "func7(1, 2, 3)\n",
    "func7(1, 2, 3, 4)\n",
    "func7(1, 2, 3, 4, 5)\n",
    "func7(1, 2, 3, 4, 5, 6)\n",
    "func7(1, 2, 3, 4, 5, 6, 7)\n",
    "func7(1, 2, 3, 4, 5, 6, 7, 8)"
   ]
  },
  {
   "cell_type": "code",
   "execution_count": 56,
   "id": "6e91eb51",
   "metadata": {},
   "outputs": [],
   "source": [
    "# def func7(*args1, *args2) => 함수 선언시 가변 인자가 2번 이상 사용되었으므로 선언시 에러가 발생된다.  \n",
    "# def func7(*args1, a) => 함수를 호출할 때 func7(a = 100) 형태로 a에 전달될 값을 지정하지 않으면 에러가 발생된다.\n",
    "# def func7(a, *args1) => 함수를 호출할 때 첫 번째 인수가 a에 전달되고 나머지 데이터가 가변 인자로 전달된다."
   ]
  },
  {
   "cell_type": "code",
   "execution_count": null,
   "id": "eca01606",
   "metadata": {},
   "outputs": [],
   "source": []
  },
  {
   "cell_type": "code",
   "execution_count": null,
   "id": "63d12a2c",
   "metadata": {},
   "outputs": [],
   "source": []
  },
  {
   "cell_type": "code",
   "execution_count": null,
   "id": "033ee65c",
   "metadata": {},
   "outputs": [],
   "source": []
  },
  {
   "cell_type": "code",
   "execution_count": null,
   "id": "4b853642",
   "metadata": {},
   "outputs": [],
   "source": []
  },
  {
   "cell_type": "code",
   "execution_count": null,
   "id": "9c6dfa8b",
   "metadata": {},
   "outputs": [],
   "source": []
  }
 ],
 "metadata": {
  "kernelspec": {
   "display_name": "Python 3",
   "language": "python",
   "name": "python3"
  },
  "language_info": {
   "codemirror_mode": {
    "name": "ipython",
    "version": 3
   },
   "file_extension": ".py",
   "mimetype": "text/x-python",
   "name": "python",
   "nbconvert_exporter": "python",
   "pygments_lexer": "ipython3",
   "version": "3.6.8"
  }
 },
 "nbformat": 4,
 "nbformat_minor": 5
}
