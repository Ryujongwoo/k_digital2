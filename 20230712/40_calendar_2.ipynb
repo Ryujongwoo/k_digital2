{
 "cells": [
  {
   "cell_type": "markdown",
   "id": "87fa6a94",
   "metadata": {},
   "source": [
    "모듈 import\n",
    "\n",
    "사용자가 만든 파이썬 파일을 import 시켜서 사용할 수 있다.  \n",
    "import 할 모듈의 이름은 반드시 문자로 시작해야 하고 현재 작성중인 소스 파일와 이름이 같으면 안된다."
   ]
  },
  {
   "cell_type": "code",
   "execution_count": 1,
   "id": "16329ea3",
   "metadata": {},
   "outputs": [],
   "source": [
    "# calendarModule.py의 모든 함수가 import 된다.\n",
    "import calendarModule"
   ]
  },
  {
   "cell_type": "markdown",
   "id": "2b6b7935",
   "metadata": {},
   "source": [
    "import된 모듈의 함수를 실행하려면 모듈이름.함수이름() 형태로 실행한다."
   ]
  },
  {
   "cell_type": "code",
   "execution_count": 3,
   "id": "6984d685",
   "metadata": {},
   "outputs": [
    {
     "name": "stdout",
     "output_type": "stream",
     "text": [
      "달력을 출력할 년과 월을 입력하세요: 2023 7\n",
      "============================\n",
      "         2023년 7월\n",
      "============================\n",
      " 일  월  화  수  목  금  토 \n",
      "============================\n",
      "                          1 \n",
      "  2   3   4   5   6   7   8 \n",
      "  9  10  11  12  13  14  15 \n",
      " 16  17  18  19  20  21  22 \n",
      " 23  24  25  26  27  28  29 \n",
      " 30  31 \n",
      "============================\n"
     ]
    }
   ],
   "source": [
    "# 달력을 출력할 년, 월을 입력받는다.\n",
    "year, month = map(int, input('달력을 출력할 년과 월을 입력하세요: ').split())\n",
    "\n",
    "print('=' * 28)\n",
    "print('         {:4d}년{:2d}월'.format(year, month))\n",
    "print('=' * 28)\n",
    "print(' 일  월  화  수  목  금  토 ')\n",
    "print('=' * 28)\n",
    "\n",
    "# 1일이 출력될 위치(요일)을 맞추기 위해서 1일의 요일만큼 반복하며 빈 칸을 출력한다. => 빈 칸은 요일당 4칸\n",
    "for _ in range(calendarModule.weekDay(year, month, 1)):\n",
    "    print('    ', end='')\n",
    "    \n",
    "# 1일부터 달력을 출력할 달의 마지막 날짜까지 반복하며 날짜를 출력한다.\n",
    "for i in range(1, calendarModule.lastDay(year, month) + 1):\n",
    "    print(' {:2d} '.format(i), end='')\n",
    "    # 출력한 날짜(i)가 토요일이고 그 달의 마지막 날짜가 아니면 줄을 바꾼다.\n",
    "    if calendarModule.weekDay(year, month, i) == 6 and i != calendarModule.lastDay(year, month):\n",
    "        print()\n",
    "    # ===== if\n",
    "# ===== for\n",
    "print('\\n' + '=' * 28)"
   ]
  },
  {
   "cell_type": "code",
   "execution_count": null,
   "id": "a5ddc131",
   "metadata": {},
   "outputs": [],
   "source": []
  },
  {
   "cell_type": "code",
   "execution_count": null,
   "id": "a1cfdc9c",
   "metadata": {},
   "outputs": [],
   "source": []
  },
  {
   "cell_type": "code",
   "execution_count": null,
   "id": "3c8d0a23",
   "metadata": {},
   "outputs": [],
   "source": []
  },
  {
   "cell_type": "code",
   "execution_count": null,
   "id": "9d4f8eb2",
   "metadata": {},
   "outputs": [],
   "source": []
  },
  {
   "cell_type": "code",
   "execution_count": null,
   "id": "1d429b26",
   "metadata": {},
   "outputs": [],
   "source": []
  },
  {
   "cell_type": "code",
   "execution_count": null,
   "id": "ab430505",
   "metadata": {},
   "outputs": [],
   "source": []
  },
  {
   "cell_type": "code",
   "execution_count": null,
   "id": "83a62416",
   "metadata": {},
   "outputs": [],
   "source": []
  }
 ],
 "metadata": {
  "kernelspec": {
   "display_name": "Python 3",
   "language": "python",
   "name": "python3"
  },
  "language_info": {
   "codemirror_mode": {
    "name": "ipython",
    "version": 3
   },
   "file_extension": ".py",
   "mimetype": "text/x-python",
   "name": "python",
   "nbconvert_exporter": "python",
   "pygments_lexer": "ipython3",
   "version": "3.6.8"
  }
 },
 "nbformat": 4,
 "nbformat_minor": 5
}
