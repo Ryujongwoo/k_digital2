{
 "cells": [
  {
   "cell_type": "code",
   "execution_count": 1,
   "id": "80d0d5d3",
   "metadata": {},
   "outputs": [],
   "source": [
    "import warnings\n",
    "warnings.filterwarnings(action='ignore')\n",
    "%config Completer.use_jedi = False\n",
    "from bs4 import BeautifulSoup\n",
    "from selenium import webdriver\n",
    "from selenium.webdriver.chrome.options import Options\n",
    "import time"
   ]
  },
  {
   "cell_type": "code",
   "execution_count": 2,
   "id": "fbc6c47d",
   "metadata": {
    "scrolled": false
   },
   "outputs": [
    {
     "name": "stdout",
     "output_type": "stream",
     "text": [
      "1519\n",
      "텍스트 파일로 저장완료\n"
     ]
    }
   ],
   "source": [
    "option = Options()\n",
    "option.add_argument('--window-size=1890,1030')\n",
    "driver = webdriver.Chrome('./chromedriver.exe', options=option)\n",
    "driver.implicitly_wait(5)\n",
    "\n",
    "driver.get('https://comic.naver.com/webtoon/detail?titleId=812354&no=22')\n",
    "html = driver.page_source\n",
    "soup = BeautifulSoup(html, 'html.parser')\n",
    "\n",
    "driver.find_element_by_css_selector('#cbox_module_wai_u_cbox_sort_option_tab2').click()\n",
    "time.sleep(1)\n",
    "\n",
    "while True:\n",
    "    try:\n",
    "        driver.find_element_by_xpath('//*[@id=\"cbox_module\"]/div/div[7]/a').click()\n",
    "        time.sleep(0.5)\n",
    "    except:\n",
    "        break\n",
    "        \n",
    "html = driver.page_source\n",
    "soup = BeautifulSoup(html, 'html.parser')\n",
    "\n",
    "replys = soup.select('#cbox_module_wai_u_cbox_content_wrap_tabpanel div.u_cbox_comment_box span.u_cbox_contents')\n",
    "print(len(replys))\n",
    "\n",
    "# 파일을 쓰기용으로 open 한다.\n",
    "file = open('review.txt', 'w', -1, 'utf-8')\n",
    "for reply in replys:\n",
    "    # print(reply.text.split('\\n'))\n",
    "    file.write(reply.text + '\\n')\n",
    "file.close()\n",
    "print('텍스트 파일로 저장완료')"
   ]
  },
  {
   "cell_type": "code",
   "execution_count": null,
   "id": "3de0e8c2",
   "metadata": {},
   "outputs": [],
   "source": []
  }
 ],
 "metadata": {
  "kernelspec": {
   "display_name": "Python 3 (ipykernel)",
   "language": "python",
   "name": "python3"
  },
  "language_info": {
   "codemirror_mode": {
    "name": "ipython",
    "version": 3
   },
   "file_extension": ".py",
   "mimetype": "text/x-python",
   "name": "python",
   "nbconvert_exporter": "python",
   "pygments_lexer": "ipython3",
   "version": "3.7.16"
  }
 },
 "nbformat": 4,
 "nbformat_minor": 5
}
