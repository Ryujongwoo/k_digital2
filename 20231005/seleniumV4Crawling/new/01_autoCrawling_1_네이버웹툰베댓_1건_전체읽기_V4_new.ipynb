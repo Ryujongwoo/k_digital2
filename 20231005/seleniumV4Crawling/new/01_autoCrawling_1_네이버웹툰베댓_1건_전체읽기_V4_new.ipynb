{
 "cells": [
  {
   "cell_type": "code",
   "execution_count": 1,
   "id": "45d59330",
   "metadata": {},
   "outputs": [],
   "source": [
    "import warnings\n",
    "warnings.filterwarnings(action='ignore')\n",
    "%config Completer.use_jedi = False\n",
    "from bs4 import BeautifulSoup\n",
    "from selenium import webdriver\n",
    "from selenium.webdriver.chrome.options import Options"
   ]
  },
  {
   "cell_type": "code",
   "execution_count": 6,
   "id": "0bfac7eb",
   "metadata": {},
   "outputs": [
    {
     "name": "stdout",
     "output_type": "stream",
     "text": [
      "냥군 어떻게 한거야 제발 알려줘\n",
      "================================================================================\n",
      "15\n",
      " 1. 냥군 어떻게 한거야 제발 알려줘\n",
      " 2. 한번도 힘든 앞자리 바꾸기를 두번이나\n",
      " 3. 어쨌든 앞자리 바뀌었네요\n",
      " 4. 대장내시경 미친\n",
      " 5. 아파요...\n",
      " 6. 이와중에 냥군 체중이 우와라고 써 있음ㅋㅋㅋ\n",
      " 7. 헬스장 수익의 9할은 기부금이라는 소문이 있다\n",
      " 8. 뭐야 다이어트 하던 기억을 잃은 환자한테 사진 보여주는 주치의야 뭐야\n",
      " 9. 대장 내시경 ㅋㅋㅋㅋㅋㅋㅋㅋㅋㅋㅋㅋ 획기적인 방법이네요...\n",
      "10. ???: 어떻게 하면 수능 만점을 받을 수 있죠????: 교과서 위주로 공부했어요\n",
      "11. 사람 현실몸은 포샵 못 하고 사람 눈엔 필터 못 끼워요\n",
      "12. 팩폭다발구역입니다\n",
      "13. 미국 미신중에 신부의 드레스차림을 예식 전에 보면 부정탄다는 게 있어서 본식때나 그 모습을 볼 수 있다던데... 신부 입장 하자마자 냅다 우는 남편들 영상 귀여워\n",
      "14. 먹는데 돈을 얼마나 들였는데, 이걸 다 빼라고요?\n",
      "15. 무리하면 이제 다음날부터 운동 거들떠도 보기 싫어짐....\n"
     ]
    }
   ],
   "source": [
    "option = Options()\n",
    "option.add_argument('--window-size=1890,1030')\n",
    "driver = webdriver.Chrome('./chromedriver.exe', options=option)\n",
    "driver.implicitly_wait(5)\n",
    "driver.get('https://comic.naver.com/webtoon/detail?titleId=812354&no=22')\n",
    "\n",
    "html = driver.page_source\n",
    "soup = BeautifulSoup(html, 'html.parser')\n",
    "review = soup.select_one('#cbox_module_wai_u_cbox_content_wrap_tabpanel > ul > li.u_cbox_comment.cbox_module__comment_458371111._user_id_no_e0RsP > div.u_cbox_comment_box > div > div.u_cbox_text_wrap > span.u_cbox_contents')\n",
    "print(review.text)\n",
    "print('=' * 80)\n",
    "\n",
    "html = driver.page_source\n",
    "soup = BeautifulSoup(html, 'html.parser')\n",
    "reviews = soup.select('span.u_cbox_contents')\n",
    "print(len(reviews))\n",
    "for i in range(len(reviews)):\n",
    "    print('{:2d}. {}'.format(i + 1, reviews[i].text))"
   ]
  },
  {
   "cell_type": "code",
   "execution_count": null,
   "id": "203cddbd",
   "metadata": {},
   "outputs": [],
   "source": []
  }
 ],
 "metadata": {
  "kernelspec": {
   "display_name": "py37",
   "language": "python",
   "name": "py37"
  },
  "language_info": {
   "codemirror_mode": {
    "name": "ipython",
    "version": 3
   },
   "file_extension": ".py",
   "mimetype": "text/x-python",
   "name": "python",
   "nbconvert_exporter": "python",
   "pygments_lexer": "ipython3",
   "version": "3.7.16"
  }
 },
 "nbformat": 4,
 "nbformat_minor": 5
}
