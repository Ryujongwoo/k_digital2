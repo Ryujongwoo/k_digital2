{
 "cells": [
  {
   "cell_type": "code",
   "execution_count": 1,
   "id": "45ae4c81",
   "metadata": {},
   "outputs": [],
   "source": [
    "import warnings\n",
    "warnings.filterwarnings(action='ignore')\n",
    "%config Completer.use_jedi = False\n",
    "from bs4 import BeautifulSoup\n",
    "from selenium import webdriver\n",
    "from selenium.webdriver.chrome.options import Options\n",
    "from selenium.webdriver.common.by import By\n",
    "import time"
   ]
  },
  {
   "cell_type": "code",
   "execution_count": 2,
   "id": "e5ba46a6",
   "metadata": {
    "scrolled": false
   },
   "outputs": [
    {
     "name": "stdout",
     "output_type": "stream",
     "text": [
      "1518\n",
      "텍스트 파일로 저장완료\n"
     ]
    }
   ],
   "source": [
    "option = Options()\n",
    "option.add_argument('--window-size=1890,1030')\n",
    "driver = webdriver.Chrome('./chromedriver.exe', options=option)\n",
    "driver.implicitly_wait(5)\n",
    "\n",
    "driver.get('https://comic.naver.com/webtoon/detail?titleId=812354&no=22')\n",
    "html = driver.page_source\n",
    "soup = BeautifulSoup(html, 'html.parser')\n",
    "\n",
    "# 전체 댓글을 연다.\n",
    "# driver.find_element(By.XPATH, '//*[@id=\"cbox_module_wai_u_cbox_sort_option_tab2\"]').click()\n",
    "driver.find_element(By.CSS_SELECTOR, '#cbox_module_wai_u_cbox_sort_option_tab2').click()\n",
    "time.sleep(1)\n",
    "\n",
    "# 더보기 링크가 더 이상 나오지 않을때 까지 반복하며 댓글이 더보기 버튼을 클릭해서 댓글을 표시한다.\n",
    "while True:\n",
    "    try:\n",
    "        driver.find_element(By.XPATH, '//*[@id=\"cbox_module\"]/div/div[7]/a').click()\n",
    "        time.sleep(0.5)\n",
    "    except:\n",
    "        break\n",
    "\n",
    "html = driver.page_source\n",
    "soup = BeautifulSoup(html, 'html.parser')\n",
    "\n",
    "replys = soup.select('#cbox_module_wai_u_cbox_content_wrap_tabpanel div.u_cbox_comment_box span.u_cbox_contents')\n",
    "print(len(replys))\n",
    "file = open('./review.txt', 'w', -1, 'utf-8')\n",
    "for reply in replys:\n",
    "    # print(reply.text.split('\\n'))\n",
    "    file.write(reply.text + '\\n')\n",
    "file.close()\n",
    "print('텍스트 파일로 저장완료')"
   ]
  },
  {
   "cell_type": "code",
   "execution_count": null,
   "id": "4d852ce4",
   "metadata": {},
   "outputs": [],
   "source": []
  }
 ],
 "metadata": {
  "kernelspec": {
   "display_name": "py37",
   "language": "python",
   "name": "py37"
  },
  "language_info": {
   "codemirror_mode": {
    "name": "ipython",
    "version": 3
   },
   "file_extension": ".py",
   "mimetype": "text/x-python",
   "name": "python",
   "nbconvert_exporter": "python",
   "pygments_lexer": "ipython3",
   "version": "3.7.16"
  }
 },
 "nbformat": 4,
 "nbformat_minor": 5
}
