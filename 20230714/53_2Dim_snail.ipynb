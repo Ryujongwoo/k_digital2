{
 "cells": [
  {
   "cell_type": "markdown",
   "id": "8b348a82",
   "metadata": {},
   "source": [
    "<img src=\"./images/snail.png\" align=\"left\" width=\"800\"/>"
   ]
  },
  {
   "cell_type": "markdown",
   "id": "7de54e1f",
   "metadata": {},
   "source": [
    "<img src=\"./images/snail2.png\" align=\"left\" width=\"500\"/>"
   ]
  },
  {
   "cell_type": "code",
   "execution_count": 1,
   "id": "5ee581b9",
   "metadata": {},
   "outputs": [],
   "source": [
    "def pprint(data):\n",
    "    for i in range(len(data)):\n",
    "        for j in range(len(data[i])):\n",
    "            print('{:3d}'.format(data[i][j]), end=' ')\n",
    "        print() "
   ]
  },
  {
   "cell_type": "code",
   "execution_count": 4,
   "id": "1db621b3",
   "metadata": {},
   "outputs": [
    {
     "name": "stdout",
     "output_type": "stream",
     "text": [
      "  1   2   3   4   5 \n",
      " 16  17  18  19   6 \n",
      " 15  24  25  20   7 \n",
      " 14  23  22  21   8 \n",
      " 13  12  11  10   9 \n"
     ]
    }
   ],
   "source": [
    "a = [[0] * 5 for _ in range(5)]\n",
    "# pprint(a)\n",
    "n = 0 # 1에서 25까지 1씩 증가하는 변수\n",
    "s = 1 # 행과 열이 1또는 -1씩 증가 및 감소 처리에 사용하는 변수\n",
    "i = 0 # 행\n",
    "j = -1 # 열\n",
    "k = 5 # 숫자를 채우는 반복문 반복 횟수 제어에 사용하는 변수\n",
    "\n",
    "while True:\n",
    "    # 행 방향으로 숫자를 채운다.\n",
    "    for p in range(1, k + 1):\n",
    "        n += 1\n",
    "        j += s\n",
    "        a[i][j] = n\n",
    "    # ===== for p\n",
    "    # k를 1감소 시키고 조건에 만족하면 무한 루프를 탈출한다.\n",
    "    k -= 1\n",
    "    if k <= 0:\n",
    "        break\n",
    "    # ===== if\n",
    "    # 열 방향으로 숫자를 채운다.\n",
    "    for p in range(1, k + 1):\n",
    "        n += 1\n",
    "        i += s\n",
    "        a[i][j] = n\n",
    "    # ===== for p\n",
    "    s *= -1\n",
    "# ===== while\n",
    "\n",
    "pprint(a)"
   ]
  },
  {
   "cell_type": "code",
   "execution_count": 17,
   "id": "92e1a29e",
   "metadata": {},
   "outputs": [
    {
     "name": "stdout",
     "output_type": "stream",
     "text": [
      "2차원 리스트의 차수를 3이상인 홀수로 입력하세요: 5\n",
      "  1   2   3   4   5 \n",
      " 16  17  18  19   6 \n",
      " 15  24  25  20   7 \n",
      " 14  23  22  21   8 \n",
      " 13  12  11  10   9 \n"
     ]
    }
   ],
   "source": [
    "while True:\n",
    "    m = int(input('2차원 리스트의 차수를 3이상인 홀수로 입력하세요: '))\n",
    "    if m % 2 == 1 and m >= 3:\n",
    "        break\n",
    "    # ===== if\n",
    "    print('2차원 리스트의 차수는 3이상인 홀수로 입력해야 합니다.')\n",
    "# ===== while\n",
    "a = [[0] * m for _ in range(m)]\n",
    "n = 0; s = 1; i = 0; j = -1; k = m\n",
    "\n",
    "while True:\n",
    "    # 행 방향으로 숫자를 채운다.\n",
    "    for p in range(1, k + 1):\n",
    "        n += 1\n",
    "        j += s\n",
    "        a[i][j] = n\n",
    "    # ===== for p\n",
    "    # k를 1감소 시키고 조건에 만족하면 무한 루프를 탈출한다.\n",
    "    k -= 1\n",
    "    if k <= 0:\n",
    "        break\n",
    "    # ===== if\n",
    "    # 열 방향으로 숫자를 채운다.\n",
    "    for p in range(1, k + 1):\n",
    "        n += 1\n",
    "        i += s\n",
    "        a[i][j] = n\n",
    "    # ===== for p\n",
    "    s *= -1\n",
    "# ===== while\n",
    "\n",
    "pprint(a)"
   ]
  },
  {
   "cell_type": "code",
   "execution_count": 20,
   "id": "6e2aa2b4",
   "metadata": {},
   "outputs": [
    {
     "name": "stdout",
     "output_type": "stream",
     "text": [
      " 13  14  15  16  17 \n",
      " 12   3   4   5  18 \n",
      " 11   2   1   6  19 \n",
      " 10   9   8   7  20 \n",
      " 25  24  23  22  21 \n"
     ]
    }
   ],
   "source": [
    "a = [[0] * 5 for _ in range(5)]\n",
    "# 2차원 리스트의 정 가운데 위치에 1이 채워져있다는 가정을 하고 시작한다.\n",
    "i = 2; j = 2; n = 1; a[i][j] = n; s = 1\n",
    "k = 1 # 안쪽 부터 바깥쪽으로 숫자를 채우기 때문에 반복 횟수를 제어하는 변수는 1로 시작한다.\n",
    "flag = False # 마지막 숫자까지 채워졌나 확인하는 변수\n",
    "\n",
    "while True:\n",
    "    # k += 1 # 3시 방향부터 숫자를 채운다.\n",
    "    for p in range(1, k):\n",
    "        n += 1; j += s\n",
    "        if n > 25:\n",
    "            flag = True\n",
    "            break\n",
    "        a[i][j] = n\n",
    "    # ===== for p\n",
    "    # 반복문이 정상적으로 종료되면 flag 변수에 False가 저장되어있으므로 다음 반복을 진행하고\n",
    "    # 반복문이 break에의해 종료되면 flag 변수에 True가 저장되어 있으므로 프로그램을 종료한다.\n",
    "    if flag:\n",
    "        break;\n",
    "    # ===== if\n",
    "    for p in range(1, k):\n",
    "        n += 1; i += s\n",
    "        a[i][j] = n    \n",
    "    # ===== for p\n",
    "    s *= -1\n",
    "    k += 1 # 9시 방향부터 숫자를 채운다.\n",
    "# ===== while\n",
    "\n",
    "pprint(a)"
   ]
  },
  {
   "cell_type": "code",
   "execution_count": 26,
   "id": "52913c78",
   "metadata": {},
   "outputs": [
    {
     "name": "stdout",
     "output_type": "stream",
     "text": [
      "2차원 리스트의 차수를 3이상인 홀수로 입력하세요: 9\n",
      " 57  58  59  60  61  62  63  64  65 \n",
      " 56  31  32  33  34  35  36  37  66 \n",
      " 55  30  13  14  15  16  17  38  67 \n",
      " 54  29  12   3   4   5  18  39  68 \n",
      " 53  28  11   2   1   6  19  40  69 \n",
      " 52  27  10   9   8   7  20  41  70 \n",
      " 51  26  25  24  23  22  21  42  71 \n",
      " 50  49  48  47  46  45  44  43  72 \n",
      " 81  80  79  78  77  76  75  74  73 \n"
     ]
    }
   ],
   "source": [
    "while True:\n",
    "    m = int(input('2차원 리스트의 차수를 3이상인 홀수로 입력하세요: '))\n",
    "    if m % 2 == 1 and m >= 3:\n",
    "        break\n",
    "    # ===== if\n",
    "    print('2차원 리스트의 차수는 3이상인 홀수로 입력해야 합니다.')\n",
    "# ===== while\n",
    "a = [[0] * m for _ in range(m)]\n",
    "i = m // 2; j = m // 2; # 2차원 리스트의 정 가운데 위치를 잡아준다.\n",
    "n = 1; a[i][j] = n; s = 1; k = 1; flag = False\n",
    "\n",
    "while True:\n",
    "    # k += 1 # 3시 방향부터 숫자를 채운다.\n",
    "    for p in range(1, k):\n",
    "        n += 1; j += s\n",
    "        if n > m ** 2:\n",
    "            flag = True\n",
    "            break\n",
    "        a[i][j] = n\n",
    "    # ===== for p\n",
    "    if flag:\n",
    "        break;\n",
    "    # ===== if\n",
    "    for p in range(1, k):\n",
    "        n += 1; i += s\n",
    "        a[i][j] = n    \n",
    "    # ===== for p\n",
    "    s *= -1\n",
    "    k += 1 # 9시 방향부터 숫자를 채운다.\n",
    "# ===== while\n",
    "\n",
    "pprint(a)"
   ]
  },
  {
   "cell_type": "code",
   "execution_count": null,
   "id": "5fc442ec",
   "metadata": {},
   "outputs": [],
   "source": []
  },
  {
   "cell_type": "code",
   "execution_count": null,
   "id": "df3ae457",
   "metadata": {},
   "outputs": [],
   "source": []
  },
  {
   "cell_type": "code",
   "execution_count": null,
   "id": "31af51db",
   "metadata": {},
   "outputs": [],
   "source": []
  },
  {
   "cell_type": "code",
   "execution_count": null,
   "id": "a6387e4c",
   "metadata": {},
   "outputs": [],
   "source": []
  },
  {
   "cell_type": "code",
   "execution_count": null,
   "id": "cb41475c",
   "metadata": {},
   "outputs": [],
   "source": []
  },
  {
   "cell_type": "code",
   "execution_count": null,
   "id": "39d78832",
   "metadata": {},
   "outputs": [],
   "source": []
  }
 ],
 "metadata": {
  "kernelspec": {
   "display_name": "Python 3",
   "language": "python",
   "name": "python3"
  },
  "language_info": {
   "codemirror_mode": {
    "name": "ipython",
    "version": 3
   },
   "file_extension": ".py",
   "mimetype": "text/x-python",
   "name": "python",
   "nbconvert_exporter": "python",
   "pygments_lexer": "ipython3",
   "version": "3.6.8"
  }
 },
 "nbformat": 4,
 "nbformat_minor": 5
}
