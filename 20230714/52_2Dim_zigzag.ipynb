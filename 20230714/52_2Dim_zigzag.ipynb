{
 "cells": [
  {
   "cell_type": "markdown",
   "id": "229b689b",
   "metadata": {},
   "source": [
    "2차원 리스트\n",
    "\n",
    "<img src=\"./images/2Dim.png\" align=\"left\" width=\"1200\"/>"
   ]
  },
  {
   "cell_type": "code",
   "execution_count": 1,
   "id": "46fa3dda",
   "metadata": {},
   "outputs": [
    {
     "name": "stdout",
     "output_type": "stream",
     "text": [
      "[[1, 2, 3], [4, 5, 6]]\n"
     ]
    }
   ],
   "source": [
    "a = [[1, 2, 3], [4, 5, 6]]\n",
    "print(a)"
   ]
  },
  {
   "cell_type": "code",
   "execution_count": 2,
   "id": "28b86905",
   "metadata": {},
   "outputs": [
    {
     "name": "stdout",
     "output_type": "stream",
     "text": [
      "[[0, 0, 0, 0, 0], [0, 0, 0, 0, 0], [0, 0, 0, 0, 0], [0, 0, 0, 0, 0]]\n"
     ]
    }
   ],
   "source": [
    "# 리스트이름 = [[0] * 열개수 for i in range(행개수)]\n",
    "b = [[0] * 5 for i in range(4)]\n",
    "print(b)"
   ]
  },
  {
   "cell_type": "code",
   "execution_count": 3,
   "id": "7cfbb3f8",
   "metadata": {},
   "outputs": [],
   "source": [
    "import numpy as np"
   ]
  },
  {
   "cell_type": "code",
   "execution_count": 4,
   "id": "93ea4538",
   "metadata": {},
   "outputs": [
    {
     "name": "stdout",
     "output_type": "stream",
     "text": [
      "[[1 2 3]\n",
      " [4 5 6]]\n",
      "[[0 0 0 0 0]\n",
      " [0 0 0 0 0]\n",
      " [0 0 0 0 0]\n",
      " [0 0 0 0 0]]\n"
     ]
    }
   ],
   "source": [
    "print(np.array(a))\n",
    "print(np.array(b))"
   ]
  },
  {
   "cell_type": "code",
   "execution_count": 5,
   "id": "974d4325",
   "metadata": {},
   "outputs": [
    {
     "name": "stdout",
     "output_type": "stream",
     "text": [
      "4\n",
      "5\n",
      "(2, 3)\n",
      "(4, 5)\n",
      "4\n",
      "5\n"
     ]
    }
   ],
   "source": [
    "print(len(b)) # 행의 개수\n",
    "print(len(b[0])) # 열의 개수\n",
    "# print(b.shape) # 에러\n",
    "print(np.array(a).shape)\n",
    "print(np.array(b).shape)\n",
    "print(np.array(b).shape[0])\n",
    "print(np.array(b).shape[1])"
   ]
  },
  {
   "cell_type": "code",
   "execution_count": 6,
   "id": "561fe71a",
   "metadata": {},
   "outputs": [
    {
     "name": "stdout",
     "output_type": "stream",
     "text": [
      "[0, 0, 0, 0, 0]\n",
      "[0, 0, 0, 0, 0]\n",
      "[0, 0, 0, 0, 0]\n",
      "[0, 0, 0, 0, 0]\n"
     ]
    }
   ],
   "source": [
    "for i in range(len(b)):\n",
    "    print(b[i])"
   ]
  },
  {
   "cell_type": "code",
   "execution_count": 7,
   "id": "592f6a29",
   "metadata": {},
   "outputs": [
    {
     "name": "stdout",
     "output_type": "stream",
     "text": [
      "0 0 0 0 0 \n",
      "0 0 0 0 0 \n",
      "0 0 0 0 0 \n",
      "0 0 0 0 0 \n"
     ]
    }
   ],
   "source": [
    "for i in range(len(b)):\n",
    "    for j in range(len(b[i])):\n",
    "        print(b[i][j], end=' ')\n",
    "    print()"
   ]
  },
  {
   "cell_type": "markdown",
   "id": "3351e309",
   "metadata": {},
   "source": [
    "<img src=\"./images/2Dim_Zigzag.png\" align=\"left\" width=\"350\"/>"
   ]
  },
  {
   "cell_type": "code",
   "execution_count": 8,
   "id": "ba000f4f",
   "metadata": {},
   "outputs": [],
   "source": [
    "def pprint(data):\n",
    "    for i in range(len(data)):\n",
    "        for j in range(len(data[i])):\n",
    "            print('{:3d}'.format(data[i][j]), end=' ')\n",
    "        print() "
   ]
  },
  {
   "cell_type": "code",
   "execution_count": 9,
   "id": "0e0e391a",
   "metadata": {},
   "outputs": [
    {
     "name": "stdout",
     "output_type": "stream",
     "text": [
      "2차원 리스트를 만들려는 행과 열의 개수: 4 5\n",
      "  1   2   3   4   5 \n",
      " 10   9   8   7   6 \n",
      " 11  12  13  14  15 \n",
      " 20  19  18  17  16 \n"
     ]
    }
   ],
   "source": [
    "row, col = map(int, input('2차원 리스트를 만들려는 행과 열의 개수: ').split())\n",
    "data = [[0] * col for _ in range(row)]\n",
    "n = 0 # 리스트에 1씩 증가하며 채워질 숫자가 기억되는 변수\n",
    "\n",
    "for i in range(len(data)): # 행\n",
    "    # 짝수행은 숫자가 왼쪽에서 오른쪽으로 채워지고 홀수행은 숫자가 오른쪽에서 왼쪽으로 채워진다.\n",
    "    # 짝수행인가 홀수해인가 판단한다.\n",
    "    if i % 2 == 0: # 짝수인가?\n",
    "        # 짝수행은 왼쪽에서 오른쪽으로 숫자를 채운다. j => 0, 1, 2, 3, 4\n",
    "        for j in range(len(data[i])):\n",
    "            n += 1\n",
    "            data[i][j] = n\n",
    "    else:\n",
    "        # 홀수행은 오른쪽에서 왼쪽으로 숫자를 채운다. j => 4, 3, 2, 1, 0\n",
    "        for j in range(len(data[i]) - 1, -1, -1):\n",
    "            n += 1\n",
    "            data[i][j] = n\n",
    "\n",
    "pprint(data)"
   ]
  },
  {
   "cell_type": "code",
   "execution_count": 10,
   "id": "869d6540",
   "metadata": {},
   "outputs": [
    {
     "name": "stdout",
     "output_type": "stream",
     "text": [
      "2차원 리스트를 만들려는 행과 열의 개수: 4 5\n",
      "  1   2   3   4   5 \n",
      " 10   9   8   7   6 \n",
      " 11  12  13  14  15 \n",
      " 20  19  18  17  16 \n"
     ]
    }
   ],
   "source": [
    "# i = 0, sw =  1, j = 0, 1, 2, 3, 4 => range(0, 5, sw)\n",
    "# i = 1, sw = -1, j = 4, 3, 2, 1, 0 => range(4, -1, sw)\n",
    "# i = 2, sw =  1, j = 0, 1, 2, 3, 4 => range(0, 5, sw)\n",
    "# i = 3, sw = -1, j = 4, 3, 2, 1, 0 => range(4, -1, sw)\n",
    "row, col = map(int, input('2차원 리스트를 만들려는 행과 열의 개수: ').split())\n",
    "data = [[0] * col for _ in range(row)]\n",
    "n = 0\n",
    "start = 0 # 2차원 리스트에 숫자가 채워지기 시작하는 열 인덱스\n",
    "end = col - 1 # 2차원 리스트에 숫자가 채워지는 마지막 열 인덱스\n",
    "# 왼쪽에서 오른쪽으로, 오른쪽에서 왼쪽으로 숫자가 채워지는 방향을 제어하는 변수\n",
    "sw = 1 # start 부터 end 까지 증가치로 사용할 변수\n",
    "\n",
    "for i in range(row):\n",
    "    for j in range(start, end + sw, sw):\n",
    "        # print(f'[i = {i}, j = {j}]', end='')\n",
    "        n += 1\n",
    "        data[i][j] = n\n",
    "    # ===== for j\n",
    "    start, end = end, start\n",
    "    sw *= -1\n",
    "# ===== for i\n",
    "\n",
    "pprint(data)"
   ]
  },
  {
   "cell_type": "code",
   "execution_count": 11,
   "id": "5524e3eb",
   "metadata": {},
   "outputs": [
    {
     "name": "stdout",
     "output_type": "stream",
     "text": [
      "2차원 리스트를 만들려는 행과 열의 개수: 4 5\n",
      "  1   2   3   4   5 \n",
      " 10   9   8   7   6 \n",
      " 11  12  13  14  15 \n",
      " 20  19  18  17  16 \n"
     ]
    }
   ],
   "source": [
    "row, col = map(int, input('2차원 리스트를 만들려는 행과 열의 개수: ').split())\n",
    "data = [[0] * col for _ in range(row)]\n",
    "n = 0\n",
    "start = [i for i in range(col)] # 왼쪽부터 오른쪽으로 진행하는 열 인덱스를 기억하는 리스트\n",
    "end = [i for i in range(col - 1, -1, -1)] # 오른쪽부터 왼쪽으로 진행하는 열 인덱스를 기억하는 리스트\n",
    "# print(start, end)\n",
    "\n",
    "for i in range(row):\n",
    "    for j in start:\n",
    "        n += 1\n",
    "        data[i][j] = n\n",
    "    # ===== for j\n",
    "    start, end = end, start\n",
    "# ===== for i\n",
    "\n",
    "pprint(data)"
   ]
  },
  {
   "cell_type": "code",
   "execution_count": null,
   "id": "0de8953e",
   "metadata": {},
   "outputs": [],
   "source": []
  }
 ],
 "metadata": {
  "kernelspec": {
   "display_name": "Python 3",
   "language": "python",
   "name": "python3"
  },
  "language_info": {
   "codemirror_mode": {
    "name": "ipython",
    "version": 3
   },
   "file_extension": ".py",
   "mimetype": "text/x-python",
   "name": "python",
   "nbconvert_exporter": "python",
   "pygments_lexer": "ipython3",
   "version": "3.6.8"
  }
 },
 "nbformat": 4,
 "nbformat_minor": 5
}
