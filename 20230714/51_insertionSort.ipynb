{
 "cells": [
  {
   "cell_type": "markdown",
   "id": "b7b6b594",
   "metadata": {},
   "source": [
    "insertionSort(삽입 정렬, 삽입법)\n",
    "\n",
    "삽입 정렬인 이미 정렬된 파일에 새로운 레코드를 위치에 맞게 삽입한다.  \n",
    "정렬할 데이터가 n개일 경우 회전수는 n-1번이 된다. => 데이터가 5개면 회전수는 4번이다.\n",
    "\n",
    "<img src=\"./images/insertionSort.png\" align=\"left\" width=\"1200\"/>"
   ]
  },
  {
   "cell_type": "code",
   "execution_count": 2,
   "id": "731abfee",
   "metadata": {},
   "outputs": [
    {
     "name": "stdout",
     "output_type": "stream",
     "text": [
      "[i = 1, j = 0]\n",
      "[i = 2, j = 1][i = 2, j = 0]\n",
      "[i = 3, j = 2][i = 3, j = 1][i = 3, j = 0]\n",
      "[i = 4, j = 3][i = 4, j = 2][i = 4, j = 1][i = 4, j = 0]\n"
     ]
    }
   ],
   "source": [
    "n = 5\n",
    "for i in range(1, n): # 회전수, 정렬된 파일에 삽입할 데이터의 위치\n",
    "    for j in range(i - 1, -1, -1):\n",
    "        print(f'[i = {i}, j = {j}]', end='')\n",
    "    print()"
   ]
  },
  {
   "cell_type": "code",
   "execution_count": 4,
   "id": "0e323755",
   "metadata": {},
   "outputs": [
    {
     "name": "stdout",
     "output_type": "stream",
     "text": [
      "1회전 결과: [3, 8, 4, 9, 1]\n",
      "2회전 결과: [3, 4, 8, 9, 1]\n",
      "3회전 결과: [3, 4, 8, 9, 1]\n",
      "4회전 결과: [1, 3, 4, 8, 9]\n",
      "정렬 결과: [1, 3, 4, 8, 9]\n"
     ]
    }
   ],
   "source": [
    "data = [8, 3, 4, 9, 1]\n",
    "for i in range(1, len(data)):\n",
    "    # 이미 정렬된 파일에 새 데이터가 삽입될 위치를 찾기위해 새 데이터와 인덱스를 각각 key와 index에 저장한다.\n",
    "    key = data[i]\n",
    "    index = i\n",
    "    # 새 데이터가 삽입될 위치를 찾는다.\n",
    "    for j in range(i - 1, -1, -1):\n",
    "        if data[j] > key:\n",
    "            # 이미 정렬된 파일의 데이터가 크기 때문에 정렬된 파일의 데이터를 인덱스가 1큰 위치로 이동시킨다.\n",
    "            data[j + 1] = data[j]\n",
    "            # key에 저장된 삽입할 데이터의 인덱스를 값을 1감소 시킨다.\n",
    "            index -= 1\n",
    "        else:\n",
    "            # 삽입할 데이터가 이미 정렬된 파일의 데이터와 같거나 더 크다는 의미이므로 이미 정렬된 데이터 앞에 위치한\n",
    "            # 데이터들과는 더 이상 비교할 필요가 없으므로 반복을 탈출한다.\n",
    "            break\n",
    "        # ===== if\n",
    "    # ===== for j => 회전 종료\n",
    "    # key에 저장된 삽입할 데이터를 정렬된 파일의 인덱스 위치에 맞게 삽입한다.\n",
    "    data[index] = key\n",
    "    print(f'{i}회전 결과: {data}')\n",
    "# ===== for i => 정렬 종료\n",
    "print(f'정렬 결과: {data}')"
   ]
  },
  {
   "cell_type": "code",
   "execution_count": null,
   "id": "80cfa0e9",
   "metadata": {},
   "outputs": [],
   "source": []
  },
  {
   "cell_type": "code",
   "execution_count": null,
   "id": "356de163",
   "metadata": {},
   "outputs": [],
   "source": []
  },
  {
   "cell_type": "code",
   "execution_count": null,
   "id": "98f4eadf",
   "metadata": {},
   "outputs": [],
   "source": []
  },
  {
   "cell_type": "code",
   "execution_count": null,
   "id": "834d8996",
   "metadata": {},
   "outputs": [],
   "source": []
  },
  {
   "cell_type": "code",
   "execution_count": null,
   "id": "dfab790d",
   "metadata": {},
   "outputs": [],
   "source": []
  },
  {
   "cell_type": "code",
   "execution_count": null,
   "id": "bcbbc57a",
   "metadata": {},
   "outputs": [],
   "source": []
  }
 ],
 "metadata": {
  "kernelspec": {
   "display_name": "Python 3",
   "language": "python",
   "name": "python3"
  },
  "language_info": {
   "codemirror_mode": {
    "name": "ipython",
    "version": 3
   },
   "file_extension": ".py",
   "mimetype": "text/x-python",
   "name": "python",
   "nbconvert_exporter": "python",
   "pygments_lexer": "ipython3",
   "version": "3.6.8"
  }
 },
 "nbformat": 4,
 "nbformat_minor": 5
}
