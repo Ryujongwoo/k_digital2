{
 "cells": [
  {
   "cell_type": "markdown",
   "id": "3608cb71",
   "metadata": {},
   "source": [
    "마방진\n",
    "\n",
    "가로, 세로, 대각선의 숫자 합이 모두 같은 배열로 홀수차 정방행렬(행과 열의 개수가 같은 행렬)만 가능하다.  \n",
    "최초의 '1'이 채워지는 자리는 2차원 리스트의 첫 줄 정 가운데 열이다.  \n",
    "직전에 채워진 숫자 값에 따라 다음에 채워질 숫자의 위치가 결정된다.  \n",
    "직전에 채워진 숫자가 행렬의 차수의 배수면 다음 숫자는 아래줄에 채운다. => 행 + 1  \n",
    "직전에 채워진 숫자가 행렬의 차수의 배수가 아니면 다음 숫자는 오른쪽 위로 채운다. => 행 - 1, 열 + 1  \n",
    "오른쪽 위 방향으로 숫자를 채우다 보면 리스트의 인덱스 범위가 벗어나는 경우가 발생된다.  \n",
    "행이 0보다 작아지면 행의 위치를 마지막 행으로 변경한 후 채우고 열이 행렬의 차수와 같아지면 열의 위치를 0으로 변경후 숫자를 채운다.\n",
    "\n",
    "<img src=\"./images/magicSquare.png\" align=\"left\" width=\"800\"/>"
   ]
  },
  {
   "cell_type": "code",
   "execution_count": 1,
   "id": "f060322d",
   "metadata": {},
   "outputs": [],
   "source": [
    "def pprint(data):\n",
    "    for i in range(len(data)):\n",
    "        for j in range(len(data[i])):\n",
    "            print('{:3d}'.format(data[i][j]), end=' ')\n",
    "        print()"
   ]
  },
  {
   "cell_type": "code",
   "execution_count": 2,
   "id": "3025daeb",
   "metadata": {},
   "outputs": [
    {
     "name": "stdout",
     "output_type": "stream",
     "text": [
      " 17  24   1   8  15 \n",
      " 23   5   7  14  16 \n",
      "  4   6  13  20  22 \n",
      " 10  12  19  21   3 \n",
      " 11  18  25   2   9 \n"
     ]
    }
   ],
   "source": [
    "a = [[0] * 5 for _ in range(5)]\n",
    "i = 0; j = 2 # 5행 5열일 경우 최초의 1이 채워질 위치를 정한다.\n",
    "\n",
    "# 5행 5열이므로 k값을 1에서 25까지 반복시키며 마방진을 만든다.\n",
    "for k in range(1, 26):\n",
    "    a[i][j] = k\n",
    "    # 마방진에 채운 숫자 k가 5의 배수인가 판단한다.\n",
    "    if k % 5 == 0:\n",
    "        # k가 5의 배수면 다음에 채워질 숫자의 위치는 행만 1증가 시킨다.\n",
    "        i += 1\n",
    "    else:\n",
    "        # k가 5의 배수가 아니면 다음에 채워질 숫자의 위치는 행은 1감소, 열은 1증가 시킨다.\n",
    "        i -= 1\n",
    "        # 행이 감소하다가 0보다 작아지면 마지막 행(4행)으로 행의 위치를 조정한다.\n",
    "        if i < 0:\n",
    "            i = 4\n",
    "        j += 1\n",
    "        # 열이 증가하다가 5가되면 첫 번째 열(0열)으로 열의 위치를 조정한다.\n",
    "        if j >= 5:\n",
    "            j = 0\n",
    "    # ===== if\n",
    "# ===== for\n",
    "\n",
    "pprint(a)"
   ]
  },
  {
   "cell_type": "code",
   "execution_count": 6,
   "id": "ee51b1ea",
   "metadata": {},
   "outputs": [
    {
     "name": "stdout",
     "output_type": "stream",
     "text": [
      "2차원 리스트의 차수를 3이상인 홀수로 입력하세요: 7\n",
      " 30  39  48   1  10  19  28 \n",
      " 38  47   7   9  18  27  29 \n",
      " 46   6   8  17  26  35  37 \n",
      "  5  14  16  25  34  36  45 \n",
      " 13  15  24  33  42  44   4 \n",
      " 21  23  32  41  43   3  12 \n",
      " 22  31  40  49   2  11  20 \n"
     ]
    }
   ],
   "source": [
    "while True:\n",
    "    m = int(input('2차원 리스트의 차수를 3이상인 홀수로 입력하세요: '))\n",
    "    if m % 2 == 1 and m >= 3:\n",
    "        break\n",
    "    # ===== if\n",
    "    print('2차원 리스트의 차수는 3이상인 홀수로 입력해야 합니다.')\n",
    "# ===== while\n",
    "\n",
    "a = [[0] * m for _ in range(m)]\n",
    "# m행 m열일 경우 최초의 1이 채워질 위치를 정한다.\n",
    "i = 0; j = m // 2\n",
    "\n",
    "# m행 m열이므로 k값을 1에서 n의 제곱까지 반복시키며 마방진을 만든다.\n",
    "for k in range(1, m ** 2 + 1):\n",
    "    a[i][j] = k\n",
    "    # 마방진에 채운 숫자 k가 m의 배수인가 판단한다.\n",
    "    if k % m == 0:\n",
    "        # k가 m의 배수면 다음에 채워질 숫자의 위치는 행만 1증가 시킨다.\n",
    "        i += 1\n",
    "    else:\n",
    "        # k가 m의 배수가 아니면 다음에 채워질 숫자의 위치는 행은 1감소, 열은 1증가 시킨다.\n",
    "        i -= 1\n",
    "        # 행이 감소하다가 0보다 작아지면 마지막 행(4행)으로 행의 위치를 조정한다.\n",
    "        if i < 0:\n",
    "            i = m - 1\n",
    "        j += 1\n",
    "        # 열이 증가하다가 m이되면 첫 번째 열(0열)으로 열의 위치를 조정한다.\n",
    "        if j >= m:\n",
    "            j = 0\n",
    "    # ===== if\n",
    "# ===== for\n",
    "\n",
    "pprint(a) "
   ]
  },
  {
   "cell_type": "code",
   "execution_count": null,
   "id": "a93ed988",
   "metadata": {},
   "outputs": [],
   "source": []
  },
  {
   "cell_type": "code",
   "execution_count": null,
   "id": "54cbb398",
   "metadata": {},
   "outputs": [],
   "source": []
  },
  {
   "cell_type": "code",
   "execution_count": null,
   "id": "f9ae4f4b",
   "metadata": {},
   "outputs": [],
   "source": []
  },
  {
   "cell_type": "code",
   "execution_count": null,
   "id": "e42f0bd2",
   "metadata": {},
   "outputs": [],
   "source": []
  }
 ],
 "metadata": {
  "kernelspec": {
   "display_name": "Python 3",
   "language": "python",
   "name": "python3"
  },
  "language_info": {
   "codemirror_mode": {
    "name": "ipython",
    "version": 3
   },
   "file_extension": ".py",
   "mimetype": "text/x-python",
   "name": "python",
   "nbconvert_exporter": "python",
   "pygments_lexer": "ipython3",
   "version": "3.6.8"
  }
 },
 "nbformat": 4,
 "nbformat_minor": 5
}
