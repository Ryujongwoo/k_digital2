{
 "cells": [
  {
   "cell_type": "code",
   "execution_count": 25,
   "id": "46681f42",
   "metadata": {},
   "outputs": [],
   "source": [
    "import random\n",
    "import time # sleep() 메소드를 사용하기 위해 import 시킨다."
   ]
  },
  {
   "cell_type": "code",
   "execution_count": 26,
   "id": "38f5db78",
   "metadata": {},
   "outputs": [
    {
     "name": "stdout",
     "output_type": "stream",
     "text": [
      " 1  2  3  4  5  6  7  8  9 10 \n",
      "11 12 13 14 15 16 17 18 19 20 \n",
      "21 22 23 24 25 26 27 28 29 30 \n",
      "31 32 33 34 35 36 37 38 39 40 \n",
      "41 42 43 44 45 \n",
      "============================== 섞기전\n",
      "17 26 18 29  9 34 42 10 15 12 \n",
      "24  5 11  8 19  2 28 27 35  4 \n",
      "33 21 20 36  6 31 23 16 37  1 \n",
      "39 22 38  7 32 14 13  3 30 44 \n",
      "43 45 41 25 40 \n",
      "============================== 섞은후\n",
      "1등 번호: 17, 26, 18, 29, 09, 34, 보너스 번호: 42\n",
      "Wall time: 6.06 s\n"
     ]
    }
   ],
   "source": [
    "%%time\n",
    "# %%time 매직 명령은 쥬피터 노트북 한 셀이 실행되는 시간을 출력한다.\n",
    "\n",
    "# 로또 추첨기로 사용할 리스트를 만들고 1 ~ 45로 초기화 시킨다.\n",
    "# lotto = []\n",
    "# for i in range(45):\n",
    "    # lotto.append(i + 1)\n",
    "lotto = [i for i in range(1, 46)]\n",
    "# print(lotto)\n",
    "\n",
    "# 섞기 전 상태를 출력한다. => 1줄에 숫자 10개씩 출력한다.\n",
    "for i in range(len(lotto)):\n",
    "    print('{:2d}'.format(lotto[i]), end=' ')\n",
    "    if (i + 1) % 10 == 0:\n",
    "        print()\n",
    "print('\\n' + '=' * 30 + ' 섞기전')\n",
    "\n",
    "# 섞는다.\n",
    "'''\n",
    "# lotto[0]와(고정) lotto[1] ~ lotto[44] 중에서 랜덤한 위치의 값을 선택해서 두 기억장소의 값을 교환한다.\n",
    "for i in range(1000000):\n",
    "    # 1 ~ 44 중에서 랜덤한 값을 발생시킨다.\n",
    "    r = random.randint(1, 44)\n",
    "    # lotto[0]와 lotto[r]에 저장된 값을 교환한다.\n",
    "    # temp = lotto[0]\n",
    "    # lotto[0] = lotto[r]\n",
    "    # lotto[r] = temp\n",
    "    lotto[0], lotto[r] = lotto[r], lotto[0]\n",
    "'''\n",
    "# shuffle() 메소드로 데이터를 섞을 수 있다. => 반복 처리보다 속도도 월등히 빠르다.\n",
    "random.shuffle(lotto)\n",
    "\n",
    "# 섞은 후 상태를 출력한다. => 1줄에 숫자 10개씩 출력한다.\n",
    "for i in range(len(lotto)):\n",
    "    print('{:2d}'.format(lotto[i]), end=' ')\n",
    "    if (i + 1) % 10 == 0:\n",
    "        print()\n",
    "print('\\n' + '=' * 30 + ' 섞은후')\n",
    "\n",
    "# 1등 번호와 보너스 번호를 출력한다.\n",
    "print('1등 번호: ', end='')\n",
    "for i in range(6):\n",
    "    print('{:02d}'.format(lotto[i]), end=', ')\n",
    "    # time 모듈의 sleep() 메소드는 인수로 지정한 시간만큼 프로그램을 멈춘다.\n",
    "    time.sleep(1) # 시간은 초 단위로 지정한다.\n",
    "print('보너스 번호: {:02d}'.format(lotto[6]))"
   ]
  },
  {
   "cell_type": "code",
   "execution_count": 48,
   "id": "b20dbc74",
   "metadata": {},
   "outputs": [
    {
     "name": "stdout",
     "output_type": "stream",
     "text": [
      "[44, 40, 5, 22, 1, 13]\n",
      "Wall time: 0 ns\n"
     ]
    }
   ],
   "source": [
    "%%time\n",
    "lotto = [i for i in range(1, 46)]\n",
    "# seed() 메소드를 이용하면 모두 같은 난수 배열을 얻을 수 있다. => 테스트 시 사용한다.\n",
    "# random.seed(2)\n",
    "# sample(데이터, 개수) 메소드는 데이터 중에서 무작위로 지정한 개수만큼 샘플링한다.\n",
    "print(random.sample(lotto, 6))"
   ]
  },
  {
   "cell_type": "code",
   "execution_count": null,
   "id": "1f32aec1",
   "metadata": {},
   "outputs": [],
   "source": []
  },
  {
   "cell_type": "code",
   "execution_count": null,
   "id": "7d5a61d6",
   "metadata": {},
   "outputs": [],
   "source": []
  },
  {
   "cell_type": "code",
   "execution_count": null,
   "id": "821766c8",
   "metadata": {},
   "outputs": [],
   "source": []
  },
  {
   "cell_type": "code",
   "execution_count": null,
   "id": "52a2f28f",
   "metadata": {},
   "outputs": [],
   "source": []
  }
 ],
 "metadata": {
  "kernelspec": {
   "display_name": "Python 3",
   "language": "python",
   "name": "python3"
  },
  "language_info": {
   "codemirror_mode": {
    "name": "ipython",
    "version": 3
   },
   "file_extension": ".py",
   "mimetype": "text/x-python",
   "name": "python",
   "nbconvert_exporter": "python",
   "pygments_lexer": "ipython3",
   "version": "3.6.8"
  }
 },
 "nbformat": 4,
 "nbformat_minor": 5
}
