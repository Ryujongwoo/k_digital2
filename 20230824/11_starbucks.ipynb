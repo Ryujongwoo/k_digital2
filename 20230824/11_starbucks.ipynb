{
 "cells": [
  {
   "cell_type": "code",
   "execution_count": 1,
   "id": "ac8f67e7",
   "metadata": {},
   "outputs": [],
   "source": [
    "import warnings\n",
    "warnings.filterwarnings(action='ignore')\n",
    "%config Computer.use_jedi = False\n",
    "import requests\n",
    "import json"
   ]
  },
  {
   "cell_type": "markdown",
   "id": "78b6b7c7",
   "metadata": {},
   "source": [
    "시도 코드 크롤링"
   ]
  },
  {
   "cell_type": "code",
   "execution_count": 19,
   "id": "1752a9ae",
   "metadata": {
    "scrolled": false
   },
   "outputs": [
    {
     "name": "stdout",
     "output_type": "stream",
     "text": [
      "{'01': '서울', '08': '경기', '02': '광주', '03': '대구', '04': '대전', '05': '부산', '06': '울산', '07': '인천', '09': '강원', '10': '경남', '11': '경북', '12': '전남', '13': '전북', '14': '충남', '15': '충북', '16': '제주', '17': '세종'}\n"
     ]
    }
   ],
   "source": [
    "targetSite = 'https://www.starbucks.co.kr/store/getSidoList.do'\n",
    "# Request URL(https://www.starbucks.co.kr/store/getSidoList.do)을 요청하는 Request Method가 POST이므로 requests 모듈의\n",
    "# post() 메소드를 사용해서 서버에 요청한다.\n",
    "# POST 방식으로 요청할 때는 data 속성에 딕셔너리 형태로 서버로 전송할 데이터를 넣어줘야 하는데 서버로 전송할 데이터가\n",
    "# 없으면 data 속성은 생략해도 된다.\n",
    "# POST 방식으로 서버에 전송해야 할 데이터는 Payload 탭에서 확인할 수 있다.\n",
    "request = requests.post(targetSite, data={\n",
    "    'rndCod': 'AV7FQOBO67' # rndCod는 전달하지 않아도 상관없다.\n",
    "})\n",
    "# print(request) # <Response [200]>\n",
    "\n",
    "starbucks = request.text\n",
    "# print(type(starbucks)) # <class 'str'>\n",
    "# print(starbucks)\n",
    "\n",
    "# json 모듈의 loads() 메소드나 requests 모듈의 json() 메소드를 사용해서 서버에서 응답받은 문자열 데이터를 파이썬에서 \n",
    "# 사용할 수 있는 자료형(리스트 또는 딕셔너리)으로 변환해서 작업한다.\n",
    "# sidoList = json.loads(starbucks)\n",
    "sidoList = request.json()\n",
    "# print(type(sidoList)) # <class 'dict'>\n",
    "# print(sidoList)\n",
    "\n",
    "# sidoList에는 문자열 형태의 json 데이터가 파이썬이 처리할 수 있는 딕셔너리 형태로 변환되서 저장되었다.\n",
    "# 딕셔너리로 변환된 데이터에서 'list'라는 key에 할당된 시도 정보를 얻어온다.\n",
    "# print(len(sidoList.get('list'))) # 17\n",
    "# print(type(sidoList.get('list'))) # <class 'list'>\n",
    "# print(len(sidoList['list'])) # 17\n",
    "# print(type(sidoList['list'])) # <class 'list'>\n",
    "# print(sidoList.get('list'))\n",
    "\n",
    "# 시도코드의 개수만큼 반복하여 시도코드('sido_cd')를 key로 하고 시도이름('sido_nm')을 value로 딕셔너리를 만든다.\n",
    "sido_list = {}\n",
    "for sido in sidoList['list']:\n",
    "    # print(type(sido)) # <class 'dict'>\n",
    "    # print('{}: {}'.format(sido.get('sido_cd'), sido['sido_nm']))\n",
    "    # 딕셔너리이름[key] = value\n",
    "    sido_list[sido.get('sido_cd')] = sido['sido_nm']\n",
    "print(sido_list)"
   ]
  },
  {
   "cell_type": "markdown",
   "id": "2ba73d2f",
   "metadata": {},
   "source": [
    "구군코드 크롤링"
   ]
  },
  {
   "cell_type": "code",
   "execution_count": 42,
   "id": "4e82f9ea",
   "metadata": {},
   "outputs": [
    {
     "name": "stdout",
     "output_type": "stream",
     "text": [
      "구군코드를 검색하려는 시도코드를 입력하세요: 01\n",
      "{'0101': '강남구', '0120': '강동구', '0102': '강북구', '0103': '강서구', '0104': '관악구', '0105': '광진구', '0121': '구로구', '0106': '금천구', '0107': '노원구', '0108': '도봉구', '0122': '동대문구', '0109': '동작구', '0110': '마포구', '0111': '서대문구', '0112': '서초구', '0123': '성동구', '0113': '성북구', '0114': '송파구', '0115': '양천구', '0116': '영등포구', '0124': '용산구', '0117': '은평구', '0118': '종로구', '0119': '중구', '0125': '중랑구'}\n"
     ]
    }
   ],
   "source": [
    "sido_cd = input('구군코드를 검색하려는 시도코드를 입력하세요: ')\n",
    "targetSite = 'https://www.starbucks.co.kr/store/getGugunList.do'\n",
    "request = requests.post(targetSite, data={\n",
    "    'sido_cd': sido_cd\n",
    "})\n",
    "\n",
    "# print(type(request.text))\n",
    "# print(type(request.json()))\n",
    "gugunList = request.json()\n",
    "# print(len(gugunList)) # 1\n",
    "# print(gugunList.keys()) # dict_keys(['list'])\n",
    "# print(len(gugunList['list'])) # 25(서울), 42(경기), ...\n",
    "\n",
    "# 구군코드의 개수만큼 반복하여 구군코드('gugun_cd')를 key로 하고 구군이름('gugun_nm')을 value로 딕셔너리를 만든다.\n",
    "gugun_list = {}\n",
    "for gugun in gugunList['list']:\n",
    "    gugun_list[gugun.get('gugun_cd')] = gugun['gugun_nm']\n",
    "print(gugun_list)"
   ]
  },
  {
   "cell_type": "markdown",
   "id": "6dbe1149",
   "metadata": {},
   "source": [
    "매장정보 크롤링"
   ]
  },
  {
   "cell_type": "code",
   "execution_count": 62,
   "id": "80ea0523",
   "metadata": {
    "scrolled": true
   },
   "outputs": [
    {
     "name": "stdout",
     "output_type": "stream",
     "text": [
      "40\n",
      "서대문역: 서울특별시 종로구 통일로 134 (평동)(37.56670, 126.96629)\n",
      "서울대치과병원: 서울특별시 종로구 대학로 101 서울대학교 치과병원 신관1층(37.57790, 126.99965)\n",
      "동숭길입구: 서울특별시 종로구 대학로 146 (혜화동)(37.584236, 127.002014)\n",
      "강북삼성병원1층: 서울특별시 종로구 새문안로 29 (평동)(37.568546, 126.96756)\n",
      "종로플레이스: 서울특별시 종로구 창경궁로 120 (인의동)(37.57319, 126.998309)\n",
      "정동: 서울특별시 종로구 새문안로 42 (신문로2가)(37.568578, 126.970067)\n",
      "광화문교보문고: 서울특별시 종로구 종로 1 (종로1가)(37.571017, 126.977937)\n",
      "종로관수: 서울특별시 종로구 삼일대로20길 13 (관수동)(37.569385, 126.988665)\n",
      "경복궁사거리: 서울특별시 종로구 율곡로 6, B동 101호(중학동, 트윈트리타워)(37.575578, 126.980581)\n",
      "대학로: 서울특별시 종로구 대학로 57, 홍익대학교 대학로캠퍼스 內 (연건동)(37.576509, 127.001449)\n",
      "종로3가: 서울특별시 종로구 종로 113-1, 1-4층 (종로3가)(37.5705527, 126.9902055)\n",
      "마로니에공원: 서울특별시 종로구 대학로 116, 1-2층 (동숭동)(37.58154296, 127.0023412)\n",
      "이마빌딩: 서울특별시 종로구 종로1길 42 (수송동)(37.5738637, 126.97897149999994)\n",
      "경복궁역: 서울특별시 종로구 자하문로4길 6, 1층 (통의동)(37.5771508, 126.97274530000004)\n",
      "종로관철: 서울특별시 종로구 종로12길 21, 2층 (관철동)(37.569058, 126.986013)\n",
      "동숭로아트: 서울특별시 종로구 동숭길 110 (동숭동)(37.582969, 127.003876)\n",
      "종각: 서울특별시 종로구 종로 64 (종로2가)(37.5699183, 126.98452810000003)\n",
      "주얼리시티: 서울특별시 종로구 종로 183 (인의동) 효성주얼리시티(37.57154914, 126.998705)\n",
      "스페이스본: 서울특별시 종로구 사직로8길 4 (사직동) 광화문 풍림스페이스본(37.57532212, 126.9692494)\n",
      "성대입구: 서울특별시 종로구 창경궁로 235 (명륜3가)(37.582892, 126.998392)\n",
      "광화문: 서울특별시 종로구 세종대로 167 (세종로)(37.5712293, 126.9762872)\n",
      "인사: 서울특별시 종로구 인사동길 14 (인사동)(37.5721293, 126.98703490000002)\n",
      "적선: 서울특별시 종로구 새문안로5길 55, 노스게이트빌딩 1층 (적선동)(37.57520431, 126.9739361)\n",
      "광화문D타워: 서울특별시 종로구 종로3길 17 (청진동) D타워(37.5714, 126.9788297)\n",
      "삼청동: 서울특별시 종로구 삼청로 111-1 (삼청동)(37.585381, 126.9817512)\n",
      "안국: 서울특별시 종로구 북촌로 5-1 (재동)(37.577338, 126.985635)\n",
      "새문안로: 서울특별시 종로구 새문안로 92 (신문로1가) 광화문오피시아빌딩(37.5696597, 126.9748903)\n",
      "종로수송: 서울특별시 종로구 종로5길 30 (청진동) 1~3층(37.5714931, 126.9807831)\n",
      "북촌로: 서울특별시 종로구 북촌로4길 23 (계동)(37.579462, 126.986431)\n",
      "종로구청: 서울특별시 종로구 삼봉로 71 (수송동)(37.572662, 126.981138)\n",
      "동묘앞역: 서울특별시 종로구 종로 344 (숭인동, 대우디오빌) 101호 일부, 201호 일부(37.572700, 127.016072)\n",
      "정부서울청사R: 서울특별시 종로구 새문안로5가길 28 (적선동)(37.574411, 126.973571)\n",
      "독립문역: 서울특별시 종로구 송월길 155 경희궁자이 4단지 1층 팰리스애비뉴 4114~4119호(37.571432, 126.961269)\n",
      "종로R: 서울특별시 종로구 종로 51 (종로2가)(37.570804, 126.983494)\n",
      "광화문우체국: 서울특별시 종로구 종로 6 (서린동)(37.569854, 126.978083)\n",
      "종로평창동: 서울특별시 종로구 평창12길 3 (평창동)(37.606149, 126.967213)\n",
      "강북삼성병원: 서울특별시 종로구 새문안로 29 (평동)(37.568546, 126.967560)\n",
      "경희궁로: 서울특별시 종로구 새문안로3길 15 (당주동)(37.571759, 126.972343)\n",
      "혜화역: 서울특별시 종로구 대학로12길 4 (동숭동)1~2층(37.5824779, 127.0021850)\n",
      "연합뉴스: 서울특별시 종로구 율곡로2길 25 (수송동)(37.5743289, 126.9804590000005)\n"
     ]
    }
   ],
   "source": [
    "targetSite = 'https://www.starbucks.co.kr/store/getStore.do?r=MK5ZM1374T'\n",
    "request = requests.post(targetSite, data={\n",
    "    'ins_lat': 37.563398, # 위도\n",
    "    'ins_lng': 126.9863309, # 경도\n",
    "    'p_sido_cd': '', # 시도코드\n",
    "    'p_gugun_cd': '0118', # 구군코드\n",
    "    'in_biz_cd': '', # ?\n",
    "    'iend': 1900, # 서버가 응답하는 최대 매장의 개수\n",
    "    'set_date': '' # ?\n",
    "    # in_biz_cd, set_date를 넘겨주지 않으면 서버에서 데이터를 얻어오지 못한다.\n",
    "})\n",
    "storeList = request.json()\n",
    "print(len(storeList['list']))\n",
    "\n",
    "for store in storeList['list']:\n",
    "    print('{}: {}({}, {})'.format(store['s_name'], store['doro_address'], store['lat'], store['lot']))"
   ]
  },
  {
   "cell_type": "code",
   "execution_count": null,
   "id": "ac7caffb",
   "metadata": {},
   "outputs": [],
   "source": []
  },
  {
   "cell_type": "code",
   "execution_count": null,
   "id": "f54f8eb8",
   "metadata": {},
   "outputs": [],
   "source": []
  },
  {
   "cell_type": "code",
   "execution_count": null,
   "id": "acd2989e",
   "metadata": {},
   "outputs": [],
   "source": []
  },
  {
   "cell_type": "code",
   "execution_count": null,
   "id": "2827a9c3",
   "metadata": {},
   "outputs": [],
   "source": []
  },
  {
   "cell_type": "code",
   "execution_count": null,
   "id": "2ef51c77",
   "metadata": {},
   "outputs": [],
   "source": []
  }
 ],
 "metadata": {
  "kernelspec": {
   "display_name": "Python 3",
   "language": "python",
   "name": "python3"
  },
  "language_info": {
   "codemirror_mode": {
    "name": "ipython",
    "version": 3
   },
   "file_extension": ".py",
   "mimetype": "text/x-python",
   "name": "python",
   "nbconvert_exporter": "python",
   "pygments_lexer": "ipython3",
   "version": "3.6.8"
  }
 },
 "nbformat": 4,
 "nbformat_minor": 5
}
