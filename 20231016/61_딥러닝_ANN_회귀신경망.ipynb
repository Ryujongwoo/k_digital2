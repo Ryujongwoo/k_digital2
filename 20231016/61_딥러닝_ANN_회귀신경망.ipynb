{
 "cells": [
  {
   "cell_type": "code",
   "execution_count": 1,
   "id": "87e90a09",
   "metadata": {},
   "outputs": [],
   "source": [
    "import warnings\n",
    "warnings.filterwarnings(action='ignore')\n",
    "%config Completer.use_jedi = False"
   ]
  },
  {
   "cell_type": "markdown",
   "id": "ae0258f1",
   "metadata": {},
   "source": [
    "회귀 신경망  \n",
    "신경망을 이용해 보스턴 집값을 예측하는 모델을 만들어 본다."
   ]
  },
  {
   "cell_type": "code",
   "execution_count": 2,
   "id": "b7ac11e4",
   "metadata": {},
   "outputs": [],
   "source": [
    "# 일관된 결과값이 나오도록 random seed를 설정한다.\n",
    "import numpy as np\n",
    "import tensorflow as tf\n",
    "np.random.seed(0)\n",
    "tf.random.set_seed(0)"
   ]
  },
  {
   "cell_type": "code",
   "execution_count": 3,
   "id": "7f2ba4b2",
   "metadata": {},
   "outputs": [],
   "source": [
    "# 데이터 불러오기\n",
    "from sklearn import datasets # 사이킷런이 제공하는 데이터셋을 사용하기 위해 import 한다.\n",
    "raw_boston = datasets.load_boston() # 보스턴 집값 데이터를 불러온다."
   ]
  },
  {
   "cell_type": "code",
   "execution_count": 4,
   "id": "00dfadf3",
   "metadata": {},
   "outputs": [
    {
     "data": {
      "text/plain": [
       "(506, 13)"
      ]
     },
     "execution_count": 4,
     "metadata": {},
     "output_type": "execute_result"
    }
   ],
   "source": [
    "# 피쳐, 타겟 데이터 저장\n",
    "X = raw_boston.data # 피쳐 데이터를 저장한다.\n",
    "y = raw_boston.target # 타겟 데이터를 저장한다.\n",
    "# 총 13개의 피쳐가 사용되는데, 이는 신경망을 생성할 때 사용된다.\n",
    "X.shape"
   ]
  },
  {
   "cell_type": "code",
   "execution_count": 5,
   "id": "42bc57b8",
   "metadata": {},
   "outputs": [
    {
     "name": "stdout",
     "output_type": "stream",
     "text": [
      "{5.0, 6.3, 7.2, 8.8, 7.4, 10.2, 11.8, 12.7, 13.6, 14.5, 15.0, 16.5, 17.5, 18.9, 18.2, 20.4, 21.6, 22.9, 21.7, 24.0, 19.9, 26.6, 26.5, 27.5, 23.1, 27.1, 28.7, 24.7, 30.8, 33.4, 34.7, 34.9, 36.2, 35.4, 31.6, 33.0, 38.7, 33.2, 43.8, 41.3, 37.2, 39.8, 42.3, 48.5, 44.8, 50.0, 46.7, 48.3, 44.0, 48.8, 46.0, 10.5, 11.5, 11.0, 12.5, 12.0, 13.5, 13.0, 14.0, 16.6, 16.0, 16.1, 16.4, 17.4, 17.1, 17.0, 17.6, 17.9, 18.4, 18.6, 18.5, 18.0, 18.1, 19.6, 19.4, 19.5, 19.1, 19.0, 20.0, 20.5, 20.9, 20.6, 20.1, 21.0, 21.4, 21.5, 21.9, 21.1, 22.0, 22.5, 22.6, 22.4, 22.1, 23.4, 23.5, 23.9, 23.6, 23.0, 24.1, 24.6, 24.4, 24.5, 25.0, 25.1, 26.4, 27.0, 27.9, 28.0, 28.4, 28.1, 28.5, 28.6, 29.4, 29.9, 29.6, 29.1, 29.0, 30.5, 30.1, 31.1, 31.5, 31.0, 32.5, 32.0, 32.9, 32.4, 32.2, 33.3, 33.8, 33.1, 32.7, 8.4, 34.6, 35.2, 35.1, 10.4, 10.9, 7.0, 36.4, 36.0, 36.5, 36.1, 11.9, 37.9, 37.0, 37.6, 37.3, 13.9, 13.4, 14.4, 14.9, 15.4, 8.5, 41.7, 42.8, 43.1, 43.5, 45.4, 9.5, 8.3, 8.7, 9.7, 10.8, 11.3, 11.7, 12.3, 12.8, 13.2, 13.3, 13.8, 14.8, 14.3, 14.2, 15.2, 15.7, 15.3, 16.2, 16.8, 16.3, 16.7, 17.3, 17.8, 17.2, 17.7, 18.7, 18.8, 18.3, 19.3, 19.7, 19.8, 19.2, 20.2, 20.8, 20.3, 20.7, 21.2, 21.8, 22.2, 22.8, 22.7, 22.3, 23.3, 23.8, 23.2, 23.7, 24.8, 24.2, 24.3, 25.3, 25.2, 26.7, 26.2, 7.5, 28.2, 29.8, 30.3, 30.7, 5.6, 31.7, 31.2, 8.1, 9.6, 12.1, 12.6, 13.1, 14.6, 14.1, 15.6, 15.1}\n"
     ]
    }
   ],
   "source": [
    "# 타겟 데이터 종류 확인\n",
    "# 타겟 데이터 종류를 확인함으로써 분류 문제인지 아니면 회귀 문제인지 파악할 수 있고, 분류 문제라면\n",
    "# 몇 가지 클래스로 구분되는지 알 수 있다.\n",
    "print(set(y))"
   ]
  },
  {
   "cell_type": "code",
   "execution_count": 6,
   "id": "dc8b0cf9",
   "metadata": {},
   "outputs": [
    {
     "name": "stdout",
     "output_type": "stream",
     "text": [
      "(379, 13) (379,) (127, 13) (127,)\n"
     ]
    }
   ],
   "source": [
    "# 트레이닝, 테스트 데이터 분할\n",
    "from sklearn.model_selection import train_test_split # 트레이닝, 테스트 데이터 분할을 위해 import 한다.\n",
    "X_tn, X_te, y_tn, y_te = train_test_split(X, y, random_state=0) # 트레이닝 데이터와 테스트 데이터로 분할한다.\n",
    "print(X_tn.shape, y_tn.shape, X_te.shape, y_te.shape)"
   ]
  },
  {
   "cell_type": "code",
   "execution_count": 7,
   "id": "fd25c778",
   "metadata": {},
   "outputs": [
    {
     "name": "stdout",
     "output_type": "stream",
     "text": [
      "피쳐 개수: 13\n",
      "Model: \"sequential\"\n",
      "_________________________________________________________________\n",
      " Layer (type)                Output Shape              Param #   \n",
      "=================================================================\n",
      " dense (Dense)               (None, 20)                280       \n",
      "                                                                 \n",
      " dense_1 (Dense)             (None, 1)                 21        \n",
      "                                                                 \n",
      "=================================================================\n",
      "Total params: 301\n",
      "Trainable params: 301\n",
      "Non-trainable params: 0\n",
      "_________________________________________________________________\n"
     ]
    }
   ],
   "source": [
    "# 시퀀스 API 신경망 생성\n",
    "from tensorflow.keras.models import Sequential # 시퀀스 API 신경망을 생성하기 위해 import 한다.\n",
    "from tensorflow.keras.layers import Dense # 신경망에 추가할 완전 연결 layer를 생성하기 위해 import 한다.\n",
    "\n",
    "# 회귀 신경망은 모델 학습에 사용되는 피쳐 개수(n)를 지정한다.\n",
    "n = X_tn.shape[1]\n",
    "print(f'피쳐 개수: {n}')\n",
    "epochs = 50\n",
    "\n",
    "# Sequential 객체를 선언 후 Sequential 모델에 add() 메소드로 layer를 추가해서 쌓아올린다.\n",
    "model = Sequential() # 신경망 모델을 만든다.\n",
    "# input_dim 속성으로 입력 데이터(피쳐)의 차원, units 속성으로 layer의 출력 차원, activation 속성으로\n",
    "# 활성화 함수를 지정한다.\n",
    "model.add(Dense(input_dim=n, units=20, activation='relu')) # 신경망 모델에 입력 layer를 추가한다.\n",
    "# 분류 신경망은 구분해야 할 클래스 개수만큼 출력 노드 개수(units)를 지정했지만 회귀 신경경망은 1건을 예측만\n",
    "# 하기때문에 출력 노드 개수를 1로 지정한다.\n",
    "# 회귀 문제를 풀 때 최종 활성화 함수는 활성화 함수 중 항등(선형) 함수 사용해야 하는데, 코드 상에서 최종 활성화\n",
    "# 함수를 지정하지 않으면 기본값이 항등 함수가 적용된다.\n",
    "model.add(Dense(units=1)) # 신경망 모델에 출력 layer를 추가한다.\n",
    "model.summary()"
   ]
  },
  {
   "cell_type": "code",
   "execution_count": 8,
   "id": "849231f8",
   "metadata": {},
   "outputs": [],
   "source": [
    "# 모델 컴파일\n",
    "# 회귀 신경망은 loss 속성에 손실(비용, 오차)함수를 지정할 때 mean_squared_error를 지정하고,\n",
    "# optimizer 속성에 최적화 함수(일반적으로 adam)를 지정한다.\n",
    "# metrics 속성에 평가 기준을 지정한다.\n",
    "model.compile(loss='mean_squared_error', optimizer='adam', metrics=['mean_squared_error'])"
   ]
  },
  {
   "cell_type": "code",
   "execution_count": 9,
   "id": "04cb6eb2",
   "metadata": {},
   "outputs": [
    {
     "name": "stdout",
     "output_type": "stream",
     "text": [
      "Epoch 1/50\n",
      "76/76 [==============================] - 0s 914us/step - loss: 13224.2305 - mean_squared_error: 13224.2305\n",
      "Epoch 2/50\n",
      "76/76 [==============================] - 0s 893us/step - loss: 946.0072 - mean_squared_error: 946.0072\n",
      "Epoch 3/50\n",
      "76/76 [==============================] - 0s 884us/step - loss: 236.4927 - mean_squared_error: 236.4927\n",
      "Epoch 4/50\n",
      "76/76 [==============================] - 0s 902us/step - loss: 160.2282 - mean_squared_error: 160.2282\n",
      "Epoch 5/50\n",
      "76/76 [==============================] - 0s 833us/step - loss: 137.3969 - mean_squared_error: 137.3969\n",
      "Epoch 6/50\n",
      "76/76 [==============================] - 0s 900us/step - loss: 119.2652 - mean_squared_error: 119.2652\n",
      "Epoch 7/50\n",
      "76/76 [==============================] - 0s 895us/step - loss: 106.7322 - mean_squared_error: 106.7322\n",
      "Epoch 8/50\n",
      "76/76 [==============================] - 0s 893us/step - loss: 95.8947 - mean_squared_error: 95.8947\n",
      "Epoch 9/50\n",
      "76/76 [==============================] - 0s 819us/step - loss: 88.6654 - mean_squared_error: 88.6654\n",
      "Epoch 10/50\n",
      "76/76 [==============================] - 0s 920us/step - loss: 83.0600 - mean_squared_error: 83.0600\n",
      "Epoch 11/50\n",
      "76/76 [==============================] - 0s 867us/step - loss: 77.7477 - mean_squared_error: 77.7477\n",
      "Epoch 12/50\n",
      "76/76 [==============================] - 0s 921us/step - loss: 75.0998 - mean_squared_error: 75.0998\n",
      "Epoch 13/50\n",
      "76/76 [==============================] - 0s 842us/step - loss: 71.2254 - mean_squared_error: 71.2254\n",
      "Epoch 14/50\n",
      "76/76 [==============================] - 0s 874us/step - loss: 69.0801 - mean_squared_error: 69.0801\n",
      "Epoch 15/50\n",
      "76/76 [==============================] - 0s 903us/step - loss: 64.9020 - mean_squared_error: 64.9020\n",
      "Epoch 16/50\n",
      "76/76 [==============================] - 0s 908us/step - loss: 62.9335 - mean_squared_error: 62.9335\n",
      "Epoch 17/50\n",
      "76/76 [==============================] - 0s 915us/step - loss: 59.4259 - mean_squared_error: 59.4259\n",
      "Epoch 18/50\n",
      "76/76 [==============================] - 0s 836us/step - loss: 59.3031 - mean_squared_error: 59.3031\n",
      "Epoch 19/50\n",
      "76/76 [==============================] - 0s 880us/step - loss: 58.2663 - mean_squared_error: 58.2663\n",
      "Epoch 20/50\n",
      "76/76 [==============================] - 0s 854us/step - loss: 55.2003 - mean_squared_error: 55.2003\n",
      "Epoch 21/50\n",
      "76/76 [==============================] - 0s 840us/step - loss: 53.7736 - mean_squared_error: 53.7736\n",
      "Epoch 22/50\n",
      "76/76 [==============================] - 0s 894us/step - loss: 52.0477 - mean_squared_error: 52.0477\n",
      "Epoch 23/50\n",
      "76/76 [==============================] - 0s 937us/step - loss: 52.4827 - mean_squared_error: 52.4827\n",
      "Epoch 24/50\n",
      "76/76 [==============================] - 0s 950us/step - loss: 50.1273 - mean_squared_error: 50.1273\n",
      "Epoch 25/50\n",
      "76/76 [==============================] - 0s 916us/step - loss: 48.8820 - mean_squared_error: 48.8820\n",
      "Epoch 26/50\n",
      "76/76 [==============================] - 0s 900us/step - loss: 49.2497 - mean_squared_error: 49.2497\n",
      "Epoch 27/50\n",
      "76/76 [==============================] - 0s 894us/step - loss: 45.6100 - mean_squared_error: 45.6100\n",
      "Epoch 28/50\n",
      "76/76 [==============================] - 0s 976us/step - loss: 46.8916 - mean_squared_error: 46.8916\n",
      "Epoch 29/50\n",
      "76/76 [==============================] - 0s 934us/step - loss: 44.9584 - mean_squared_error: 44.9584\n",
      "Epoch 30/50\n",
      "76/76 [==============================] - 0s 890us/step - loss: 43.9305 - mean_squared_error: 43.9305\n",
      "Epoch 31/50\n",
      "76/76 [==============================] - 0s 1ms/step - loss: 45.7692 - mean_squared_error: 45.7692\n",
      "Epoch 32/50\n",
      "76/76 [==============================] - 0s 894us/step - loss: 41.7876 - mean_squared_error: 41.7876\n",
      "Epoch 33/50\n",
      "76/76 [==============================] - 0s 884us/step - loss: 42.4671 - mean_squared_error: 42.4671\n",
      "Epoch 34/50\n",
      "76/76 [==============================] - 0s 882us/step - loss: 42.3177 - mean_squared_error: 42.3177\n",
      "Epoch 35/50\n",
      "76/76 [==============================] - 0s 907us/step - loss: 40.7671 - mean_squared_error: 40.7671\n",
      "Epoch 36/50\n",
      "76/76 [==============================] - 0s 907us/step - loss: 40.5618 - mean_squared_error: 40.5618\n",
      "Epoch 37/50\n",
      "76/76 [==============================] - 0s 858us/step - loss: 39.4479 - mean_squared_error: 39.4479\n",
      "Epoch 38/50\n",
      "76/76 [==============================] - 0s 852us/step - loss: 38.9652 - mean_squared_error: 38.9652\n",
      "Epoch 39/50\n",
      "76/76 [==============================] - 0s 917us/step - loss: 37.8555 - mean_squared_error: 37.8555\n",
      "Epoch 40/50\n",
      "76/76 [==============================] - 0s 894us/step - loss: 36.9818 - mean_squared_error: 36.9818\n",
      "Epoch 41/50\n",
      "76/76 [==============================] - 0s 969us/step - loss: 37.3299 - mean_squared_error: 37.3299\n",
      "Epoch 42/50\n",
      "76/76 [==============================] - 0s 879us/step - loss: 36.9966 - mean_squared_error: 36.9966\n",
      "Epoch 43/50\n",
      "76/76 [==============================] - 0s 841us/step - loss: 36.7918 - mean_squared_error: 36.7918\n",
      "Epoch 44/50\n",
      "76/76 [==============================] - 0s 919us/step - loss: 37.0275 - mean_squared_error: 37.0275\n",
      "Epoch 45/50\n",
      "76/76 [==============================] - 0s 920us/step - loss: 35.6234 - mean_squared_error: 35.6234\n",
      "Epoch 46/50\n",
      "76/76 [==============================] - 0s 958us/step - loss: 37.1242 - mean_squared_error: 37.1242\n",
      "Epoch 47/50\n",
      "76/76 [==============================] - 0s 906us/step - loss: 35.2231 - mean_squared_error: 35.2231\n",
      "Epoch 48/50\n",
      "76/76 [==============================] - 0s 934us/step - loss: 38.5809 - mean_squared_error: 38.5809\n",
      "Epoch 49/50\n",
      "76/76 [==============================] - 0s 852us/step - loss: 34.2160 - mean_squared_error: 34.2160\n",
      "Epoch 50/50\n",
      "76/76 [==============================] - 0s 874us/step - loss: 34.6137 - mean_squared_error: 34.6137\n"
     ]
    }
   ],
   "source": [
    "# 신경망 학습\n",
    "# 트레이닝 피쳐 데이터(X_tn)와 트레이닝 데이터에 따른 타겟 데이터(y_tn)를 지정하고 epochs 속성에\n",
    "# epoch와 batch_size 속성에 batch_size를 지정한다.\n",
    "hist = model.fit(X_tn, y_tn, epochs=epochs, batch_size=5)"
   ]
  },
  {
   "cell_type": "code",
   "execution_count": 10,
   "id": "8e985977",
   "metadata": {},
   "outputs": [
    {
     "name": "stdout",
     "output_type": "stream",
     "text": [
      "12/12 [==============================] - 0s 2ms/step - loss: 33.1847 - mean_squared_error: 33.1847\n",
      "[33.184661865234375, 33.184661865234375]\n",
      "4/4 [==============================] - 0s 1ms/step - loss: 47.0629 - mean_squared_error: 47.0629\n",
      "[47.06294250488281, 47.06294250488281]\n"
     ]
    }
   ],
   "source": [
    "# 신경망 학습 평가\n",
    "print(model.evaluate(X_tn, y_tn)) # 트레이닝 피쳐 데이터를 트레이닝 피처 타겟 데이터와 학습 평가\n",
    "print(model.evaluate(X_te, y_te)) # 테스트 피쳐 데이터를 테스트 피처 타겟 데이터와 학습 평가"
   ]
  },
  {
   "cell_type": "code",
   "execution_count": 14,
   "id": "e0b7a351",
   "metadata": {},
   "outputs": [],
   "source": [
    "# 정확도 및 손실 정도 시각화 준비\n",
    "epoch = np.arange(1, epochs + 1)\n",
    "# print(epoch)\n",
    "mse = hist.history['mean_squared_error'] # 모델 실행 결과에서 정확도만 얻어온다.\n",
    "# print(mse)\n",
    "loss = hist.history['loss'] # 모델 실행 결과에서 오차만 얻어온다.\n",
    "# print(loss)"
   ]
  },
  {
   "cell_type": "code",
   "execution_count": 15,
   "id": "1c68204d",
   "metadata": {},
   "outputs": [
    {
     "data": {
      "image/png": "[encoded data removed]",
      "text/plain": [
       "<Figure size 800x600 with 1 Axes>"
      ]
     },
     "metadata": {},
     "output_type": "display_data"
    }
   ],
   "source": [
    "# MSE 학습 시각화\n",
    "import matplotlib.pyplot as plt\n",
    "plt.figure(figsize=(8, 6))\n",
    "plt.plot(epoch, mse, label='mse', marker='o')\n",
    "plt.xlabel('epoch')\n",
    "plt.ylabel('mse')\n",
    "plt.legend()\n",
    "plt.show()\n",
    "# 정확도 확인 결과 에포크 진행 단계별로 MSE가 감소하는 것을 볼 수 있다."
   ]
  },
  {
   "cell_type": "code",
   "execution_count": 17,
   "id": "4a67e9e9",
   "metadata": {},
   "outputs": [
    {
     "data": {
      "image/png": "[encoded data removed]",
      "text/plain": [
       "<Figure size 800x600 with 1 Axes>"
      ]
     },
     "metadata": {},
     "output_type": "display_data"
    }
   ],
   "source": [
    "# MSE 학습 시각화\n",
    "import matplotlib.pyplot as plt\n",
    "plt.figure(figsize=(8, 6))\n",
    "plt.plot(epoch, loss, 'r', label='loss', marker='o')\n",
    "plt.xlabel('epoch')\n",
    "plt.ylabel('loss')\n",
    "plt.legend()\n",
    "plt.show()\n",
    "# 손실 확인 결과 에포크 진행 단계별로 손실이 점차 낮아지는 것을 볼 수 있다."
   ]
  },
  {
   "cell_type": "code",
   "execution_count": 27,
   "id": "5fea5e72",
   "metadata": {
    "scrolled": true
   },
   "outputs": [
    {
     "name": "stdout",
     "output_type": "stream",
     "text": [
      "4/4 [==============================] - 0s 2ms/step\n",
      "[26.519539  23.977924  26.071924  13.947469  24.573595  24.120018\n",
      " 23.931797  30.123907  18.933132  11.727341   4.7048097 12.828777\n",
      " 18.476871   8.709119  29.18116   28.988186  24.644285  28.739672\n",
      " 26.000301  24.957413  26.04909   20.93634   23.66595   29.871609\n",
      " 24.294094  17.117825  21.629337  15.729871  33.406     23.678463\n",
      " 17.516846  21.460081  23.717653  24.308395  27.893084  20.94902\n",
      " 10.399341  24.326988  14.289198  14.415623  22.663683  21.819965\n",
      " 26.026077  17.460846  29.775818  30.880594  17.948322  19.207525\n",
      " 12.57229   26.772194  11.85322   21.592663  21.519419  29.579077\n",
      " 13.639606  19.975983  22.28108   23.496902  13.827341  22.041035\n",
      " 29.44554   21.11295   27.774818  26.857475  19.68822   30.047554\n",
      " 19.204985  17.166576  15.442866  21.484337  24.332253  25.560917\n",
      " 28.785524  30.058136  24.99879    8.797082  27.385124  22.27449\n",
      " 28.21265   24.059689  24.69448   23.550766  21.466206  28.901318\n",
      " 28.676     24.863369  26.115273  10.71703   24.446941  18.000866\n",
      " 28.23613   12.047241  26.483128  28.525597  27.558311  25.359684\n",
      "  6.6142287 30.024967  14.218414  25.63692   21.89896   24.861757\n",
      " 26.935608  22.752361  23.830465  21.59872    6.8298364 19.691246\n",
      " 26.298023  25.285347  26.16264   12.872004  18.891068  21.504013\n",
      " 10.908056  19.195288   3.4847662 25.145     14.108404  42.78245\n",
      " 30.599846  15.628082  24.520752  24.838326  23.251846  22.78727\n",
      " 39.744465 ]\n"
     ]
    }
   ],
   "source": [
    "# 실제값, 예측값 데이터프레임 생성\n",
    "pred_y = model.predict(X_te).flatten()\n",
    "print(pred_y)"
   ]
  },
  {
   "cell_type": "code",
   "execution_count": 28,
   "id": "23f7ae52",
   "metadata": {},
   "outputs": [
    {
     "data": {
      "text/html": [
       "<div>\n",
       "<style scoped>\n",
       "    .dataframe tbody tr th:only-of-type {\n",
       "        vertical-align: middle;\n",
       "    }\n",
       "\n",
       "    .dataframe tbody tr th {\n",
       "        vertical-align: top;\n",
       "    }\n",
       "\n",
       "    .dataframe thead th {\n",
       "        text-align: right;\n",
       "    }\n",
       "</style>\n",
       "<table border=\"1\" class=\"dataframe\">\n",
       "  <thead>\n",
       "    <tr style=\"text-align: right;\">\n",
       "      <th></th>\n",
       "      <th>predict_val</th>\n",
       "      <th>real_val</th>\n",
       "    </tr>\n",
       "  </thead>\n",
       "  <tbody>\n",
       "    <tr>\n",
       "      <th>0</th>\n",
       "      <td>26.519539</td>\n",
       "      <td>22.6</td>\n",
       "    </tr>\n",
       "    <tr>\n",
       "      <th>1</th>\n",
       "      <td>23.977924</td>\n",
       "      <td>50.0</td>\n",
       "    </tr>\n",
       "    <tr>\n",
       "      <th>2</th>\n",
       "      <td>26.071924</td>\n",
       "      <td>23.0</td>\n",
       "    </tr>\n",
       "    <tr>\n",
       "      <th>3</th>\n",
       "      <td>13.947469</td>\n",
       "      <td>8.3</td>\n",
       "    </tr>\n",
       "    <tr>\n",
       "      <th>4</th>\n",
       "      <td>24.573595</td>\n",
       "      <td>21.2</td>\n",
       "    </tr>\n",
       "    <tr>\n",
       "      <th>...</th>\n",
       "      <td>...</td>\n",
       "      <td>...</td>\n",
       "    </tr>\n",
       "    <tr>\n",
       "      <th>122</th>\n",
       "      <td>24.520752</td>\n",
       "      <td>19.4</td>\n",
       "    </tr>\n",
       "    <tr>\n",
       "      <th>123</th>\n",
       "      <td>24.838326</td>\n",
       "      <td>21.2</td>\n",
       "    </tr>\n",
       "    <tr>\n",
       "      <th>124</th>\n",
       "      <td>23.251846</td>\n",
       "      <td>20.3</td>\n",
       "    </tr>\n",
       "    <tr>\n",
       "      <th>125</th>\n",
       "      <td>22.787270</td>\n",
       "      <td>18.8</td>\n",
       "    </tr>\n",
       "    <tr>\n",
       "      <th>126</th>\n",
       "      <td>39.744465</td>\n",
       "      <td>33.4</td>\n",
       "    </tr>\n",
       "  </tbody>\n",
       "</table>\n",
       "<p>127 rows × 2 columns</p>\n",
       "</div>"
      ],
      "text/plain": [
       "     predict_val  real_val\n",
       "0      26.519539      22.6\n",
       "1      23.977924      50.0\n",
       "2      26.071924      23.0\n",
       "3      13.947469       8.3\n",
       "4      24.573595      21.2\n",
       "..           ...       ...\n",
       "122    24.520752      19.4\n",
       "123    24.838326      21.2\n",
       "124    23.251846      20.3\n",
       "125    22.787270      18.8\n",
       "126    39.744465      33.4\n",
       "\n",
       "[127 rows x 2 columns]"
      ]
     },
     "execution_count": 28,
     "metadata": {},
     "output_type": "execute_result"
    }
   ],
   "source": [
    "import pandas as pd\n",
    "result_df = pd.DataFrame(pred_y, columns=['predict_val'])\n",
    "result_df['real_val'] = y_te\n",
    "result_df"
   ]
  },
  {
   "cell_type": "code",
   "execution_count": 33,
   "id": "5adb7fce",
   "metadata": {},
   "outputs": [
    {
     "data": {
      "text/html": [
       "<div>\n",
       "<style scoped>\n",
       "    .dataframe tbody tr th:only-of-type {\n",
       "        vertical-align: middle;\n",
       "    }\n",
       "\n",
       "    .dataframe tbody tr th {\n",
       "        vertical-align: top;\n",
       "    }\n",
       "\n",
       "    .dataframe thead th {\n",
       "        text-align: right;\n",
       "    }\n",
       "</style>\n",
       "<table border=\"1\" class=\"dataframe\">\n",
       "  <thead>\n",
       "    <tr style=\"text-align: right;\">\n",
       "      <th></th>\n",
       "      <th>predict_val</th>\n",
       "      <th>real_val</th>\n",
       "    </tr>\n",
       "  </thead>\n",
       "  <tbody>\n",
       "    <tr>\n",
       "      <th>116</th>\n",
       "      <td>3.484766</td>\n",
       "      <td>8.4</td>\n",
       "    </tr>\n",
       "    <tr>\n",
       "      <th>10</th>\n",
       "      <td>4.704810</td>\n",
       "      <td>8.8</td>\n",
       "    </tr>\n",
       "    <tr>\n",
       "      <th>96</th>\n",
       "      <td>6.614229</td>\n",
       "      <td>13.8</td>\n",
       "    </tr>\n",
       "    <tr>\n",
       "      <th>106</th>\n",
       "      <td>6.829836</td>\n",
       "      <td>10.4</td>\n",
       "    </tr>\n",
       "    <tr>\n",
       "      <th>13</th>\n",
       "      <td>8.709119</td>\n",
       "      <td>10.5</td>\n",
       "    </tr>\n",
       "    <tr>\n",
       "      <th>...</th>\n",
       "      <td>...</td>\n",
       "      <td>...</td>\n",
       "    </tr>\n",
       "    <tr>\n",
       "      <th>120</th>\n",
       "      <td>30.599846</td>\n",
       "      <td>30.5</td>\n",
       "    </tr>\n",
       "    <tr>\n",
       "      <th>45</th>\n",
       "      <td>30.880594</td>\n",
       "      <td>21.6</td>\n",
       "    </tr>\n",
       "    <tr>\n",
       "      <th>28</th>\n",
       "      <td>33.405998</td>\n",
       "      <td>38.7</td>\n",
       "    </tr>\n",
       "    <tr>\n",
       "      <th>126</th>\n",
       "      <td>39.744465</td>\n",
       "      <td>33.4</td>\n",
       "    </tr>\n",
       "    <tr>\n",
       "      <th>119</th>\n",
       "      <td>42.782452</td>\n",
       "      <td>50.0</td>\n",
       "    </tr>\n",
       "  </tbody>\n",
       "</table>\n",
       "<p>127 rows × 2 columns</p>\n",
       "</div>"
      ],
      "text/plain": [
       "     predict_val  real_val\n",
       "116     3.484766       8.4\n",
       "10      4.704810       8.8\n",
       "96      6.614229      13.8\n",
       "106     6.829836      10.4\n",
       "13      8.709119      10.5\n",
       "..           ...       ...\n",
       "120    30.599846      30.5\n",
       "45     30.880594      21.6\n",
       "28     33.405998      38.7\n",
       "126    39.744465      33.4\n",
       "119    42.782452      50.0\n",
       "\n",
       "[127 rows x 2 columns]"
      ]
     },
     "execution_count": 33,
     "metadata": {},
     "output_type": "execute_result"
    }
   ],
   "source": [
    "# 예측값을 기준으로 데이터프레임을 오름차순으로 정렬한다.\n",
    "df_sort = result_df.sort_values(['predict_val'], ascending=True)\n",
    "df_sort"
   ]
  },
  {
   "cell_type": "code",
   "execution_count": 37,
   "id": "82553f62",
   "metadata": {},
   "outputs": [
    {
     "data": {
      "image/png": "[encoded data removed]",
      "text/plain": [
       "<Figure size 800x600 with 1 Axes>"
      ]
     },
     "metadata": {},
     "output_type": "display_data"
    }
   ],
   "source": [
    "# 예측값, 실제값 비교 그래프\n",
    "import matplotlib.pyplot as plt\n",
    "plt.figure(figsize=(8, 6))\n",
    "idx = np.arange(1, len(df_sort) + 1)\n",
    "plt.scatter(idx, df_sort['real_val'], label='real_val', marker='o')\n",
    "plt.plot(idx, df_sort['predict_val'], label='predict_val', color='r')\n",
    "plt.xlabel('index')\n",
    "plt.ylabel('value')\n",
    "plt.legend()\n",
    "plt.show()"
   ]
  },
  {
   "cell_type": "code",
   "execution_count": null,
   "id": "a936e68c",
   "metadata": {},
   "outputs": [],
   "source": []
  }
 ],
 "metadata": {
  "kernelspec": {
   "display_name": "py37",
   "language": "python",
   "name": "py37"
  },
  "language_info": {
   "codemirror_mode": {
    "name": "ipython",
    "version": 3
   },
   "file_extension": ".py",
   "mimetype": "text/x-python",
   "name": "python",
   "nbconvert_exporter": "python",
   "pygments_lexer": "ipython3",
   "version": "3.7.16"
  }
 },
 "nbformat": 4,
 "nbformat_minor": 5
}
