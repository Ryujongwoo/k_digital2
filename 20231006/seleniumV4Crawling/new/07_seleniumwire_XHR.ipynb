{
 "cells": [
  {
   "cell_type": "code",
   "execution_count": 1,
   "id": "650b1587",
   "metadata": {},
   "outputs": [],
   "source": [
    "import warnings\n",
    "warnings.filterwarnings(action='ignore')\n",
    "%config Completer.use_jedi = False\n",
    "from selenium.webdriver.chrome.options import Options\n",
    "from selenium.webdriver.common.by import By\n",
    "# pip install selenium-wire\n",
    "# selenium-wire가 import 안되면 python -m pip install --upgrade pip를 실행하고 다시 설치한다.\n",
    "from seleniumwire import webdriver # https://pypi.org/project/selenium-wire/\n",
    "import json\n",
    "import time"
   ]
  },
  {
   "cell_type": "markdown",
   "id": "20738b43",
   "metadata": {},
   "source": [
    "selenium-wire를 이용한 스타벅스 시도 코드 크롤링"
   ]
  },
  {
   "cell_type": "code",
   "execution_count": 13,
   "id": "dbe5e675",
   "metadata": {
    "scrolled": false
   },
   "outputs": [
    {
     "name": "stdout",
     "output_type": "stream",
     "text": [
      "{'서울': '01', '경기': '08', '광주': '02', '대구': '03', '대전': '04', '부산': '05', '울산': '06', '인천': '07', '강원': '09', '경남': '10', '경북': '11', '전남': '12', '전북': '13', '충남': '14', '충북': '15', '제주': '16', '세종': '17'}\n"
     ]
    }
   ],
   "source": [
    "option = Options()\n",
    "option.add_argument('--window-size=1890,1030')\n",
    "# driver = webdriver.Chrome('./chromedriver.exe', options=option) # 에러\n",
    "driver = webdriver.Chrome(options=option)\n",
    "driver.implicitly_wait(5)\n",
    "driver.get('https://www.starbucks.co.kr/store/store_map.do?disp=locale')\n",
    "\n",
    "request = driver.wait_for_request('https://www.starbucks.co.kr/store/getSidoList.do', timeout=10)\n",
    "# print(request.url)\n",
    "# print(request.response.status_code)\n",
    "# print(request.response.headers)\n",
    "# print(request.response.headers['Content-Type'])\n",
    "# print(request.response.body.decode('utf-8'))\n",
    "# print(type(request.response.body.decode('utf-8')))\n",
    "\n",
    "starbucks = json.loads(request.response.body.decode('utf-8'))\n",
    "# print(type(starbucks))\n",
    "# print(starbucks)\n",
    "\n",
    "sido_list = {}\n",
    "for star in starbucks['list']:\n",
    "    sido_list[star.get('sido_nm')] = star['sido_cd']\n",
    "print(sido_list)"
   ]
  },
  {
   "cell_type": "markdown",
   "id": "5d1d7879",
   "metadata": {},
   "source": [
    "selenium-wire를 이용한 스타벅스 구군 코드 크롤링"
   ]
  },
  {
   "cell_type": "code",
   "execution_count": 20,
   "id": "7a83e0d4",
   "metadata": {},
   "outputs": [
    {
     "name": "stdout",
     "output_type": "stream",
     "text": [
      "시도: 서울\n",
      "{'강남구': '0101', '강동구': '0120', '강북구': '0102', '강서구': '0103', '관악구': '0104', '광진구': '0105', '구로구': '0121', '금천구': '0106', '노원구': '0107', '도봉구': '0108', '동대문구': '0122', '동작구': '0109', '마포구': '0110', '서대문구': '0111', '서초구': '0112', '성동구': '0123', '성북구': '0113', '송파구': '0114', '양천구': '0115', '영등포구': '0116', '용산구': '0124', '은평구': '0117', '종로구': '0118', '중구': '0119', '중랑구': '0125'}\n"
     ]
    }
   ],
   "source": [
    "option = Options()\n",
    "option.add_argument('--window-size=1890,1030')\n",
    "driver = webdriver.Chrome(options=option)\n",
    "driver.implicitly_wait(5)\n",
    "driver.get('https://www.starbucks.co.kr/store/store_map.do?disp=locale')\n",
    "\n",
    "sido_list = {'서울': '01', '경기': '02', '광주': '03', '대구': '04', '대전': '05', '부산': '06', '울산': '07', \n",
    "             '인천': '08', '강원': '09', '경남': '10', '경북': '11', '전남': '12', '전북': '13', '충남': '14', \n",
    "             '충북': '15', '제주': '16', '세종': '17'}\n",
    "sido = input('시도: ')\n",
    "\n",
    "driver.find_element(By.XPATH,\n",
    "    '//*[@id=\"container\"]/div/form/fieldset/div/section/article[1]/article/article[2]/div[1]/div[2]/ul/li[' + \n",
    "                   str(int(sido_list[sido]))  + ']/a'\n",
    ").click()\n",
    "time.sleep(1)\n",
    "\n",
    "request = driver.wait_for_request('https://www.starbucks.co.kr/store/getGugunList.do', timeout=10)\n",
    "starbucks = json.loads(request.response.body.decode('utf-8'))\n",
    "# print(starbucks)\n",
    "gugun_list = {}\n",
    "for star in starbucks['list']:\n",
    "    gugun_list[star.get('gugun_nm')] = star['gugun_cd']\n",
    "print(gugun_list)"
   ]
  },
  {
   "cell_type": "markdown",
   "id": "cec48a52",
   "metadata": {},
   "source": [
    "selenium-wire를 이용한 스타벅스 지역별 매장 정보 크롤링"
   ]
  },
  {
   "cell_type": "code",
   "execution_count": 31,
   "id": "624b9643",
   "metadata": {
    "scrolled": true
   },
   "outputs": [
    {
     "name": "stdout",
     "output_type": "stream",
     "text": [
      "시도: 서울\n",
      "구군: 서초구\n",
      "  1. 서울웨이브아트센터: 서울특별시 서초구 잠원로 145-35 (잠원동)(37.518807, 127.00704)\n",
      "  2. 서이초교사거리: 서울특별시 서초구 사임당로 143 (서초동)(37.4918146, 127.0252252)\n",
      "  3. 강남역우송빌딩: 서울특별시 서초구 서초대로73길 7 (서초동)(37.4981314601413, 127.02527908458)\n",
      "  4. 반포자이: 서울특별시 서초구 잠원로 24 (반포동)(37.507170475349405, 127.0099189083483)\n",
      "  5. 강남에비뉴: 서울특별시 서초구 서초대로77길 62, 강남역아이파크 B102~B105 (서초동)(37.5027, 127.023894)\n",
      "  6. 서울교대: 서울특별시 서초구 서초중앙로 64, 1층 (서초동)(37.487397, 127.015134)\n",
      "  7. 서초동: 서울특별시 서초구 남부순환로339길 64, 현우빌딩 1층 (서초동)(37.485941, 127.021525)\n",
      "  8. 강남GT타워: 서울특별시 서초구 서초대로 411, GT타워 (서초동)(37.498056, 127.02583300000003)\n",
      "  9. 교대법원: 서울특별시 서초구 서초중앙로 164 (서초동)(37.496329, 127.013336)\n",
      " 10. 서초역: 서울특별시 서초구 반포대로 118 (서초동)(37.49067495, 127.0086118)\n",
      " 11. 몬테소리: 서울특별시 서초구 강남대로 399 (서초동)(37.4982695, 127.026865)\n",
      " 12. 서래마을입구: 서울특별시 서초구 서래로 48 (반포동)(37.49925284, 126.9984801)\n",
      " 13. 남부터미널2: 서울특별시 서초구 효령로 274 (서초동)(37.48436736, 127.0142192)\n",
      " 14. 영동2교: 서울특별시 서초구 논현로 139, 대흥빌딩 (양재동)(37.48203954, 127.0425748)\n",
      " 15. 신논현역: 서울특별시 서초구 강남대로 483 (반포동) 청호빌딩(37.50529, 127.023636)\n",
      " 16. 하이브랜드: 서울특별시 서초구 매헌로 16, 리빙관 101호 (양재동)(37.46330766, 127.0368447)\n",
      " 17. 교대: 서울특별시 서초구 서초중앙로 118 (서초동)(37.4923611, 127.0142207)\n",
      " 18. 강남2: 서울특별시 서초구 서초대로77길 27, 유빌딩 1,2층 (서초동)(37.5000875, 127.02549090000002)\n",
      " 19. 뉴코아강남: 서울특별시 서초구 잠원로 69 (잠원동) 킴스클럽(37.51031339, 127.0069582)\n",
      " 20. 남부터미널: 서울특별시 서초구 서초중앙로 26, 래미안서초유니빌 1층 101호 (서초동)(37.48467334, 127.0169464)\n",
      " 21. 반포역: 서울특별시 서초구 신반포로 257 (잠원동) 신반포11차상가(37.508589, 127.011959)\n",
      " 22. 방배역: 서울특별시 서초구 방배로 84 (방배동)(37.48200755, 126.9976438)\n",
      " 23. 강남삼성타운: 서울특별시 서초구 서초대로78길 24 (서초동)(37.49562035, 127.0277144)\n",
      " 24. 센트럴시티: 서울특별시 서초구 신반포로 176 (반포동)(37.504707, 127.004459)\n",
      " 25. 서초중앙로: 서울특별시 서초구 서초중앙로 225(37.501691, 127.01152)\n",
      " 26. 서울아트센터: 서울특별시 서초구 남부순환로 2395 (서초동) 호경빌딩(37.480866, 127.012368)\n",
      " 27. 서초파라곤: 서울특별시 서초구 서초대로74길 29 (서초동) 서초파라곤(37.494941, 127.027422)\n",
      " 28. 내방역: 서울특별시 서초구 방배로 184 (방배동) 대풍빌딩(37.490004, 126.992455)\n",
      " 29. 이수역: 서울특별시 서초구 동작대로 112 (방배동)(37.4864664, 126.98274029999993)\n",
      " 30. 논현역: 서울특별시 서초구 강남대로 557 (잠원동) 1~2층(37.5111983, 127.0205875)\n",
      " 31. 양재역: 서울특별시 서초구 강남대로 202 (양재동) 모산빌딩(37.4820475, 127.0367682)\n",
      " 32. 파미에파크R: 서울특별시 서초구 사평대로 205 (반포동) CENTRALCITY(37.5030521, 127.004362)\n",
      " 33. 사당로데오: 서울특별시 서초구 방배천로 5-4(방배동)(37.4772752, 126.98216049999996)\n",
      " 34. 청계산입구역: 서울특별시 서초구 청계산로 203 (신원동)(37.447323, 127.056250)\n",
      " 35. 서초법원: 서울특별시 서초구 서초대로 274 (서초동)(37.492970, 127.011875)\n",
      " 36. 방배카페거리: 서울특별시 서초구 방배중앙로 162 (방배동)(37.4934767, 126.9865297)\n",
      " 37. 방배: 서울특별시 서초구 방배로 211(37.491914, 126.99049739999998)\n",
      " 38. 강남대로논현R: 서울특별시 서초구 강남대로85길 5 (반포동)(37.507413, 127.022568)\n",
      " 39. 서울고속터미널: 서울특별시 서초구 신반포로 194 (반포동)(37.504406, 127.005648)\n",
      " 40. 강남대로신사: 서울특별시 서초구 강남대로 595 (잠원동)(37.51489, 127.019469)\n",
      " 41. 이수역사거리: 서울특별시 서초구 서초대로 3-4 (방배동, 방배디오슈페리움1)(37.48585, 126.983027)\n",
      " 42. 서초우성사거리: 서울특별시 서초구 강남대로 343 (서초동)(37.493545, 127.02943)\n",
      " 43. 서초구청: 서울특별시 서초구 남부순환로 2557 (서초동)(37.484206, 127.030103)\n",
      " 44. 서초역이화빌딩: 서울특별시 서초구 반포대로21길 3 (서초동)(37.487931, 127.009126)\n",
      " 45. 센트럴F1: 서울특별시 서초구 신반포로 176 (반포동)(37.505148, 127.004395)\n",
      " 46. 방배다이치빌딩: 서울특별시 서초구 방배로 114 (방배동)(37.484329, 126.995872)\n",
      " 47. 강남교보타워R: 서울특별시 서초구 강남대로 465 (서초동)(37.503789, 127.024075)\n",
      " 48. 방배로: 서울특별시 서초구 방배로 52 (방배동)(37.4793434, 126.9994968)\n"
     ]
    }
   ],
   "source": [
    "option = Options()\n",
    "option.add_argument('--window-size=1890,1030')\n",
    "driver = webdriver.Chrome(options=option)\n",
    "driver.implicitly_wait(5)\n",
    "driver.get('https://www.starbucks.co.kr/store/store_map.do?disp=locale')\n",
    "\n",
    "sido_list = {'서울': '01', '경기': '02', '광주': '03', '대구': '04', '대전': '05', '부산': '06', '울산': '07', \n",
    "             '인천': '08', '강원': '09', '경남': '10', '경북': '11', '전남': '12', '전북': '13', '충남': '14', \n",
    "             '충북': '15', '제주': '16', '세종': '17'}\n",
    "sido = input('시도: ')\n",
    "driver.find_element(By.XPATH,\n",
    "    '//*[@id=\"container\"]/div/form/fieldset/div/section/article[1]/article/article[2]/div[1]/div[2]/ul/li[' + \n",
    "                   str(int(sido_list[sido]))  + ']/a'\n",
    ").click()\n",
    "time.sleep(1)\n",
    "\n",
    "request = driver.wait_for_request('https://www.starbucks.co.kr/store/getGugunList.do', timeout=10)\n",
    "starbucks = json.loads(request.response.body.decode('utf-8'))\n",
    "gugun_list = {}\n",
    "for i, star in zip(range(2, len(starbucks['list']) + 2), starbucks['list']):\n",
    "    gugun_list[star.get('gugun_nm')] = i\n",
    "# print(gugun_list)\n",
    "\n",
    "gugun = input('구군: ')\n",
    "'''\n",
    "driver.find_element(By.XPATH,\n",
    "    '//*[@id=\"mCSB_2_container\"]/ul/li[' + str(gugun_list[gugun]) +  ']/a'\n",
    ").click()\n",
    "'''\n",
    "driver.find_element(By.CSS_SELECTOR,\n",
    "    '#mCSB_2_container > ul > li:nth-child(' + str(gugun_list[gugun]) + ') > a '\n",
    ").click()\n",
    "time.sleep(1)\n",
    "\n",
    "request = driver.wait_for_request('https://www.starbucks.co.kr/store/getStore.do', timeout=10)\n",
    "starbucks = json.loads(request.response.body.decode('utf-8'))\n",
    "store_list = {}\n",
    "for i, star in zip(range(1, len(starbucks['list']) + 1), starbucks['list']):\n",
    "    print('{:3d}. {}: {}({}, {})'.format(i, star['s_name'], star['doro_address'], star['lat'], star['lot']))"
   ]
  },
  {
   "cell_type": "code",
   "execution_count": null,
   "id": "8de9be91",
   "metadata": {},
   "outputs": [],
   "source": []
  }
 ],
 "metadata": {
  "kernelspec": {
   "display_name": "py37",
   "language": "python",
   "name": "py37"
  },
  "language_info": {
   "codemirror_mode": {
    "name": "ipython",
    "version": 3
   },
   "file_extension": ".py",
   "mimetype": "text/x-python",
   "name": "python",
   "nbconvert_exporter": "python",
   "pygments_lexer": "ipython3",
   "version": "3.7.16"
  }
 },
 "nbformat": 4,
 "nbformat_minor": 5
}
