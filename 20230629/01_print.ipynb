{
 "cells": [
  {
   "cell_type": "markdown",
   "id": "526340a1",
   "metadata": {},
   "source": [
    "유용한 단축키  \n",
    "\n",
    "자동완성: tab  \n",
    "코드실행: ctrl + enter => 셀 실행, shift + enter => 셀 실행 후 다음 셀로 이동, 다음 셀이 없으면 빈 셀 추가  \n",
    "함수 설명보기: shift + tab  \n",
    "현재 셀 위에 빈 셀 삽입: a  \n",
    "현재 셀 아래에 빈 셀 삽입: b  \n",
    "현재 셀 삭제: d  \n",
    "현재 셀 복사: c  \n",
    "현재 셀 자르기: x  \n",
    "현재 셀 아래에 복사 또는 잘라낸 셀 붙이기: v  \n",
    "코드 셀을 마크다운 셀로 바꾸기: m  \n",
    "마크다운 셀을 코드 셀로 바꾸기: y"
   ]
  },
  {
   "cell_type": "code",
   "execution_count": 26,
   "id": "cdf85b8f",
   "metadata": {},
   "outputs": [],
   "source": [
    "# '#'으로 시작하면 1줄 주석 => 컴파일러(번역)나 인터프리터(통역)가 반격하지 않는다. => 코드 설명\n",
    "# ''' 부터 ''' 사이에 코딩하면 범위 주석을 지정할 수 있다."
   ]
  },
  {
   "cell_type": "code",
   "execution_count": 28,
   "id": "ff6f1edf",
   "metadata": {},
   "outputs": [
    {
     "data": {
      "image/png": "[encoded data removed]",
      "text/plain": [
       "<IPython.core.display.Image object>"
      ]
     },
     "execution_count": 28,
     "metadata": {
      "image/png": {
       "width": "200"
      }
     },
     "output_type": "execute_result"
    }
   ],
   "source": [
    "# jupyter notebook에 코드로 image 넣기\n",
    "from IPython.display import Image\n",
    "Image('./images/python.png', width='200')"
   ]
  },
  {
   "cell_type": "markdown",
   "id": "977f3458",
   "metadata": {},
   "source": [
    "마크다운 이미지 넣기  \n",
    "<img src=\"./images/python.png\" align=\"left\" title=\"파이썬 로고 이미지\" width=\"200\"/>"
   ]
  },
  {
   "cell_type": "code",
   "execution_count": 35,
   "id": "281cf587",
   "metadata": {},
   "outputs": [
    {
     "name": "stdout",
     "output_type": "stream",
     "text": [
      "Hello Python\n",
      "안녕 파이썬\n",
      "제2외국어를 배운 호랑이가 \"야옹\" 했습니다.\n",
      "제2외국어를 배운 고양이가 '어흥' 했습니다.\n",
      "제2외국어를 배운 호랑이가 '야옹' 했습니다.\n",
      "제2외국어를 배운 고양이가 \"어흥\" 했습니다.\n"
     ]
    }
   ],
   "source": [
    "# 파이썬은 문자열 데이터를 표현할 때 큰따옴표나 작은따옴표로 묶어주면 된다. => 짝만 맞추면 된다.\n",
    "# print() 함수는 별도의 설정을 하지않으면 ()안의 내용을 출력하고 줄을 바꾼다.\n",
    "print('Hello Python')\n",
    "print(\"안녕 파이썬\")\n",
    "print('제2외국어를 배운 호랑이가 \"야옹\" 했습니다.')\n",
    "print(\"제2외국어를 배운 고양이가 '어흥' 했습니다.\")\n",
    "print('제2외국어를 배운 호랑이가 \\'야옹\\' 했습니다.')\n",
    "print(\"제2외국어를 배운 고양이가 \\\"어흥\\\" 했습니다.\")"
   ]
  },
  {
   "cell_type": "code",
   "execution_count": 41,
   "id": "d9d33268",
   "metadata": {},
   "outputs": [
    {
     "name": "stdout",
     "output_type": "stream",
     "text": [
      "Hello\n",
      "Python: 안녕 파이썬\n"
     ]
    }
   ],
   "source": [
    "# print() 함수로 출력 후 줄을 변경하지 않으려면 end 옵션을 사용한다.\n",
    "# end 옵션은 print() 함수로 출력한 후 출력할 내용을 지정한다.\n",
    "# end 옵션을 생략하면 '\\n'이 기본값으로 사용된다. '\\n' => new line => 줄을 바꾼다.\n",
    "print('Hello\\nPython', end=': ')\n",
    "print('안녕 파이썬')"
   ]
  },
  {
   "cell_type": "code",
   "execution_count": 47,
   "id": "a045ecd1",
   "metadata": {},
   "outputs": [
    {
     "name": "stdout",
     "output_type": "stream",
     "text": [
      "Hello Python 안녕 파이썬\n",
      "Hello Python 안녕 파이썬\n",
      "Hello Python, 안녕 파이썬\n",
      "Hello Python|안녕 파이썬\n",
      "Hello Python~(^^!)안녕 파이썬\n"
     ]
    }
   ],
   "source": [
    "# print() 함수로 2개 이상의 데이터를 출력하려면 ','로 구분해서 출력하면 된다.\n",
    "# print() 함수로 ','로 데이터를 구분하면 sep 옵션에서 지정한 구분자가 데이터와 데이터 사이에 출력된다.\n",
    "# sep 옵션을 생략하면 공백 1칸이 기본값으로 사용된다.\n",
    "print('Hello Python', '안녕 파이썬')\n",
    "print('Hello Python', '안녕 파이썬', sep=' ')\n",
    "print('Hello Python', '안녕 파이썬', sep=', ')\n",
    "print('Hello Python', '안녕 파이썬', sep='|')\n",
    "print('Hello Python', '안녕 파이썬', sep='~(^^!)')"
   ]
  },
  {
   "cell_type": "code",
   "execution_count": 52,
   "id": "715a7cc9",
   "metadata": {},
   "outputs": [
    {
     "name": "stdout",
     "output_type": "stream",
     "text": [
      "13\n",
      "58\n"
     ]
    }
   ],
   "source": [
    "print(5 + 8) # 숫자와 숫자 사이에 '+' 연산자를 사용하면 덧셈 연산이 실행된다.\n",
    "print('5' + '8') # 문자열과 문자열 사이에 '+' 연산자를 사용하면 문자열 데이터를 연결한다.\n",
    "# 파이썬은 숫자와 숫자를 '+' 연산자를 사용하면 덧셈 연산을 실행하고 문자열과 문자열에 '+' 연산을 사용하면 연결하지만\n",
    "# 숫자와 문자열 또는 문자열과 숫자 사이에 '+' 연산자를 사용하면 에러가 발생된다.\n",
    "# print('5' + 8) # 에러\n",
    "# print(5 + '8') # 에러"
   ]
  },
  {
   "cell_type": "code",
   "execution_count": 54,
   "id": "f4fdb56d",
   "metadata": {},
   "outputs": [
    {
     "name": "stdout",
     "output_type": "stream",
     "text": [
      "13\n",
      "58\n"
     ]
    }
   ],
   "source": [
    "print(int('5') + 8) # int() 함수는 인수로 지정된 데이터를 정수로 변환한다.\n",
    "print(str(5) + '8') # str() 함수는 인수로 지정된 데이터를 문자열로 변환한다."
   ]
  },
  {
   "cell_type": "code",
   "execution_count": 55,
   "id": "b66537dc",
   "metadata": {},
   "outputs": [
    {
     "name": "stdout",
     "output_type": "stream",
     "text": [
      "================================================================================\n"
     ]
    }
   ],
   "source": [
    "# '*' 연산자를 사용하면 특정 문자열을 지정한 횟수만큼 반복해서 출력한다.\n",
    "print('=' * 80)"
   ]
  },
  {
   "cell_type": "markdown",
   "id": "18a409bd",
   "metadata": {},
   "source": [
    "'%'와 서식 문자를 사용해 출력하기\n",
    "\n",
    "서식 문자  \n",
    "d(정수), f(실수), s(문자열)를 사용해서 출력 서식을 지정할 수 있고 출력 서식을 제외한 나머지 문자들은 그대로 출력된다.\n",
    "\n",
    "출력 서식의 형식  \n",
    "%[-][0][n][.m]서식문자 => [] 안의 내용은 생략할 수 있다.  \n",
    "n: 전체 자리수, 전체 자리수가 지정되면 데이터는 오른쪽으로 정렬되서 출력된다.  \n",
    "-: 전체 자리수가 지정된 경우 데이터를 왼쪽으로 정렬해서 출력된다.  \n",
    "0: 전체 자리수가 지정된 경우 숫자 왼쪽의 남는 자리를 '0'이 채워져 출력된다. => 문자열일 경우 무시된다.  \n",
    ".m: 실수를 출력할 경우 소수점 아래 자리수를 지정한다."
   ]
  },
  {
   "cell_type": "code",
   "execution_count": 56,
   "id": "aad6c0be",
   "metadata": {},
   "outputs": [
    {
     "name": "stdout",
     "output_type": "stream",
     "text": [
      "100\n",
      "1\n",
      "10000\n"
     ]
    }
   ],
   "source": [
    "print(100)\n",
    "print(1)\n",
    "print(10000)"
   ]
  },
  {
   "cell_type": "markdown",
   "id": "40a5ff00",
   "metadata": {},
   "source": [
    "print('출력 서식' % 출력할 데이터) => 출력할 데이터가 1개일 경우"
   ]
  },
  {
   "cell_type": "code",
   "execution_count": 62,
   "id": "426b0ff9",
   "metadata": {},
   "outputs": [
    {
     "name": "stdout",
     "output_type": "stream",
     "text": [
      "  100\n",
      "    1\n",
      "2    \n",
      "00002\n",
      "10000\n"
     ]
    }
   ],
   "source": [
    "print('%5d' % 100)\n",
    "print('%5d' % 1)\n",
    "print('%-5d' % 2)\n",
    "# 파이썬은 1줄에 1문장 코딩을 원칙으로 하지만 부득이하게 1줄에 2문장 이상을 코딩해야 한다면 문장과 문장을 ';'으로 구분한다.\n",
    "print('%05d' % 2); print('%5d' % 10000)"
   ]
  },
  {
   "cell_type": "code",
   "execution_count": 76,
   "id": "2149d147",
   "metadata": {},
   "outputs": [
    {
     "name": "stdout",
     "output_type": "stream",
     "text": [
      "ㅏㅣㅓㄴㅇ러ㅏㅣㅏ언라ㅓㅈㄷ러다런ㅇ리ㅓㅁㄴ이러나ㅣㅁ런ㅁ이ㅏ러재댜ㅕㅓㅓㅏㅣㅣㅓㅏㄹㄴ아ㅣㅓㄹㄴ어ㅏㅣㄹㄴㅁ아ㅓㅣㄹㄴ어ㅏㅣㄹㄴ아ㅓㅣㄹㄴ어ㅏㅣㄹㄴ아ㅣㅓㄹㄴ이ㅏㅓㄹㄴ어ㅏㅣㄹㅇ나ㅣㅓㄴㅇ라ㅓㅣㄴㄹㅇ\n",
      "ㅏㅣㅓㄴㅇ러ㅏㅣㅏ언라ㅓㅈㄷ러다런ㅇ리ㅓㅁㄴ이러나ㅣㅁ런ㅁ이ㅏ러재댜ㅕㅓㅓㅏㅣㅣㅓㅏㄹㄴ아ㅣㅓㄹㄴ어ㅏㅣㄹㄴㅁ아ㅓㅣㄹㄴ어ㅏㅣㄹㄴ아ㅓㅣㄹㄴ어ㅏㅣㄹㄴ아ㅣㅓㄹㄴ이ㅏㅓㄹㄴ어ㅏㅣㄹㅇ나ㅣㅓㄴㅇ라ㅓㅣㄴㄹㅇ\n"
     ]
    }
   ],
   "source": [
    "# 문장이 길어서 1줄의 범위를 넘어갈 경우 () 안에서는 '+' 연산자로 연결해서 출력하면 1문장으로 인식한다.\n",
    "print('ㅏㅣㅓㄴㅇ러ㅏㅣㅏ언라ㅓㅈㄷ러다런ㅇ리ㅓㅁㄴ이러나ㅣㅁ런ㅁ이ㅏ러재댜ㅕㅓㅓㅏㅣㅣㅓㅏㄹㄴ아ㅣㅓㄹㄴ어ㅏㅣㄹㄴㅁ아ㅓㅣㄹㄴ' + \n",
    "      '어ㅏㅣㄹㄴ아ㅓㅣㄹㄴ어ㅏㅣㄹㄴ아ㅣㅓㄹㄴ이ㅏㅓㄹㄴ어ㅏㅣㄹㅇ나ㅣㅓㄴㅇ라ㅓㅣㄴㄹㅇ')\n",
    "\n",
    "# 문장이 길어서 부득이하게 2줄 이상으로 코딩해야 한다면 끝에 '\\'를 입력하면 1문장으로 인식된다.\n",
    "string = 'ㅏㅣㅓㄴㅇ러ㅏㅣㅏ언라ㅓㅈㄷ러다런ㅇ리ㅓㅁㄴ이러나ㅣㅁ런ㅁ이ㅏ러재댜ㅕㅓㅓㅏㅣㅣㅓㅏㄹㄴ아ㅣㅓㄹㄴ어ㅏㅣㄹㄴㅁ아ㅓㅣㄹㄴ' \\\n",
    "      '어ㅏㅣㄹㄴ아ㅓㅣㄹㄴ어ㅏㅣㄹㄴ아ㅣㅓㄹㄴ이ㅏㅓㄹㄴ어ㅏㅣㄹㅇ나ㅣㅓㄴㅇ라ㅓㅣㄴㄹㅇ'\n",
    "print(string)"
   ]
  },
  {
   "cell_type": "code",
   "execution_count": 77,
   "id": "9f85f454",
   "metadata": {},
   "outputs": [
    {
     "name": "stdout",
     "output_type": "stream",
     "text": [
      "abc\n",
      "a\n",
      "abcde\n"
     ]
    }
   ],
   "source": [
    "print('abc')\n",
    "print('a')\n",
    "print('abcde')"
   ]
  },
  {
   "cell_type": "code",
   "execution_count": 81,
   "id": "e0296a82",
   "metadata": {},
   "outputs": [
    {
     "name": "stdout",
     "output_type": "stream",
     "text": [
      "  abc\n",
      "    a\n",
      "a    \n",
      "    a\n",
      "abcde\n"
     ]
    }
   ],
   "source": [
    "print('%5s' % 'abc')\n",
    "print('%5s' % 'a')\n",
    "print('%-5s' % 'a')\n",
    "print('%05s' % 'a') # C/C++은 0이 출력되고 JAVA는 에러가 발생되고 python은 무시한다.\n",
    "print('%5s' % 'abcde')"
   ]
  },
  {
   "cell_type": "code",
   "execution_count": 83,
   "id": "2ea12cba",
   "metadata": {},
   "outputs": [
    {
     "name": "stdout",
     "output_type": "stream",
     "text": [
      "123.45\n",
      "123.46\n",
      "123.40\n"
     ]
    }
   ],
   "source": [
    "print('%6.2f' % 123.45)\n",
    "print('%6.2f' % 123.456) # 소수점 아래 숫자는 잘리는 자리에서 반올림해 출력한다. => 실제 데이터는 변하지 않는다.\n",
    "print('%6.2f' % 123.4) # 남는 자리는 0을 채워서 출력한다."
   ]
  },
  {
   "cell_type": "markdown",
   "id": "6a0dca43",
   "metadata": {},
   "source": [
    "print('출력 서식' % (출력할 데이터, ...)) => 출력할 데이터가 2개 이상일 경우  \n",
    "서식을 지정해 출력할 데이터가 2건 이상이라면 출력할 데이터를 반드시 ()로 묶어야 한다."
   ]
  },
  {
   "cell_type": "code",
   "execution_count": 95,
   "id": "538c7356",
   "metadata": {},
   "outputs": [
    {
     "name": "stdout",
     "output_type": "stream",
     "text": [
      "5 + 3 = 8\n",
      "5 - 3 = 2\n",
      "5 * 3 = 15\n",
      "5 / 3 = 1\n",
      "5 / 3 = 1.666667\n",
      "5 // 3 = 1\n",
      "5 // 3 = 1.000000\n",
      "5 % 3 = 2\n",
      "2의 10승 = 1024\n",
      "루트 2 = 1.414214\n"
     ]
    }
   ],
   "source": [
    "print('%d + %d = %d' % (5, 3, 5 + 3)) # 덧셈\n",
    "print('%d - %d = %d' % (5, 3, 5 - 3)) # 뺄셈\n",
    "print('%d * %d = %d' % (5, 3, 5 * 3)) # 곱셈\n",
    "# 파이썬은 '/' 연산자로 나눗셈을 하면 소수점 아래까지 계산된다.\n",
    "# '/' 연산의 결과는 실수가 나오지면 출력 서식이 %d(정수)로 지정되서 정수만 출력된다.\n",
    "print('%d / %d = %d' % (5, 3, 5 / 3)) # 실수 나눗셈\n",
    "print('%d / %d = %f' % (5, 3, 5 / 3)) # 실수 나눗셈\n",
    "# 파이썬은 '//' 연산자로 나눗셈을 하면 몫만 계산된다.\n",
    "print('%d // %d = %d' % (5, 3, 5 // 3)) # 정수 나눗셈\n",
    "print('%d // %d = %f' % (5, 3, 5 // 3)) # 정수 나눗셈\n",
    "# 출력 서식을 지정할 때 '%' 문자 자체를 출력하려면 연속해서 2개를 써야한다.\n",
    "print('%d %% %d = %d' % (5, 3, 5 % 3)) # 나머지\n",
    "print('%d의 %d승 = %d' % (2, 10, 2 ** 10)) # 거듭제곱\n",
    "print('루트 %d = %f' % (2, 2 ** 0.5)) # 제곱근"
   ]
  },
  {
   "cell_type": "code",
   "execution_count": 97,
   "id": "dbe84ac4",
   "metadata": {},
   "outputs": [],
   "source": [
    "import math # 수학에 관련된 함수를 사용하려면 math 모듈을 import 시킨다."
   ]
  },
  {
   "cell_type": "code",
   "execution_count": 100,
   "id": "6e8188d4",
   "metadata": {},
   "outputs": [
    {
     "name": "stdout",
     "output_type": "stream",
     "text": [
      "2의 10승 = 1024\n",
      "루트 2 = 1.414214\n"
     ]
    }
   ],
   "source": [
    "print('%d의 %d승 = %d' % (2, 10, math.pow(2, 10))) # 거듭제곱\n",
    "print('루트 %d = %f' % (2, math.sqrt(2))) # 제곱근"
   ]
  },
  {
   "cell_type": "markdown",
   "id": "6ac3b66c",
   "metadata": {},
   "source": [
    "산술 연산자 우선순위: () → ** → *, /, //, % → +, -"
   ]
  },
  {
   "cell_type": "markdown",
   "id": "8805aefb",
   "metadata": {},
   "source": [
    "{}와 format() 메소드를 사용한 출력 서식 지정\n",
    "\n",
    "'%'로 서식을 지정할 때는 %d, %f, %s 위치에 데이터가 대입되어 출력되었지만 {}를 사용하면 {}에 데이터가 대입되서 출력된다."
   ]
  },
  {
   "cell_type": "code",
   "execution_count": 105,
   "id": "e7c35a5a",
   "metadata": {},
   "outputs": [
    {
     "name": "stdout",
     "output_type": "stream",
     "text": [
      "5 + 3 = 8\n",
      "5 - 3 = 2\n",
      "5 * 3 = 15\n",
      "5 / 3 = 1.6666666666666667\n",
      "5 // 3 = 1\n",
      "5 % 3 = 2\n",
      "2의 10승 = 1024\n",
      "루트 2 = 1.4142135623730951\n"
     ]
    }
   ],
   "source": [
    "print('{} + {} = {}'.format(5, 3, 5 + 3))\n",
    "print('{} - {} = {}'.format(5, 3, 5 - 3))\n",
    "print('{} * {} = {}'.format(5, 3, 5 * 3))\n",
    "print('{} / {} = {}'.format(5, 3, 5 / 3))\n",
    "print('{} // {} = {}'.format(5, 3, 5 // 3))\n",
    "print('{} % {} = {}'.format(5, 3, 5 % 3))\n",
    "print('{}의 {}승 = {}'.format(2, 10, 2 ** 10))\n",
    "print('루트 {} = {}'.format(2, 2 ** 0.5))"
   ]
  },
  {
   "cell_type": "markdown",
   "id": "e2858d92",
   "metadata": {},
   "source": [
    "format() 메소드와 출력할 데이터의 인덱스를 사용해 출력하기 => 인덱스는 0부터 시작된다."
   ]
  },
  {
   "cell_type": "code",
   "execution_count": 108,
   "id": "967b4109",
   "metadata": {},
   "outputs": [
    {
     "name": "stdout",
     "output_type": "stream",
     "text": [
      "홍길동 바보\n",
      "홍길동\n"
     ]
    }
   ],
   "source": [
    "print('{} {}'.format('홍길동', '바보'))\n",
    "# 인덱스를 지정하지 않은 상태에서 아래와 같이 {}가 출력할 데이터보다 많으면 에러가 발생된다.\n",
    "# print('{} {} {}'.format('홍길동', '바보')) # 에러\n",
    "# {}가 모자라면 에러는 발생되지 않고 출력되면 남는 데이터는 무시된다.\n",
    "print('{}'.format('홍길동', '바보'))"
   ]
  },
  {
   "cell_type": "code",
   "execution_count": 115,
   "id": "852834d5",
   "metadata": {},
   "outputs": [
    {
     "name": "stdout",
     "output_type": "stream",
     "text": [
      "홍길동 바보\n",
      "바보 홍길동\n",
      "홍길동 바보 홍길동\n"
     ]
    }
   ],
   "source": [
    "print('{0} {1}'.format('홍길동', '바보'))\n",
    "print('{1} {0}'.format('홍길동', '바보'))\n",
    "# {}에 출력할 데이터의 인덱스를 지정하면 데이터와 {}의 개수가 다르더라도 인덱스 범위만 벗어나지 않으면 정상 출력된다.\n",
    "print('{0} {1} {0}'.format('홍길동', '바보'))\n",
    "# {}에 지정한 인덱스가 인덱스의 범위를 벗어나면 에러가 발생된다.\n",
    "# print('{0} {1} {2}'.format('홍길동', '바보')) # 에러\n",
    "# {}에 인덱스를 부분적으로 지정하면 에러가 발생된다.\n",
    "# print('{0} {}'.format('홍길동', '바보')) # 에러"
   ]
  },
  {
   "cell_type": "markdown",
   "id": "1d9efafd",
   "metadata": {},
   "source": [
    "{인덱스:출력서식} => 인덱스는 생략할 수 있지만 ':'는 생략하면 안되고 출력 서식에 '%'는 사용하지 않는다."
   ]
  },
  {
   "cell_type": "code",
   "execution_count": 129,
   "id": "d2dce201",
   "metadata": {},
   "outputs": [
    {
     "name": "stdout",
     "output_type": "stream",
     "text": [
      "        멜론는(은)   15000원 입니다.\n",
      "멜론는(은) 15000원 입니다.\n",
      "멜론는(은) 15000원 입니다.\n",
      "멜론        는(은)   15000원 입니다.\n",
      "멜론        는(은)   15000원 입니다.\n",
      "멜론        는(은)  15,000원 입니다.\n",
      "멜론        는(은) 1500000.000%원 입니다.\n",
      "멜론        는(은) 1,500,000.000%원 입니다.\n"
     ]
    }
   ],
   "source": [
    "print('%10s는(은) %7d원 입니다.' % ('멜론', 15000))\n",
    "print('{}는(은) {}원 입니다.'.format('멜론', 15000))\n",
    "print('{0}는(은) {1}원 입니다.'.format('멜론', 15000))\n",
    "print('{0:10s}는(은) {1:7d}원 입니다.'.format('멜론', 15000))\n",
    "print('{:10s}는(은) {:7d}원 입니다.'.format('멜론', 15000))\n",
    "print('{:10s}는(은) {:7,d}원 입니다.'.format('멜론', 15000))\n",
    "print('{:10s}는(은) {:.3%}원 입니다.'.format('멜론', 15000))\n",
    "print('{:10s}는(은) {:,.3%}원 입니다.'.format('멜론', 15000))"
   ]
  },
  {
   "cell_type": "code",
   "execution_count": 133,
   "id": "b72bcda0",
   "metadata": {},
   "outputs": [
    {
     "name": "stdout",
     "output_type": "stream",
     "text": [
      "멜론        는(은)   15000원 입니다.\n",
      "멜론        는(은)   15000원 입니다.\n",
      "    멜론    는(은)   15000원 입니다.\n",
      "        멜론는(은)   15000원 입니다.\n"
     ]
    }
   ],
   "source": [
    "# '<', '^', '>'를 사용해서 문자열 정렬 방식을 지정할 수 있다. => '<'가 기본값으로 상용된다.\n",
    "print('{:10s}는(은) {:7d}원 입니다.'.format('멜론', 15000))\n",
    "print('{:<10s}는(은) {:7d}원 입니다.'.format('멜론', 15000))\n",
    "print('{:^10s}는(은) {:7d}원 입니다.'.format('멜론', 15000))\n",
    "print('{:>10s}는(은) {:7d}원 입니다.'.format('멜론', 15000))"
   ]
  },
  {
   "cell_type": "code",
   "execution_count": 136,
   "id": "c8850c69",
   "metadata": {},
   "outputs": [
    {
     "name": "stdout",
     "output_type": "stream",
     "text": [
      "멜론________는(은)   15000원 입니다.\n",
      "____멜론____는(은)   15000원 입니다.\n",
      "________멜론는(은)   15000원 입니다.\n"
     ]
    }
   ],
   "source": [
    "# 출력시 남는 자리의 공백을 채울 채움 문자를 '<', '^', '>' 앞에 지정할 수 있다.\n",
    "# print('{:_10s}는(은) {:7d}원 입니다.'.format('멜론', 15000)) # 에러\n",
    "print('{:_<10s}는(은) {:7d}원 입니다.'.format('멜론', 15000))\n",
    "print('{:_^10s}는(은) {:7d}원 입니다.'.format('멜론', 15000))\n",
    "print('{:_>10s}는(은) {:7d}원 입니다.'.format('멜론', 15000))"
   ]
  },
  {
   "cell_type": "code",
   "execution_count": 137,
   "id": "ef09e59d",
   "metadata": {},
   "outputs": [
    {
     "name": "stdout",
     "output_type": "stream",
     "text": [
      "홍길동님은 20살 입니다.\n"
     ]
    }
   ],
   "source": [
    "# f접두어를 사용한 출력 => 파이썬 3.6에서 등장\n",
    "name = '홍길동'\n",
    "age = 20\n",
    "print(f'{name}님은 {age}살 입니다.')"
   ]
  },
  {
   "cell_type": "code",
   "execution_count": null,
   "id": "3aca1e38",
   "metadata": {},
   "outputs": [],
   "source": []
  },
  {
   "cell_type": "code",
   "execution_count": null,
   "id": "eab8e0ab",
   "metadata": {},
   "outputs": [],
   "source": []
  },
  {
   "cell_type": "code",
   "execution_count": null,
   "id": "7743a4da",
   "metadata": {},
   "outputs": [],
   "source": []
  }
 ],
 "metadata": {
  "kernelspec": {
   "display_name": "Python 3",
   "language": "python",
   "name": "python3"
  },
  "language_info": {
   "codemirror_mode": {
    "name": "ipython",
    "version": 3
   },
   "file_extension": ".py",
   "mimetype": "text/x-python",
   "name": "python",
   "nbconvert_exporter": "python",
   "pygments_lexer": "ipython3",
   "version": "3.6.8"
  }
 },
 "nbformat": 4,
 "nbformat_minor": 5
}
