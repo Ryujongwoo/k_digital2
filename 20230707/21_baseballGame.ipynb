{
 "cells": [
  {
   "cell_type": "code",
   "execution_count": 1,
   "id": "6cba9410",
   "metadata": {},
   "outputs": [],
   "source": [
    "import random\n",
    "from datetime import datetime as dt"
   ]
  },
  {
   "cell_type": "code",
   "execution_count": 2,
   "id": "ace1237d",
   "metadata": {},
   "outputs": [
    {
     "name": "stdout",
     "output_type": "stream",
     "text": [
      "레벨을 입력하세요(1 ~ 9): 3\n",
      "[5, 1, 2]\n",
      "맞춰봐: 512\n",
      "1번 만에 2.447974초 걸려서 맞췄다.\n"
     ]
    }
   ],
   "source": [
    "# 1 ~ 9 사이의 숫자가 채워진 리스트 또는 튜플을 만든다.\n",
    "baseball = [i for i in range(1, 10)]\n",
    "# print(baseball)\n",
    "\n",
    "# 섞는다.\n",
    "# random.shuffle(baseball)\n",
    "# print(baseball)\n",
    "\n",
    "# 레벨을 입력받는다.\n",
    "level = int(input('레벨을 입력하세요(1 ~ 9): '))\n",
    "# 시작 시간을 저장한다.\n",
    "start = dt.now()\n",
    "# print(start)\n",
    "# cpu = baseball[:level]\n",
    "cpu = random.sample(baseball, level)\n",
    "print(cpu)\n",
    "\n",
    "# 몇 번 만에 맞췄나 기억할 변수를 선언하고 0으로 초기화 시킨다.\n",
    "count = 0\n",
    "\n",
    "# ========================================================================\n",
    "\n",
    "# 몇 번 만에 맞출지 모르기 때문에 무한 루프를 돌려서 처리한다.\n",
    "while True:\n",
    "    # 새 반복이 시작될 때 마다 스트라이크 개수와 볼의 개수를 세는 변수를 0으로 초기화 시킨다.\n",
    "    # 초기화 시키지 않으면 이전 반복의 스트라이크 개수와 볼의 개수에 현재 반복의 스트라이크, 볼의 개수가 누적된다.\n",
    "    s = 0 # 스트라이크 개수\n",
    "    b = 0 # 볼의 개수\n",
    "    # 컴퓨터가 랜덤하게 발생시킨 숨겨놓은 숫자를 맞추기 위해 유저에게 입력을 요구한다.\n",
    "    user = input('맞춰봐: ')\n",
    "    # 입력받을 때 마다 몇 번만에 맞췄나 기억하는 변수를 1증가 시킨다.\n",
    "    count += 1\n",
    "    \n",
    "    # 레벨만큼 반복하며 스트라이크의 개수와 볼의 개수를 센다.\n",
    "    for i in range(level):\n",
    "        # 스트라이크 => cpu와 user의 같은 인덱스의 데이터가 같다.\n",
    "        # cpu와 user의 데이터 타입이 다르기 때문에 str() 또는 int() 함수로 데이터 타입을 일치시켜 비교한다.\n",
    "        # str() 함수는 인수로 지정된 숫자를 문자열로 변환한다.\n",
    "        # chr() 함수는 인수로 지정된 코드값에 해당되는 문자를 리턴한다.\n",
    "        # int() 함수는 인수로 지정된 문자열을 숫자로 변환한다.\n",
    "        if cpu[i] == int(user[i]): # if str(cpu[i]) == user[i]와 같이 조건을 비교해도 된다.\n",
    "            s += 1\n",
    "        # 볼 => user[i]가 cpu 리스트에 포함되어 있다.\n",
    "        elif int(user[i]) in cpu:\n",
    "            b += 1\n",
    "        # ===== if\n",
    "    # ===== for\n",
    "    \n",
    "    # 스트라이크의 개수와 레벨이 같으면 맞춘것이므로 무한 루프를 탈출한다.\n",
    "    if s == level:\n",
    "        break\n",
    "    # ===== if\n",
    "    # 맞추지 못했으므로 힌트를 출력한다.\n",
    "    print(f'{s} 스트라이크 {b} 볼')\n",
    "# ===== while\n",
    "\n",
    "# 종료 시간을 저장한다.\n",
    "end = dt.now()\n",
    "# print(end)\n",
    "# 맞추는데 걸린 시간을 계산한다.\n",
    "time = end - start\n",
    "print(f'{count}번 만에 {time.total_seconds()}초 걸려서 맞췄다.')"
   ]
  },
  {
   "cell_type": "code",
   "execution_count": 3,
   "id": "1630998e",
   "metadata": {},
   "outputs": [
    {
     "name": "stdout",
     "output_type": "stream",
     "text": [
      "A 65 <class 'str'>\n"
     ]
    }
   ],
   "source": [
    "print(chr(65), str(65), type(str(65)))"
   ]
  },
  {
   "cell_type": "code",
   "execution_count": 8,
   "id": "03c13a7b",
   "metadata": {},
   "outputs": [
    {
     "name": "stdout",
     "output_type": "stream",
     "text": [
      "레벨을 입력하세요(1 ~ 9): 3\n",
      "[8, 3, 4]\n",
      "맞춰봐: 8 3 4\n",
      "<class 'list'> [8, 3, 4]\n",
      "1번 만에 7.827574초 걸려서 맞췄다.\n"
     ]
    }
   ],
   "source": [
    "baseball = [i for i in range(1, 10)]\n",
    "level = int(input('레벨을 입력하세요(1 ~ 9): '))\n",
    "start = dt.now()\n",
    "cpu = random.sample(baseball, level)\n",
    "print(cpu)\n",
    "count = 0\n",
    "\n",
    "while True:\n",
    "    s = 0; b = 0\n",
    "    # user = input('맞춰봐: ')\n",
    "    # user = input('맞춰봐: ').split() # 정수로 형변환이 필요하다.\n",
    "    user = list(map(int, input('맞춰봐: ').split()))\n",
    "    print(type(user), user)\n",
    "    count += 1\n",
    "    for i in range(level):\n",
    "        # if cpu[i] == int(user[i]):\n",
    "        if cpu[i] == user[i]:\n",
    "            s += 1\n",
    "        elif int(user[i]) in cpu:\n",
    "            b += 1\n",
    "        # ===== if\n",
    "    # ===== for\n",
    "    if s == level:\n",
    "        break\n",
    "    print(f'{s} 스트라이크 {b} 볼')   \n",
    "# ===== while\n",
    "\n",
    "end = dt.now()\n",
    "time = end - start\n",
    "print(f'{count}번 만에 {time.total_seconds()}초 걸려서 맞췄다.')"
   ]
  },
  {
   "cell_type": "code",
   "execution_count": null,
   "id": "c8500575",
   "metadata": {},
   "outputs": [],
   "source": []
  },
  {
   "cell_type": "code",
   "execution_count": null,
   "id": "e4622672",
   "metadata": {},
   "outputs": [],
   "source": []
  },
  {
   "cell_type": "code",
   "execution_count": null,
   "id": "5b40408b",
   "metadata": {},
   "outputs": [],
   "source": []
  }
 ],
 "metadata": {
  "kernelspec": {
   "display_name": "Python 3",
   "language": "python",
   "name": "python3"
  },
  "language_info": {
   "codemirror_mode": {
    "name": "ipython",
    "version": 3
   },
   "file_extension": ".py",
   "mimetype": "text/x-python",
   "name": "python",
   "nbconvert_exporter": "python",
   "pygments_lexer": "ipython3",
   "version": "3.6.8"
  }
 },
 "nbformat": 4,
 "nbformat_minor": 5
}
