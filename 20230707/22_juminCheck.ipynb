{
 "cells": [
  {
   "cell_type": "markdown",
   "id": "1fb52619",
   "metadata": {},
   "source": [
    "주민등록번호 유효성 검사\n",
    "\n",
    "주민등록번호의 각 자리 숫자와 가중치(234567892345)를 곱한 합계를 계산한다.  \n",
    "위의 결과를 11로 나눈 나머지를 계산해서 11에서 뺀다.  \n",
    "11에서 나머지를 뺀 결과가 2자리 숫자가 나오면 10의 자리는 버리고 1의 자리만 취한다.  \n",
    "1의 자리가 주민등록번호의 마지막 자리와 같으면 정상적인 주민등록번호이고 다르면 오류가 있는 주민등록번호이다.\n",
    "***\n",
    "<img src=\"./images/juminCheck.png\" width=\"1000\" align=\"left\" title=\"주민등록번호 유효성 검사\"/>"
   ]
  },
  {
   "cell_type": "code",
   "execution_count": 6,
   "id": "37b7031f",
   "metadata": {},
   "outputs": [
    {
     "name": "stdout",
     "output_type": "stream",
     "text": [
      "주민등록번호 13자리를 \"-\"없이 입력하세요: 8304221185601\n",
      "143\n",
      "1\n",
      "정상\n",
      "정상\n"
     ]
    }
   ],
   "source": [
    "jumin = input('주민등록번호 13자리를 \"-\"없이 입력하세요: ')\n",
    "\n",
    "# 주민등록번호의 각 자리 숫자와 가중치(234567892345)의 각 자리 숫자와 곱한 합계를 계산한다.\n",
    "check = '234567892345'\n",
    "total = 0\n",
    "for i in range(12):\n",
    "    total += int(jumin[i]) * int(check[i])\n",
    "print(total)\n",
    "\n",
    "# 주민등록번호와 가중치를 곱한 결과를 11로 나눈 나머지를 11에서 뺀다. => 결과가 2자리면 10의 자리는 버린다.\n",
    "result = (11 - total % 11) % 10\n",
    "print(result)\n",
    "\n",
    "# 위 연산 결과와 주민등록번호의 마지막 자리와 비교한다.\n",
    "if str(result) == jumin[-1]:\n",
    "    print('정상')\n",
    "else:\n",
    "    print('오류')\n",
    "print('정상' if str(result) == jumin[-1] else '오류')"
   ]
  },
  {
   "cell_type": "markdown",
   "id": "56d79e7d",
   "metadata": {},
   "source": [
    "인덱스가 8보다 작은 경우 가중치는 무조건 인덱스 보다 2가 크고 인덱스가 8이상인 경우 가중치는 인덱스 보다 무조건 6이 작다.\n",
    "\n",
    "<img src=\"./images/juminCheck2.png\" width=\"1000\" align=\"left\" title=\"주민등록번호 유효성 검사\"/>"
   ]
  },
  {
   "cell_type": "code",
   "execution_count": 10,
   "id": "cbc2c781",
   "metadata": {},
   "outputs": [
    {
     "name": "stdout",
     "output_type": "stream",
     "text": [
      "주민등록번호 13자리를 \"-\"없이 입력하세요: 8304221185601\n",
      "정상\n"
     ]
    }
   ],
   "source": [
    "jumin = input('주민등록번호 13자리를 \"-\"없이 입력하세요: ')\n",
    "# check = '234567892345'\n",
    "total = 0\n",
    "for i in range(12):\n",
    "    # total += int(jumin[i]) * int(check[i])\n",
    "    total += int(jumin[i]) * (i + 2 if i < 8 else i - 6)\n",
    "result = (11 - total % 11) % 10\n",
    "print('정상' if str(result) == jumin[-1] else '오류')"
   ]
  },
  {
   "cell_type": "markdown",
   "id": "bba2aae8",
   "metadata": {},
   "source": [
    "가중치는 무조건 인덱스를 8로 나눈 나머지 보다 2가 크다\n",
    "\n",
    "<img src=\"./images/juminCheck3.png\" width=\"1000\" align=\"left\" title=\"주민등록번호 유효성 검사\"/>"
   ]
  },
  {
   "cell_type": "code",
   "execution_count": 12,
   "id": "0f003611",
   "metadata": {},
   "outputs": [
    {
     "name": "stdout",
     "output_type": "stream",
     "text": [
      "주민등록번호 13자리를 \"-\"없이 입력하세요: 8304221185601\n",
      "정상\n"
     ]
    }
   ],
   "source": [
    "jumin = input('주민등록번호 13자리를 \"-\"없이 입력하세요: ')\n",
    "total = 0\n",
    "for i in range(12):\n",
    "    # total += int(jumin[i]) * (i + 2 if i < 8 else i - 6)\n",
    "    total += int(jumin[i]) * (i % 8 + 2)\n",
    "result = (11 - total % 11) % 10\n",
    "print('정상' if str(result) == jumin[-1] else '오류')"
   ]
  },
  {
   "cell_type": "code",
   "execution_count": null,
   "id": "78c01c58",
   "metadata": {},
   "outputs": [],
   "source": []
  },
  {
   "cell_type": "code",
   "execution_count": null,
   "id": "15de8514",
   "metadata": {},
   "outputs": [],
   "source": []
  },
  {
   "cell_type": "code",
   "execution_count": null,
   "id": "b14f6fea",
   "metadata": {},
   "outputs": [],
   "source": []
  },
  {
   "cell_type": "code",
   "execution_count": null,
   "id": "b23380d0",
   "metadata": {},
   "outputs": [],
   "source": []
  }
 ],
 "metadata": {
  "kernelspec": {
   "display_name": "Python 3",
   "language": "python",
   "name": "python3"
  },
  "language_info": {
   "codemirror_mode": {
    "name": "ipython",
    "version": 3
   },
   "file_extension": ".py",
   "mimetype": "text/x-python",
   "name": "python",
   "nbconvert_exporter": "python",
   "pygments_lexer": "ipython3",
   "version": "3.6.8"
  }
 },
 "nbformat": 4,
 "nbformat_minor": 5
}
