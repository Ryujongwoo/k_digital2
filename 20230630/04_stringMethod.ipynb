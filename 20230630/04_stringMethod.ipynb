{
 "cells": [
  {
   "cell_type": "code",
   "execution_count": 5,
   "id": "8c3d74f9",
   "metadata": {},
   "outputs": [
    {
     "name": "stdout",
     "output_type": "stream",
     "text": [
      "33\n",
      "!\n",
      "!\n",
      "!\n"
     ]
    }
   ],
   "source": [
    "string = 'We are the champions, My Friends!'\n",
    "# len() 함수는 인수로 지정한 문자열을 구성하는 문자의 개수를 얻어온다.\n",
    "print(len(string))\n",
    "print(string[32])\n",
    "print(string[len(string) - 1])\n",
    "print(string[-1])"
   ]
  },
  {
   "cell_type": "code",
   "execution_count": 7,
   "id": "d5eb30f8",
   "metadata": {},
   "outputs": [
    {
     "name": "stdout",
     "output_type": "stream",
     "text": [
      "4\n",
      "1\n",
      "0\n"
     ]
    }
   ],
   "source": [
    "string = 'We are the champions, My Friends!'\n",
    "# count() 메소드는 인수로 지정한 문자열의 전체 출현 횟수를 얻어온다. => 특정 문자열이 포함되어있나 알아낼 수 있다.\n",
    "# count() 메소드를 실행한 결과가 0이면 불포함, 1이면 포함, 2이상이면 중복해서 포함\n",
    "print(string.count('e'))\n",
    "print(string.count('We'))\n",
    "print(string.count('we'))"
   ]
  },
  {
   "cell_type": "code",
   "execution_count": 8,
   "id": "32d8516f",
   "metadata": {},
   "outputs": [
    {
     "name": "stdout",
     "output_type": "stream",
     "text": [
      "1\n",
      "0\n"
     ]
    },
    {
     "ename": "ValueError",
     "evalue": "substring not found",
     "output_type": "error",
     "traceback": [
      "\u001b[1;31m---------------------------------------------------------------------------\u001b[0m",
      "\u001b[1;31mValueError\u001b[0m                                Traceback (most recent call last)",
      "\u001b[1;32m<ipython-input-8-93e82e575520>\u001b[0m in \u001b[0;36m<module>\u001b[1;34m\u001b[0m\n\u001b[0;32m      4\u001b[0m \u001b[0mprint\u001b[0m\u001b[1;33m(\u001b[0m\u001b[0mstring\u001b[0m\u001b[1;33m.\u001b[0m\u001b[0mindex\u001b[0m\u001b[1;33m(\u001b[0m\u001b[1;34m'e'\u001b[0m\u001b[1;33m)\u001b[0m\u001b[1;33m)\u001b[0m\u001b[1;33m\u001b[0m\u001b[1;33m\u001b[0m\u001b[0m\n\u001b[0;32m      5\u001b[0m \u001b[0mprint\u001b[0m\u001b[1;33m(\u001b[0m\u001b[0mstring\u001b[0m\u001b[1;33m.\u001b[0m\u001b[0mindex\u001b[0m\u001b[1;33m(\u001b[0m\u001b[1;34m'We'\u001b[0m\u001b[1;33m)\u001b[0m\u001b[1;33m)\u001b[0m\u001b[1;33m\u001b[0m\u001b[1;33m\u001b[0m\u001b[0m\n\u001b[1;32m----> 6\u001b[1;33m \u001b[0mprint\u001b[0m\u001b[1;33m(\u001b[0m\u001b[0mstring\u001b[0m\u001b[1;33m.\u001b[0m\u001b[0mindex\u001b[0m\u001b[1;33m(\u001b[0m\u001b[1;34m'we'\u001b[0m\u001b[1;33m)\u001b[0m\u001b[1;33m)\u001b[0m\u001b[1;33m\u001b[0m\u001b[1;33m\u001b[0m\u001b[0m\n\u001b[0m",
      "\u001b[1;31mValueError\u001b[0m: substring not found"
     ]
    }
   ],
   "source": [
    "string = 'We are the champions, My Friends!'\n",
    "# index() 메소드는 인수로 지정한 문자열이 최초로 출현하는 인덱스를 얻어온다. => 특정 문자열이 포함되어있나 알아낼 수 있다.\n",
    "# index() 메소드를 실행한 결과가 0이상이면 포함, 에러가 발생되면 불포함\n",
    "print(string.index('e'))\n",
    "print(string.index('We'))\n",
    "print(string.index('we'))"
   ]
  },
  {
   "cell_type": "code",
   "execution_count": 9,
   "id": "22954add",
   "metadata": {},
   "outputs": [
    {
     "name": "stdout",
     "output_type": "stream",
     "text": [
      "1\n",
      "0\n",
      "-1\n"
     ]
    }
   ],
   "source": [
    "string = 'We are the champions, My Friends!'\n",
    "# find() 메소드는 인수로 지정한 문자열이 최초로 출현하는 인덱스를 얻어온다. => 특정 문자열이 포함되어있나 알아낼 수 있다.\n",
    "# find() 메소드를 실행한 결과가 0이상이면 포함, -1은 불포함\n",
    "print(string.find('e'))\n",
    "print(string.find('We'))\n",
    "print(string.find('we'))"
   ]
  },
  {
   "cell_type": "code",
   "execution_count": 13,
   "id": "dfeaffbe",
   "metadata": {},
   "outputs": [
    {
     "name": "stdout",
     "output_type": "stream",
     "text": [
      "T/j/o/e/u/n/I/T\n",
      "T j o e u n I T\n",
      "T\n",
      "j\n",
      "o\n",
      "e\n",
      "u\n",
      "n\n",
      "I\n",
      "T\n",
      "T!(^^)~j!(^^)~o!(^^)~e!(^^)~u!(^^)~n!(^^)~I!(^^)~T\n"
     ]
    }
   ],
   "source": [
    "string = 'TjoeunIT'\n",
    "# join() 메소드는 인수로 지정된 문자열에 특정 문자열을 사이사이에 삽입한다.\n",
    "print('/'.join(string))\n",
    "print(' '.join(string))\n",
    "print('\\n'.join(string))\n",
    "print('!(^^)~'.join(string))"
   ]
  },
  {
   "cell_type": "code",
   "execution_count": 16,
   "id": "8eae10e5",
   "metadata": {},
   "outputs": [
    {
     "name": "stdout",
     "output_type": "stream",
     "text": [
      "TJOEUNIT GOOD\n",
      "tjoeunit good\n",
      "Tjoeunit Good\n"
     ]
    }
   ],
   "source": [
    "string = 'TjoeunIT good'\n",
    "# upper() 메소드는 문자열을 무조건 대문자로 변환한다.\n",
    "print(string.upper())\n",
    "# lower() 메소드는 문자열을 무조건 소문자로 변환한다.\n",
    "print(string.lower())\n",
    "# title() 메소드는 문자열을 구성하는 각 단어의 첫 문자만 대문자로 나머지는 소문자로 변환한다.\n",
    "print(string.title())"
   ]
  },
  {
   "cell_type": "code",
   "execution_count": 21,
   "id": "511c3ba2",
   "metadata": {},
   "outputs": [
    {
     "name": "stdout",
     "output_type": "stream",
     "text": [
      "    TjoeunIT    \n",
      "16\n",
      "TjoeunIT    \n",
      "    TjoeunIT\n",
      "TjoeunIT\n"
     ]
    }
   ],
   "source": [
    "string = '    TjoeunIT    '\n",
    "print(string)\n",
    "print(len(string))\n",
    "# lstrip() 메소드는 문자열 왼쪽의 불필요한 공백을 제거한다.\n",
    "print(string.lstrip())\n",
    "# rstrip() 메소드는 문자열 오른쪽의 불필요한 공백을 제거한다.\n",
    "print(string.rstrip())\n",
    "# strip() 메소드는 문자열 앞, 뒤의 불필요한 공백을 제거한다.\n",
    "print(string.strip())"
   ]
  },
  {
   "cell_type": "code",
   "execution_count": 23,
   "id": "9eb93230",
   "metadata": {},
   "outputs": [
    {
     "name": "stdout",
     "output_type": "stream",
     "text": [
      "We are the champions, My Friends!\n",
      "W2 ar2 th2 champions, My Fri2nds!\n"
     ]
    }
   ],
   "source": [
    "string = 'We are the champions, My Friends!'\n",
    "# replace() 메소드는 특정 문자열을 지정한 문자열로 일괄 치환한다.\n",
    "print(string)\n",
    "print(string.replace('e', '2'))"
   ]
  },
  {
   "cell_type": "markdown",
   "id": "490d7cd3",
   "metadata": {},
   "source": [
    "문자열 메소드 응용"
   ]
  },
  {
   "cell_type": "code",
   "execution_count": 27,
   "id": "6d8e2d9f",
   "metadata": {},
   "outputs": [
    {
     "name": "stdout",
     "output_type": "stream",
     "text": [
      "www.tjoeunit.com\n",
      "www.tjoeunit.com\n",
      "tjoeunit\n",
      "tjoeunit\n"
     ]
    }
   ],
   "source": [
    "# strip() 메소드가 꼭 공백만 제거하는 것이 아니다.\n",
    "# strip() 메소드의 인수로 아무것도 지정하지 않으면 공백이 기본값으로 사용되서 공백이 제거되지만 인수를 지정하면\n",
    "# 인수로 지정한 문자가 문자열 앞, 뒤에 나타나지 않을 때 까지 제거한다.\n",
    "# 인수로 지정한 문자열 순서와 제거하는 순서는 아무런 상관이 없다.\n",
    "print('www.tjoeunit.com')\n",
    "print('  www.tjoeunit.com  '.strip()) # 공백만 제거\n",
    "print('www.tjoeunit.com'.strip('w.com')) # 인수로 지정한 문자 제거\n",
    "print('www.tjoeunit.com'.strip('om.cw'))"
   ]
  },
  {
   "cell_type": "code",
   "execution_count": 28,
   "id": "08dc554e",
   "metadata": {},
   "outputs": [
    {
     "name": "stdout",
     "output_type": "stream",
     "text": [
      "www.joeuni.com\n"
     ]
    }
   ],
   "source": [
    "# 문자열 중간의 특정 문자를 제거하려면 replace() 메소드를 사용하면 된다.\n",
    "print('www.tjoeunit.com'.replace('t', ''))"
   ]
  },
  {
   "cell_type": "code",
   "execution_count": 31,
   "id": "afa70f3d",
   "metadata": {},
   "outputs": [
    {
     "name": "stdout",
     "output_type": "stream",
     "text": [
      "주민등록번호: 830422-1185600\n",
      "830422-1185600\n",
      "830422-1******\n",
      "830422-1******\n"
     ]
    }
   ],
   "source": [
    "# 주민등록번호를 입력받아 성별 뒤의 모든 문자가 '*'로 출력되게 한다.\n",
    "# 830422-1185600 => 830422-1******\n",
    "jumin = input('주민등록번호: ')\n",
    "print(jumin)\n",
    "print(jumin[:8] + '******')\n",
    "print(jumin[:8] + '*' * 6)"
   ]
  },
  {
   "cell_type": "code",
   "execution_count": 46,
   "id": "a4333828",
   "metadata": {},
   "outputs": [
    {
     "name": "stdout",
     "output_type": "stream",
     "text": [
      "코드: 123456-123-1245\n",
      "123456-123-1245 15 6 10\n",
      "123456- 7\n",
      "-1245 5\n",
      "123456-***-1245\n"
     ]
    }
   ],
   "source": [
    "# index() 메소드와 find() 메소드는 앞에서부터 찾지만 rindex() 메소드와 rfind() 메소드는 뒤에서 부터 찾는다.\n",
    "# 123456-123-1245 => 123456-***-1245, 이때 '-' 사이의 문자 개수는 유동적이다.\n",
    "code = input('코드: ')\n",
    "print(code, len(code), code.find('-'), code.rfind('-'))\n",
    "start = code[:code.find('-') + 1]\n",
    "print(start, len(start))\n",
    "end = code[code.rfind('-'):]\n",
    "print(end, len(end))\n",
    "code = start + '*' * (len(code) - len(start) - len(end)) + end\n",
    "print(code)"
   ]
  },
  {
   "cell_type": "code",
   "execution_count": 52,
   "id": "44795b51",
   "metadata": {},
   "outputs": [
    {
     "name": "stdout",
     "output_type": "stream",
     "text": [
      "코드: 123456-123-1245\n",
      "['123456', '123', '1245'] 123456 123 1245\n",
      "123456-***-1245\n",
      "123456-***-1245\n"
     ]
    }
   ],
   "source": [
    "code = input('코드: ')\n",
    "code = code.split('-')\n",
    "print(code, code[0], code[1], code[2])\n",
    "print(code[0] + '-' + '*' * len(code[1]) + '-' + code[2])\n",
    "\n",
    "code[1] = '*' * len(code[1])\n",
    "print('-'.join(code))"
   ]
  },
  {
   "cell_type": "markdown",
   "id": "d5ac9615",
   "metadata": {},
   "source": [
    "파이썬 공백 처리 방법"
   ]
  },
  {
   "cell_type": "code",
   "execution_count": 54,
   "id": "a17d0a57",
   "metadata": {},
   "outputs": [
    {
     "name": "stdout",
     "output_type": "stream",
     "text": [
      "                        hello                   world                       \n",
      "hello                   world\n"
     ]
    }
   ],
   "source": [
    "string = '                        hello                   world                       '\n",
    "print(string)\n",
    "print(string.strip())"
   ]
  },
  {
   "cell_type": "code",
   "execution_count": 55,
   "id": "47ecf75a",
   "metadata": {},
   "outputs": [
    {
     "name": "stdout",
     "output_type": "stream",
     "text": [
      "helloworld\n"
     ]
    }
   ],
   "source": [
    "# replace() 메소드를 사용해서 모든 공백을 제거한다.\n",
    "print(string.replace(' ', ''))"
   ]
  },
  {
   "cell_type": "code",
   "execution_count": 57,
   "id": "9b94473d",
   "metadata": {},
   "outputs": [
    {
     "name": "stdout",
     "output_type": "stream",
     "text": [
      "['hello', 'world']\n",
      "hello world\n"
     ]
    }
   ],
   "source": [
    "# join(), split() 메소드를 사용해서 문자열 앞, 뒤의 모든 빈 칸을 제거하고 문자열 사이에 2칸 이상 띄어쓰기를 한 곳은\n",
    "# 1칸만 띄어쓰기가 되도록 한다.\n",
    "print(string.split())\n",
    "print(' '.join(string.split()))"
   ]
  },
  {
   "cell_type": "code",
   "execution_count": null,
   "id": "9e1bbc32",
   "metadata": {},
   "outputs": [],
   "source": []
  },
  {
   "cell_type": "code",
   "execution_count": null,
   "id": "4fb6be5a",
   "metadata": {},
   "outputs": [],
   "source": []
  },
  {
   "cell_type": "code",
   "execution_count": null,
   "id": "6d8b4d5f",
   "metadata": {},
   "outputs": [],
   "source": []
  },
  {
   "cell_type": "code",
   "execution_count": null,
   "id": "78198b3e",
   "metadata": {},
   "outputs": [],
   "source": []
  }
 ],
 "metadata": {
  "kernelspec": {
   "display_name": "Python 3",
   "language": "python",
   "name": "python3"
  },
  "language_info": {
   "codemirror_mode": {
    "name": "ipython",
    "version": 3
   },
   "file_extension": ".py",
   "mimetype": "text/x-python",
   "name": "python",
   "nbconvert_exporter": "python",
   "pygments_lexer": "ipython3",
   "version": "3.6.8"
  }
 },
 "nbformat": 4,
 "nbformat_minor": 5
}
