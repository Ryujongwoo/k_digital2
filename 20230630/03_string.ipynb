{
 "cells": [
  {
   "cell_type": "code",
   "execution_count": 3,
   "id": "40d72cb1",
   "metadata": {},
   "outputs": [
    {
     "name": "stdout",
     "output_type": "stream",
     "text": [
      "Hello\n",
      "World\n",
      "Python\n",
      "is\n",
      "Good\n"
     ]
    }
   ],
   "source": [
    "# 큰따옴표나 작은따옴표로 묶어주면 문자열 데이터로 취급된다.\n",
    "memo = 'Hello\\nWorld'\n",
    "print(memo)\n",
    "memo = \"Python\\nis\\nGood\"\n",
    "print(memo)"
   ]
  },
  {
   "cell_type": "code",
   "execution_count": 5,
   "id": "03b31bf4",
   "metadata": {},
   "outputs": [
    {
     "name": "stdout",
     "output_type": "stream",
     "text": [
      "개울가에\n",
      "올챙이 한마리\n",
      "꼬물꼬물 헤엄치다\n",
      "앞다리가 쏘옥\n",
      "뒷다리가 쑤욱\n",
      "팔딱팔딱 메뚜기됬네\n"
     ]
    }
   ],
   "source": [
    "# 큰따옴표 3개를 연속해서 사용하면 개행문자(\\n)를 사용하지 않고 여러줄 문자열을 만들 수 있다.\n",
    "memo = \"\"\"개울가에\n",
    "올챙이 한마리\n",
    "꼬물꼬물 헤엄치다\n",
    "앞다리가 쏘옥\n",
    "뒷다리가 쑤욱\n",
    "팔딱팔딱 메뚜기됬네\"\"\"\n",
    "print(memo)"
   ]
  },
  {
   "cell_type": "markdown",
   "id": "1a23ba41",
   "metadata": {},
   "source": [
    "인덱싱과 슬라이싱\n",
    "\n",
    "인덱스는 0부터 시작된다.  \n",
    "인덱싱: 문자열에서 특정 인덱스의 문자 1개를 얻어온다. => []에 인덱스를 지정하면 된다. => charAt()  \n",
    "슬라이싱: 문자열에서 지정된 범위의 문자열을 얻어온다. => [시작인덱스:끝인덱스] 형태로 범위를 지정하면 된다. => substring()"
   ]
  },
  {
   "cell_type": "code",
   "execution_count": 15,
   "id": "9ad193d9",
   "metadata": {},
   "outputs": [
    {
     "name": "stdout",
     "output_type": "stream",
     "text": [
      "We are the champions, My Friends!\n",
      "W\n",
      "c\n",
      "!\n",
      "33\n",
      "!\n",
      "!\n",
      "s\n"
     ]
    }
   ],
   "source": [
    "# 인덱싱\n",
    "string = 'We are the champions, My Friends!'\n",
    "print(string)\n",
    "print(string[0])\n",
    "print(string[11])\n",
    "print(string[32])\n",
    "# len() 함수로 문자열을 구성하는 문자의 개수를 얻어올 수 있다. => length()\n",
    "print(len(string))\n",
    "print(string[len(string) - 1])\n",
    "# 파이썬은 음수 인덱싱이 가능하다. => 인덱스를 지정할 때 '-'를 붙이면 맨 뒤 부터 인덱싱할 수 있다.\n",
    "print(string[-1])\n",
    "print(string[-2])"
   ]
  },
  {
   "cell_type": "code",
   "execution_count": 31,
   "id": "b1a89ea7",
   "metadata": {},
   "outputs": [
    {
     "name": "stdout",
     "output_type": "stream",
     "text": [
      "We are the champions, My Friends!\n",
      "We\n",
      "champions\n",
      "We are the champions\n",
      "We are the champions\n",
      "My Friends!\n",
      "My Friends!\n",
      "We are the champions, My Friends!\n",
      "\n",
      "My Friends\n",
      "W r h hmin,M red!\n",
      "!sdneirF yM ,snoipmahc eht era eW\n"
     ]
    }
   ],
   "source": [
    "# 슬라이싱\n",
    "string = 'We are the champions, My Friends!'\n",
    "print(string)\n",
    "# 슬라이싱 범위는 [시작인덱스:끝인덱스] 형태로 지정하며 시작인덱스 부터 끝인덱스 - 1번째 문자까지 얻어온다.\n",
    "print(string[0:2])\n",
    "print(string[11:20])\n",
    "# 시작 인덱스를 생략하면 처음부터 슬라이싱 하고 끝 인덱스를 생략하면 마지막까지 슬라이싱 한다.\n",
    "print(string[0:20])\n",
    "print(string[:20])\n",
    "print(string[22:33])\n",
    "print(string[22:])\n",
    "print(string[:])\n",
    "# 슬라이싱은 왼쪽에서 오른쪽으로 실행되므로 시작 인덱스가 끝 인덱스보다 크면 안된다.\n",
    "print(string[22:0])\n",
    "print(string[22:-1])\n",
    "# [시작인덱스:끝인덱스:증가치]와 같이 슬라이싱에 증가치를 지정할 수 있다.\n",
    "print(string[::2])\n",
    "print(string[::-1]) # 증가치에 -1을 지정하면 슬라이싱 결과가 반전되서 출력된다."
   ]
  },
  {
   "cell_type": "code",
   "execution_count": 38,
   "id": "5be417cb",
   "metadata": {},
   "outputs": [
    {
     "name": "stdout",
     "output_type": "stream",
     "text": [
      "0123456789\n",
      "0123456789\n",
      "02468\n",
      "13579\n",
      "9876543210\n"
     ]
    }
   ],
   "source": [
    "string = '0123456789'\n",
    "print(string[:])\n",
    "# [시작인덱스:끝인덱스:증가치] 형태로 사용하면 시작 인덱스 부터 끝 인덱스 - 1까지 증가치만큼 건너뛰며 슬라이싱을 한다.\n",
    "# 증가치는 생략면 1이 기본값으로 사용된다.\n",
    "print(string[::1])\n",
    "print(string[::2]) # 짝수 인덱싱\n",
    "print(string[1::2]) # 홀수 인덱싱\n",
    "print(string[::-1]) # 증가치를 -1로 지정하면 문자열이 뒤집힌다."
   ]
  },
  {
   "cell_type": "code",
   "execution_count": null,
   "id": "6ca48dcb",
   "metadata": {},
   "outputs": [],
   "source": []
  }
 ],
 "metadata": {
  "kernelspec": {
   "display_name": "Python 3",
   "language": "python",
   "name": "python3"
  },
  "language_info": {
   "codemirror_mode": {
    "name": "ipython",
    "version": 3
   },
   "file_extension": ".py",
   "mimetype": "text/x-python",
   "name": "python",
   "nbconvert_exporter": "python",
   "pygments_lexer": "ipython3",
   "version": "3.6.8"
  }
 },
 "nbformat": 4,
 "nbformat_minor": 5
}
