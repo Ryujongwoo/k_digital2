{
 "cells": [
  {
   "cell_type": "code",
   "execution_count": 1,
   "id": "0d82b5fe",
   "metadata": {},
   "outputs": [],
   "source": [
    "import random"
   ]
  },
  {
   "cell_type": "code",
   "execution_count": 123,
   "id": "724f05e6",
   "metadata": {},
   "outputs": [
    {
     "name": "stdout",
     "output_type": "stream",
     "text": [
      "1등 번호: [12, 26, 27, 35, 36, 42]\n",
      "13\n",
      "1등 번호: [12, 26, 27, 35, 36, 42], 보너스 번호: 13\n"
     ]
    }
   ],
   "source": [
    "# 로또 1등 번호를 기억할 빈 리스트를 만든다.\n",
    "lotto = list()\n",
    "# 1등 번호\n",
    "while True:\n",
    "    # 1 ~ 45 사이의 난수를 발생시킨다.\n",
    "    number = random.randint(1, 45)\n",
    "    # print(number)\n",
    "    # 리스트에 중복되는 번호가 없다면 발생된 난수를 리스트에 추가한다.\n",
    "    if number not in lotto:\n",
    "        lotto.append(number)\n",
    "    # ===== if\n",
    "    # 리스트에 중복되지 않는 숫자가 6개 저장되면 무한 루프를 탈출시킨다.\n",
    "    if len(lotto) == 6:\n",
    "        break\n",
    "    # ===== if\n",
    "# ===== while\n",
    "lotto.sort()\n",
    "print('1등 번호: {}'.format(lotto))\n",
    "    \n",
    "# 보너스 번호\n",
    "while True:\n",
    "    bonus = random.randint(1, 45)\n",
    "    # print(bonus)\n",
    "    if bonus not in lotto:\n",
    "        break\n",
    "    # ===== if\n",
    "# ===== while\n",
    "print('1등 번호: {}, 보너스 번호: {}'.format(lotto, bonus))"
   ]
  },
  {
   "cell_type": "code",
   "execution_count": null,
   "id": "6e45ddb8",
   "metadata": {},
   "outputs": [],
   "source": []
  },
  {
   "cell_type": "code",
   "execution_count": null,
   "id": "10283251",
   "metadata": {},
   "outputs": [],
   "source": []
  },
  {
   "cell_type": "code",
   "execution_count": null,
   "id": "e621d9c0",
   "metadata": {},
   "outputs": [],
   "source": []
  }
 ],
 "metadata": {
  "kernelspec": {
   "display_name": "Python 3",
   "language": "python",
   "name": "python3"
  },
  "language_info": {
   "codemirror_mode": {
    "name": "ipython",
    "version": 3
   },
   "file_extension": ".py",
   "mimetype": "text/x-python",
   "name": "python",
   "nbconvert_exporter": "python",
   "pygments_lexer": "ipython3",
   "version": "3.6.8"
  }
 },
 "nbformat": 4,
 "nbformat_minor": 5
}
